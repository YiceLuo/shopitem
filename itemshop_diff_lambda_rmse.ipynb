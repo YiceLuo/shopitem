{
 "cells": [
  {
   "cell_type": "code",
   "execution_count": 81,
   "metadata": {},
   "outputs": [],
   "source": [
    "import numpy as np\n",
    "import pandas as pd\n",
    "import matplotlib.pyplot as plt\n",
    "from sklearn.model_selection import KFold\n",
    "from sklearn.preprocessing import normalize\n",
    "from sklearn import datasets, linear_model\n",
    "import hdbscan\n",
    "import seaborn as sns\n",
    "import statsmodels.api as sm\n",
    "from numpy import linalg\n",
    "from math import sqrt\n",
    "import time\n",
    "from sklearn.decomposition import PCA\n",
    "from skopt import gp_minimize, dump, load\n",
    "from skopt.space import Real, Integer\n",
    "from skopt.plots import plot_convergence\n",
    "from skopt.utils import use_named_args\n",
    "%matplotlib inline"
   ]
  },
  {
   "cell_type": "code",
   "execution_count": 82,
   "metadata": {},
   "outputs": [],
   "source": [
    "dataset = pd.read_csv('shopitem.csv')\n",
    "Shopgroup = pd.read_csv('Shopgroup.csv')\n",
    "Itemgroup = pd.read_csv('Itemgroup.csv')"
   ]
  },
  {
   "cell_type": "code",
   "execution_count": 83,
   "metadata": {},
   "outputs": [],
   "source": [
    "Shopgroup.columns=['matchId','In','Ex']\n",
    "Itemgroup.columns=['playerId','In','Ex']"
   ]
  },
  {
   "cell_type": "code",
   "execution_count": 84,
   "metadata": {},
   "outputs": [
    {
     "data": {
      "text/plain": [
       "0.9669993775287893"
      ]
     },
     "execution_count": 84,
     "metadata": {},
     "output_type": "execute_result"
    }
   ],
   "source": [
    "sparsity=1-dataset.shape[0]/214200/60\n",
    "sparsity"
   ]
  },
  {
   "cell_type": "code",
   "execution_count": 85,
   "metadata": {},
   "outputs": [],
   "source": [
    "Ntr=int(dataset.shape[0]*0.6)\n",
    "Nv=int(dataset.shape[0]*0.8)\n",
    "sim_data=dataset.values\n",
    "n=22170\n",
    "m=60\n",
    "train=sim_data[:Ntr,:]\n",
    "validation=sim_data[Ntr:Nv,:]\n",
    "test=sim_data[Nv:,:]\n",
    "x_train=train[:,:2]  \n",
    "x_test=test[:,:2]\n",
    "x_valid=validation[:,:2]\n",
    "x_train=x_train.astype(int)\n",
    "x_test=x_test.astype(int)\n",
    "x_valid=x_valid.astype(int)\n",
    "y=train[:,2]\n",
    "y_test=test[:,2]\n",
    "y_valid=validation[:,2]"
   ]
  },
  {
   "cell_type": "code",
   "execution_count": 86,
   "metadata": {},
   "outputs": [],
   "source": [
    "#player set\n",
    "ind1=[] #matched played for each user\n",
    "y1=[]\n",
    "#match set\n",
    "ind2=[] #players in this match\n",
    "y2=[]\n",
    "for u in range(n):\n",
    "    ind1.append(x_train[x_train[:,0]==u,1])\n",
    "    y1.append(train[x_train[:,0]==u,2])\n",
    "for i in range(m):\n",
    "    ind2.append(x_train[x_train[:,1]==i,0])\n",
    "    y2.append(train[x_train[:,1]==i,2])"
   ]
  },
  {
   "cell_type": "code",
   "execution_count": 87,
   "metadata": {},
   "outputs": [],
   "source": [
    "def shrink(x,l):\n",
    "    if x>l/2:\n",
    "        X=x-l/2\n",
    "    elif x<-l/2:\n",
    "        X=x+l/2\n",
    "    else:\n",
    "        X=0\n",
    "    return X\n",
    "Vshrink= np.vectorize(shrink)"
   ]
  },
  {
   "cell_type": "code",
   "execution_count": 88,
   "metadata": {},
   "outputs": [],
   "source": [
    "def mylasso(y,x,k,l,L):\n",
    "    betaols=linalg.solve(x.transpose()@x+L*np.identity(k),x.transpose()@y)\n",
    "    beta = Vshrink(betaols,l)\n",
    "    return beta"
   ]
  },
  {
   "cell_type": "code",
   "execution_count": 89,
   "metadata": {},
   "outputs": [],
   "source": [
    "def myl0(y,x,k,l,L):\n",
    "    beta=linalg.solve(x.transpose()@x+L*np.identity(k),x.transpose()@y)\n",
    "    beta = beta*((beta>np.median(beta))+1)\n",
    "    return beta"
   ]
  },
  {
   "cell_type": "code",
   "execution_count": 90,
   "metadata": {},
   "outputs": [],
   "source": [
    "def mygsm(foo,ind1,y1,ind2,y2,x_train,x_valid,y,y_valid,matchgroup,playergroup,n,m,k,lp,ls,la,lq,lt,lb,Lp,Ls,La,Lq,Lt,Lb): \n",
    "    inM=matchgroup.In.max()\n",
    "    exM=matchgroup.Ex.max()\n",
    "    inN=playergroup.In.max()\n",
    "    exN=playergroup.Ex.max()\n",
    "    P=np.random.normal(0,0.1,(n,k))\n",
    "    Q=np.random.normal(0,0.1,(m,k))\n",
    "    S=np.random.normal(0,0.1,(n,k))\n",
    "    T=np.random.normal(0,0.1,(m,k))\n",
    "    A=np.random.normal(0,0.1,(n,k))\n",
    "    B=np.random.normal(0,0.1,(m,k))\n",
    "    Pnew=np.zeros(shape=(n,k))\n",
    "    Qnew=np.zeros(shape=(m,k))\n",
    "    Snew=np.zeros(shape=(n,k))\n",
    "    Tnew=np.zeros(shape=(m,k))\n",
    "    Anew=np.zeros(shape=(n,k))\n",
    "    Bnew=np.zeros(shape=(m,k))\n",
    "    it=1  #number of iterations\n",
    "    diff=1  #improvement over last iteration\n",
    "    diffQTB=1\n",
    "    diffPSA=1\n",
    "    while(diff>1e-5 or it<10):\n",
    "        diff=np.sum(np.multiply(Pnew+Snew+Anew-P-S-A,Pnew+Snew+Anew-P-S-A))/n/k+np.sum(np.multiply(Qnew+Tnew+Bnew-Q-T-B,Qnew+Tnew+Bnew-Q-T-B))/m/k\n",
    "        while(diffQTB>1e-8):\n",
    "            for i in range(m):\n",
    "                xpsa=P[ind2[i],:]+S[ind2[i],:]+A[ind2[i],:]\n",
    "                r=y2[i]-(P[ind2[i],:]+S[ind2[i],:]+A[ind2[i],:])@(T[i,:]+B[i,:])\n",
    "                Qnew[i,:]=foo(r,xpsa,k,lq,Lq)\n",
    "            for i in range(inM):\n",
    "                I=matchgroup.matchId[matchgroup.In==i]\n",
    "                I=I[I<len(ind2)]\n",
    "                playerI=[]\n",
    "                for j in I:\n",
    "                    playerI=np.concatenate([playerI,ind2[j]]).astype(\"int\")\n",
    "                xpsa=P[playerI,:]+S[playerI,:]+A[playerI,:]\n",
    "                r=[]\n",
    "                for j in I:\n",
    "                    R=y2[j]-(P[ind2[j],:]+S[ind2[j],:]+A[ind2[j],:])@(Qnew[j,:]+B[j,:])\n",
    "                    r=np.concatenate([r,R])\n",
    "                Tnew[I,:]=foo(r,xpsa,k,lt,Lt)\n",
    "            for i in range(exM):\n",
    "                I=matchgroup.matchId[matchgroup.Ex==i]\n",
    "                I=I[I<len(ind2)]\n",
    "                playerI=[]\n",
    "                for j in I:\n",
    "                    playerI=np.concatenate([playerI,ind2[j]]).astype(\"int\")\n",
    "                xpsa=P[playerI,:]+S[playerI,:]+A[playerI,:]\n",
    "                r=[]\n",
    "                for j in I:\n",
    "                    R=y2[j]-(P[ind2[j],:]+S[ind2[j],:]+A[ind2[j],:])@(Qnew[j,:]+Tnew[j,:])\n",
    "                    r=np.concatenate([r,R])\n",
    "                Bnew[I,:]=foo(r,xpsa,k,lb,Lb)\n",
    "            diffQTB=np.sum(np.multiply(Qnew-Q,Qnew-Q))/m/k+np.sum(np.multiply(Tnew-T,Tnew-T))/inM/k+np.sum(np.multiply(Bnew-B,Bnew-B))/exM/k\n",
    "            Q=Qnew\n",
    "            T=Tnew\n",
    "            B=Bnew\n",
    "        while(diffPSA>1e-8):\n",
    "            for i in range(n):\n",
    "                xqtb=Q[ind1[i],:]+T[ind1[i],:]+B[ind1[i],:]\n",
    "                r=y1[i]-(Q[ind1[i],:]+T[ind1[i],:]+B[ind1[i],:])@(S[i,:]+A[i,:])\n",
    "                Pnew[i,:]=foo(r,xqtb,k,lp,Lp)\n",
    "\n",
    "            for i in range(inN):\n",
    "                I=playergroup.playerId[playergroup.In==i]\n",
    "                I=I[I<len(ind1)]\n",
    "                matchI=[]\n",
    "                for j in I:\n",
    "                    matchI=np.concatenate([matchI,ind1[j]]).astype(\"int\")\n",
    "                xqtb=Q[matchI,:]+T[matchI,:]+B[matchI,:]\n",
    "                r=[]\n",
    "                for j in I:\n",
    "                    R=y1[j]-(Q[ind1[j],:]+T[ind1[j],:]+B[ind1[j],:])@(Pnew[j,:]+A[j,:])\n",
    "                    r=np.concatenate([r,R])\n",
    "                Snew[I,:]=foo(r,xqtb,k,ls,Ls)\n",
    "\n",
    "            for i in range(exN):\n",
    "                I=playergroup.playerId[playergroup.Ex==i]\n",
    "                I=I[I<len(ind1)]\n",
    "                matchI=[]\n",
    "                for j in I:\n",
    "                    matchI=np.concatenate([matchI,ind1[j]]).astype(\"int\")\n",
    "                xqtb=Q[matchI,:]+T[matchI,:]+B[matchI,:]\n",
    "                r=[]\n",
    "                for j in I:\n",
    "                    R=y1[j]-(Q[ind1[j],:]+T[ind1[j],:]+B[ind1[j],:])@(Pnew[j,:]+Snew[j,:])\n",
    "                    r=np.concatenate([r,R])\n",
    "                Anew[I,:]=foo(r,xqtb,k,la,La)  \n",
    "            diffPSA=np.sum(np.multiply(Pnew-P,Pnew-P))/n/k+np.sum(np.multiply(Snew-S,Snew-S))/inN/k+np.sum(np.multiply(Anew-A,Anew-A))/exN/k\n",
    "            P=Pnew\n",
    "            S=Snew\n",
    "            A=Anew\n",
    "        it=it+1\n",
    "    yhat_valid=np.sum(np.multiply((P[x_valid[:,0],:]+S[x_valid[:,0],:]+A[x_valid[:,0],:]),(Q[x_valid[:,1],:]+T[x_valid[:,1],:]+B[x_valid[:,1],:])),1)\n",
    "    RMSE=sqrt((y_valid-yhat_valid)@(y_valid-yhat_valid)/y_valid.size)\n",
    "    return RMSE,yhat_valid"
   ]
  },
  {
   "cell_type": "code",
   "execution_count": 91,
   "metadata": {},
   "outputs": [],
   "source": [
    "def mygsm1(foo,ind1,y1,ind2,y2,x_train,x_valid,y,y_valid,matchgroup,playergroup,n,m,k,lp,ls,lq,lt,Lp,Ls,Lq,Lt): \n",
    "    inM=matchgroup.In.max()\n",
    "    inN=playergroup.In.max()\n",
    "    P=np.random.normal(0,0.1,(n,k))\n",
    "    Q=np.random.normal(0,0.1,(m,k))\n",
    "    S=np.random.normal(0,0.1,(n,k))\n",
    "    T=np.random.normal(0,0.1,(m,k))\n",
    "    Pnew=np.zeros(shape=(n,k))\n",
    "    Qnew=np.zeros(shape=(m,k))\n",
    "    Snew=np.zeros(shape=(n,k))\n",
    "    Tnew=np.zeros(shape=(m,k))\n",
    "    yhat=np.sum(np.multiply((P[x_train[:,0],:]+S[x_train[:,0],:]),(Q[x_train[:,1],:]+T[x_train[:,1],:])),1)\n",
    "    it=1  #number of iterations\n",
    "    diff=1  #improvement over last iteration\n",
    "    diffQTB=1\n",
    "    diffPSA=1\n",
    "    while(diff>1e-5 or it<10):\n",
    "        diff=np.sum(np.multiply(Pnew+Snew-P-S,Pnew+Snew-P-S))/n/k+np.sum(np.multiply(Qnew+Tnew-Q-T,Qnew+Tnew-Q-T))/m/k\n",
    "        while(diffQTB>1e-8):\n",
    "            for i in range(m):\n",
    "                xpsa=P[ind2[i],:]+S[ind2[i],:]\n",
    "                r=y2[i]-(P[ind2[i],:]+S[ind2[i],:])@(T[i,:])\n",
    "                Qnew[i,:]=foo(r,xpsa,k,lq,Lq)\n",
    "            for i in range(inM):\n",
    "                I=matchgroup.matchId[matchgroup.In==i]\n",
    "                I=I[I<len(ind2)]\n",
    "                playerI=[]\n",
    "                for j in I:\n",
    "                    playerI=np.concatenate([playerI,ind2[j]]).astype(\"int\")\n",
    "                xpsa=P[playerI,:]+S[playerI,:]\n",
    "                r=[]\n",
    "                for j in I:\n",
    "                    R=y2[j]-(P[ind2[j],:]+S[ind2[j],:])@(Qnew[j,:])\n",
    "                    r=np.concatenate([r,R])\n",
    "                Tnew[I,:]=foo(r,xpsa,k,lt,Lt)\n",
    "            diffQTB=np.sum(np.multiply(Qnew-Q,Qnew-Q))/m/k+np.sum(np.multiply(Tnew-T,Tnew-T))/inM/k\n",
    "            Q=Qnew\n",
    "            T=Tnew\n",
    "        while(diffPSA>1e-8):\n",
    "            for i in range(n):\n",
    "                xqtb=Q[ind1[i],:]+T[ind1[i],:]\n",
    "                r=y1[i]-(Q[ind1[i],:]+T[ind1[i],:])@(S[i,:])\n",
    "                Pnew[i,:]=foo(r,xqtb,k,lp,Lp)\n",
    "            for i in range(inN):\n",
    "                I=playergroup.playerId[playergroup.In==i]\n",
    "                I=I[I<len(ind1)]\n",
    "                matchI=[]\n",
    "                for j in I:\n",
    "                    matchI=np.concatenate([matchI,ind1[j]]).astype(\"int\")\n",
    "                xqtb=Q[matchI,:]+T[matchI,:]\n",
    "                r=[]\n",
    "                for j in I:\n",
    "                    R=y1[j]-(Q[ind1[j],:]+T[ind1[j],:])@(Pnew[j,:])\n",
    "                    r=np.concatenate([r,R])\n",
    "                Snew[I,:]=foo(r,xqtb,k,ls,Ls)\n",
    "            diffPSA=np.sum(np.multiply(Pnew-P,Pnew-P))/n/k+np.sum(np.multiply(Snew-S,Snew-S))/inN/k\n",
    "            P=Pnew\n",
    "            S=Snew\n",
    "        it=it+1\n",
    "    yhat_valid=np.sum(np.multiply((P[x_valid[:,0],:]+S[x_valid[:,0],:]),(Q[x_valid[:,1],:]+T[x_valid[:,1],:])),1)\n",
    "    RMSE=sqrt((y_valid-yhat_valid)@(y_valid-yhat_valid)/y_valid.size)\n",
    "    return RMSE,yhat_valid"
   ]
  },
  {
   "cell_type": "code",
   "execution_count": 92,
   "metadata": {},
   "outputs": [],
   "source": [
    "def mygsm0(foo,ind1,y1,ind2,y2,x_train,x_valid,y,y_valid,n,m,k,lp,lq,Lp,Lq): \n",
    "    P=np.random.normal(2,1,(n,k))\n",
    "    Q=np.random.normal(2,1,(m,k))\n",
    "    Pnew=np.zeros(shape=(n,k))\n",
    "    Qnew=np.zeros(shape=(m,k))\n",
    "    yhat=np.sum(np.multiply((P[x_train[:,0],:]),(Q[x_train[:,1],:])),1)\n",
    "    it=1  #number of iterations\n",
    "    diff=1  #improvement over last iteration\n",
    "    diffQTB=1\n",
    "    diffPSA=1\n",
    "    while(diff>1e-5 or it<10):\n",
    "        diff=np.sum(np.multiply(Pnew-P,Pnew-P))/n/k+np.sum(np.multiply(Qnew-Q,Qnew-Q))/m/k\n",
    "        while(diffQTB>1e-8):\n",
    "            for i in range(m):\n",
    "                xpsa=P[ind2[i],:]\n",
    "                r=y2[i]\n",
    "                Qnew[i,:]=foo(r,xpsa,k,lq,Lq)   \n",
    "            diffQTB=np.sum(np.multiply(Qnew-Q,Qnew-Q))/m/k\n",
    "            Q=Qnew\n",
    "        while(diffPSA>1e-8):\n",
    "            for i in range(n):\n",
    "                xqtb=Q[ind1[i],:]\n",
    "                r=y1[i]\n",
    "                Pnew[i,:]=foo(r,xqtb,k,lp,Lp)\n",
    "            diffPSA=np.sum(np.multiply(Pnew-P,Pnew-P))/n/k+np.sum(np.multiply(Qnew-Q,Qnew-Q))/m/k\n",
    "            P=Pnew\n",
    "        it=it+1\n",
    "    yhat_valid=np.sum(np.multiply((P[x_valid[:,0],:]),(Q[x_valid[:,1],:])),1)\n",
    "    RMSE=sqrt((y_valid-yhat_valid)@(y_valid-yhat_valid)/y_valid.size)\n",
    "    return RMSE,yhat_valid"
   ]
  },
  {
   "cell_type": "markdown",
   "metadata": {},
   "source": [
    "2-layered gssvd rmse focused k =2,4,6,8,10"
   ]
  },
  {
   "cell_type": "code",
   "execution_count": 93,
   "metadata": {},
   "outputs": [],
   "source": [
    "lp = Real(low=1e-7, high=1, prior='uniform',\n",
    "                             name='lp')\n",
    "ls = Real(low=1e-7, high=1, prior='uniform',\n",
    "                             name='ls')\n",
    "la = Real(low=1e-7, high=1, prior='uniform',\n",
    "                             name='la')\n",
    "lq = Real(low=1e-7, high=1, prior='uniform',\n",
    "                             name='lq')\n",
    "lt = Real(low=1e-7, high=1, prior='uniform',\n",
    "                             name='lt')\n",
    "lb = Real(low=1e-7, high=1, prior='uniform',\n",
    "                             name='lb')\n",
    "Lp = Real(low=1e-7, high=1, prior='uniform',\n",
    "                             name='Lp')\n",
    "Ls = Real(low=1e-7, high=1, prior='uniform',\n",
    "                             name='Ls')\n",
    "La = Real(low=1e-7, high=1, prior='uniform',\n",
    "                             name='La')\n",
    "Lq = Real(low=1e-7, high=1, prior='uniform',\n",
    "                             name='Lq')\n",
    "Lt = Real(low=1e-7, high=1, prior='uniform',\n",
    "                             name='Lt')\n",
    "Lb = Real(low=1e-6, high=1, prior='uniform',\n",
    "                             name='Lb')\n",
    "dimensions = [lp,ls,la,lq,lt,lb,Lp,Ls,La,Lq,Lt,Lb]"
   ]
  },
  {
   "cell_type": "code",
   "execution_count": 94,
   "metadata": {},
   "outputs": [],
   "source": [
    "@use_named_args(dimensions=dimensions)\n",
    "def Fitness(lp,ls,la,lq,lt,lb,Lp,Ls,La,Lq,Lt,Lb):\n",
    "    print('lp:', lp)\n",
    "    print()\n",
    "    rmse,yhat = mygsm(mylasso,ind1,y1,ind2,y2,x_train,x_valid,y,y_valid,Shopgroup,Itemgroup,\n",
    "                      n,m,3*k,lp,ls,la,lq,lt,lb,Lp,Ls,La,Lq,Lt,Lb)\n",
    "    print()\n",
    "    print(\"rmse:\",rmse)\n",
    "    print()\n",
    "    return rmse"
   ]
  },
  {
   "cell_type": "code",
   "execution_count": 95,
   "metadata": {},
   "outputs": [
    {
     "name": "stdout",
     "output_type": "stream",
     "text": [
      "lp: 0.001\n",
      "\n"
     ]
    },
    {
     "name": "stderr",
     "output_type": "stream",
     "text": [
      "E:\\anaconda\\lib\\site-packages\\ipykernel_launcher.py:63: DeprecationWarning: In future, it will be an error for 'np.bool_' scalars to be interpreted as an index\n"
     ]
    },
    {
     "name": "stdout",
     "output_type": "stream",
     "text": [
      "\n",
      "rmse: 3.2239348227718465\n",
      "\n",
      "lp: 0.6144175091316652\n",
      "\n",
      "\n",
      "rmse: 2.521197963456694\n",
      "\n",
      "lp: 0.6462116670550124\n",
      "\n",
      "\n",
      "rmse: 2.801414759189804\n",
      "\n",
      "lp: 0.1514216381050598\n",
      "\n",
      "\n",
      "rmse: 2.619057110573792\n",
      "\n",
      "lp: 0.11198669533922999\n",
      "\n",
      "\n",
      "rmse: 2.7995408165170854\n",
      "\n",
      "lp: 0.011956015563274863\n",
      "\n",
      "\n",
      "rmse: 2.6469607345629718\n",
      "\n",
      "lp: 0.8408727554016742\n",
      "\n",
      "\n",
      "rmse: 2.7849153148211423\n",
      "\n",
      "lp: 0.5530272798460709\n",
      "\n",
      "\n",
      "rmse: 2.4638109583755283\n",
      "\n",
      "lp: 0.6798611433280427\n",
      "\n",
      "\n",
      "rmse: 2.8068984079772163\n",
      "\n",
      "lp: 0.8399636654987769\n",
      "\n",
      "\n",
      "rmse: 2.8095601268594015\n",
      "\n",
      "lp: 0.18071175830946865\n",
      "\n",
      "\n",
      "rmse: 2.7855279104825335\n",
      "\n",
      "lp: 1.0\n",
      "\n"
     ]
    },
    {
     "name": "stderr",
     "output_type": "stream",
     "text": [
      "E:\\anaconda\\lib\\site-packages\\ipykernel_launcher.py:63: DeprecationWarning: In future, it will be an error for 'np.bool_' scalars to be interpreted as an index\n"
     ]
    },
    {
     "name": "stdout",
     "output_type": "stream",
     "text": [
      "\n",
      "rmse: 2.51848060967039\n",
      "\n",
      "lp: 1.0\n",
      "\n"
     ]
    },
    {
     "name": "stderr",
     "output_type": "stream",
     "text": [
      "E:\\anaconda\\lib\\site-packages\\ipykernel_launcher.py:63: DeprecationWarning: In future, it will be an error for 'np.bool_' scalars to be interpreted as an index\n"
     ]
    },
    {
     "name": "stdout",
     "output_type": "stream",
     "text": [
      "\n",
      "rmse: 2.0485634926588747\n",
      "\n",
      "lp: 1.0\n",
      "\n"
     ]
    },
    {
     "name": "stderr",
     "output_type": "stream",
     "text": [
      "E:\\anaconda\\lib\\site-packages\\ipykernel_launcher.py:63: DeprecationWarning: In future, it will be an error for 'np.bool_' scalars to be interpreted as an index\n"
     ]
    },
    {
     "name": "stdout",
     "output_type": "stream",
     "text": [
      "\n",
      "rmse: 2.6146325235002457\n",
      "\n",
      "lp: 1e-07\n",
      "\n"
     ]
    },
    {
     "name": "stderr",
     "output_type": "stream",
     "text": [
      "E:\\anaconda\\lib\\site-packages\\ipykernel_launcher.py:63: DeprecationWarning: In future, it will be an error for 'np.bool_' scalars to be interpreted as an index\n"
     ]
    },
    {
     "name": "stdout",
     "output_type": "stream",
     "text": [
      "\n",
      "rmse: 2.754186857817914\n",
      "\n",
      "lp: 1.0\n",
      "\n"
     ]
    },
    {
     "name": "stderr",
     "output_type": "stream",
     "text": [
      "E:\\anaconda\\lib\\site-packages\\ipykernel_launcher.py:63: DeprecationWarning: In future, it will be an error for 'np.bool_' scalars to be interpreted as an index\n"
     ]
    },
    {
     "name": "stdout",
     "output_type": "stream",
     "text": [
      "\n",
      "rmse: 2.049786238542112\n",
      "\n",
      "lp: 0.16314203027320312\n",
      "\n"
     ]
    },
    {
     "name": "stderr",
     "output_type": "stream",
     "text": [
      "E:\\anaconda\\lib\\site-packages\\ipykernel_launcher.py:63: DeprecationWarning: In future, it will be an error for 'np.bool_' scalars to be interpreted as an index\n"
     ]
    },
    {
     "name": "stdout",
     "output_type": "stream",
     "text": [
      "\n",
      "rmse: 2.4013574848521673\n",
      "\n",
      "lp: 1.0\n",
      "\n"
     ]
    },
    {
     "name": "stderr",
     "output_type": "stream",
     "text": [
      "E:\\anaconda\\lib\\site-packages\\ipykernel_launcher.py:63: DeprecationWarning: In future, it will be an error for 'np.bool_' scalars to be interpreted as an index\n"
     ]
    },
    {
     "name": "stdout",
     "output_type": "stream",
     "text": [
      "\n",
      "rmse: 3.315178879126955\n",
      "\n",
      "lp: 0.2655563685782295\n",
      "\n"
     ]
    },
    {
     "name": "stderr",
     "output_type": "stream",
     "text": [
      "E:\\anaconda\\lib\\site-packages\\ipykernel_launcher.py:63: DeprecationWarning: In future, it will be an error for 'np.bool_' scalars to be interpreted as an index\n"
     ]
    },
    {
     "name": "stdout",
     "output_type": "stream",
     "text": [
      "\n",
      "rmse: 2.1855910988203258\n",
      "\n",
      "lp: 1.0\n",
      "\n"
     ]
    },
    {
     "name": "stderr",
     "output_type": "stream",
     "text": [
      "E:\\anaconda\\lib\\site-packages\\ipykernel_launcher.py:63: DeprecationWarning: In future, it will be an error for 'np.bool_' scalars to be interpreted as an index\n"
     ]
    },
    {
     "name": "stdout",
     "output_type": "stream",
     "text": [
      "\n",
      "rmse: 2.054920317304347\n",
      "\n",
      "lp: 0.05300444712739758\n",
      "\n"
     ]
    },
    {
     "name": "stderr",
     "output_type": "stream",
     "text": [
      "E:\\anaconda\\lib\\site-packages\\ipykernel_launcher.py:63: DeprecationWarning: In future, it will be an error for 'np.bool_' scalars to be interpreted as an index\n"
     ]
    },
    {
     "name": "stdout",
     "output_type": "stream",
     "text": [
      "\n",
      "rmse: 2.707036585716402\n",
      "\n",
      "lp: 1e-07\n",
      "\n"
     ]
    },
    {
     "name": "stderr",
     "output_type": "stream",
     "text": [
      "E:\\anaconda\\lib\\site-packages\\ipykernel_launcher.py:63: DeprecationWarning: In future, it will be an error for 'np.bool_' scalars to be interpreted as an index\n"
     ]
    },
    {
     "name": "stdout",
     "output_type": "stream",
     "text": [
      "\n",
      "rmse: 2.137108128630406\n",
      "\n",
      "lp: 1.0\n",
      "\n"
     ]
    },
    {
     "name": "stderr",
     "output_type": "stream",
     "text": [
      "E:\\anaconda\\lib\\site-packages\\ipykernel_launcher.py:63: DeprecationWarning: In future, it will be an error for 'np.bool_' scalars to be interpreted as an index\n"
     ]
    },
    {
     "name": "stdout",
     "output_type": "stream",
     "text": [
      "\n",
      "rmse: 2.04416948081699\n",
      "\n",
      "lp: 1.0\n",
      "\n"
     ]
    },
    {
     "name": "stderr",
     "output_type": "stream",
     "text": [
      "E:\\anaconda\\lib\\site-packages\\ipykernel_launcher.py:63: DeprecationWarning: In future, it will be an error for 'np.bool_' scalars to be interpreted as an index\n"
     ]
    },
    {
     "name": "stdout",
     "output_type": "stream",
     "text": [
      "\n",
      "rmse: 2.0757590148016587\n",
      "\n",
      "lp: 1.0\n",
      "\n"
     ]
    },
    {
     "name": "stderr",
     "output_type": "stream",
     "text": [
      "E:\\anaconda\\lib\\site-packages\\ipykernel_launcher.py:63: DeprecationWarning: In future, it will be an error for 'np.bool_' scalars to be interpreted as an index\n"
     ]
    },
    {
     "name": "stdout",
     "output_type": "stream",
     "text": [
      "\n",
      "rmse: 34.61090167976645\n",
      "\n",
      "lp: 0.7306791891820886\n",
      "\n"
     ]
    },
    {
     "name": "stderr",
     "output_type": "stream",
     "text": [
      "E:\\anaconda\\lib\\site-packages\\ipykernel_launcher.py:63: DeprecationWarning: In future, it will be an error for 'np.bool_' scalars to be interpreted as an index\n"
     ]
    },
    {
     "name": "stdout",
     "output_type": "stream",
     "text": [
      "\n",
      "rmse: 2.795328007778591\n",
      "\n",
      "lp: 0.5990441456921721\n",
      "\n"
     ]
    },
    {
     "name": "stderr",
     "output_type": "stream",
     "text": [
      "E:\\anaconda\\lib\\site-packages\\ipykernel_launcher.py:63: DeprecationWarning: In future, it will be an error for 'np.bool_' scalars to be interpreted as an index\n"
     ]
    },
    {
     "name": "stdout",
     "output_type": "stream",
     "text": [
      "\n",
      "rmse: 2.9506114962937726\n",
      "\n",
      "lp: 0.16991732969217077\n",
      "\n"
     ]
    },
    {
     "name": "stderr",
     "output_type": "stream",
     "text": [
      "E:\\anaconda\\lib\\site-packages\\ipykernel_launcher.py:63: DeprecationWarning: In future, it will be an error for 'np.bool_' scalars to be interpreted as an index\n"
     ]
    },
    {
     "name": "stdout",
     "output_type": "stream",
     "text": [
      "\n",
      "rmse: 2.610122767630414\n",
      "\n",
      "lp: 0.9133713630393682\n",
      "\n"
     ]
    },
    {
     "name": "stderr",
     "output_type": "stream",
     "text": [
      "E:\\anaconda\\lib\\site-packages\\ipykernel_launcher.py:63: DeprecationWarning: In future, it will be an error for 'np.bool_' scalars to be interpreted as an index\n"
     ]
    },
    {
     "name": "stdout",
     "output_type": "stream",
     "text": [
      "\n",
      "rmse: 2.78668224526999\n",
      "\n",
      "lp: 0.9846219758327966\n",
      "\n"
     ]
    },
    {
     "name": "stderr",
     "output_type": "stream",
     "text": [
      "E:\\anaconda\\lib\\site-packages\\ipykernel_launcher.py:63: DeprecationWarning: In future, it will be an error for 'np.bool_' scalars to be interpreted as an index\n"
     ]
    },
    {
     "name": "stdout",
     "output_type": "stream",
     "text": [
      "\n",
      "rmse: 2.8004922797259355\n",
      "\n",
      "lp: 0.14063369762366076\n",
      "\n"
     ]
    },
    {
     "name": "stderr",
     "output_type": "stream",
     "text": [
      "E:\\anaconda\\lib\\site-packages\\ipykernel_launcher.py:63: DeprecationWarning: In future, it will be an error for 'np.bool_' scalars to be interpreted as an index\n"
     ]
    },
    {
     "name": "stdout",
     "output_type": "stream",
     "text": [
      "\n",
      "rmse: 2.3418554464822083\n",
      "\n",
      "lp: 0.6842813163173895\n",
      "\n"
     ]
    },
    {
     "name": "stderr",
     "output_type": "stream",
     "text": [
      "E:\\anaconda\\lib\\site-packages\\ipykernel_launcher.py:63: DeprecationWarning: In future, it will be an error for 'np.bool_' scalars to be interpreted as an index\n"
     ]
    },
    {
     "name": "stdout",
     "output_type": "stream",
     "text": [
      "\n",
      "rmse: 2.864073720101118\n",
      "\n",
      "lp: 0.23735215229595846\n",
      "\n"
     ]
    },
    {
     "name": "stderr",
     "output_type": "stream",
     "text": [
      "E:\\anaconda\\lib\\site-packages\\ipykernel_launcher.py:63: DeprecationWarning: In future, it will be an error for 'np.bool_' scalars to be interpreted as an index\n"
     ]
    },
    {
     "name": "stdout",
     "output_type": "stream",
     "text": [
      "\n",
      "rmse: 2.700526004318791\n",
      "\n",
      "lp: 0.3093971979491686\n",
      "\n"
     ]
    },
    {
     "name": "stderr",
     "output_type": "stream",
     "text": [
      "E:\\anaconda\\lib\\site-packages\\ipykernel_launcher.py:63: DeprecationWarning: In future, it will be an error for 'np.bool_' scalars to be interpreted as an index\n"
     ]
    },
    {
     "name": "stdout",
     "output_type": "stream",
     "text": [
      "\n",
      "rmse: 2.79787395529692\n",
      "\n",
      "lp: 0.06958444444161062\n",
      "\n"
     ]
    },
    {
     "name": "stderr",
     "output_type": "stream",
     "text": [
      "E:\\anaconda\\lib\\site-packages\\ipykernel_launcher.py:63: DeprecationWarning: In future, it will be an error for 'np.bool_' scalars to be interpreted as an index\n"
     ]
    },
    {
     "name": "stdout",
     "output_type": "stream",
     "text": [
      "\n",
      "rmse: 2.8056245759230354\n",
      "\n",
      "lp: 0.9244031884842857\n",
      "\n"
     ]
    },
    {
     "name": "stderr",
     "output_type": "stream",
     "text": [
      "E:\\anaconda\\lib\\site-packages\\ipykernel_launcher.py:63: DeprecationWarning: In future, it will be an error for 'np.bool_' scalars to be interpreted as an index\n"
     ]
    },
    {
     "name": "stdout",
     "output_type": "stream",
     "text": [
      "\n",
      "rmse: 2.317791245840166\n",
      "\n",
      "lp: 0.35357907841829717\n",
      "\n"
     ]
    },
    {
     "name": "stderr",
     "output_type": "stream",
     "text": [
      "E:\\anaconda\\lib\\site-packages\\ipykernel_launcher.py:63: DeprecationWarning: In future, it will be an error for 'np.bool_' scalars to be interpreted as an index\n"
     ]
    },
    {
     "name": "stdout",
     "output_type": "stream",
     "text": [
      "\n",
      "rmse: 2.7795509510210925\n",
      "\n",
      "lp: 0.34348325441372607\n",
      "\n"
     ]
    },
    {
     "name": "stderr",
     "output_type": "stream",
     "text": [
      "E:\\anaconda\\lib\\site-packages\\ipykernel_launcher.py:63: DeprecationWarning: In future, it will be an error for 'np.bool_' scalars to be interpreted as an index\n"
     ]
    },
    {
     "name": "stdout",
     "output_type": "stream",
     "text": [
      "\n",
      "rmse: 2.302367514457049\n",
      "\n",
      "lp: 0.24716666556635794\n",
      "\n"
     ]
    },
    {
     "name": "stderr",
     "output_type": "stream",
     "text": [
      "E:\\anaconda\\lib\\site-packages\\ipykernel_launcher.py:63: DeprecationWarning: In future, it will be an error for 'np.bool_' scalars to be interpreted as an index\n"
     ]
    },
    {
     "name": "stdout",
     "output_type": "stream",
     "text": [
      "\n",
      "rmse: 2.141039857201357\n",
      "\n",
      "lp: 0.6627831838302936\n",
      "\n"
     ]
    },
    {
     "name": "stderr",
     "output_type": "stream",
     "text": [
      "E:\\anaconda\\lib\\site-packages\\ipykernel_launcher.py:63: DeprecationWarning: In future, it will be an error for 'np.bool_' scalars to be interpreted as an index\n"
     ]
    },
    {
     "name": "stdout",
     "output_type": "stream",
     "text": [
      "\n",
      "rmse: 2.689095700236783\n",
      "\n",
      "lp: 0.013064057261374095\n",
      "\n"
     ]
    },
    {
     "name": "stderr",
     "output_type": "stream",
     "text": [
      "E:\\anaconda\\lib\\site-packages\\ipykernel_launcher.py:63: DeprecationWarning: In future, it will be an error for 'np.bool_' scalars to be interpreted as an index\n"
     ]
    },
    {
     "name": "stdout",
     "output_type": "stream",
     "text": [
      "\n",
      "rmse: 2.7910501181882554\n",
      "\n",
      "lp: 1e-07\n",
      "\n"
     ]
    },
    {
     "name": "stderr",
     "output_type": "stream",
     "text": [
      "E:\\anaconda\\lib\\site-packages\\ipykernel_launcher.py:63: DeprecationWarning: In future, it will be an error for 'np.bool_' scalars to be interpreted as an index\n"
     ]
    },
    {
     "name": "stdout",
     "output_type": "stream",
     "text": [
      "\n",
      "rmse: 2.442666664574895\n",
      "\n",
      "lp: 0.2553869064070112\n",
      "\n"
     ]
    },
    {
     "name": "stderr",
     "output_type": "stream",
     "text": [
      "E:\\anaconda\\lib\\site-packages\\ipykernel_launcher.py:63: DeprecationWarning: In future, it will be an error for 'np.bool_' scalars to be interpreted as an index\n"
     ]
    },
    {
     "name": "stdout",
     "output_type": "stream",
     "text": [
      "\n",
      "rmse: 2.7915632814264817\n",
      "\n",
      "lp: 0.517522272306312\n",
      "\n"
     ]
    },
    {
     "name": "stderr",
     "output_type": "stream",
     "text": [
      "E:\\anaconda\\lib\\site-packages\\ipykernel_launcher.py:63: DeprecationWarning: In future, it will be an error for 'np.bool_' scalars to be interpreted as an index\n"
     ]
    },
    {
     "name": "stdout",
     "output_type": "stream",
     "text": [
      "\n",
      "rmse: 2.72342393862592\n",
      "\n",
      "lp: 0.40761895381553165\n",
      "\n"
     ]
    },
    {
     "name": "stderr",
     "output_type": "stream",
     "text": [
      "E:\\anaconda\\lib\\site-packages\\ipykernel_launcher.py:63: DeprecationWarning: In future, it will be an error for 'np.bool_' scalars to be interpreted as an index\n"
     ]
    },
    {
     "name": "stdout",
     "output_type": "stream",
     "text": [
      "\n",
      "rmse: 2.8056375365330988\n",
      "\n",
      "lp: 0.27260249536196823\n",
      "\n"
     ]
    },
    {
     "name": "stderr",
     "output_type": "stream",
     "text": [
      "E:\\anaconda\\lib\\site-packages\\ipykernel_launcher.py:63: DeprecationWarning: In future, it will be an error for 'np.bool_' scalars to be interpreted as an index\n"
     ]
    },
    {
     "name": "stdout",
     "output_type": "stream",
     "text": [
      "\n",
      "rmse: 2.792598268772634\n",
      "\n",
      "lp: 0.1699377815050181\n",
      "\n"
     ]
    },
    {
     "name": "stderr",
     "output_type": "stream",
     "text": [
      "E:\\anaconda\\lib\\site-packages\\ipykernel_launcher.py:63: DeprecationWarning: In future, it will be an error for 'np.bool_' scalars to be interpreted as an index\n"
     ]
    },
    {
     "name": "stdout",
     "output_type": "stream",
     "text": [
      "\n",
      "rmse: 2.809502202383591\n",
      "\n",
      "lp: 0.9028977520201766\n",
      "\n"
     ]
    },
    {
     "name": "stderr",
     "output_type": "stream",
     "text": [
      "E:\\anaconda\\lib\\site-packages\\ipykernel_launcher.py:63: DeprecationWarning: In future, it will be an error for 'np.bool_' scalars to be interpreted as an index\n"
     ]
    },
    {
     "name": "stdout",
     "output_type": "stream",
     "text": [
      "\n",
      "rmse: 2.956813414858161\n",
      "\n",
      "lp: 0.13122257520684594\n",
      "\n"
     ]
    },
    {
     "name": "stderr",
     "output_type": "stream",
     "text": [
      "E:\\anaconda\\lib\\site-packages\\ipykernel_launcher.py:63: DeprecationWarning: In future, it will be an error for 'np.bool_' scalars to be interpreted as an index\n"
     ]
    },
    {
     "name": "stdout",
     "output_type": "stream",
     "text": [
      "\n",
      "rmse: 3.121947515809924\n",
      "\n",
      "lp: 0.7798126853098812\n",
      "\n"
     ]
    },
    {
     "name": "stderr",
     "output_type": "stream",
     "text": [
      "E:\\anaconda\\lib\\site-packages\\ipykernel_launcher.py:63: DeprecationWarning: In future, it will be an error for 'np.bool_' scalars to be interpreted as an index\n"
     ]
    },
    {
     "name": "stdout",
     "output_type": "stream",
     "text": [
      "\n",
      "rmse: 2.894991554829674\n",
      "\n",
      "lp: 1e-07\n",
      "\n"
     ]
    },
    {
     "name": "stderr",
     "output_type": "stream",
     "text": [
      "E:\\anaconda\\lib\\site-packages\\ipykernel_launcher.py:63: DeprecationWarning: In future, it will be an error for 'np.bool_' scalars to be interpreted as an index\n"
     ]
    },
    {
     "name": "stdout",
     "output_type": "stream",
     "text": [
      "\n",
      "rmse: 2.4130755994515716\n",
      "\n",
      "lp: 0.536578450092539\n",
      "\n"
     ]
    },
    {
     "name": "stderr",
     "output_type": "stream",
     "text": [
      "E:\\anaconda\\lib\\site-packages\\ipykernel_launcher.py:63: DeprecationWarning: In future, it will be an error for 'np.bool_' scalars to be interpreted as an index\n"
     ]
    },
    {
     "name": "stdout",
     "output_type": "stream",
     "text": [
      "\n",
      "rmse: 2.6854700568476746\n",
      "\n",
      "lp: 0.5991973361278877\n",
      "\n"
     ]
    },
    {
     "name": "stderr",
     "output_type": "stream",
     "text": [
      "E:\\anaconda\\lib\\site-packages\\ipykernel_launcher.py:63: DeprecationWarning: In future, it will be an error for 'np.bool_' scalars to be interpreted as an index\n"
     ]
    },
    {
     "name": "stdout",
     "output_type": "stream",
     "text": [
      "\n",
      "rmse: 2.802136822925916\n",
      "\n",
      "lp: 0.37738415428303734\n",
      "\n"
     ]
    },
    {
     "name": "stderr",
     "output_type": "stream",
     "text": [
      "E:\\anaconda\\lib\\site-packages\\ipykernel_launcher.py:63: DeprecationWarning: In future, it will be an error for 'np.bool_' scalars to be interpreted as an index\n"
     ]
    },
    {
     "name": "stdout",
     "output_type": "stream",
     "text": [
      "\n",
      "rmse: 2.7378783612895004\n",
      "\n",
      "lp: 0.8491665856546066\n",
      "\n"
     ]
    },
    {
     "name": "stderr",
     "output_type": "stream",
     "text": [
      "E:\\anaconda\\lib\\site-packages\\ipykernel_launcher.py:63: DeprecationWarning: In future, it will be an error for 'np.bool_' scalars to be interpreted as an index\n"
     ]
    },
    {
     "name": "stdout",
     "output_type": "stream",
     "text": [
      "\n",
      "rmse: 2.599216148919423\n",
      "\n",
      "lp: 1.0\n",
      "\n"
     ]
    },
    {
     "name": "stderr",
     "output_type": "stream",
     "text": [
      "E:\\anaconda\\lib\\site-packages\\ipykernel_launcher.py:63: DeprecationWarning: In future, it will be an error for 'np.bool_' scalars to be interpreted as an index\n"
     ]
    },
    {
     "name": "stdout",
     "output_type": "stream",
     "text": [
      "\n",
      "rmse: 2.797988153907717\n",
      "\n",
      "lp: 0.8954475406749918\n",
      "\n"
     ]
    },
    {
     "name": "stderr",
     "output_type": "stream",
     "text": [
      "E:\\anaconda\\lib\\site-packages\\ipykernel_launcher.py:63: DeprecationWarning: In future, it will be an error for 'np.bool_' scalars to be interpreted as an index\n"
     ]
    },
    {
     "name": "stdout",
     "output_type": "stream",
     "text": [
      "\n",
      "rmse: 2.2564480910832208\n",
      "\n",
      "lp: 0.7896193736539476\n",
      "\n"
     ]
    },
    {
     "name": "stderr",
     "output_type": "stream",
     "text": [
      "E:\\anaconda\\lib\\site-packages\\ipykernel_launcher.py:63: DeprecationWarning: In future, it will be an error for 'np.bool_' scalars to be interpreted as an index\n"
     ]
    },
    {
     "name": "stdout",
     "output_type": "stream",
     "text": [
      "\n",
      "rmse: 2.4829533087669566\n",
      "\n",
      "lp: 0.578599003276546\n",
      "\n"
     ]
    },
    {
     "name": "stderr",
     "output_type": "stream",
     "text": [
      "E:\\anaconda\\lib\\site-packages\\ipykernel_launcher.py:63: DeprecationWarning: In future, it will be an error for 'np.bool_' scalars to be interpreted as an index\n"
     ]
    },
    {
     "name": "stdout",
     "output_type": "stream",
     "text": [
      "\n",
      "rmse: 2.5616589231102584\n",
      "\n",
      "lp: 0.5973157656575435\n",
      "\n"
     ]
    },
    {
     "name": "stderr",
     "output_type": "stream",
     "text": [
      "E:\\anaconda\\lib\\site-packages\\ipykernel_launcher.py:63: DeprecationWarning: In future, it will be an error for 'np.bool_' scalars to be interpreted as an index\n"
     ]
    },
    {
     "name": "stdout",
     "output_type": "stream",
     "text": [
      "\n",
      "rmse: 2.14396105361247\n",
      "\n",
      "lp: 0.8058609195685049\n",
      "\n"
     ]
    },
    {
     "name": "stderr",
     "output_type": "stream",
     "text": [
      "E:\\anaconda\\lib\\site-packages\\ipykernel_launcher.py:63: DeprecationWarning: In future, it will be an error for 'np.bool_' scalars to be interpreted as an index\n"
     ]
    },
    {
     "name": "stdout",
     "output_type": "stream",
     "text": [
      "\n",
      "rmse: 2.7997889531112694\n",
      "\n",
      "lp: 0.20206539294215511\n",
      "\n"
     ]
    },
    {
     "name": "stderr",
     "output_type": "stream",
     "text": [
      "E:\\anaconda\\lib\\site-packages\\ipykernel_launcher.py:63: DeprecationWarning: In future, it will be an error for 'np.bool_' scalars to be interpreted as an index\n"
     ]
    },
    {
     "name": "stdout",
     "output_type": "stream",
     "text": [
      "\n",
      "rmse: 2.5234691693444615\n",
      "\n",
      "lp: 0.07197812315623567\n",
      "\n"
     ]
    },
    {
     "name": "stderr",
     "output_type": "stream",
     "text": [
      "E:\\anaconda\\lib\\site-packages\\ipykernel_launcher.py:63: DeprecationWarning: In future, it will be an error for 'np.bool_' scalars to be interpreted as an index\n"
     ]
    },
    {
     "name": "stdout",
     "output_type": "stream",
     "text": [
      "\n",
      "rmse: 2.705602474833283\n",
      "\n",
      "lp: 0.7029582295062126\n",
      "\n"
     ]
    },
    {
     "name": "stderr",
     "output_type": "stream",
     "text": [
      "E:\\anaconda\\lib\\site-packages\\ipykernel_launcher.py:63: DeprecationWarning: In future, it will be an error for 'np.bool_' scalars to be interpreted as an index\n"
     ]
    },
    {
     "name": "stdout",
     "output_type": "stream",
     "text": [
      "\n",
      "rmse: 2.7994980180703264\n",
      "\n",
      "lp: 1e-07\n",
      "\n"
     ]
    },
    {
     "name": "stderr",
     "output_type": "stream",
     "text": [
      "E:\\anaconda\\lib\\site-packages\\ipykernel_launcher.py:63: DeprecationWarning: In future, it will be an error for 'np.bool_' scalars to be interpreted as an index\n"
     ]
    },
    {
     "name": "stdout",
     "output_type": "stream",
     "text": [
      "\n",
      "rmse: 2.7077809531658685\n",
      "\n",
      "lp: 0.4843589306546761\n",
      "\n"
     ]
    },
    {
     "name": "stderr",
     "output_type": "stream",
     "text": [
      "E:\\anaconda\\lib\\site-packages\\ipykernel_launcher.py:63: DeprecationWarning: In future, it will be an error for 'np.bool_' scalars to be interpreted as an index\n"
     ]
    },
    {
     "name": "stdout",
     "output_type": "stream",
     "text": [
      "\n",
      "rmse: 2.095906672469275\n",
      "\n",
      "lp: 0.190640210607466\n",
      "\n"
     ]
    },
    {
     "name": "stderr",
     "output_type": "stream",
     "text": [
      "E:\\anaconda\\lib\\site-packages\\ipykernel_launcher.py:63: DeprecationWarning: In future, it will be an error for 'np.bool_' scalars to be interpreted as an index\n"
     ]
    },
    {
     "name": "stdout",
     "output_type": "stream",
     "text": [
      "\n",
      "rmse: 2.7731486649907042\n",
      "\n",
      "lp: 0.8548881338915175\n",
      "\n"
     ]
    },
    {
     "name": "stderr",
     "output_type": "stream",
     "text": [
      "E:\\anaconda\\lib\\site-packages\\ipykernel_launcher.py:63: DeprecationWarning: In future, it will be an error for 'np.bool_' scalars to be interpreted as an index\n"
     ]
    },
    {
     "name": "stdout",
     "output_type": "stream",
     "text": [
      "\n",
      "rmse: 2.429709491492866\n",
      "\n",
      "lp: 0.9875788502211005\n",
      "\n"
     ]
    },
    {
     "name": "stderr",
     "output_type": "stream",
     "text": [
      "E:\\anaconda\\lib\\site-packages\\ipykernel_launcher.py:63: DeprecationWarning: In future, it will be an error for 'np.bool_' scalars to be interpreted as an index\n"
     ]
    },
    {
     "name": "stdout",
     "output_type": "stream",
     "text": [
      "\n",
      "rmse: 2.8065494696277913\n",
      "\n",
      "lp: 1.0\n",
      "\n"
     ]
    },
    {
     "name": "stderr",
     "output_type": "stream",
     "text": [
      "E:\\anaconda\\lib\\site-packages\\ipykernel_launcher.py:63: DeprecationWarning: In future, it will be an error for 'np.bool_' scalars to be interpreted as an index\n"
     ]
    },
    {
     "name": "stdout",
     "output_type": "stream",
     "text": [
      "\n",
      "rmse: 2.1385976763106425\n",
      "\n",
      "lp: 1.0\n",
      "\n"
     ]
    },
    {
     "name": "stderr",
     "output_type": "stream",
     "text": [
      "E:\\anaconda\\lib\\site-packages\\ipykernel_launcher.py:63: DeprecationWarning: In future, it will be an error for 'np.bool_' scalars to be interpreted as an index\n"
     ]
    },
    {
     "name": "stdout",
     "output_type": "stream",
     "text": [
      "\n",
      "rmse: 2.264539982183061\n",
      "\n",
      "lp: 1.0\n",
      "\n"
     ]
    },
    {
     "name": "stderr",
     "output_type": "stream",
     "text": [
      "E:\\anaconda\\lib\\site-packages\\ipykernel_launcher.py:63: DeprecationWarning: In future, it will be an error for 'np.bool_' scalars to be interpreted as an index\n"
     ]
    },
    {
     "name": "stdout",
     "output_type": "stream",
     "text": [
      "\n",
      "rmse: 2.1476538413945074\n",
      "\n",
      "lp: 1.0\n",
      "\n"
     ]
    },
    {
     "name": "stderr",
     "output_type": "stream",
     "text": [
      "E:\\anaconda\\lib\\site-packages\\ipykernel_launcher.py:63: DeprecationWarning: In future, it will be an error for 'np.bool_' scalars to be interpreted as an index\n"
     ]
    },
    {
     "name": "stdout",
     "output_type": "stream",
     "text": [
      "\n",
      "rmse: 2.0734385219937965\n",
      "\n",
      "lp: 0.6341340687068049\n",
      "\n"
     ]
    },
    {
     "name": "stderr",
     "output_type": "stream",
     "text": [
      "E:\\anaconda\\lib\\site-packages\\ipykernel_launcher.py:63: DeprecationWarning: In future, it will be an error for 'np.bool_' scalars to be interpreted as an index\n"
     ]
    },
    {
     "name": "stdout",
     "output_type": "stream",
     "text": [
      "\n",
      "rmse: 2.6267416682383344\n",
      "\n",
      "lp: 0.4864369217935843\n",
      "\n"
     ]
    },
    {
     "name": "stderr",
     "output_type": "stream",
     "text": [
      "E:\\anaconda\\lib\\site-packages\\ipykernel_launcher.py:63: DeprecationWarning: In future, it will be an error for 'np.bool_' scalars to be interpreted as an index\n"
     ]
    },
    {
     "name": "stdout",
     "output_type": "stream",
     "text": [
      "\n",
      "rmse: 2.794987048643176\n",
      "\n",
      "lp: 0.1388107632244959\n",
      "\n"
     ]
    },
    {
     "name": "stderr",
     "output_type": "stream",
     "text": [
      "E:\\anaconda\\lib\\site-packages\\ipykernel_launcher.py:63: DeprecationWarning: In future, it will be an error for 'np.bool_' scalars to be interpreted as an index\n"
     ]
    },
    {
     "name": "stdout",
     "output_type": "stream",
     "text": [
      "\n",
      "rmse: 2.810155420927908\n",
      "\n",
      "lp: 1.0\n",
      "\n"
     ]
    },
    {
     "name": "stderr",
     "output_type": "stream",
     "text": [
      "E:\\anaconda\\lib\\site-packages\\ipykernel_launcher.py:63: DeprecationWarning: In future, it will be an error for 'np.bool_' scalars to be interpreted as an index\n"
     ]
    },
    {
     "name": "stdout",
     "output_type": "stream",
     "text": [
      "\n",
      "rmse: 3.184458685428501\n",
      "\n",
      "lp: 0.1397413640314807\n",
      "\n"
     ]
    },
    {
     "name": "stderr",
     "output_type": "stream",
     "text": [
      "E:\\anaconda\\lib\\site-packages\\ipykernel_launcher.py:63: DeprecationWarning: In future, it will be an error for 'np.bool_' scalars to be interpreted as an index\n"
     ]
    },
    {
     "name": "stdout",
     "output_type": "stream",
     "text": [
      "\n",
      "rmse: 2.8083392367600415\n",
      "\n",
      "lp: 1e-07\n",
      "\n"
     ]
    },
    {
     "name": "stderr",
     "output_type": "stream",
     "text": [
      "E:\\anaconda\\lib\\site-packages\\ipykernel_launcher.py:63: DeprecationWarning: In future, it will be an error for 'np.bool_' scalars to be interpreted as an index\n"
     ]
    },
    {
     "name": "stdout",
     "output_type": "stream",
     "text": [
      "\n",
      "rmse: 2.609017389808892\n",
      "\n",
      "lp: 0.7539422926036058\n",
      "\n"
     ]
    },
    {
     "name": "stderr",
     "output_type": "stream",
     "text": [
      "E:\\anaconda\\lib\\site-packages\\ipykernel_launcher.py:63: DeprecationWarning: In future, it will be an error for 'np.bool_' scalars to be interpreted as an index\n"
     ]
    },
    {
     "name": "stdout",
     "output_type": "stream",
     "text": [
      "\n",
      "rmse: 2.706095826886046\n",
      "\n",
      "lp: 0.11372390285827028\n",
      "\n"
     ]
    },
    {
     "name": "stderr",
     "output_type": "stream",
     "text": [
      "E:\\anaconda\\lib\\site-packages\\ipykernel_launcher.py:63: DeprecationWarning: In future, it will be an error for 'np.bool_' scalars to be interpreted as an index\n"
     ]
    },
    {
     "name": "stdout",
     "output_type": "stream",
     "text": [
      "\n",
      "rmse: 2.8035317616205075\n",
      "\n",
      "lp: 0.2624763777768622\n",
      "\n"
     ]
    },
    {
     "name": "stderr",
     "output_type": "stream",
     "text": [
      "E:\\anaconda\\lib\\site-packages\\ipykernel_launcher.py:63: DeprecationWarning: In future, it will be an error for 'np.bool_' scalars to be interpreted as an index\n"
     ]
    },
    {
     "name": "stdout",
     "output_type": "stream",
     "text": [
      "\n",
      "rmse: 2.0133348244981177\n",
      "\n",
      "lp: 0.2663673274863196\n",
      "\n"
     ]
    },
    {
     "name": "stderr",
     "output_type": "stream",
     "text": [
      "E:\\anaconda\\lib\\site-packages\\ipykernel_launcher.py:63: DeprecationWarning: In future, it will be an error for 'np.bool_' scalars to be interpreted as an index\n"
     ]
    },
    {
     "name": "stdout",
     "output_type": "stream",
     "text": [
      "\n",
      "rmse: 2.8049675325058865\n",
      "\n",
      "lp: 0.7832015280229981\n",
      "\n"
     ]
    },
    {
     "name": "stderr",
     "output_type": "stream",
     "text": [
      "E:\\anaconda\\lib\\site-packages\\ipykernel_launcher.py:63: DeprecationWarning: In future, it will be an error for 'np.bool_' scalars to be interpreted as an index\n"
     ]
    },
    {
     "name": "stdout",
     "output_type": "stream",
     "text": [
      "\n",
      "rmse: 2.7893865162226934\n",
      "\n",
      "lp: 0.18216081178882496\n",
      "\n"
     ]
    },
    {
     "name": "stderr",
     "output_type": "stream",
     "text": [
      "E:\\anaconda\\lib\\site-packages\\ipykernel_launcher.py:63: DeprecationWarning: In future, it will be an error for 'np.bool_' scalars to be interpreted as an index\n"
     ]
    },
    {
     "name": "stdout",
     "output_type": "stream",
     "text": [
      "\n",
      "rmse: 2.948592678986563\n",
      "\n",
      "lp: 0.19592029669300404\n",
      "\n"
     ]
    },
    {
     "name": "stderr",
     "output_type": "stream",
     "text": [
      "E:\\anaconda\\lib\\site-packages\\ipykernel_launcher.py:63: DeprecationWarning: In future, it will be an error for 'np.bool_' scalars to be interpreted as an index\n"
     ]
    },
    {
     "name": "stdout",
     "output_type": "stream",
     "text": [
      "\n",
      "rmse: 2.8290383877964604\n",
      "\n",
      "lp: 0.4946541279683022\n",
      "\n"
     ]
    },
    {
     "name": "stderr",
     "output_type": "stream",
     "text": [
      "E:\\anaconda\\lib\\site-packages\\ipykernel_launcher.py:63: DeprecationWarning: In future, it will be an error for 'np.bool_' scalars to be interpreted as an index\n"
     ]
    },
    {
     "name": "stdout",
     "output_type": "stream",
     "text": [
      "\n",
      "rmse: 2.666275310000053\n",
      "\n",
      "lp: 0.9471344215187727\n",
      "\n"
     ]
    },
    {
     "name": "stderr",
     "output_type": "stream",
     "text": [
      "E:\\anaconda\\lib\\site-packages\\ipykernel_launcher.py:63: DeprecationWarning: In future, it will be an error for 'np.bool_' scalars to be interpreted as an index\n"
     ]
    },
    {
     "name": "stdout",
     "output_type": "stream",
     "text": [
      "\n",
      "rmse: 2.7998308054352683\n",
      "\n",
      "lp: 0.39754069527712665\n",
      "\n"
     ]
    },
    {
     "name": "stderr",
     "output_type": "stream",
     "text": [
      "E:\\anaconda\\lib\\site-packages\\ipykernel_launcher.py:63: DeprecationWarning: In future, it will be an error for 'np.bool_' scalars to be interpreted as an index\n"
     ]
    },
    {
     "name": "stdout",
     "output_type": "stream",
     "text": [
      "\n",
      "rmse: 2.7979511509586437\n",
      "\n",
      "lp: 0.20768629005827807\n",
      "\n"
     ]
    },
    {
     "name": "stderr",
     "output_type": "stream",
     "text": [
      "E:\\anaconda\\lib\\site-packages\\ipykernel_launcher.py:63: DeprecationWarning: In future, it will be an error for 'np.bool_' scalars to be interpreted as an index\n"
     ]
    },
    {
     "name": "stdout",
     "output_type": "stream",
     "text": [
      "\n",
      "rmse: 2.7741640040689224\n",
      "\n",
      "lp: 0.2710527807234923\n",
      "\n"
     ]
    },
    {
     "name": "stderr",
     "output_type": "stream",
     "text": [
      "E:\\anaconda\\lib\\site-packages\\ipykernel_launcher.py:63: DeprecationWarning: In future, it will be an error for 'np.bool_' scalars to be interpreted as an index\n"
     ]
    },
    {
     "name": "stdout",
     "output_type": "stream",
     "text": [
      "\n",
      "rmse: 2.671688801812636\n",
      "\n",
      "lp: 0.822696142548638\n",
      "\n"
     ]
    },
    {
     "name": "stderr",
     "output_type": "stream",
     "text": [
      "E:\\anaconda\\lib\\site-packages\\ipykernel_launcher.py:63: DeprecationWarning: In future, it will be an error for 'np.bool_' scalars to be interpreted as an index\n"
     ]
    },
    {
     "name": "stdout",
     "output_type": "stream",
     "text": [
      "\n",
      "rmse: 2.5545214754640946\n",
      "\n",
      "lp: 0.1502756177645284\n",
      "\n"
     ]
    },
    {
     "name": "stderr",
     "output_type": "stream",
     "text": [
      "E:\\anaconda\\lib\\site-packages\\ipykernel_launcher.py:63: DeprecationWarning: In future, it will be an error for 'np.bool_' scalars to be interpreted as an index\n"
     ]
    },
    {
     "name": "stdout",
     "output_type": "stream",
     "text": [
      "\n",
      "rmse: 2.7590633116778664\n",
      "\n",
      "lp: 0.9091787945691041\n",
      "\n"
     ]
    },
    {
     "name": "stderr",
     "output_type": "stream",
     "text": [
      "E:\\anaconda\\lib\\site-packages\\ipykernel_launcher.py:63: DeprecationWarning: In future, it will be an error for 'np.bool_' scalars to be interpreted as an index\n"
     ]
    },
    {
     "name": "stdout",
     "output_type": "stream",
     "text": [
      "\n",
      "rmse: 2.6544189276578156\n",
      "\n",
      "lp: 0.5327361656271454\n",
      "\n"
     ]
    },
    {
     "name": "stderr",
     "output_type": "stream",
     "text": [
      "E:\\anaconda\\lib\\site-packages\\ipykernel_launcher.py:63: DeprecationWarning: In future, it will be an error for 'np.bool_' scalars to be interpreted as an index\n"
     ]
    },
    {
     "name": "stdout",
     "output_type": "stream",
     "text": [
      "\n",
      "rmse: 2.777606360753908\n",
      "\n",
      "lp: 0.8817817137669732\n",
      "\n"
     ]
    },
    {
     "name": "stderr",
     "output_type": "stream",
     "text": [
      "E:\\anaconda\\lib\\site-packages\\ipykernel_launcher.py:63: DeprecationWarning: In future, it will be an error for 'np.bool_' scalars to be interpreted as an index\n"
     ]
    },
    {
     "name": "stdout",
     "output_type": "stream",
     "text": [
      "\n",
      "rmse: 2.8180505410097623\n",
      "\n",
      "lp: 0.8957579646961741\n",
      "\n"
     ]
    },
    {
     "name": "stderr",
     "output_type": "stream",
     "text": [
      "E:\\anaconda\\lib\\site-packages\\ipykernel_launcher.py:63: DeprecationWarning: In future, it will be an error for 'np.bool_' scalars to be interpreted as an index\n"
     ]
    },
    {
     "name": "stdout",
     "output_type": "stream",
     "text": [
      "\n",
      "rmse: 2.8341383877444906\n",
      "\n",
      "lp: 0.21975269170297196\n",
      "\n"
     ]
    },
    {
     "name": "stderr",
     "output_type": "stream",
     "text": [
      "E:\\anaconda\\lib\\site-packages\\ipykernel_launcher.py:63: DeprecationWarning: In future, it will be an error for 'np.bool_' scalars to be interpreted as an index\n"
     ]
    },
    {
     "name": "stdout",
     "output_type": "stream",
     "text": [
      "\n",
      "rmse: 2.125608329847303\n",
      "\n",
      "lp: 0.9467828797215249\n",
      "\n"
     ]
    },
    {
     "name": "stderr",
     "output_type": "stream",
     "text": [
      "E:\\anaconda\\lib\\site-packages\\ipykernel_launcher.py:63: DeprecationWarning: In future, it will be an error for 'np.bool_' scalars to be interpreted as an index\n"
     ]
    },
    {
     "name": "stdout",
     "output_type": "stream",
     "text": [
      "\n",
      "rmse: 2.757731230088506\n",
      "\n",
      "lp: 0.8469313594883214\n",
      "\n"
     ]
    },
    {
     "name": "stderr",
     "output_type": "stream",
     "text": [
      "E:\\anaconda\\lib\\site-packages\\ipykernel_launcher.py:63: DeprecationWarning: In future, it will be an error for 'np.bool_' scalars to be interpreted as an index\n"
     ]
    },
    {
     "name": "stdout",
     "output_type": "stream",
     "text": [
      "\n",
      "rmse: 2.788117114858286\n",
      "\n"
     ]
    },
    {
     "name": "stderr",
     "output_type": "stream",
     "text": [
      "E:\\anaconda\\lib\\site-packages\\ipykernel_launcher.py:63: DeprecationWarning: In future, it will be an error for 'np.bool_' scalars to be interpreted as an index\n"
     ]
    },
    {
     "name": "stdout",
     "output_type": "stream",
     "text": [
      "lp: 0.001\n",
      "\n",
      "\n",
      "rmse: 2.428940948331803\n",
      "\n",
      "lp: 0.47597819009494347\n",
      "\n",
      "\n",
      "rmse: 2.645362583984671\n",
      "\n",
      "lp: 0.6348408229788253\n",
      "\n",
      "\n",
      "rmse: 2.7873344072549884\n",
      "\n",
      "lp: 0.35201360149554867\n",
      "\n",
      "\n",
      "rmse: 2.3677700242841153\n",
      "\n",
      "lp: 0.6007611760784404\n",
      "\n",
      "\n",
      "rmse: 2.1959057487786278\n",
      "\n",
      "lp: 0.2527807396487413\n",
      "\n",
      "\n",
      "rmse: 2.7914234085312755\n",
      "\n",
      "lp: 0.09964543992766768\n",
      "\n",
      "\n",
      "rmse: 2.75401304080009\n",
      "\n",
      "lp: 0.49817468821959865\n",
      "\n",
      "\n",
      "rmse: 2.7890063293819116\n",
      "\n",
      "lp: 0.7618622094121537\n",
      "\n",
      "\n",
      "rmse: 2.7920019361148216\n",
      "\n",
      "lp: 0.4200512934893308\n",
      "\n",
      "\n",
      "rmse: 2.910103200045833\n",
      "\n",
      "lp: 0.009222696746102543\n",
      "\n",
      "\n",
      "rmse: 2.803025725353338\n",
      "\n",
      "lp: 0.1879712846520972\n",
      "\n"
     ]
    },
    {
     "name": "stderr",
     "output_type": "stream",
     "text": [
      "E:\\anaconda\\lib\\site-packages\\ipykernel_launcher.py:63: DeprecationWarning: In future, it will be an error for 'np.bool_' scalars to be interpreted as an index\n"
     ]
    },
    {
     "name": "stdout",
     "output_type": "stream",
     "text": [
      "\n",
      "rmse: 2.368880146519153\n",
      "\n",
      "lp: 0.7730110639473268\n",
      "\n"
     ]
    },
    {
     "name": "stderr",
     "output_type": "stream",
     "text": [
      "E:\\anaconda\\lib\\site-packages\\ipykernel_launcher.py:63: DeprecationWarning: In future, it will be an error for 'np.bool_' scalars to be interpreted as an index\n"
     ]
    },
    {
     "name": "stdout",
     "output_type": "stream",
     "text": [
      "\n",
      "rmse: 2.337731534020803\n",
      "\n",
      "lp: 0.012032394384674143\n",
      "\n"
     ]
    },
    {
     "name": "stderr",
     "output_type": "stream",
     "text": [
      "E:\\anaconda\\lib\\site-packages\\ipykernel_launcher.py:63: DeprecationWarning: In future, it will be an error for 'np.bool_' scalars to be interpreted as an index\n"
     ]
    },
    {
     "name": "stdout",
     "output_type": "stream",
     "text": [
      "\n",
      "rmse: 2.8055635077149823\n",
      "\n",
      "lp: 0.5380320441572787\n",
      "\n"
     ]
    },
    {
     "name": "stderr",
     "output_type": "stream",
     "text": [
      "E:\\anaconda\\lib\\site-packages\\ipykernel_launcher.py:63: DeprecationWarning: In future, it will be an error for 'np.bool_' scalars to be interpreted as an index\n"
     ]
    },
    {
     "name": "stdout",
     "output_type": "stream",
     "text": [
      "\n",
      "rmse: 2.7354123633392198\n",
      "\n",
      "lp: 0.9845372688357295\n",
      "\n"
     ]
    },
    {
     "name": "stderr",
     "output_type": "stream",
     "text": [
      "E:\\anaconda\\lib\\site-packages\\ipykernel_launcher.py:63: DeprecationWarning: In future, it will be an error for 'np.bool_' scalars to be interpreted as an index\n"
     ]
    },
    {
     "name": "stdout",
     "output_type": "stream",
     "text": [
      "\n",
      "rmse: 2.8064130343145663\n",
      "\n",
      "lp: 0.2951662932453607\n",
      "\n"
     ]
    },
    {
     "name": "stderr",
     "output_type": "stream",
     "text": [
      "E:\\anaconda\\lib\\site-packages\\ipykernel_launcher.py:63: DeprecationWarning: In future, it will be an error for 'np.bool_' scalars to be interpreted as an index\n"
     ]
    },
    {
     "name": "stdout",
     "output_type": "stream",
     "text": [
      "\n",
      "rmse: 2.126031306089137\n",
      "\n",
      "lp: 0.32975526318573634\n",
      "\n"
     ]
    },
    {
     "name": "stderr",
     "output_type": "stream",
     "text": [
      "E:\\anaconda\\lib\\site-packages\\ipykernel_launcher.py:63: DeprecationWarning: In future, it will be an error for 'np.bool_' scalars to be interpreted as an index\n"
     ]
    },
    {
     "name": "stdout",
     "output_type": "stream",
     "text": [
      "\n",
      "rmse: 2.0741008223731856\n",
      "\n",
      "lp: 0.17809529559011228\n",
      "\n"
     ]
    },
    {
     "name": "stderr",
     "output_type": "stream",
     "text": [
      "E:\\anaconda\\lib\\site-packages\\ipykernel_launcher.py:63: DeprecationWarning: In future, it will be an error for 'np.bool_' scalars to be interpreted as an index\n"
     ]
    },
    {
     "name": "stdout",
     "output_type": "stream",
     "text": [
      "\n",
      "rmse: 2.049528838828807\n",
      "\n",
      "lp: 0.5640129450527942\n",
      "\n"
     ]
    },
    {
     "name": "stderr",
     "output_type": "stream",
     "text": [
      "E:\\anaconda\\lib\\site-packages\\ipykernel_launcher.py:63: DeprecationWarning: In future, it will be an error for 'np.bool_' scalars to be interpreted as an index\n"
     ]
    },
    {
     "name": "stdout",
     "output_type": "stream",
     "text": [
      "\n",
      "rmse: 2.0636322724096234\n",
      "\n",
      "lp: 0.3724911503969892\n",
      "\n"
     ]
    },
    {
     "name": "stderr",
     "output_type": "stream",
     "text": [
      "E:\\anaconda\\lib\\site-packages\\ipykernel_launcher.py:63: DeprecationWarning: In future, it will be an error for 'np.bool_' scalars to be interpreted as an index\n"
     ]
    },
    {
     "name": "stdout",
     "output_type": "stream",
     "text": [
      "\n",
      "rmse: 2.7946098758879954\n",
      "\n",
      "lp: 0.49675848216976143\n",
      "\n"
     ]
    },
    {
     "name": "stderr",
     "output_type": "stream",
     "text": [
      "E:\\anaconda\\lib\\site-packages\\ipykernel_launcher.py:63: DeprecationWarning: In future, it will be an error for 'np.bool_' scalars to be interpreted as an index\n"
     ]
    },
    {
     "name": "stdout",
     "output_type": "stream",
     "text": [
      "\n",
      "rmse: 2.678953738430969\n",
      "\n",
      "lp: 0.0311794854684671\n",
      "\n"
     ]
    },
    {
     "name": "stderr",
     "output_type": "stream",
     "text": [
      "E:\\anaconda\\lib\\site-packages\\ipykernel_launcher.py:63: DeprecationWarning: In future, it will be an error for 'np.bool_' scalars to be interpreted as an index\n"
     ]
    },
    {
     "name": "stdout",
     "output_type": "stream",
     "text": [
      "\n",
      "rmse: 2.039887887454089\n",
      "\n",
      "lp: 0.7282383567675667\n",
      "\n"
     ]
    },
    {
     "name": "stderr",
     "output_type": "stream",
     "text": [
      "E:\\anaconda\\lib\\site-packages\\ipykernel_launcher.py:63: DeprecationWarning: In future, it will be an error for 'np.bool_' scalars to be interpreted as an index\n"
     ]
    },
    {
     "name": "stdout",
     "output_type": "stream",
     "text": [
      "\n",
      "rmse: 2.1676553261357863\n",
      "\n",
      "lp: 0.3479069885899524\n",
      "\n"
     ]
    },
    {
     "name": "stderr",
     "output_type": "stream",
     "text": [
      "E:\\anaconda\\lib\\site-packages\\ipykernel_launcher.py:63: DeprecationWarning: In future, it will be an error for 'np.bool_' scalars to be interpreted as an index\n"
     ]
    },
    {
     "name": "stdout",
     "output_type": "stream",
     "text": [
      "\n",
      "rmse: 2.0654835440629595\n",
      "\n",
      "lp: 0.2322088064144928\n",
      "\n"
     ]
    },
    {
     "name": "stderr",
     "output_type": "stream",
     "text": [
      "E:\\anaconda\\lib\\site-packages\\ipykernel_launcher.py:63: DeprecationWarning: In future, it will be an error for 'np.bool_' scalars to be interpreted as an index\n"
     ]
    },
    {
     "name": "stdout",
     "output_type": "stream",
     "text": [
      "\n",
      "rmse: 2.071518074286842\n",
      "\n",
      "lp: 0.05272102884137654\n",
      "\n"
     ]
    },
    {
     "name": "stderr",
     "output_type": "stream",
     "text": [
      "E:\\anaconda\\lib\\site-packages\\ipykernel_launcher.py:63: DeprecationWarning: In future, it will be an error for 'np.bool_' scalars to be interpreted as an index\n"
     ]
    },
    {
     "name": "stdout",
     "output_type": "stream",
     "text": [
      "\n",
      "rmse: 2.0354848538399186\n",
      "\n",
      "lp: 0.6774545267420279\n",
      "\n"
     ]
    },
    {
     "name": "stderr",
     "output_type": "stream",
     "text": [
      "E:\\anaconda\\lib\\site-packages\\ipykernel_launcher.py:63: DeprecationWarning: In future, it will be an error for 'np.bool_' scalars to be interpreted as an index\n"
     ]
    },
    {
     "name": "stdout",
     "output_type": "stream",
     "text": [
      "\n",
      "rmse: 2.364691433697651\n",
      "\n",
      "lp: 1e-07\n",
      "\n"
     ]
    },
    {
     "name": "stderr",
     "output_type": "stream",
     "text": [
      "E:\\anaconda\\lib\\site-packages\\ipykernel_launcher.py:63: DeprecationWarning: In future, it will be an error for 'np.bool_' scalars to be interpreted as an index\n"
     ]
    },
    {
     "name": "stdout",
     "output_type": "stream",
     "text": [
      "\n",
      "rmse: 2.0310856657166068\n",
      "\n",
      "lp: 1e-07\n",
      "\n"
     ]
    },
    {
     "name": "stderr",
     "output_type": "stream",
     "text": [
      "E:\\anaconda\\lib\\site-packages\\ipykernel_launcher.py:63: DeprecationWarning: In future, it will be an error for 'np.bool_' scalars to be interpreted as an index\n"
     ]
    },
    {
     "name": "stdout",
     "output_type": "stream",
     "text": [
      "\n",
      "rmse: 2.04419413378964\n",
      "\n",
      "lp: 0.6593989385156643\n",
      "\n"
     ]
    },
    {
     "name": "stderr",
     "output_type": "stream",
     "text": [
      "E:\\anaconda\\lib\\site-packages\\ipykernel_launcher.py:63: DeprecationWarning: In future, it will be an error for 'np.bool_' scalars to be interpreted as an index\n"
     ]
    },
    {
     "name": "stdout",
     "output_type": "stream",
     "text": [
      "\n",
      "rmse: 2.054265080830297\n",
      "\n",
      "lp: 1e-07\n",
      "\n"
     ]
    },
    {
     "name": "stderr",
     "output_type": "stream",
     "text": [
      "E:\\anaconda\\lib\\site-packages\\ipykernel_launcher.py:63: DeprecationWarning: In future, it will be an error for 'np.bool_' scalars to be interpreted as an index\n"
     ]
    },
    {
     "name": "stdout",
     "output_type": "stream",
     "text": [
      "\n",
      "rmse: 2.1139553228064063\n",
      "\n",
      "lp: 1e-07\n",
      "\n"
     ]
    },
    {
     "name": "stderr",
     "output_type": "stream",
     "text": [
      "E:\\anaconda\\lib\\site-packages\\ipykernel_launcher.py:63: DeprecationWarning: In future, it will be an error for 'np.bool_' scalars to be interpreted as an index\n"
     ]
    },
    {
     "name": "stdout",
     "output_type": "stream",
     "text": [
      "\n",
      "rmse: 2.069792643421006\n",
      "\n",
      "lp: 0.7363148812493958\n",
      "\n"
     ]
    },
    {
     "name": "stderr",
     "output_type": "stream",
     "text": [
      "E:\\anaconda\\lib\\site-packages\\ipykernel_launcher.py:63: DeprecationWarning: In future, it will be an error for 'np.bool_' scalars to be interpreted as an index\n"
     ]
    },
    {
     "name": "stdout",
     "output_type": "stream",
     "text": [
      "\n",
      "rmse: 2.718067350870893\n",
      "\n",
      "lp: 0.06732832417925602\n",
      "\n"
     ]
    },
    {
     "name": "stderr",
     "output_type": "stream",
     "text": [
      "E:\\anaconda\\lib\\site-packages\\ipykernel_launcher.py:63: DeprecationWarning: In future, it will be an error for 'np.bool_' scalars to be interpreted as an index\n"
     ]
    },
    {
     "name": "stdout",
     "output_type": "stream",
     "text": [
      "\n",
      "rmse: 2.610161830297774\n",
      "\n",
      "lp: 1e-07\n",
      "\n"
     ]
    },
    {
     "name": "stderr",
     "output_type": "stream",
     "text": [
      "E:\\anaconda\\lib\\site-packages\\ipykernel_launcher.py:63: DeprecationWarning: In future, it will be an error for 'np.bool_' scalars to be interpreted as an index\n"
     ]
    },
    {
     "name": "stdout",
     "output_type": "stream",
     "text": [
      "\n",
      "rmse: 2.077798065520619\n",
      "\n",
      "lp: 0.39437300846503576\n",
      "\n"
     ]
    },
    {
     "name": "stderr",
     "output_type": "stream",
     "text": [
      "E:\\anaconda\\lib\\site-packages\\ipykernel_launcher.py:63: DeprecationWarning: In future, it will be an error for 'np.bool_' scalars to be interpreted as an index\n"
     ]
    },
    {
     "name": "stdout",
     "output_type": "stream",
     "text": [
      "\n",
      "rmse: 2.214519265846488\n",
      "\n",
      "lp: 1.0\n",
      "\n"
     ]
    },
    {
     "name": "stderr",
     "output_type": "stream",
     "text": [
      "E:\\anaconda\\lib\\site-packages\\ipykernel_launcher.py:63: DeprecationWarning: In future, it will be an error for 'np.bool_' scalars to be interpreted as an index\n"
     ]
    },
    {
     "name": "stdout",
     "output_type": "stream",
     "text": [
      "\n",
      "rmse: 2.2827951356912224\n",
      "\n",
      "lp: 1e-07\n",
      "\n"
     ]
    },
    {
     "name": "stderr",
     "output_type": "stream",
     "text": [
      "E:\\anaconda\\lib\\site-packages\\ipykernel_launcher.py:63: DeprecationWarning: In future, it will be an error for 'np.bool_' scalars to be interpreted as an index\n"
     ]
    },
    {
     "name": "stdout",
     "output_type": "stream",
     "text": [
      "\n",
      "rmse: 2.1019866045941713\n",
      "\n",
      "lp: 1e-07\n",
      "\n"
     ]
    },
    {
     "name": "stderr",
     "output_type": "stream",
     "text": [
      "E:\\anaconda\\lib\\site-packages\\ipykernel_launcher.py:63: DeprecationWarning: In future, it will be an error for 'np.bool_' scalars to be interpreted as an index\n"
     ]
    },
    {
     "name": "stdout",
     "output_type": "stream",
     "text": [
      "\n",
      "rmse: 2.0874700727796975\n",
      "\n",
      "lp: 1e-07\n",
      "\n"
     ]
    },
    {
     "name": "stderr",
     "output_type": "stream",
     "text": [
      "E:\\anaconda\\lib\\site-packages\\ipykernel_launcher.py:63: DeprecationWarning: In future, it will be an error for 'np.bool_' scalars to be interpreted as an index\n"
     ]
    },
    {
     "name": "stdout",
     "output_type": "stream",
     "text": [
      "\n",
      "rmse: 2.572192930643989\n",
      "\n",
      "lp: 0.1780930684730648\n",
      "\n"
     ]
    },
    {
     "name": "stderr",
     "output_type": "stream",
     "text": [
      "E:\\anaconda\\lib\\site-packages\\ipykernel_launcher.py:63: DeprecationWarning: In future, it will be an error for 'np.bool_' scalars to be interpreted as an index\n"
     ]
    },
    {
     "name": "stdout",
     "output_type": "stream",
     "text": [
      "\n",
      "rmse: 2.195206010449139\n",
      "\n",
      "lp: 0.11008071356299745\n",
      "\n"
     ]
    },
    {
     "name": "stderr",
     "output_type": "stream",
     "text": [
      "E:\\anaconda\\lib\\site-packages\\ipykernel_launcher.py:63: DeprecationWarning: In future, it will be an error for 'np.bool_' scalars to be interpreted as an index\n"
     ]
    },
    {
     "name": "stdout",
     "output_type": "stream",
     "text": [
      "\n",
      "rmse: 2.043544832513228\n",
      "\n",
      "lp: 0.271350345818661\n",
      "\n"
     ]
    },
    {
     "name": "stderr",
     "output_type": "stream",
     "text": [
      "E:\\anaconda\\lib\\site-packages\\ipykernel_launcher.py:63: DeprecationWarning: In future, it will be an error for 'np.bool_' scalars to be interpreted as an index\n"
     ]
    },
    {
     "name": "stdout",
     "output_type": "stream",
     "text": [
      "\n",
      "rmse: 2.0628779486021025\n",
      "\n",
      "lp: 0.24707603374062415\n",
      "\n"
     ]
    },
    {
     "name": "stderr",
     "output_type": "stream",
     "text": [
      "E:\\anaconda\\lib\\site-packages\\ipykernel_launcher.py:63: DeprecationWarning: In future, it will be an error for 'np.bool_' scalars to be interpreted as an index\n"
     ]
    },
    {
     "name": "stdout",
     "output_type": "stream",
     "text": [
      "\n",
      "rmse: 2.4044025630961428\n",
      "\n",
      "lp: 0.012280638700533494\n",
      "\n"
     ]
    },
    {
     "name": "stderr",
     "output_type": "stream",
     "text": [
      "E:\\anaconda\\lib\\site-packages\\ipykernel_launcher.py:63: DeprecationWarning: In future, it will be an error for 'np.bool_' scalars to be interpreted as an index\n"
     ]
    },
    {
     "name": "stdout",
     "output_type": "stream",
     "text": [
      "\n",
      "rmse: 2.172559655252362\n",
      "\n",
      "lp: 0.01686453146774572\n",
      "\n"
     ]
    },
    {
     "name": "stderr",
     "output_type": "stream",
     "text": [
      "E:\\anaconda\\lib\\site-packages\\ipykernel_launcher.py:63: DeprecationWarning: In future, it will be an error for 'np.bool_' scalars to be interpreted as an index\n"
     ]
    },
    {
     "name": "stdout",
     "output_type": "stream",
     "text": [
      "\n",
      "rmse: 2.1393379332755376\n",
      "\n",
      "lp: 1e-07\n",
      "\n"
     ]
    },
    {
     "name": "stderr",
     "output_type": "stream",
     "text": [
      "E:\\anaconda\\lib\\site-packages\\ipykernel_launcher.py:63: DeprecationWarning: In future, it will be an error for 'np.bool_' scalars to be interpreted as an index\n"
     ]
    },
    {
     "name": "stdout",
     "output_type": "stream",
     "text": [
      "\n",
      "rmse: 2.033235920240648\n",
      "\n",
      "lp: 0.37994856121931886\n",
      "\n"
     ]
    },
    {
     "name": "stderr",
     "output_type": "stream",
     "text": [
      "E:\\anaconda\\lib\\site-packages\\ipykernel_launcher.py:63: DeprecationWarning: In future, it will be an error for 'np.bool_' scalars to be interpreted as an index\n"
     ]
    },
    {
     "name": "stdout",
     "output_type": "stream",
     "text": [
      "\n",
      "rmse: 2.089456964158042\n",
      "\n",
      "lp: 0.65612091163499\n",
      "\n"
     ]
    },
    {
     "name": "stderr",
     "output_type": "stream",
     "text": [
      "E:\\anaconda\\lib\\site-packages\\ipykernel_launcher.py:63: DeprecationWarning: In future, it will be an error for 'np.bool_' scalars to be interpreted as an index\n"
     ]
    },
    {
     "name": "stdout",
     "output_type": "stream",
     "text": [
      "\n",
      "rmse: 2.048113776857266\n",
      "\n",
      "lp: 0.03407499452905398\n",
      "\n"
     ]
    },
    {
     "name": "stderr",
     "output_type": "stream",
     "text": [
      "E:\\anaconda\\lib\\site-packages\\ipykernel_launcher.py:63: DeprecationWarning: In future, it will be an error for 'np.bool_' scalars to be interpreted as an index\n"
     ]
    },
    {
     "name": "stdout",
     "output_type": "stream",
     "text": [
      "\n",
      "rmse: 2.195781693175248\n",
      "\n",
      "lp: 0.4587723495981784\n",
      "\n"
     ]
    },
    {
     "name": "stderr",
     "output_type": "stream",
     "text": [
      "E:\\anaconda\\lib\\site-packages\\ipykernel_launcher.py:63: DeprecationWarning: In future, it will be an error for 'np.bool_' scalars to be interpreted as an index\n"
     ]
    },
    {
     "name": "stdout",
     "output_type": "stream",
     "text": [
      "\n",
      "rmse: 1.998741427389458\n",
      "\n",
      "lp: 1.0\n",
      "\n"
     ]
    },
    {
     "name": "stderr",
     "output_type": "stream",
     "text": [
      "E:\\anaconda\\lib\\site-packages\\ipykernel_launcher.py:63: DeprecationWarning: In future, it will be an error for 'np.bool_' scalars to be interpreted as an index\n"
     ]
    },
    {
     "name": "stdout",
     "output_type": "stream",
     "text": [
      "\n",
      "rmse: 2.0075548815645243\n",
      "\n",
      "lp: 0.6938722988645842\n",
      "\n"
     ]
    },
    {
     "name": "stderr",
     "output_type": "stream",
     "text": [
      "E:\\anaconda\\lib\\site-packages\\ipykernel_launcher.py:63: DeprecationWarning: In future, it will be an error for 'np.bool_' scalars to be interpreted as an index\n"
     ]
    },
    {
     "name": "stdout",
     "output_type": "stream",
     "text": [
      "\n",
      "rmse: 4.749818456967778\n",
      "\n",
      "lp: 1e-07\n",
      "\n"
     ]
    },
    {
     "name": "stderr",
     "output_type": "stream",
     "text": [
      "E:\\anaconda\\lib\\site-packages\\ipykernel_launcher.py:63: DeprecationWarning: In future, it will be an error for 'np.bool_' scalars to be interpreted as an index\n"
     ]
    },
    {
     "name": "stdout",
     "output_type": "stream",
     "text": [
      "\n",
      "rmse: 2.0344167951983505\n",
      "\n",
      "lp: 1.0\n",
      "\n"
     ]
    },
    {
     "name": "stderr",
     "output_type": "stream",
     "text": [
      "E:\\anaconda\\lib\\site-packages\\ipykernel_launcher.py:63: DeprecationWarning: In future, it will be an error for 'np.bool_' scalars to be interpreted as an index\n"
     ]
    },
    {
     "name": "stdout",
     "output_type": "stream",
     "text": [
      "\n",
      "rmse: 1.9572260072554024\n",
      "\n",
      "lp: 0.4823595890325254\n",
      "\n"
     ]
    },
    {
     "name": "stderr",
     "output_type": "stream",
     "text": [
      "E:\\anaconda\\lib\\site-packages\\ipykernel_launcher.py:63: DeprecationWarning: In future, it will be an error for 'np.bool_' scalars to be interpreted as an index\n"
     ]
    },
    {
     "name": "stdout",
     "output_type": "stream",
     "text": [
      "\n",
      "rmse: 1.9981020284538542\n",
      "\n",
      "lp: 0.6845522892716003\n",
      "\n"
     ]
    },
    {
     "name": "stderr",
     "output_type": "stream",
     "text": [
      "E:\\anaconda\\lib\\site-packages\\ipykernel_launcher.py:63: DeprecationWarning: In future, it will be an error for 'np.bool_' scalars to be interpreted as an index\n"
     ]
    },
    {
     "name": "stdout",
     "output_type": "stream",
     "text": [
      "\n",
      "rmse: 2.325899904444997\n",
      "\n",
      "lp: 1e-07\n",
      "\n"
     ]
    },
    {
     "name": "stderr",
     "output_type": "stream",
     "text": [
      "E:\\anaconda\\lib\\site-packages\\ipykernel_launcher.py:63: DeprecationWarning: In future, it will be an error for 'np.bool_' scalars to be interpreted as an index\n"
     ]
    },
    {
     "name": "stdout",
     "output_type": "stream",
     "text": [
      "\n",
      "rmse: 2.091256645069314\n",
      "\n",
      "lp: 1e-07\n",
      "\n"
     ]
    },
    {
     "name": "stderr",
     "output_type": "stream",
     "text": [
      "E:\\anaconda\\lib\\site-packages\\ipykernel_launcher.py:63: DeprecationWarning: In future, it will be an error for 'np.bool_' scalars to be interpreted as an index\n"
     ]
    },
    {
     "name": "stdout",
     "output_type": "stream",
     "text": [
      "\n",
      "rmse: 2.055898658022598\n",
      "\n",
      "lp: 0.371839490233895\n",
      "\n"
     ]
    },
    {
     "name": "stderr",
     "output_type": "stream",
     "text": [
      "E:\\anaconda\\lib\\site-packages\\ipykernel_launcher.py:63: DeprecationWarning: In future, it will be an error for 'np.bool_' scalars to be interpreted as an index\n"
     ]
    },
    {
     "name": "stdout",
     "output_type": "stream",
     "text": [
      "\n",
      "rmse: 2.081507836045739\n",
      "\n",
      "lp: 0.5434545360108132\n",
      "\n"
     ]
    },
    {
     "name": "stderr",
     "output_type": "stream",
     "text": [
      "E:\\anaconda\\lib\\site-packages\\ipykernel_launcher.py:63: DeprecationWarning: In future, it will be an error for 'np.bool_' scalars to be interpreted as an index\n"
     ]
    },
    {
     "name": "stdout",
     "output_type": "stream",
     "text": [
      "\n",
      "rmse: 1.8056660706686332\n",
      "\n",
      "lp: 0.5651284181106057\n",
      "\n"
     ]
    },
    {
     "name": "stderr",
     "output_type": "stream",
     "text": [
      "E:\\anaconda\\lib\\site-packages\\ipykernel_launcher.py:63: DeprecationWarning: In future, it will be an error for 'np.bool_' scalars to be interpreted as an index\n"
     ]
    },
    {
     "name": "stdout",
     "output_type": "stream",
     "text": [
      "\n",
      "rmse: 2.1267022344419457\n",
      "\n",
      "lp: 0.6397679154296603\n",
      "\n"
     ]
    },
    {
     "name": "stderr",
     "output_type": "stream",
     "text": [
      "E:\\anaconda\\lib\\site-packages\\ipykernel_launcher.py:63: DeprecationWarning: In future, it will be an error for 'np.bool_' scalars to be interpreted as an index\n"
     ]
    },
    {
     "name": "stdout",
     "output_type": "stream",
     "text": [
      "\n",
      "rmse: 2.376997797090688\n",
      "\n",
      "lp: 0.9307547511611868\n",
      "\n"
     ]
    },
    {
     "name": "stderr",
     "output_type": "stream",
     "text": [
      "E:\\anaconda\\lib\\site-packages\\ipykernel_launcher.py:63: DeprecationWarning: In future, it will be an error for 'np.bool_' scalars to be interpreted as an index\n"
     ]
    },
    {
     "name": "stdout",
     "output_type": "stream",
     "text": [
      "\n",
      "rmse: 2.0174099869481767\n",
      "\n",
      "lp: 0.8113016539296144\n",
      "\n"
     ]
    },
    {
     "name": "stderr",
     "output_type": "stream",
     "text": [
      "E:\\anaconda\\lib\\site-packages\\ipykernel_launcher.py:63: DeprecationWarning: In future, it will be an error for 'np.bool_' scalars to be interpreted as an index\n"
     ]
    },
    {
     "name": "stdout",
     "output_type": "stream",
     "text": [
      "\n",
      "rmse: 1.9751185827959756\n",
      "\n",
      "lp: 1.0\n",
      "\n"
     ]
    },
    {
     "name": "stderr",
     "output_type": "stream",
     "text": [
      "E:\\anaconda\\lib\\site-packages\\ipykernel_launcher.py:63: DeprecationWarning: In future, it will be an error for 'np.bool_' scalars to be interpreted as an index\n"
     ]
    },
    {
     "name": "stdout",
     "output_type": "stream",
     "text": [
      "\n",
      "rmse: 2.580701458467608\n",
      "\n",
      "lp: 0.2991883406718788\n",
      "\n"
     ]
    },
    {
     "name": "stderr",
     "output_type": "stream",
     "text": [
      "E:\\anaconda\\lib\\site-packages\\ipykernel_launcher.py:63: DeprecationWarning: In future, it will be an error for 'np.bool_' scalars to be interpreted as an index\n"
     ]
    },
    {
     "name": "stdout",
     "output_type": "stream",
     "text": [
      "\n",
      "rmse: 1.7324429132801284\n",
      "\n",
      "lp: 1.0\n",
      "\n"
     ]
    },
    {
     "name": "stderr",
     "output_type": "stream",
     "text": [
      "E:\\anaconda\\lib\\site-packages\\ipykernel_launcher.py:63: DeprecationWarning: In future, it will be an error for 'np.bool_' scalars to be interpreted as an index\n"
     ]
    },
    {
     "name": "stdout",
     "output_type": "stream",
     "text": [
      "\n",
      "rmse: 2.576176082071056\n",
      "\n",
      "lp: 0.7306069097160517\n",
      "\n"
     ]
    },
    {
     "name": "stderr",
     "output_type": "stream",
     "text": [
      "E:\\anaconda\\lib\\site-packages\\ipykernel_launcher.py:63: DeprecationWarning: In future, it will be an error for 'np.bool_' scalars to be interpreted as an index\n"
     ]
    },
    {
     "name": "stdout",
     "output_type": "stream",
     "text": [
      "\n",
      "rmse: 3.8383873776560717\n",
      "\n",
      "lp: 0.38457470637019975\n",
      "\n"
     ]
    },
    {
     "name": "stderr",
     "output_type": "stream",
     "text": [
      "E:\\anaconda\\lib\\site-packages\\ipykernel_launcher.py:63: DeprecationWarning: In future, it will be an error for 'np.bool_' scalars to be interpreted as an index\n"
     ]
    },
    {
     "name": "stdout",
     "output_type": "stream",
     "text": [
      "\n",
      "rmse: 2.223073793926185\n",
      "\n",
      "lp: 0.11938093037391158\n",
      "\n"
     ]
    },
    {
     "name": "stderr",
     "output_type": "stream",
     "text": [
      "E:\\anaconda\\lib\\site-packages\\ipykernel_launcher.py:63: DeprecationWarning: In future, it will be an error for 'np.bool_' scalars to be interpreted as an index\n"
     ]
    },
    {
     "name": "stdout",
     "output_type": "stream",
     "text": [
      "\n",
      "rmse: 2.136030936979629\n",
      "\n",
      "lp: 1.0\n",
      "\n"
     ]
    },
    {
     "name": "stderr",
     "output_type": "stream",
     "text": [
      "E:\\anaconda\\lib\\site-packages\\ipykernel_launcher.py:63: DeprecationWarning: In future, it will be an error for 'np.bool_' scalars to be interpreted as an index\n"
     ]
    },
    {
     "name": "stdout",
     "output_type": "stream",
     "text": [
      "\n",
      "rmse: 1.8302647608366143\n",
      "\n",
      "lp: 1.0\n",
      "\n"
     ]
    },
    {
     "name": "stderr",
     "output_type": "stream",
     "text": [
      "E:\\anaconda\\lib\\site-packages\\ipykernel_launcher.py:63: DeprecationWarning: In future, it will be an error for 'np.bool_' scalars to be interpreted as an index\n"
     ]
    },
    {
     "name": "stdout",
     "output_type": "stream",
     "text": [
      "\n",
      "rmse: 2.016164284238731\n",
      "\n",
      "lp: 1e-07\n",
      "\n"
     ]
    },
    {
     "name": "stderr",
     "output_type": "stream",
     "text": [
      "E:\\anaconda\\lib\\site-packages\\ipykernel_launcher.py:63: DeprecationWarning: In future, it will be an error for 'np.bool_' scalars to be interpreted as an index\n"
     ]
    },
    {
     "name": "stdout",
     "output_type": "stream",
     "text": [
      "\n",
      "rmse: 2.3199189936496554\n",
      "\n",
      "lp: 1.0\n",
      "\n"
     ]
    },
    {
     "name": "stderr",
     "output_type": "stream",
     "text": [
      "E:\\anaconda\\lib\\site-packages\\ipykernel_launcher.py:63: DeprecationWarning: In future, it will be an error for 'np.bool_' scalars to be interpreted as an index\n"
     ]
    },
    {
     "name": "stdout",
     "output_type": "stream",
     "text": [
      "\n",
      "rmse: 2.042950595682909\n",
      "\n",
      "lp: 1.0\n",
      "\n"
     ]
    },
    {
     "name": "stderr",
     "output_type": "stream",
     "text": [
      "E:\\anaconda\\lib\\site-packages\\ipykernel_launcher.py:63: DeprecationWarning: In future, it will be an error for 'np.bool_' scalars to be interpreted as an index\n"
     ]
    },
    {
     "name": "stdout",
     "output_type": "stream",
     "text": [
      "\n",
      "rmse: 2.8102507424541843\n",
      "\n",
      "lp: 1.0\n",
      "\n"
     ]
    },
    {
     "name": "stderr",
     "output_type": "stream",
     "text": [
      "E:\\anaconda\\lib\\site-packages\\ipykernel_launcher.py:63: DeprecationWarning: In future, it will be an error for 'np.bool_' scalars to be interpreted as an index\n"
     ]
    },
    {
     "name": "stdout",
     "output_type": "stream",
     "text": [
      "\n",
      "rmse: 2.1113758767579562\n",
      "\n",
      "lp: 1.0\n",
      "\n"
     ]
    },
    {
     "name": "stderr",
     "output_type": "stream",
     "text": [
      "E:\\anaconda\\lib\\site-packages\\ipykernel_launcher.py:63: DeprecationWarning: In future, it will be an error for 'np.bool_' scalars to be interpreted as an index\n"
     ]
    },
    {
     "name": "stdout",
     "output_type": "stream",
     "text": [
      "\n",
      "rmse: 1.8589326436856242\n",
      "\n",
      "lp: 0.6324848855909387\n",
      "\n"
     ]
    },
    {
     "name": "stderr",
     "output_type": "stream",
     "text": [
      "E:\\anaconda\\lib\\site-packages\\ipykernel_launcher.py:63: DeprecationWarning: In future, it will be an error for 'np.bool_' scalars to be interpreted as an index\n"
     ]
    },
    {
     "name": "stdout",
     "output_type": "stream",
     "text": [
      "\n",
      "rmse: 1.8967734459620627\n",
      "\n",
      "lp: 0.3446078299993738\n",
      "\n"
     ]
    },
    {
     "name": "stderr",
     "output_type": "stream",
     "text": [
      "E:\\anaconda\\lib\\site-packages\\ipykernel_launcher.py:63: DeprecationWarning: In future, it will be an error for 'np.bool_' scalars to be interpreted as an index\n"
     ]
    },
    {
     "name": "stdout",
     "output_type": "stream",
     "text": [
      "\n",
      "rmse: 2.4183266679896605\n",
      "\n",
      "lp: 0.7788692370105567\n",
      "\n"
     ]
    },
    {
     "name": "stderr",
     "output_type": "stream",
     "text": [
      "E:\\anaconda\\lib\\site-packages\\ipykernel_launcher.py:63: DeprecationWarning: In future, it will be an error for 'np.bool_' scalars to be interpreted as an index\n"
     ]
    },
    {
     "name": "stdout",
     "output_type": "stream",
     "text": [
      "\n",
      "rmse: 2.804781588093987\n",
      "\n",
      "lp: 0.6861221381397499\n",
      "\n"
     ]
    },
    {
     "name": "stderr",
     "output_type": "stream",
     "text": [
      "E:\\anaconda\\lib\\site-packages\\ipykernel_launcher.py:63: DeprecationWarning: In future, it will be an error for 'np.bool_' scalars to be interpreted as an index\n"
     ]
    },
    {
     "name": "stdout",
     "output_type": "stream",
     "text": [
      "\n",
      "rmse: 2.8007000504362494\n",
      "\n",
      "lp: 0.32357983026315\n",
      "\n"
     ]
    },
    {
     "name": "stderr",
     "output_type": "stream",
     "text": [
      "E:\\anaconda\\lib\\site-packages\\ipykernel_launcher.py:63: DeprecationWarning: In future, it will be an error for 'np.bool_' scalars to be interpreted as an index\n"
     ]
    },
    {
     "name": "stdout",
     "output_type": "stream",
     "text": [
      "\n",
      "rmse: 2.149482949924184\n",
      "\n",
      "lp: 0.4796693982233263\n",
      "\n"
     ]
    },
    {
     "name": "stderr",
     "output_type": "stream",
     "text": [
      "E:\\anaconda\\lib\\site-packages\\ipykernel_launcher.py:63: DeprecationWarning: In future, it will be an error for 'np.bool_' scalars to be interpreted as an index\n"
     ]
    },
    {
     "name": "stdout",
     "output_type": "stream",
     "text": [
      "\n",
      "rmse: 1.9684864913018727\n",
      "\n",
      "lp: 0.773887120530768\n",
      "\n"
     ]
    },
    {
     "name": "stderr",
     "output_type": "stream",
     "text": [
      "E:\\anaconda\\lib\\site-packages\\ipykernel_launcher.py:63: DeprecationWarning: In future, it will be an error for 'np.bool_' scalars to be interpreted as an index\n"
     ]
    },
    {
     "name": "stdout",
     "output_type": "stream",
     "text": [
      "\n",
      "rmse: 2.809933458246358\n",
      "\n",
      "lp: 0.12203708554152849\n",
      "\n"
     ]
    },
    {
     "name": "stderr",
     "output_type": "stream",
     "text": [
      "E:\\anaconda\\lib\\site-packages\\ipykernel_launcher.py:63: DeprecationWarning: In future, it will be an error for 'np.bool_' scalars to be interpreted as an index\n"
     ]
    },
    {
     "name": "stdout",
     "output_type": "stream",
     "text": [
      "\n",
      "rmse: 2.64202650006667\n",
      "\n",
      "lp: 0.3783225590244854\n",
      "\n"
     ]
    },
    {
     "name": "stderr",
     "output_type": "stream",
     "text": [
      "E:\\anaconda\\lib\\site-packages\\ipykernel_launcher.py:63: DeprecationWarning: In future, it will be an error for 'np.bool_' scalars to be interpreted as an index\n"
     ]
    },
    {
     "name": "stdout",
     "output_type": "stream",
     "text": [
      "\n",
      "rmse: 2.060223174950808\n",
      "\n",
      "lp: 0.2732891597411936\n",
      "\n"
     ]
    },
    {
     "name": "stderr",
     "output_type": "stream",
     "text": [
      "E:\\anaconda\\lib\\site-packages\\ipykernel_launcher.py:63: DeprecationWarning: In future, it will be an error for 'np.bool_' scalars to be interpreted as an index\n"
     ]
    },
    {
     "name": "stdout",
     "output_type": "stream",
     "text": [
      "\n",
      "rmse: 2.674514550585237\n",
      "\n",
      "lp: 0.8288184093127338\n",
      "\n"
     ]
    },
    {
     "name": "stderr",
     "output_type": "stream",
     "text": [
      "E:\\anaconda\\lib\\site-packages\\ipykernel_launcher.py:63: DeprecationWarning: In future, it will be an error for 'np.bool_' scalars to be interpreted as an index\n"
     ]
    },
    {
     "name": "stdout",
     "output_type": "stream",
     "text": [
      "\n",
      "rmse: 16.526150326545974\n",
      "\n",
      "lp: 1e-07\n",
      "\n"
     ]
    },
    {
     "name": "stderr",
     "output_type": "stream",
     "text": [
      "E:\\anaconda\\lib\\site-packages\\ipykernel_launcher.py:63: DeprecationWarning: In future, it will be an error for 'np.bool_' scalars to be interpreted as an index\n"
     ]
    },
    {
     "name": "stdout",
     "output_type": "stream",
     "text": [
      "\n",
      "rmse: 1.99600052184566\n",
      "\n",
      "lp: 0.8440712011748248\n",
      "\n"
     ]
    },
    {
     "name": "stderr",
     "output_type": "stream",
     "text": [
      "E:\\anaconda\\lib\\site-packages\\ipykernel_launcher.py:63: DeprecationWarning: In future, it will be an error for 'np.bool_' scalars to be interpreted as an index\n"
     ]
    },
    {
     "name": "stdout",
     "output_type": "stream",
     "text": [
      "\n",
      "rmse: 2.243651325156956\n",
      "\n",
      "lp: 0.43610747568885394\n",
      "\n"
     ]
    },
    {
     "name": "stderr",
     "output_type": "stream",
     "text": [
      "E:\\anaconda\\lib\\site-packages\\ipykernel_launcher.py:63: DeprecationWarning: In future, it will be an error for 'np.bool_' scalars to be interpreted as an index\n"
     ]
    },
    {
     "name": "stdout",
     "output_type": "stream",
     "text": [
      "\n",
      "rmse: 2.086440539983334\n",
      "\n",
      "lp: 1e-07\n",
      "\n"
     ]
    },
    {
     "name": "stderr",
     "output_type": "stream",
     "text": [
      "E:\\anaconda\\lib\\site-packages\\ipykernel_launcher.py:63: DeprecationWarning: In future, it will be an error for 'np.bool_' scalars to be interpreted as an index\n"
     ]
    },
    {
     "name": "stdout",
     "output_type": "stream",
     "text": [
      "\n",
      "rmse: 2.8094679316145523\n",
      "\n",
      "lp: 1e-07\n",
      "\n"
     ]
    },
    {
     "name": "stderr",
     "output_type": "stream",
     "text": [
      "E:\\anaconda\\lib\\site-packages\\ipykernel_launcher.py:63: DeprecationWarning: In future, it will be an error for 'np.bool_' scalars to be interpreted as an index\n"
     ]
    },
    {
     "name": "stdout",
     "output_type": "stream",
     "text": [
      "\n",
      "rmse: 2.108063894390389\n",
      "\n",
      "lp: 1e-07\n",
      "\n"
     ]
    },
    {
     "name": "stderr",
     "output_type": "stream",
     "text": [
      "E:\\anaconda\\lib\\site-packages\\ipykernel_launcher.py:63: DeprecationWarning: In future, it will be an error for 'np.bool_' scalars to be interpreted as an index\n"
     ]
    },
    {
     "name": "stdout",
     "output_type": "stream",
     "text": [
      "\n",
      "rmse: 2.0673630243364585\n",
      "\n",
      "lp: 1e-07\n",
      "\n"
     ]
    },
    {
     "name": "stderr",
     "output_type": "stream",
     "text": [
      "E:\\anaconda\\lib\\site-packages\\ipykernel_launcher.py:63: DeprecationWarning: In future, it will be an error for 'np.bool_' scalars to be interpreted as an index\n"
     ]
    },
    {
     "name": "stdout",
     "output_type": "stream",
     "text": [
      "\n",
      "rmse: 2.0450023271638846\n",
      "\n",
      "lp: 1e-07\n",
      "\n"
     ]
    },
    {
     "name": "stderr",
     "output_type": "stream",
     "text": [
      "E:\\anaconda\\lib\\site-packages\\ipykernel_launcher.py:63: DeprecationWarning: In future, it will be an error for 'np.bool_' scalars to be interpreted as an index\n"
     ]
    },
    {
     "name": "stdout",
     "output_type": "stream",
     "text": [
      "\n",
      "rmse: 1.9918242675462485\n",
      "\n",
      "lp: 1e-07\n",
      "\n"
     ]
    },
    {
     "name": "stderr",
     "output_type": "stream",
     "text": [
      "E:\\anaconda\\lib\\site-packages\\ipykernel_launcher.py:63: DeprecationWarning: In future, it will be an error for 'np.bool_' scalars to be interpreted as an index\n"
     ]
    },
    {
     "name": "stdout",
     "output_type": "stream",
     "text": [
      "\n",
      "rmse: 2.7867666197484793\n",
      "\n",
      "lp: 0.33765362626835926\n",
      "\n"
     ]
    },
    {
     "name": "stderr",
     "output_type": "stream",
     "text": [
      "E:\\anaconda\\lib\\site-packages\\ipykernel_launcher.py:63: DeprecationWarning: In future, it will be an error for 'np.bool_' scalars to be interpreted as an index\n"
     ]
    },
    {
     "name": "stdout",
     "output_type": "stream",
     "text": [
      "\n",
      "rmse: 2.515379351016034\n",
      "\n"
     ]
    },
    {
     "name": "stderr",
     "output_type": "stream",
     "text": [
      "E:\\anaconda\\lib\\site-packages\\ipykernel_launcher.py:63: DeprecationWarning: In future, it will be an error for 'np.bool_' scalars to be interpreted as an index\n"
     ]
    },
    {
     "name": "stdout",
     "output_type": "stream",
     "text": [
      "lp: 0.001\n",
      "\n",
      "\n",
      "rmse: 2.036201998421763\n",
      "\n",
      "lp: 0.6581634554960526\n",
      "\n",
      "\n",
      "rmse: 2.8033893428608523\n",
      "\n",
      "lp: 0.06989263230912833\n",
      "\n",
      "\n",
      "rmse: 2.425579942667896\n",
      "\n",
      "lp: 0.4107900181390517\n",
      "\n",
      "\n",
      "rmse: 2.73616997266656\n",
      "\n",
      "lp: 0.5453107390662622\n",
      "\n",
      "\n",
      "rmse: 2.35817060374223\n",
      "\n",
      "lp: 0.7536051840955457\n",
      "\n",
      "\n",
      "rmse: 2.6388736629068004\n",
      "\n",
      "lp: 0.1796039745886181\n",
      "\n",
      "\n",
      "rmse: 2.779156967111214\n",
      "\n",
      "lp: 0.9231563849399378\n",
      "\n",
      "\n",
      "rmse: 2.7694969819890836\n",
      "\n",
      "lp: 0.48353080657079295\n",
      "\n",
      "\n",
      "rmse: 2.7783132042336396\n",
      "\n",
      "lp: 0.3425341829112752\n",
      "\n",
      "\n",
      "rmse: 2.8063026622341227\n",
      "\n",
      "lp: 0.1936827781145465\n",
      "\n",
      "\n",
      "rmse: 2.808710591892269\n",
      "\n",
      "lp: 1.0\n",
      "\n"
     ]
    },
    {
     "name": "stderr",
     "output_type": "stream",
     "text": [
      "E:\\anaconda\\lib\\site-packages\\ipykernel_launcher.py:63: DeprecationWarning: In future, it will be an error for 'np.bool_' scalars to be interpreted as an index\n"
     ]
    },
    {
     "name": "stdout",
     "output_type": "stream",
     "text": [
      "\n",
      "rmse: 2.3986821798487394\n",
      "\n",
      "lp: 1.0\n",
      "\n"
     ]
    },
    {
     "name": "stderr",
     "output_type": "stream",
     "text": [
      "E:\\anaconda\\lib\\site-packages\\ipykernel_launcher.py:63: DeprecationWarning: In future, it will be an error for 'np.bool_' scalars to be interpreted as an index\n"
     ]
    },
    {
     "name": "stdout",
     "output_type": "stream",
     "text": [
      "\n",
      "rmse: 2.1039837237555714\n",
      "\n",
      "lp: 1e-07\n",
      "\n"
     ]
    },
    {
     "name": "stderr",
     "output_type": "stream",
     "text": [
      "E:\\anaconda\\lib\\site-packages\\ipykernel_launcher.py:63: DeprecationWarning: In future, it will be an error for 'np.bool_' scalars to be interpreted as an index\n"
     ]
    },
    {
     "name": "stdout",
     "output_type": "stream",
     "text": [
      "\n",
      "rmse: 2.0396611537454854\n",
      "\n",
      "lp: 0.21290746475766403\n",
      "\n"
     ]
    },
    {
     "name": "stderr",
     "output_type": "stream",
     "text": [
      "E:\\anaconda\\lib\\site-packages\\ipykernel_launcher.py:63: DeprecationWarning: In future, it will be an error for 'np.bool_' scalars to be interpreted as an index\n"
     ]
    },
    {
     "name": "stdout",
     "output_type": "stream",
     "text": [
      "\n",
      "rmse: 2.3123482998876526\n",
      "\n",
      "lp: 0.546754079465257\n",
      "\n"
     ]
    },
    {
     "name": "stderr",
     "output_type": "stream",
     "text": [
      "E:\\anaconda\\lib\\site-packages\\ipykernel_launcher.py:63: DeprecationWarning: In future, it will be an error for 'np.bool_' scalars to be interpreted as an index\n"
     ]
    },
    {
     "name": "stdout",
     "output_type": "stream",
     "text": [
      "\n",
      "rmse: 3.8894478099880674\n",
      "\n",
      "lp: 0.7752523513113104\n",
      "\n"
     ]
    },
    {
     "name": "stderr",
     "output_type": "stream",
     "text": [
      "E:\\anaconda\\lib\\site-packages\\ipykernel_launcher.py:63: DeprecationWarning: In future, it will be an error for 'np.bool_' scalars to be interpreted as an index\n"
     ]
    },
    {
     "name": "stdout",
     "output_type": "stream",
     "text": [
      "\n",
      "rmse: 2.6935928854452174\n",
      "\n",
      "lp: 0.299480931876759\n",
      "\n"
     ]
    },
    {
     "name": "stderr",
     "output_type": "stream",
     "text": [
      "E:\\anaconda\\lib\\site-packages\\ipykernel_launcher.py:63: DeprecationWarning: In future, it will be an error for 'np.bool_' scalars to be interpreted as an index\n"
     ]
    },
    {
     "name": "stdout",
     "output_type": "stream",
     "text": [
      "\n",
      "rmse: 2.7272981201824518\n",
      "\n",
      "lp: 0.24642464523746274\n",
      "\n"
     ]
    },
    {
     "name": "stderr",
     "output_type": "stream",
     "text": [
      "E:\\anaconda\\lib\\site-packages\\ipykernel_launcher.py:63: DeprecationWarning: In future, it will be an error for 'np.bool_' scalars to be interpreted as an index\n"
     ]
    },
    {
     "name": "stdout",
     "output_type": "stream",
     "text": [
      "\n",
      "rmse: 2.2848731266849236\n",
      "\n",
      "lp: 1e-07\n",
      "\n"
     ]
    },
    {
     "name": "stderr",
     "output_type": "stream",
     "text": [
      "E:\\anaconda\\lib\\site-packages\\ipykernel_launcher.py:63: DeprecationWarning: In future, it will be an error for 'np.bool_' scalars to be interpreted as an index\n"
     ]
    },
    {
     "name": "stdout",
     "output_type": "stream",
     "text": [
      "\n",
      "rmse: 3.469025518048904\n",
      "\n",
      "lp: 1.0\n",
      "\n"
     ]
    },
    {
     "name": "stderr",
     "output_type": "stream",
     "text": [
      "E:\\anaconda\\lib\\site-packages\\ipykernel_launcher.py:63: DeprecationWarning: In future, it will be an error for 'np.bool_' scalars to be interpreted as an index\n"
     ]
    },
    {
     "name": "stdout",
     "output_type": "stream",
     "text": [
      "\n",
      "rmse: 2.8020060010276935\n",
      "\n",
      "lp: 0.26897152347438885\n",
      "\n"
     ]
    },
    {
     "name": "stderr",
     "output_type": "stream",
     "text": [
      "E:\\anaconda\\lib\\site-packages\\ipykernel_launcher.py:63: DeprecationWarning: In future, it will be an error for 'np.bool_' scalars to be interpreted as an index\n"
     ]
    },
    {
     "name": "stdout",
     "output_type": "stream",
     "text": [
      "\n",
      "rmse: 2.27031999107301\n",
      "\n",
      "lp: 1.0\n",
      "\n"
     ]
    },
    {
     "name": "stderr",
     "output_type": "stream",
     "text": [
      "E:\\anaconda\\lib\\site-packages\\ipykernel_launcher.py:63: DeprecationWarning: In future, it will be an error for 'np.bool_' scalars to be interpreted as an index\n"
     ]
    },
    {
     "name": "stdout",
     "output_type": "stream",
     "text": [
      "\n",
      "rmse: 2.4275736900492357\n",
      "\n",
      "lp: 0.6817230189805042\n",
      "\n"
     ]
    },
    {
     "name": "stderr",
     "output_type": "stream",
     "text": [
      "E:\\anaconda\\lib\\site-packages\\ipykernel_launcher.py:63: DeprecationWarning: In future, it will be an error for 'np.bool_' scalars to be interpreted as an index\n"
     ]
    },
    {
     "name": "stdout",
     "output_type": "stream",
     "text": [
      "\n",
      "rmse: 2.7878200665789823\n",
      "\n",
      "lp: 0.5378419811456786\n",
      "\n"
     ]
    },
    {
     "name": "stderr",
     "output_type": "stream",
     "text": [
      "E:\\anaconda\\lib\\site-packages\\ipykernel_launcher.py:63: DeprecationWarning: In future, it will be an error for 'np.bool_' scalars to be interpreted as an index\n"
     ]
    },
    {
     "name": "stdout",
     "output_type": "stream",
     "text": [
      "\n",
      "rmse: 2.262147633229986\n",
      "\n",
      "lp: 0.6229364057865231\n",
      "\n"
     ]
    },
    {
     "name": "stderr",
     "output_type": "stream",
     "text": [
      "E:\\anaconda\\lib\\site-packages\\ipykernel_launcher.py:63: DeprecationWarning: In future, it will be an error for 'np.bool_' scalars to be interpreted as an index\n"
     ]
    },
    {
     "name": "stdout",
     "output_type": "stream",
     "text": [
      "\n",
      "rmse: 2.738762953079001\n",
      "\n",
      "lp: 0.49268681726414043\n",
      "\n"
     ]
    },
    {
     "name": "stderr",
     "output_type": "stream",
     "text": [
      "E:\\anaconda\\lib\\site-packages\\ipykernel_launcher.py:63: DeprecationWarning: In future, it will be an error for 'np.bool_' scalars to be interpreted as an index\n"
     ]
    },
    {
     "name": "stdout",
     "output_type": "stream",
     "text": [
      "\n",
      "rmse: 2.238724545595413\n",
      "\n",
      "lp: 1.0\n",
      "\n"
     ]
    },
    {
     "name": "stderr",
     "output_type": "stream",
     "text": [
      "E:\\anaconda\\lib\\site-packages\\ipykernel_launcher.py:63: DeprecationWarning: In future, it will be an error for 'np.bool_' scalars to be interpreted as an index\n"
     ]
    },
    {
     "name": "stdout",
     "output_type": "stream",
     "text": [
      "\n",
      "rmse: 2.5803183245408463\n",
      "\n",
      "lp: 1.0\n",
      "\n"
     ]
    },
    {
     "name": "stderr",
     "output_type": "stream",
     "text": [
      "E:\\anaconda\\lib\\site-packages\\ipykernel_launcher.py:63: DeprecationWarning: In future, it will be an error for 'np.bool_' scalars to be interpreted as an index\n"
     ]
    },
    {
     "name": "stdout",
     "output_type": "stream",
     "text": [
      "\n",
      "rmse: 2.297625918504367\n",
      "\n",
      "lp: 1.0\n",
      "\n"
     ]
    },
    {
     "name": "stderr",
     "output_type": "stream",
     "text": [
      "E:\\anaconda\\lib\\site-packages\\ipykernel_launcher.py:63: DeprecationWarning: In future, it will be an error for 'np.bool_' scalars to be interpreted as an index\n"
     ]
    },
    {
     "name": "stdout",
     "output_type": "stream",
     "text": [
      "\n",
      "rmse: 3.213051349477717\n",
      "\n",
      "lp: 0.4333989711224865\n",
      "\n"
     ]
    },
    {
     "name": "stderr",
     "output_type": "stream",
     "text": [
      "E:\\anaconda\\lib\\site-packages\\ipykernel_launcher.py:63: DeprecationWarning: In future, it will be an error for 'np.bool_' scalars to be interpreted as an index\n"
     ]
    },
    {
     "name": "stdout",
     "output_type": "stream",
     "text": [
      "\n",
      "rmse: 2.6336899533287927\n",
      "\n",
      "lp: 0.4673940890343923\n",
      "\n"
     ]
    },
    {
     "name": "stderr",
     "output_type": "stream",
     "text": [
      "E:\\anaconda\\lib\\site-packages\\ipykernel_launcher.py:63: DeprecationWarning: In future, it will be an error for 'np.bool_' scalars to be interpreted as an index\n"
     ]
    },
    {
     "name": "stdout",
     "output_type": "stream",
     "text": [
      "\n",
      "rmse: 2.5085467870860185\n",
      "\n",
      "lp: 1e-07\n",
      "\n"
     ]
    },
    {
     "name": "stderr",
     "output_type": "stream",
     "text": [
      "E:\\anaconda\\lib\\site-packages\\ipykernel_launcher.py:63: DeprecationWarning: In future, it will be an error for 'np.bool_' scalars to be interpreted as an index\n"
     ]
    },
    {
     "name": "stdout",
     "output_type": "stream",
     "text": [
      "\n",
      "rmse: 2.532398641699851\n",
      "\n",
      "lp: 1.0\n",
      "\n"
     ]
    },
    {
     "name": "stderr",
     "output_type": "stream",
     "text": [
      "E:\\anaconda\\lib\\site-packages\\ipykernel_launcher.py:63: DeprecationWarning: In future, it will be an error for 'np.bool_' scalars to be interpreted as an index\n"
     ]
    },
    {
     "name": "stdout",
     "output_type": "stream",
     "text": [
      "\n",
      "rmse: 2.5136717479653408\n",
      "\n",
      "lp: 0.34802374219952126\n",
      "\n"
     ]
    },
    {
     "name": "stderr",
     "output_type": "stream",
     "text": [
      "E:\\anaconda\\lib\\site-packages\\ipykernel_launcher.py:63: DeprecationWarning: In future, it will be an error for 'np.bool_' scalars to be interpreted as an index\n"
     ]
    },
    {
     "name": "stdout",
     "output_type": "stream",
     "text": [
      "\n",
      "rmse: 2.7885097099504175\n",
      "\n",
      "lp: 1.0\n",
      "\n"
     ]
    },
    {
     "name": "stderr",
     "output_type": "stream",
     "text": [
      "E:\\anaconda\\lib\\site-packages\\ipykernel_launcher.py:63: DeprecationWarning: In future, it will be an error for 'np.bool_' scalars to be interpreted as an index\n"
     ]
    },
    {
     "name": "stdout",
     "output_type": "stream",
     "text": [
      "\n",
      "rmse: 2.535414195326484\n",
      "\n",
      "lp: 0.37903754210254414\n",
      "\n"
     ]
    },
    {
     "name": "stderr",
     "output_type": "stream",
     "text": [
      "E:\\anaconda\\lib\\site-packages\\ipykernel_launcher.py:63: DeprecationWarning: In future, it will be an error for 'np.bool_' scalars to be interpreted as an index\n"
     ]
    },
    {
     "name": "stdout",
     "output_type": "stream",
     "text": [
      "\n",
      "rmse: 2.815668670543838\n",
      "\n",
      "lp: 0.897968802247132\n",
      "\n"
     ]
    },
    {
     "name": "stderr",
     "output_type": "stream",
     "text": [
      "E:\\anaconda\\lib\\site-packages\\ipykernel_launcher.py:63: DeprecationWarning: In future, it will be an error for 'np.bool_' scalars to be interpreted as an index\n"
     ]
    },
    {
     "name": "stdout",
     "output_type": "stream",
     "text": [
      "\n",
      "rmse: 2.546688414785807\n",
      "\n",
      "lp: 0.47466841656868175\n",
      "\n"
     ]
    },
    {
     "name": "stderr",
     "output_type": "stream",
     "text": [
      "E:\\anaconda\\lib\\site-packages\\ipykernel_launcher.py:63: DeprecationWarning: In future, it will be an error for 'np.bool_' scalars to be interpreted as an index\n"
     ]
    },
    {
     "name": "stdout",
     "output_type": "stream",
     "text": [
      "\n",
      "rmse: 2.7985600197421543\n",
      "\n",
      "lp: 1e-07\n",
      "\n"
     ]
    },
    {
     "name": "stderr",
     "output_type": "stream",
     "text": [
      "E:\\anaconda\\lib\\site-packages\\ipykernel_launcher.py:63: DeprecationWarning: In future, it will be an error for 'np.bool_' scalars to be interpreted as an index\n"
     ]
    },
    {
     "name": "stdout",
     "output_type": "stream",
     "text": [
      "\n",
      "rmse: 2.1410750927189603\n",
      "\n",
      "lp: 0.12500426494409203\n",
      "\n"
     ]
    },
    {
     "name": "stderr",
     "output_type": "stream",
     "text": [
      "E:\\anaconda\\lib\\site-packages\\ipykernel_launcher.py:63: DeprecationWarning: In future, it will be an error for 'np.bool_' scalars to be interpreted as an index\n"
     ]
    },
    {
     "name": "stdout",
     "output_type": "stream",
     "text": [
      "\n",
      "rmse: 2.1709081541393016\n",
      "\n",
      "lp: 1e-07\n",
      "\n"
     ]
    },
    {
     "name": "stderr",
     "output_type": "stream",
     "text": [
      "E:\\anaconda\\lib\\site-packages\\ipykernel_launcher.py:63: DeprecationWarning: In future, it will be an error for 'np.bool_' scalars to be interpreted as an index\n"
     ]
    },
    {
     "name": "stdout",
     "output_type": "stream",
     "text": [
      "\n",
      "rmse: 2.239594964822629\n",
      "\n",
      "lp: 1e-07\n",
      "\n"
     ]
    },
    {
     "name": "stderr",
     "output_type": "stream",
     "text": [
      "E:\\anaconda\\lib\\site-packages\\ipykernel_launcher.py:63: DeprecationWarning: In future, it will be an error for 'np.bool_' scalars to be interpreted as an index\n"
     ]
    },
    {
     "name": "stdout",
     "output_type": "stream",
     "text": [
      "\n",
      "rmse: 2.8079381140060335\n",
      "\n",
      "lp: 1e-07\n",
      "\n"
     ]
    },
    {
     "name": "stderr",
     "output_type": "stream",
     "text": [
      "E:\\anaconda\\lib\\site-packages\\ipykernel_launcher.py:63: DeprecationWarning: In future, it will be an error for 'np.bool_' scalars to be interpreted as an index\n"
     ]
    },
    {
     "name": "stdout",
     "output_type": "stream",
     "text": [
      "\n",
      "rmse: 2.574156884400184\n",
      "\n",
      "lp: 1e-07\n",
      "\n"
     ]
    },
    {
     "name": "stderr",
     "output_type": "stream",
     "text": [
      "E:\\anaconda\\lib\\site-packages\\ipykernel_launcher.py:63: DeprecationWarning: In future, it will be an error for 'np.bool_' scalars to be interpreted as an index\n"
     ]
    },
    {
     "name": "stdout",
     "output_type": "stream",
     "text": [
      "\n",
      "rmse: 8.130014680900103\n",
      "\n",
      "lp: 0.021758405664084275\n",
      "\n"
     ]
    },
    {
     "name": "stderr",
     "output_type": "stream",
     "text": [
      "E:\\anaconda\\lib\\site-packages\\ipykernel_launcher.py:63: DeprecationWarning: In future, it will be an error for 'np.bool_' scalars to be interpreted as an index\n"
     ]
    },
    {
     "name": "stdout",
     "output_type": "stream",
     "text": [
      "\n",
      "rmse: 2.4256766159043006\n",
      "\n",
      "lp: 1e-07\n",
      "\n"
     ]
    },
    {
     "name": "stderr",
     "output_type": "stream",
     "text": [
      "E:\\anaconda\\lib\\site-packages\\ipykernel_launcher.py:63: DeprecationWarning: In future, it will be an error for 'np.bool_' scalars to be interpreted as an index\n"
     ]
    },
    {
     "name": "stdout",
     "output_type": "stream",
     "text": [
      "\n",
      "rmse: 2.138609667019171\n",
      "\n",
      "lp: 0.5341872325099534\n",
      "\n"
     ]
    },
    {
     "name": "stderr",
     "output_type": "stream",
     "text": [
      "E:\\anaconda\\lib\\site-packages\\ipykernel_launcher.py:63: DeprecationWarning: In future, it will be an error for 'np.bool_' scalars to be interpreted as an index\n"
     ]
    },
    {
     "name": "stdout",
     "output_type": "stream",
     "text": [
      "\n",
      "rmse: 2.6558738468654894\n",
      "\n",
      "lp: 1e-07\n",
      "\n"
     ]
    },
    {
     "name": "stderr",
     "output_type": "stream",
     "text": [
      "E:\\anaconda\\lib\\site-packages\\ipykernel_launcher.py:63: DeprecationWarning: In future, it will be an error for 'np.bool_' scalars to be interpreted as an index\n"
     ]
    },
    {
     "name": "stdout",
     "output_type": "stream",
     "text": [
      "\n",
      "rmse: 2.4785176672331954\n",
      "\n",
      "lp: 1e-07\n",
      "\n"
     ]
    },
    {
     "name": "stderr",
     "output_type": "stream",
     "text": [
      "E:\\anaconda\\lib\\site-packages\\ipykernel_launcher.py:63: DeprecationWarning: In future, it will be an error for 'np.bool_' scalars to be interpreted as an index\n"
     ]
    },
    {
     "name": "stdout",
     "output_type": "stream",
     "text": [
      "\n",
      "rmse: 2.2265267228017174\n",
      "\n",
      "lp: 0.929723731288735\n",
      "\n"
     ]
    },
    {
     "name": "stderr",
     "output_type": "stream",
     "text": [
      "E:\\anaconda\\lib\\site-packages\\ipykernel_launcher.py:63: DeprecationWarning: In future, it will be an error for 'np.bool_' scalars to be interpreted as an index\n"
     ]
    },
    {
     "name": "stdout",
     "output_type": "stream",
     "text": [
      "\n",
      "rmse: 2.5601480071209712\n",
      "\n",
      "lp: 0.06552779305536142\n",
      "\n"
     ]
    },
    {
     "name": "stderr",
     "output_type": "stream",
     "text": [
      "E:\\anaconda\\lib\\site-packages\\ipykernel_launcher.py:63: DeprecationWarning: In future, it will be an error for 'np.bool_' scalars to be interpreted as an index\n"
     ]
    },
    {
     "name": "stdout",
     "output_type": "stream",
     "text": [
      "\n",
      "rmse: 2.376027532217022\n",
      "\n",
      "lp: 0.3099059817480983\n",
      "\n"
     ]
    },
    {
     "name": "stderr",
     "output_type": "stream",
     "text": [
      "E:\\anaconda\\lib\\site-packages\\ipykernel_launcher.py:63: DeprecationWarning: In future, it will be an error for 'np.bool_' scalars to be interpreted as an index\n"
     ]
    },
    {
     "name": "stdout",
     "output_type": "stream",
     "text": [
      "\n",
      "rmse: 3.1309833417639776\n",
      "\n",
      "lp: 1e-07\n",
      "\n"
     ]
    },
    {
     "name": "stderr",
     "output_type": "stream",
     "text": [
      "E:\\anaconda\\lib\\site-packages\\ipykernel_launcher.py:63: DeprecationWarning: In future, it will be an error for 'np.bool_' scalars to be interpreted as an index\n"
     ]
    },
    {
     "name": "stdout",
     "output_type": "stream",
     "text": [
      "\n",
      "rmse: 2.800831976317299\n",
      "\n",
      "lp: 1e-07\n",
      "\n"
     ]
    },
    {
     "name": "stderr",
     "output_type": "stream",
     "text": [
      "E:\\anaconda\\lib\\site-packages\\ipykernel_launcher.py:63: DeprecationWarning: In future, it will be an error for 'np.bool_' scalars to be interpreted as an index\n"
     ]
    },
    {
     "name": "stdout",
     "output_type": "stream",
     "text": [
      "\n",
      "rmse: 2.6250650379164986\n",
      "\n",
      "lp: 1.0\n",
      "\n"
     ]
    },
    {
     "name": "stderr",
     "output_type": "stream",
     "text": [
      "E:\\anaconda\\lib\\site-packages\\ipykernel_launcher.py:63: DeprecationWarning: In future, it will be an error for 'np.bool_' scalars to be interpreted as an index\n"
     ]
    },
    {
     "name": "stdout",
     "output_type": "stream",
     "text": [
      "\n",
      "rmse: 2.4789231264361935\n",
      "\n",
      "lp: 0.47990862827055736\n",
      "\n"
     ]
    },
    {
     "name": "stderr",
     "output_type": "stream",
     "text": [
      "E:\\anaconda\\lib\\site-packages\\ipykernel_launcher.py:63: DeprecationWarning: In future, it will be an error for 'np.bool_' scalars to be interpreted as an index\n"
     ]
    },
    {
     "name": "stdout",
     "output_type": "stream",
     "text": [
      "\n",
      "rmse: 2.022038721002824\n",
      "\n",
      "lp: 1.0\n",
      "\n"
     ]
    },
    {
     "name": "stderr",
     "output_type": "stream",
     "text": [
      "E:\\anaconda\\lib\\site-packages\\ipykernel_launcher.py:63: DeprecationWarning: In future, it will be an error for 'np.bool_' scalars to be interpreted as an index\n"
     ]
    },
    {
     "name": "stdout",
     "output_type": "stream",
     "text": [
      "\n",
      "rmse: 2.148226128389277\n",
      "\n",
      "lp: 1.0\n",
      "\n"
     ]
    },
    {
     "name": "stderr",
     "output_type": "stream",
     "text": [
      "E:\\anaconda\\lib\\site-packages\\ipykernel_launcher.py:63: DeprecationWarning: In future, it will be an error for 'np.bool_' scalars to be interpreted as an index\n"
     ]
    },
    {
     "name": "stdout",
     "output_type": "stream",
     "text": [
      "\n",
      "rmse: 2.7219588308840814\n",
      "\n",
      "lp: 1.0\n",
      "\n"
     ]
    },
    {
     "name": "stderr",
     "output_type": "stream",
     "text": [
      "E:\\anaconda\\lib\\site-packages\\ipykernel_launcher.py:63: DeprecationWarning: In future, it will be an error for 'np.bool_' scalars to be interpreted as an index\n"
     ]
    },
    {
     "name": "stdout",
     "output_type": "stream",
     "text": [
      "\n",
      "rmse: 2.482450001421396\n",
      "\n",
      "lp: 0.44651747020298677\n",
      "\n"
     ]
    },
    {
     "name": "stderr",
     "output_type": "stream",
     "text": [
      "E:\\anaconda\\lib\\site-packages\\ipykernel_launcher.py:63: DeprecationWarning: In future, it will be an error for 'np.bool_' scalars to be interpreted as an index\n"
     ]
    },
    {
     "name": "stdout",
     "output_type": "stream",
     "text": [
      "\n",
      "rmse: 2.8272666166593114\n",
      "\n",
      "lp: 1.0\n",
      "\n"
     ]
    },
    {
     "name": "stderr",
     "output_type": "stream",
     "text": [
      "E:\\anaconda\\lib\\site-packages\\ipykernel_launcher.py:63: DeprecationWarning: In future, it will be an error for 'np.bool_' scalars to be interpreted as an index\n"
     ]
    },
    {
     "name": "stdout",
     "output_type": "stream",
     "text": [
      "\n",
      "rmse: 2.5122571800088007\n",
      "\n",
      "lp: 1e-07\n",
      "\n"
     ]
    },
    {
     "name": "stderr",
     "output_type": "stream",
     "text": [
      "E:\\anaconda\\lib\\site-packages\\ipykernel_launcher.py:63: DeprecationWarning: In future, it will be an error for 'np.bool_' scalars to be interpreted as an index\n"
     ]
    },
    {
     "name": "stdout",
     "output_type": "stream",
     "text": [
      "\n",
      "rmse: 2.9736609107146497\n",
      "\n",
      "lp: 1e-07\n",
      "\n"
     ]
    },
    {
     "name": "stderr",
     "output_type": "stream",
     "text": [
      "E:\\anaconda\\lib\\site-packages\\ipykernel_launcher.py:63: DeprecationWarning: In future, it will be an error for 'np.bool_' scalars to be interpreted as an index\n"
     ]
    },
    {
     "name": "stdout",
     "output_type": "stream",
     "text": [
      "\n",
      "rmse: 2.8248756245786777\n",
      "\n",
      "lp: 1.0\n",
      "\n"
     ]
    },
    {
     "name": "stderr",
     "output_type": "stream",
     "text": [
      "E:\\anaconda\\lib\\site-packages\\ipykernel_launcher.py:63: DeprecationWarning: In future, it will be an error for 'np.bool_' scalars to be interpreted as an index\n"
     ]
    },
    {
     "name": "stdout",
     "output_type": "stream",
     "text": [
      "\n",
      "rmse: 2.3775059163813106\n",
      "\n",
      "lp: 1e-07\n",
      "\n"
     ]
    },
    {
     "name": "stderr",
     "output_type": "stream",
     "text": [
      "E:\\anaconda\\lib\\site-packages\\ipykernel_launcher.py:63: DeprecationWarning: In future, it will be an error for 'np.bool_' scalars to be interpreted as an index\n"
     ]
    },
    {
     "name": "stdout",
     "output_type": "stream",
     "text": [
      "\n",
      "rmse: 2.3334953784081005\n",
      "\n",
      "lp: 1.0\n",
      "\n"
     ]
    },
    {
     "name": "stderr",
     "output_type": "stream",
     "text": [
      "E:\\anaconda\\lib\\site-packages\\ipykernel_launcher.py:63: DeprecationWarning: In future, it will be an error for 'np.bool_' scalars to be interpreted as an index\n"
     ]
    },
    {
     "name": "stdout",
     "output_type": "stream",
     "text": [
      "\n",
      "rmse: 3.193690557115804\n",
      "\n",
      "lp: 1.0\n",
      "\n"
     ]
    },
    {
     "name": "stderr",
     "output_type": "stream",
     "text": [
      "E:\\anaconda\\lib\\site-packages\\ipykernel_launcher.py:63: DeprecationWarning: In future, it will be an error for 'np.bool_' scalars to be interpreted as an index\n"
     ]
    },
    {
     "name": "stdout",
     "output_type": "stream",
     "text": [
      "\n",
      "rmse: 2.5155832184061264\n",
      "\n",
      "lp: 1.0\n",
      "\n"
     ]
    },
    {
     "name": "stderr",
     "output_type": "stream",
     "text": [
      "E:\\anaconda\\lib\\site-packages\\ipykernel_launcher.py:63: DeprecationWarning: In future, it will be an error for 'np.bool_' scalars to be interpreted as an index\n"
     ]
    },
    {
     "name": "stdout",
     "output_type": "stream",
     "text": [
      "\n",
      "rmse: 5.5810887107610805\n",
      "\n",
      "lp: 0.8358423704347351\n",
      "\n"
     ]
    },
    {
     "name": "stderr",
     "output_type": "stream",
     "text": [
      "E:\\anaconda\\lib\\site-packages\\ipykernel_launcher.py:63: DeprecationWarning: In future, it will be an error for 'np.bool_' scalars to be interpreted as an index\n"
     ]
    },
    {
     "name": "stdout",
     "output_type": "stream",
     "text": [
      "\n",
      "rmse: 2.119099624843761\n",
      "\n",
      "lp: 1.0\n",
      "\n"
     ]
    },
    {
     "name": "stderr",
     "output_type": "stream",
     "text": [
      "E:\\anaconda\\lib\\site-packages\\ipykernel_launcher.py:63: DeprecationWarning: In future, it will be an error for 'np.bool_' scalars to be interpreted as an index\n"
     ]
    },
    {
     "name": "stdout",
     "output_type": "stream",
     "text": [
      "\n",
      "rmse: 2.1211483613826605\n",
      "\n",
      "lp: 1.0\n",
      "\n"
     ]
    },
    {
     "name": "stderr",
     "output_type": "stream",
     "text": [
      "E:\\anaconda\\lib\\site-packages\\ipykernel_launcher.py:63: DeprecationWarning: In future, it will be an error for 'np.bool_' scalars to be interpreted as an index\n"
     ]
    },
    {
     "name": "stdout",
     "output_type": "stream",
     "text": [
      "\n",
      "rmse: 1.8979287613450937\n",
      "\n",
      "lp: 1.0\n",
      "\n"
     ]
    },
    {
     "name": "stderr",
     "output_type": "stream",
     "text": [
      "E:\\anaconda\\lib\\site-packages\\ipykernel_launcher.py:63: DeprecationWarning: In future, it will be an error for 'np.bool_' scalars to be interpreted as an index\n"
     ]
    },
    {
     "name": "stdout",
     "output_type": "stream",
     "text": [
      "\n",
      "rmse: 2.809556482375863\n",
      "\n",
      "lp: 1.0\n",
      "\n"
     ]
    },
    {
     "name": "stderr",
     "output_type": "stream",
     "text": [
      "E:\\anaconda\\lib\\site-packages\\ipykernel_launcher.py:63: DeprecationWarning: In future, it will be an error for 'np.bool_' scalars to be interpreted as an index\n"
     ]
    },
    {
     "name": "stdout",
     "output_type": "stream",
     "text": [
      "\n",
      "rmse: 2.4940197958206847\n",
      "\n",
      "lp: 0.5433406047829903\n",
      "\n"
     ]
    },
    {
     "name": "stderr",
     "output_type": "stream",
     "text": [
      "E:\\anaconda\\lib\\site-packages\\ipykernel_launcher.py:63: DeprecationWarning: In future, it will be an error for 'np.bool_' scalars to be interpreted as an index\n"
     ]
    },
    {
     "name": "stdout",
     "output_type": "stream",
     "text": [
      "\n",
      "rmse: 2.436457134147815\n",
      "\n",
      "lp: 1.0\n",
      "\n"
     ]
    },
    {
     "name": "stderr",
     "output_type": "stream",
     "text": [
      "E:\\anaconda\\lib\\site-packages\\ipykernel_launcher.py:63: DeprecationWarning: In future, it will be an error for 'np.bool_' scalars to be interpreted as an index\n"
     ]
    },
    {
     "name": "stdout",
     "output_type": "stream",
     "text": [
      "\n",
      "rmse: 2.085014228114659\n",
      "\n",
      "lp: 1.0\n",
      "\n"
     ]
    },
    {
     "name": "stderr",
     "output_type": "stream",
     "text": [
      "E:\\anaconda\\lib\\site-packages\\ipykernel_launcher.py:63: DeprecationWarning: In future, it will be an error for 'np.bool_' scalars to be interpreted as an index\n"
     ]
    },
    {
     "name": "stdout",
     "output_type": "stream",
     "text": [
      "\n",
      "rmse: 2.0348694130154272\n",
      "\n",
      "lp: 0.6075675826400517\n",
      "\n"
     ]
    },
    {
     "name": "stderr",
     "output_type": "stream",
     "text": [
      "E:\\anaconda\\lib\\site-packages\\ipykernel_launcher.py:63: DeprecationWarning: In future, it will be an error for 'np.bool_' scalars to be interpreted as an index\n"
     ]
    },
    {
     "name": "stdout",
     "output_type": "stream",
     "text": [
      "\n",
      "rmse: 2.2301502409908\n",
      "\n",
      "lp: 0.6305200185272074\n",
      "\n"
     ]
    },
    {
     "name": "stderr",
     "output_type": "stream",
     "text": [
      "E:\\anaconda\\lib\\site-packages\\ipykernel_launcher.py:63: DeprecationWarning: In future, it will be an error for 'np.bool_' scalars to be interpreted as an index\n"
     ]
    },
    {
     "name": "stdout",
     "output_type": "stream",
     "text": [
      "\n",
      "rmse: 2.0282974995136582\n",
      "\n",
      "lp: 0.45611249750702126\n",
      "\n"
     ]
    },
    {
     "name": "stderr",
     "output_type": "stream",
     "text": [
      "E:\\anaconda\\lib\\site-packages\\ipykernel_launcher.py:63: DeprecationWarning: In future, it will be an error for 'np.bool_' scalars to be interpreted as an index\n"
     ]
    },
    {
     "name": "stdout",
     "output_type": "stream",
     "text": [
      "\n",
      "rmse: 2.323702489438831\n",
      "\n",
      "lp: 0.26146423522488477\n",
      "\n"
     ]
    },
    {
     "name": "stderr",
     "output_type": "stream",
     "text": [
      "E:\\anaconda\\lib\\site-packages\\ipykernel_launcher.py:63: DeprecationWarning: In future, it will be an error for 'np.bool_' scalars to be interpreted as an index\n"
     ]
    },
    {
     "name": "stdout",
     "output_type": "stream",
     "text": [
      "\n",
      "rmse: 2.7914610187251605\n",
      "\n",
      "lp: 1.0\n",
      "\n"
     ]
    },
    {
     "name": "stderr",
     "output_type": "stream",
     "text": [
      "E:\\anaconda\\lib\\site-packages\\ipykernel_launcher.py:63: DeprecationWarning: In future, it will be an error for 'np.bool_' scalars to be interpreted as an index\n"
     ]
    },
    {
     "name": "stdout",
     "output_type": "stream",
     "text": [
      "\n",
      "rmse: 2.348143771157631\n",
      "\n",
      "lp: 1.0\n",
      "\n"
     ]
    },
    {
     "name": "stderr",
     "output_type": "stream",
     "text": [
      "E:\\anaconda\\lib\\site-packages\\ipykernel_launcher.py:63: DeprecationWarning: In future, it will be an error for 'np.bool_' scalars to be interpreted as an index\n"
     ]
    },
    {
     "name": "stdout",
     "output_type": "stream",
     "text": [
      "\n",
      "rmse: 2.81043059741827\n",
      "\n",
      "lp: 0.7791487437801703\n",
      "\n"
     ]
    },
    {
     "name": "stderr",
     "output_type": "stream",
     "text": [
      "E:\\anaconda\\lib\\site-packages\\ipykernel_launcher.py:63: DeprecationWarning: In future, it will be an error for 'np.bool_' scalars to be interpreted as an index\n"
     ]
    },
    {
     "name": "stdout",
     "output_type": "stream",
     "text": [
      "\n",
      "rmse: 1.7958822488151855\n",
      "\n",
      "lp: 0.726828038449683\n",
      "\n"
     ]
    },
    {
     "name": "stderr",
     "output_type": "stream",
     "text": [
      "E:\\anaconda\\lib\\site-packages\\ipykernel_launcher.py:63: DeprecationWarning: In future, it will be an error for 'np.bool_' scalars to be interpreted as an index\n"
     ]
    },
    {
     "name": "stdout",
     "output_type": "stream",
     "text": [
      "\n",
      "rmse: 2.0962451093985766\n",
      "\n",
      "lp: 1.0\n",
      "\n"
     ]
    },
    {
     "name": "stderr",
     "output_type": "stream",
     "text": [
      "E:\\anaconda\\lib\\site-packages\\ipykernel_launcher.py:63: DeprecationWarning: In future, it will be an error for 'np.bool_' scalars to be interpreted as an index\n"
     ]
    },
    {
     "name": "stdout",
     "output_type": "stream",
     "text": [
      "\n",
      "rmse: 2.6777801304688964\n",
      "\n",
      "lp: 1e-07\n",
      "\n"
     ]
    },
    {
     "name": "stderr",
     "output_type": "stream",
     "text": [
      "E:\\anaconda\\lib\\site-packages\\ipykernel_launcher.py:63: DeprecationWarning: In future, it will be an error for 'np.bool_' scalars to be interpreted as an index\n"
     ]
    },
    {
     "name": "stdout",
     "output_type": "stream",
     "text": [
      "\n",
      "rmse: 2.401122811919645\n",
      "\n",
      "lp: 0.3847195938692872\n",
      "\n"
     ]
    },
    {
     "name": "stderr",
     "output_type": "stream",
     "text": [
      "E:\\anaconda\\lib\\site-packages\\ipykernel_launcher.py:63: DeprecationWarning: In future, it will be an error for 'np.bool_' scalars to be interpreted as an index\n"
     ]
    },
    {
     "name": "stdout",
     "output_type": "stream",
     "text": [
      "\n",
      "rmse: 2.3257176851560533\n",
      "\n",
      "lp: 1.0\n",
      "\n"
     ]
    },
    {
     "name": "stderr",
     "output_type": "stream",
     "text": [
      "E:\\anaconda\\lib\\site-packages\\ipykernel_launcher.py:63: DeprecationWarning: In future, it will be an error for 'np.bool_' scalars to be interpreted as an index\n"
     ]
    },
    {
     "name": "stdout",
     "output_type": "stream",
     "text": [
      "\n",
      "rmse: 1.7695626353285199\n",
      "\n",
      "lp: 1.0\n",
      "\n"
     ]
    },
    {
     "name": "stderr",
     "output_type": "stream",
     "text": [
      "E:\\anaconda\\lib\\site-packages\\ipykernel_launcher.py:63: DeprecationWarning: In future, it will be an error for 'np.bool_' scalars to be interpreted as an index\n"
     ]
    },
    {
     "name": "stdout",
     "output_type": "stream",
     "text": [
      "\n",
      "rmse: 2.9848076268219335\n",
      "\n",
      "lp: 0.7515786977582781\n",
      "\n"
     ]
    },
    {
     "name": "stderr",
     "output_type": "stream",
     "text": [
      "E:\\anaconda\\lib\\site-packages\\ipykernel_launcher.py:63: DeprecationWarning: In future, it will be an error for 'np.bool_' scalars to be interpreted as an index\n"
     ]
    },
    {
     "name": "stdout",
     "output_type": "stream",
     "text": [
      "\n",
      "rmse: 1.839312296188603\n",
      "\n",
      "lp: 1.0\n",
      "\n"
     ]
    },
    {
     "name": "stderr",
     "output_type": "stream",
     "text": [
      "E:\\anaconda\\lib\\site-packages\\ipykernel_launcher.py:63: DeprecationWarning: In future, it will be an error for 'np.bool_' scalars to be interpreted as an index\n"
     ]
    },
    {
     "name": "stdout",
     "output_type": "stream",
     "text": [
      "\n",
      "rmse: 1.8257701250726346\n",
      "\n",
      "lp: 0.7080740355613098\n",
      "\n"
     ]
    },
    {
     "name": "stderr",
     "output_type": "stream",
     "text": [
      "E:\\anaconda\\lib\\site-packages\\ipykernel_launcher.py:63: DeprecationWarning: In future, it will be an error for 'np.bool_' scalars to be interpreted as an index\n"
     ]
    },
    {
     "name": "stdout",
     "output_type": "stream",
     "text": [
      "\n",
      "rmse: 1.8731291355800372\n",
      "\n",
      "lp: 1.0\n",
      "\n"
     ]
    },
    {
     "name": "stderr",
     "output_type": "stream",
     "text": [
      "E:\\anaconda\\lib\\site-packages\\ipykernel_launcher.py:63: DeprecationWarning: In future, it will be an error for 'np.bool_' scalars to be interpreted as an index\n"
     ]
    },
    {
     "name": "stdout",
     "output_type": "stream",
     "text": [
      "\n",
      "rmse: 1.783405110043952\n",
      "\n",
      "lp: 1e-07\n",
      "\n"
     ]
    },
    {
     "name": "stderr",
     "output_type": "stream",
     "text": [
      "E:\\anaconda\\lib\\site-packages\\ipykernel_launcher.py:63: DeprecationWarning: In future, it will be an error for 'np.bool_' scalars to be interpreted as an index\n"
     ]
    },
    {
     "name": "stdout",
     "output_type": "stream",
     "text": [
      "\n",
      "rmse: 1.9853506249888728\n",
      "\n",
      "lp: 0.28459201007589363\n",
      "\n"
     ]
    },
    {
     "name": "stderr",
     "output_type": "stream",
     "text": [
      "E:\\anaconda\\lib\\site-packages\\ipykernel_launcher.py:63: DeprecationWarning: In future, it will be an error for 'np.bool_' scalars to be interpreted as an index\n"
     ]
    },
    {
     "name": "stdout",
     "output_type": "stream",
     "text": [
      "\n",
      "rmse: 2.734714622835048\n",
      "\n",
      "lp: 1.0\n",
      "\n"
     ]
    },
    {
     "name": "stderr",
     "output_type": "stream",
     "text": [
      "E:\\anaconda\\lib\\site-packages\\ipykernel_launcher.py:63: DeprecationWarning: In future, it will be an error for 'np.bool_' scalars to be interpreted as an index\n"
     ]
    },
    {
     "name": "stdout",
     "output_type": "stream",
     "text": [
      "\n",
      "rmse: 1.838084011232565\n",
      "\n",
      "lp: 1.0\n",
      "\n"
     ]
    },
    {
     "name": "stderr",
     "output_type": "stream",
     "text": [
      "E:\\anaconda\\lib\\site-packages\\ipykernel_launcher.py:63: DeprecationWarning: In future, it will be an error for 'np.bool_' scalars to be interpreted as an index\n"
     ]
    },
    {
     "name": "stdout",
     "output_type": "stream",
     "text": [
      "\n",
      "rmse: 1.816776144687959\n",
      "\n",
      "lp: 0.7817035713767072\n",
      "\n"
     ]
    },
    {
     "name": "stderr",
     "output_type": "stream",
     "text": [
      "E:\\anaconda\\lib\\site-packages\\ipykernel_launcher.py:63: DeprecationWarning: In future, it will be an error for 'np.bool_' scalars to be interpreted as an index\n"
     ]
    },
    {
     "name": "stdout",
     "output_type": "stream",
     "text": [
      "\n",
      "rmse: 1.709715739807994\n",
      "\n",
      "lp: 0.8833949486921918\n",
      "\n"
     ]
    },
    {
     "name": "stderr",
     "output_type": "stream",
     "text": [
      "E:\\anaconda\\lib\\site-packages\\ipykernel_launcher.py:63: DeprecationWarning: In future, it will be an error for 'np.bool_' scalars to be interpreted as an index\n"
     ]
    },
    {
     "name": "stdout",
     "output_type": "stream",
     "text": [
      "\n",
      "rmse: 2.525913415642664\n",
      "\n"
     ]
    },
    {
     "name": "stderr",
     "output_type": "stream",
     "text": [
      "E:\\anaconda\\lib\\site-packages\\ipykernel_launcher.py:63: DeprecationWarning: In future, it will be an error for 'np.bool_' scalars to be interpreted as an index\n"
     ]
    },
    {
     "name": "stdout",
     "output_type": "stream",
     "text": [
      "lp: 0.001\n",
      "\n",
      "\n",
      "rmse: 2.9607414083493344\n",
      "\n",
      "lp: 0.9488707452434595\n",
      "\n",
      "\n",
      "rmse: 2.9940098641661566\n",
      "\n",
      "lp: 0.699896141502111\n",
      "\n",
      "\n",
      "rmse: 2.2226405998503918\n",
      "\n",
      "lp: 0.5586039631766061\n",
      "\n",
      "\n",
      "rmse: 2.848120986377899\n",
      "\n",
      "lp: 0.5737038041249267\n",
      "\n",
      "\n",
      "rmse: 2.7165719473355545\n",
      "\n",
      "lp: 0.9301586564931371\n",
      "\n",
      "\n",
      "rmse: 2.7249301478838834\n",
      "\n",
      "lp: 0.33136617542922514\n",
      "\n",
      "\n",
      "rmse: 2.385790301209586\n",
      "\n",
      "lp: 0.5608019428543713\n",
      "\n",
      "\n",
      "rmse: 2.855408479908357\n",
      "\n",
      "lp: 0.9570850183846411\n",
      "\n",
      "\n",
      "rmse: 2.5992608894285785\n",
      "\n",
      "lp: 0.35872184594232265\n",
      "\n",
      "\n",
      "rmse: 2.7946836453090036\n",
      "\n",
      "lp: 0.9673539079048238\n",
      "\n",
      "\n",
      "rmse: 2.8091119269388916\n",
      "\n",
      "lp: 0.5600988751691155\n",
      "\n"
     ]
    },
    {
     "name": "stderr",
     "output_type": "stream",
     "text": [
      "E:\\anaconda\\lib\\site-packages\\ipykernel_launcher.py:63: DeprecationWarning: In future, it will be an error for 'np.bool_' scalars to be interpreted as an index\n"
     ]
    },
    {
     "name": "stdout",
     "output_type": "stream",
     "text": [
      "\n",
      "rmse: 2.6363053370474487\n",
      "\n",
      "lp: 0.7634147782561228\n",
      "\n"
     ]
    },
    {
     "name": "stderr",
     "output_type": "stream",
     "text": [
      "E:\\anaconda\\lib\\site-packages\\ipykernel_launcher.py:63: DeprecationWarning: In future, it will be an error for 'np.bool_' scalars to be interpreted as an index\n"
     ]
    },
    {
     "name": "stdout",
     "output_type": "stream",
     "text": [
      "\n",
      "rmse: 2.7952977500518457\n",
      "\n",
      "lp: 0.19295813153312877\n",
      "\n"
     ]
    },
    {
     "name": "stderr",
     "output_type": "stream",
     "text": [
      "E:\\anaconda\\lib\\site-packages\\ipykernel_launcher.py:63: DeprecationWarning: In future, it will be an error for 'np.bool_' scalars to be interpreted as an index\n"
     ]
    },
    {
     "name": "stdout",
     "output_type": "stream",
     "text": [
      "\n",
      "rmse: 2.702505883918783\n",
      "\n",
      "lp: 0.7949121608025015\n",
      "\n"
     ]
    },
    {
     "name": "stderr",
     "output_type": "stream",
     "text": [
      "E:\\anaconda\\lib\\site-packages\\ipykernel_launcher.py:63: DeprecationWarning: In future, it will be an error for 'np.bool_' scalars to be interpreted as an index\n"
     ]
    },
    {
     "name": "stdout",
     "output_type": "stream",
     "text": [
      "\n",
      "rmse: 2.6581240249314373\n",
      "\n",
      "lp: 0.8153423963707243\n",
      "\n"
     ]
    },
    {
     "name": "stderr",
     "output_type": "stream",
     "text": [
      "E:\\anaconda\\lib\\site-packages\\ipykernel_launcher.py:63: DeprecationWarning: In future, it will be an error for 'np.bool_' scalars to be interpreted as an index\n"
     ]
    },
    {
     "name": "stdout",
     "output_type": "stream",
     "text": [
      "\n",
      "rmse: 2.8099633635923946\n",
      "\n",
      "lp: 0.5583973439889786\n",
      "\n"
     ]
    },
    {
     "name": "stderr",
     "output_type": "stream",
     "text": [
      "E:\\anaconda\\lib\\site-packages\\ipykernel_launcher.py:63: DeprecationWarning: In future, it will be an error for 'np.bool_' scalars to be interpreted as an index\n"
     ]
    },
    {
     "name": "stdout",
     "output_type": "stream",
     "text": [
      "\n",
      "rmse: 2.8085466690707586\n",
      "\n",
      "lp: 0.5423304374886223\n",
      "\n"
     ]
    },
    {
     "name": "stderr",
     "output_type": "stream",
     "text": [
      "E:\\anaconda\\lib\\site-packages\\ipykernel_launcher.py:63: DeprecationWarning: In future, it will be an error for 'np.bool_' scalars to be interpreted as an index\n"
     ]
    },
    {
     "name": "stdout",
     "output_type": "stream",
     "text": [
      "\n",
      "rmse: 2.294058525530805\n",
      "\n",
      "lp: 0.6561353253580886\n",
      "\n"
     ]
    },
    {
     "name": "stderr",
     "output_type": "stream",
     "text": [
      "E:\\anaconda\\lib\\site-packages\\ipykernel_launcher.py:63: DeprecationWarning: In future, it will be an error for 'np.bool_' scalars to be interpreted as an index\n"
     ]
    },
    {
     "name": "stdout",
     "output_type": "stream",
     "text": [
      "\n",
      "rmse: 2.7245216682884563\n",
      "\n",
      "lp: 0.9720344367809416\n",
      "\n"
     ]
    },
    {
     "name": "stderr",
     "output_type": "stream",
     "text": [
      "E:\\anaconda\\lib\\site-packages\\ipykernel_launcher.py:63: DeprecationWarning: In future, it will be an error for 'np.bool_' scalars to be interpreted as an index\n"
     ]
    },
    {
     "name": "stdout",
     "output_type": "stream",
     "text": [
      "\n",
      "rmse: 2.7803607999783915\n",
      "\n",
      "lp: 0.3023179227873189\n",
      "\n"
     ]
    },
    {
     "name": "stderr",
     "output_type": "stream",
     "text": [
      "E:\\anaconda\\lib\\site-packages\\ipykernel_launcher.py:63: DeprecationWarning: In future, it will be an error for 'np.bool_' scalars to be interpreted as an index\n"
     ]
    },
    {
     "name": "stdout",
     "output_type": "stream",
     "text": [
      "\n",
      "rmse: 2.6178542746019446\n",
      "\n",
      "lp: 0.475883049858586\n",
      "\n"
     ]
    },
    {
     "name": "stderr",
     "output_type": "stream",
     "text": [
      "E:\\anaconda\\lib\\site-packages\\ipykernel_launcher.py:63: DeprecationWarning: In future, it will be an error for 'np.bool_' scalars to be interpreted as an index\n"
     ]
    },
    {
     "name": "stdout",
     "output_type": "stream",
     "text": [
      "\n",
      "rmse: 2.77734093399894\n",
      "\n",
      "lp: 0.26221501621668664\n",
      "\n"
     ]
    },
    {
     "name": "stderr",
     "output_type": "stream",
     "text": [
      "E:\\anaconda\\lib\\site-packages\\ipykernel_launcher.py:63: DeprecationWarning: In future, it will be an error for 'np.bool_' scalars to be interpreted as an index\n"
     ]
    },
    {
     "name": "stdout",
     "output_type": "stream",
     "text": [
      "\n",
      "rmse: 2.690494817387584\n",
      "\n",
      "lp: 0.768721413430625\n",
      "\n"
     ]
    },
    {
     "name": "stderr",
     "output_type": "stream",
     "text": [
      "E:\\anaconda\\lib\\site-packages\\ipykernel_launcher.py:63: DeprecationWarning: In future, it will be an error for 'np.bool_' scalars to be interpreted as an index\n"
     ]
    },
    {
     "name": "stdout",
     "output_type": "stream",
     "text": [
      "\n",
      "rmse: 2.802987765635783\n",
      "\n",
      "lp: 0.16895761667221845\n",
      "\n"
     ]
    },
    {
     "name": "stderr",
     "output_type": "stream",
     "text": [
      "E:\\anaconda\\lib\\site-packages\\ipykernel_launcher.py:63: DeprecationWarning: In future, it will be an error for 'np.bool_' scalars to be interpreted as an index\n"
     ]
    },
    {
     "name": "stdout",
     "output_type": "stream",
     "text": [
      "\n",
      "rmse: 2.6744525950445643\n",
      "\n",
      "lp: 0.815526265828118\n",
      "\n"
     ]
    },
    {
     "name": "stderr",
     "output_type": "stream",
     "text": [
      "E:\\anaconda\\lib\\site-packages\\ipykernel_launcher.py:63: DeprecationWarning: In future, it will be an error for 'np.bool_' scalars to be interpreted as an index\n"
     ]
    },
    {
     "name": "stdout",
     "output_type": "stream",
     "text": [
      "\n",
      "rmse: 2.8794140030485953\n",
      "\n",
      "lp: 0.7651876554570737\n",
      "\n"
     ]
    },
    {
     "name": "stderr",
     "output_type": "stream",
     "text": [
      "E:\\anaconda\\lib\\site-packages\\ipykernel_launcher.py:63: DeprecationWarning: In future, it will be an error for 'np.bool_' scalars to be interpreted as an index\n"
     ]
    },
    {
     "name": "stdout",
     "output_type": "stream",
     "text": [
      "\n",
      "rmse: 2.791975899925324\n",
      "\n",
      "lp: 0.13048514672820455\n",
      "\n"
     ]
    },
    {
     "name": "stderr",
     "output_type": "stream",
     "text": [
      "E:\\anaconda\\lib\\site-packages\\ipykernel_launcher.py:63: DeprecationWarning: In future, it will be an error for 'np.bool_' scalars to be interpreted as an index\n"
     ]
    },
    {
     "name": "stdout",
     "output_type": "stream",
     "text": [
      "\n",
      "rmse: 2.798617252494099\n",
      "\n",
      "lp: 1.0\n",
      "\n"
     ]
    },
    {
     "name": "stderr",
     "output_type": "stream",
     "text": [
      "E:\\anaconda\\lib\\site-packages\\ipykernel_launcher.py:63: DeprecationWarning: In future, it will be an error for 'np.bool_' scalars to be interpreted as an index\n"
     ]
    },
    {
     "name": "stdout",
     "output_type": "stream",
     "text": [
      "\n",
      "rmse: 2.783488000524678\n",
      "\n",
      "lp: 0.6752557177494991\n",
      "\n"
     ]
    },
    {
     "name": "stderr",
     "output_type": "stream",
     "text": [
      "E:\\anaconda\\lib\\site-packages\\ipykernel_launcher.py:63: DeprecationWarning: In future, it will be an error for 'np.bool_' scalars to be interpreted as an index\n"
     ]
    },
    {
     "name": "stdout",
     "output_type": "stream",
     "text": [
      "\n",
      "rmse: 2.7708820556085105\n",
      "\n",
      "lp: 0.557971983946259\n",
      "\n"
     ]
    },
    {
     "name": "stderr",
     "output_type": "stream",
     "text": [
      "E:\\anaconda\\lib\\site-packages\\ipykernel_launcher.py:63: DeprecationWarning: In future, it will be an error for 'np.bool_' scalars to be interpreted as an index\n"
     ]
    },
    {
     "name": "stdout",
     "output_type": "stream",
     "text": [
      "\n",
      "rmse: 2.810030381422138\n",
      "\n",
      "lp: 0.9598986018461676\n",
      "\n"
     ]
    },
    {
     "name": "stderr",
     "output_type": "stream",
     "text": [
      "E:\\anaconda\\lib\\site-packages\\ipykernel_launcher.py:63: DeprecationWarning: In future, it will be an error for 'np.bool_' scalars to be interpreted as an index\n"
     ]
    },
    {
     "name": "stdout",
     "output_type": "stream",
     "text": [
      "\n",
      "rmse: 2.948967809686759\n",
      "\n",
      "lp: 0.8912308837822507\n",
      "\n"
     ]
    },
    {
     "name": "stderr",
     "output_type": "stream",
     "text": [
      "E:\\anaconda\\lib\\site-packages\\ipykernel_launcher.py:63: DeprecationWarning: In future, it will be an error for 'np.bool_' scalars to be interpreted as an index\n"
     ]
    },
    {
     "name": "stdout",
     "output_type": "stream",
     "text": [
      "\n",
      "rmse: 2.5486803390447292\n",
      "\n",
      "lp: 0.6781735227512707\n",
      "\n"
     ]
    },
    {
     "name": "stderr",
     "output_type": "stream",
     "text": [
      "E:\\anaconda\\lib\\site-packages\\ipykernel_launcher.py:63: DeprecationWarning: In future, it will be an error for 'np.bool_' scalars to be interpreted as an index\n"
     ]
    },
    {
     "name": "stdout",
     "output_type": "stream",
     "text": [
      "\n",
      "rmse: 2.805875633513905\n",
      "\n",
      "lp: 0.7667532691073213\n",
      "\n"
     ]
    },
    {
     "name": "stderr",
     "output_type": "stream",
     "text": [
      "E:\\anaconda\\lib\\site-packages\\ipykernel_launcher.py:63: DeprecationWarning: In future, it will be an error for 'np.bool_' scalars to be interpreted as an index\n"
     ]
    },
    {
     "name": "stdout",
     "output_type": "stream",
     "text": [
      "\n",
      "rmse: 2.0551745532019328\n",
      "\n",
      "lp: 0.780525933983636\n",
      "\n"
     ]
    },
    {
     "name": "stderr",
     "output_type": "stream",
     "text": [
      "E:\\anaconda\\lib\\site-packages\\ipykernel_launcher.py:63: DeprecationWarning: In future, it will be an error for 'np.bool_' scalars to be interpreted as an index\n"
     ]
    },
    {
     "name": "stdout",
     "output_type": "stream",
     "text": [
      "\n",
      "rmse: 2.7925931248600753\n",
      "\n",
      "lp: 0.354277735126161\n",
      "\n"
     ]
    },
    {
     "name": "stderr",
     "output_type": "stream",
     "text": [
      "E:\\anaconda\\lib\\site-packages\\ipykernel_launcher.py:63: DeprecationWarning: In future, it will be an error for 'np.bool_' scalars to be interpreted as an index\n"
     ]
    },
    {
     "name": "stdout",
     "output_type": "stream",
     "text": [
      "\n",
      "rmse: 2.797248595879267\n",
      "\n",
      "lp: 0.8745410642272037\n",
      "\n"
     ]
    },
    {
     "name": "stderr",
     "output_type": "stream",
     "text": [
      "E:\\anaconda\\lib\\site-packages\\ipykernel_launcher.py:63: DeprecationWarning: In future, it will be an error for 'np.bool_' scalars to be interpreted as an index\n"
     ]
    },
    {
     "name": "stdout",
     "output_type": "stream",
     "text": [
      "\n",
      "rmse: 2.5734948224996486\n",
      "\n",
      "lp: 0.27537147379973126\n",
      "\n"
     ]
    },
    {
     "name": "stderr",
     "output_type": "stream",
     "text": [
      "E:\\anaconda\\lib\\site-packages\\ipykernel_launcher.py:63: DeprecationWarning: In future, it will be an error for 'np.bool_' scalars to be interpreted as an index\n"
     ]
    },
    {
     "name": "stdout",
     "output_type": "stream",
     "text": [
      "\n",
      "rmse: 2.666176693224317\n",
      "\n",
      "lp: 0.33267473510129025\n",
      "\n"
     ]
    },
    {
     "name": "stderr",
     "output_type": "stream",
     "text": [
      "E:\\anaconda\\lib\\site-packages\\ipykernel_launcher.py:63: DeprecationWarning: In future, it will be an error for 'np.bool_' scalars to be interpreted as an index\n"
     ]
    },
    {
     "name": "stdout",
     "output_type": "stream",
     "text": [
      "\n",
      "rmse: 2.808815370309436\n",
      "\n",
      "lp: 0.7706011756277424\n",
      "\n"
     ]
    },
    {
     "name": "stderr",
     "output_type": "stream",
     "text": [
      "E:\\anaconda\\lib\\site-packages\\ipykernel_launcher.py:63: DeprecationWarning: In future, it will be an error for 'np.bool_' scalars to be interpreted as an index\n"
     ]
    },
    {
     "name": "stdout",
     "output_type": "stream",
     "text": [
      "\n",
      "rmse: 2.7928313822230466\n",
      "\n",
      "lp: 0.8324128047955032\n",
      "\n"
     ]
    },
    {
     "name": "stderr",
     "output_type": "stream",
     "text": [
      "E:\\anaconda\\lib\\site-packages\\ipykernel_launcher.py:63: DeprecationWarning: In future, it will be an error for 'np.bool_' scalars to be interpreted as an index\n"
     ]
    },
    {
     "name": "stdout",
     "output_type": "stream",
     "text": [
      "\n",
      "rmse: 2.806761306365053\n",
      "\n",
      "lp: 0.9626393942669453\n",
      "\n"
     ]
    },
    {
     "name": "stderr",
     "output_type": "stream",
     "text": [
      "E:\\anaconda\\lib\\site-packages\\ipykernel_launcher.py:63: DeprecationWarning: In future, it will be an error for 'np.bool_' scalars to be interpreted as an index\n"
     ]
    },
    {
     "name": "stdout",
     "output_type": "stream",
     "text": [
      "\n",
      "rmse: 2.2578686638129715\n",
      "\n",
      "lp: 0.7128297215826018\n",
      "\n"
     ]
    },
    {
     "name": "stderr",
     "output_type": "stream",
     "text": [
      "E:\\anaconda\\lib\\site-packages\\ipykernel_launcher.py:63: DeprecationWarning: In future, it will be an error for 'np.bool_' scalars to be interpreted as an index\n"
     ]
    },
    {
     "name": "stdout",
     "output_type": "stream",
     "text": [
      "\n",
      "rmse: 2.0639638560695346\n",
      "\n",
      "lp: 0.052140359192699236\n",
      "\n"
     ]
    },
    {
     "name": "stderr",
     "output_type": "stream",
     "text": [
      "E:\\anaconda\\lib\\site-packages\\ipykernel_launcher.py:63: DeprecationWarning: In future, it will be an error for 'np.bool_' scalars to be interpreted as an index\n"
     ]
    },
    {
     "name": "stdout",
     "output_type": "stream",
     "text": [
      "\n",
      "rmse: 2.8112894195184244\n",
      "\n",
      "lp: 0.54385226350423\n",
      "\n"
     ]
    },
    {
     "name": "stderr",
     "output_type": "stream",
     "text": [
      "E:\\anaconda\\lib\\site-packages\\ipykernel_launcher.py:63: DeprecationWarning: In future, it will be an error for 'np.bool_' scalars to be interpreted as an index\n"
     ]
    },
    {
     "name": "stdout",
     "output_type": "stream",
     "text": [
      "\n",
      "rmse: 2.807387567988218\n",
      "\n",
      "lp: 0.42999462938997435\n",
      "\n"
     ]
    },
    {
     "name": "stderr",
     "output_type": "stream",
     "text": [
      "E:\\anaconda\\lib\\site-packages\\ipykernel_launcher.py:63: DeprecationWarning: In future, it will be an error for 'np.bool_' scalars to be interpreted as an index\n"
     ]
    },
    {
     "name": "stdout",
     "output_type": "stream",
     "text": [
      "\n",
      "rmse: 2.664009730232166\n",
      "\n",
      "lp: 0.7320852974208494\n",
      "\n"
     ]
    },
    {
     "name": "stderr",
     "output_type": "stream",
     "text": [
      "E:\\anaconda\\lib\\site-packages\\ipykernel_launcher.py:63: DeprecationWarning: In future, it will be an error for 'np.bool_' scalars to be interpreted as an index\n"
     ]
    },
    {
     "name": "stdout",
     "output_type": "stream",
     "text": [
      "\n",
      "rmse: 2.0867780783627325\n",
      "\n",
      "lp: 0.772395277925848\n",
      "\n"
     ]
    },
    {
     "name": "stderr",
     "output_type": "stream",
     "text": [
      "E:\\anaconda\\lib\\site-packages\\ipykernel_launcher.py:63: DeprecationWarning: In future, it will be an error for 'np.bool_' scalars to be interpreted as an index\n"
     ]
    },
    {
     "name": "stdout",
     "output_type": "stream",
     "text": [
      "\n",
      "rmse: 2.0484885434811333\n",
      "\n",
      "lp: 0.7378897944103457\n",
      "\n"
     ]
    },
    {
     "name": "stderr",
     "output_type": "stream",
     "text": [
      "E:\\anaconda\\lib\\site-packages\\ipykernel_launcher.py:63: DeprecationWarning: In future, it will be an error for 'np.bool_' scalars to be interpreted as an index\n"
     ]
    },
    {
     "name": "stdout",
     "output_type": "stream",
     "text": [
      "\n",
      "rmse: 2.0642636794251197\n",
      "\n",
      "lp: 0.7373248413171422\n",
      "\n"
     ]
    },
    {
     "name": "stderr",
     "output_type": "stream",
     "text": [
      "E:\\anaconda\\lib\\site-packages\\ipykernel_launcher.py:63: DeprecationWarning: In future, it will be an error for 'np.bool_' scalars to be interpreted as an index\n"
     ]
    },
    {
     "name": "stdout",
     "output_type": "stream",
     "text": [
      "\n",
      "rmse: 2.0357626162950733\n",
      "\n",
      "lp: 0.7564230453531643\n",
      "\n"
     ]
    },
    {
     "name": "stderr",
     "output_type": "stream",
     "text": [
      "E:\\anaconda\\lib\\site-packages\\ipykernel_launcher.py:63: DeprecationWarning: In future, it will be an error for 'np.bool_' scalars to be interpreted as an index\n"
     ]
    },
    {
     "name": "stdout",
     "output_type": "stream",
     "text": [
      "\n",
      "rmse: 2.039363099926052\n",
      "\n",
      "lp: 0.7606023573082092\n",
      "\n"
     ]
    },
    {
     "name": "stderr",
     "output_type": "stream",
     "text": [
      "E:\\anaconda\\lib\\site-packages\\ipykernel_launcher.py:63: DeprecationWarning: In future, it will be an error for 'np.bool_' scalars to be interpreted as an index\n"
     ]
    },
    {
     "name": "stdout",
     "output_type": "stream",
     "text": [
      "\n",
      "rmse: 2.0696477644761453\n",
      "\n",
      "lp: 0.5830873545641477\n",
      "\n"
     ]
    },
    {
     "name": "stderr",
     "output_type": "stream",
     "text": [
      "E:\\anaconda\\lib\\site-packages\\ipykernel_launcher.py:63: DeprecationWarning: In future, it will be an error for 'np.bool_' scalars to be interpreted as an index\n"
     ]
    },
    {
     "name": "stdout",
     "output_type": "stream",
     "text": [
      "\n",
      "rmse: 2.256105524646255\n",
      "\n",
      "lp: 0.7933601232823904\n",
      "\n"
     ]
    },
    {
     "name": "stderr",
     "output_type": "stream",
     "text": [
      "E:\\anaconda\\lib\\site-packages\\ipykernel_launcher.py:63: DeprecationWarning: In future, it will be an error for 'np.bool_' scalars to be interpreted as an index\n"
     ]
    },
    {
     "name": "stdout",
     "output_type": "stream",
     "text": [
      "\n",
      "rmse: 2.806574200554771\n",
      "\n",
      "lp: 0.9125737695843325\n",
      "\n"
     ]
    },
    {
     "name": "stderr",
     "output_type": "stream",
     "text": [
      "E:\\anaconda\\lib\\site-packages\\ipykernel_launcher.py:63: DeprecationWarning: In future, it will be an error for 'np.bool_' scalars to be interpreted as an index\n"
     ]
    },
    {
     "name": "stdout",
     "output_type": "stream",
     "text": [
      "\n",
      "rmse: 2.0857795054243278\n",
      "\n",
      "lp: 0.4085002036144738\n",
      "\n"
     ]
    },
    {
     "name": "stderr",
     "output_type": "stream",
     "text": [
      "E:\\anaconda\\lib\\site-packages\\ipykernel_launcher.py:63: DeprecationWarning: In future, it will be an error for 'np.bool_' scalars to be interpreted as an index\n"
     ]
    },
    {
     "name": "stdout",
     "output_type": "stream",
     "text": [
      "\n",
      "rmse: 2.038545384006128\n",
      "\n",
      "lp: 0.601590478891223\n",
      "\n"
     ]
    },
    {
     "name": "stderr",
     "output_type": "stream",
     "text": [
      "E:\\anaconda\\lib\\site-packages\\ipykernel_launcher.py:63: DeprecationWarning: In future, it will be an error for 'np.bool_' scalars to be interpreted as an index\n"
     ]
    },
    {
     "name": "stdout",
     "output_type": "stream",
     "text": [
      "\n",
      "rmse: 2.017950578363927\n",
      "\n",
      "lp: 0.30585395961251277\n",
      "\n"
     ]
    },
    {
     "name": "stderr",
     "output_type": "stream",
     "text": [
      "E:\\anaconda\\lib\\site-packages\\ipykernel_launcher.py:63: DeprecationWarning: In future, it will be an error for 'np.bool_' scalars to be interpreted as an index\n"
     ]
    },
    {
     "name": "stdout",
     "output_type": "stream",
     "text": [
      "\n",
      "rmse: 2.0668354965205182\n",
      "\n",
      "lp: 0.20598089979999606\n",
      "\n"
     ]
    },
    {
     "name": "stderr",
     "output_type": "stream",
     "text": [
      "E:\\anaconda\\lib\\site-packages\\ipykernel_launcher.py:63: DeprecationWarning: In future, it will be an error for 'np.bool_' scalars to be interpreted as an index\n"
     ]
    },
    {
     "name": "stdout",
     "output_type": "stream",
     "text": [
      "\n",
      "rmse: 2.027855668617894\n",
      "\n",
      "lp: 0.6981087049087233\n",
      "\n"
     ]
    },
    {
     "name": "stderr",
     "output_type": "stream",
     "text": [
      "E:\\anaconda\\lib\\site-packages\\ipykernel_launcher.py:63: DeprecationWarning: In future, it will be an error for 'np.bool_' scalars to be interpreted as an index\n"
     ]
    },
    {
     "name": "stdout",
     "output_type": "stream",
     "text": [
      "\n",
      "rmse: 2.092161762457506\n",
      "\n",
      "lp: 0.6182525858794554\n",
      "\n"
     ]
    },
    {
     "name": "stderr",
     "output_type": "stream",
     "text": [
      "E:\\anaconda\\lib\\site-packages\\ipykernel_launcher.py:63: DeprecationWarning: In future, it will be an error for 'np.bool_' scalars to be interpreted as an index\n"
     ]
    },
    {
     "name": "stdout",
     "output_type": "stream",
     "text": [
      "\n",
      "rmse: 2.0584398963120596\n",
      "\n",
      "lp: 0.8088751587249742\n",
      "\n"
     ]
    },
    {
     "name": "stderr",
     "output_type": "stream",
     "text": [
      "E:\\anaconda\\lib\\site-packages\\ipykernel_launcher.py:63: DeprecationWarning: In future, it will be an error for 'np.bool_' scalars to be interpreted as an index\n"
     ]
    },
    {
     "name": "stdout",
     "output_type": "stream",
     "text": [
      "\n",
      "rmse: 2.0485113854747286\n",
      "\n",
      "lp: 0.30679163565126416\n",
      "\n"
     ]
    },
    {
     "name": "stderr",
     "output_type": "stream",
     "text": [
      "E:\\anaconda\\lib\\site-packages\\ipykernel_launcher.py:63: DeprecationWarning: In future, it will be an error for 'np.bool_' scalars to be interpreted as an index\n"
     ]
    },
    {
     "name": "stdout",
     "output_type": "stream",
     "text": [
      "\n",
      "rmse: 2.0363365124216632\n",
      "\n",
      "lp: 0.9233881713393488\n",
      "\n"
     ]
    },
    {
     "name": "stderr",
     "output_type": "stream",
     "text": [
      "E:\\anaconda\\lib\\site-packages\\ipykernel_launcher.py:63: DeprecationWarning: In future, it will be an error for 'np.bool_' scalars to be interpreted as an index\n"
     ]
    },
    {
     "name": "stdout",
     "output_type": "stream",
     "text": [
      "\n",
      "rmse: 2.0593575874205947\n",
      "\n",
      "lp: 0.8483822473080971\n",
      "\n"
     ]
    },
    {
     "name": "stderr",
     "output_type": "stream",
     "text": [
      "E:\\anaconda\\lib\\site-packages\\ipykernel_launcher.py:63: DeprecationWarning: In future, it will be an error for 'np.bool_' scalars to be interpreted as an index\n"
     ]
    },
    {
     "name": "stdout",
     "output_type": "stream",
     "text": [
      "\n",
      "rmse: 2.081630537055087\n",
      "\n",
      "lp: 0.6125990668276909\n",
      "\n"
     ]
    },
    {
     "name": "stderr",
     "output_type": "stream",
     "text": [
      "E:\\anaconda\\lib\\site-packages\\ipykernel_launcher.py:63: DeprecationWarning: In future, it will be an error for 'np.bool_' scalars to be interpreted as an index\n"
     ]
    },
    {
     "name": "stdout",
     "output_type": "stream",
     "text": [
      "\n",
      "rmse: 3.6055464722584354\n",
      "\n",
      "lp: 0.5188164499756275\n",
      "\n"
     ]
    },
    {
     "name": "stderr",
     "output_type": "stream",
     "text": [
      "E:\\anaconda\\lib\\site-packages\\ipykernel_launcher.py:63: DeprecationWarning: In future, it will be an error for 'np.bool_' scalars to be interpreted as an index\n"
     ]
    },
    {
     "name": "stdout",
     "output_type": "stream",
     "text": [
      "\n",
      "rmse: 2.7589566050155923\n",
      "\n",
      "lp: 1.0\n",
      "\n"
     ]
    },
    {
     "name": "stderr",
     "output_type": "stream",
     "text": [
      "E:\\anaconda\\lib\\site-packages\\ipykernel_launcher.py:63: DeprecationWarning: In future, it will be an error for 'np.bool_' scalars to be interpreted as an index\n"
     ]
    },
    {
     "name": "stdout",
     "output_type": "stream",
     "text": [
      "\n",
      "rmse: 2.043341610263719\n",
      "\n",
      "lp: 1.0\n",
      "\n"
     ]
    },
    {
     "name": "stderr",
     "output_type": "stream",
     "text": [
      "E:\\anaconda\\lib\\site-packages\\ipykernel_launcher.py:63: DeprecationWarning: In future, it will be an error for 'np.bool_' scalars to be interpreted as an index\n"
     ]
    },
    {
     "name": "stdout",
     "output_type": "stream",
     "text": [
      "\n",
      "rmse: 2.1090755768475047\n",
      "\n",
      "lp: 0.08411080043811404\n",
      "\n"
     ]
    },
    {
     "name": "stderr",
     "output_type": "stream",
     "text": [
      "E:\\anaconda\\lib\\site-packages\\ipykernel_launcher.py:63: DeprecationWarning: In future, it will be an error for 'np.bool_' scalars to be interpreted as an index\n"
     ]
    },
    {
     "name": "stdout",
     "output_type": "stream",
     "text": [
      "\n",
      "rmse: 2.0239109631820544\n",
      "\n",
      "lp: 1.0\n",
      "\n"
     ]
    },
    {
     "name": "stderr",
     "output_type": "stream",
     "text": [
      "E:\\anaconda\\lib\\site-packages\\ipykernel_launcher.py:63: DeprecationWarning: In future, it will be an error for 'np.bool_' scalars to be interpreted as an index\n"
     ]
    },
    {
     "name": "stdout",
     "output_type": "stream",
     "text": [
      "\n",
      "rmse: 2.149017073957983\n",
      "\n",
      "lp: 1.0\n",
      "\n"
     ]
    },
    {
     "name": "stderr",
     "output_type": "stream",
     "text": [
      "E:\\anaconda\\lib\\site-packages\\ipykernel_launcher.py:63: DeprecationWarning: In future, it will be an error for 'np.bool_' scalars to be interpreted as an index\n"
     ]
    },
    {
     "name": "stdout",
     "output_type": "stream",
     "text": [
      "\n",
      "rmse: 2.0044557713502256\n",
      "\n",
      "lp: 1.0\n",
      "\n"
     ]
    },
    {
     "name": "stderr",
     "output_type": "stream",
     "text": [
      "E:\\anaconda\\lib\\site-packages\\ipykernel_launcher.py:63: DeprecationWarning: In future, it will be an error for 'np.bool_' scalars to be interpreted as an index\n"
     ]
    },
    {
     "name": "stdout",
     "output_type": "stream",
     "text": [
      "\n",
      "rmse: 2.0372502358672917\n",
      "\n",
      "lp: 1.0\n",
      "\n"
     ]
    },
    {
     "name": "stderr",
     "output_type": "stream",
     "text": [
      "E:\\anaconda\\lib\\site-packages\\ipykernel_launcher.py:63: DeprecationWarning: In future, it will be an error for 'np.bool_' scalars to be interpreted as an index\n"
     ]
    },
    {
     "name": "stdout",
     "output_type": "stream",
     "text": [
      "\n",
      "rmse: 2.0161893283400962\n",
      "\n",
      "lp: 0.945901072425849\n",
      "\n"
     ]
    },
    {
     "name": "stderr",
     "output_type": "stream",
     "text": [
      "E:\\anaconda\\lib\\site-packages\\ipykernel_launcher.py:63: DeprecationWarning: In future, it will be an error for 'np.bool_' scalars to be interpreted as an index\n"
     ]
    },
    {
     "name": "stdout",
     "output_type": "stream",
     "text": [
      "\n",
      "rmse: 2.0279617012508546\n",
      "\n",
      "lp: 0.18796090881313138\n",
      "\n"
     ]
    },
    {
     "name": "stderr",
     "output_type": "stream",
     "text": [
      "E:\\anaconda\\lib\\site-packages\\ipykernel_launcher.py:63: DeprecationWarning: In future, it will be an error for 'np.bool_' scalars to be interpreted as an index\n"
     ]
    },
    {
     "name": "stdout",
     "output_type": "stream",
     "text": [
      "\n",
      "rmse: 2.034923843649626\n",
      "\n",
      "lp: 1.0\n",
      "\n"
     ]
    },
    {
     "name": "stderr",
     "output_type": "stream",
     "text": [
      "E:\\anaconda\\lib\\site-packages\\ipykernel_launcher.py:63: DeprecationWarning: In future, it will be an error for 'np.bool_' scalars to be interpreted as an index\n"
     ]
    },
    {
     "name": "stdout",
     "output_type": "stream",
     "text": [
      "\n",
      "rmse: 2.045637659976924\n",
      "\n",
      "lp: 0.18664779900865452\n",
      "\n"
     ]
    },
    {
     "name": "stderr",
     "output_type": "stream",
     "text": [
      "E:\\anaconda\\lib\\site-packages\\ipykernel_launcher.py:63: DeprecationWarning: In future, it will be an error for 'np.bool_' scalars to be interpreted as an index\n"
     ]
    },
    {
     "name": "stdout",
     "output_type": "stream",
     "text": [
      "\n",
      "rmse: 2.036437719501987\n",
      "\n",
      "lp: 1e-07\n",
      "\n"
     ]
    },
    {
     "name": "stderr",
     "output_type": "stream",
     "text": [
      "E:\\anaconda\\lib\\site-packages\\ipykernel_launcher.py:63: DeprecationWarning: In future, it will be an error for 'np.bool_' scalars to be interpreted as an index\n"
     ]
    },
    {
     "name": "stdout",
     "output_type": "stream",
     "text": [
      "\n",
      "rmse: 2.0288442897553507\n",
      "\n",
      "lp: 1.0\n",
      "\n"
     ]
    },
    {
     "name": "stderr",
     "output_type": "stream",
     "text": [
      "E:\\anaconda\\lib\\site-packages\\ipykernel_launcher.py:63: DeprecationWarning: In future, it will be an error for 'np.bool_' scalars to be interpreted as an index\n"
     ]
    },
    {
     "name": "stdout",
     "output_type": "stream",
     "text": [
      "\n",
      "rmse: 2.051916690871576\n",
      "\n",
      "lp: 1.0\n",
      "\n"
     ]
    },
    {
     "name": "stderr",
     "output_type": "stream",
     "text": [
      "E:\\anaconda\\lib\\site-packages\\ipykernel_launcher.py:63: DeprecationWarning: In future, it will be an error for 'np.bool_' scalars to be interpreted as an index\n"
     ]
    },
    {
     "name": "stdout",
     "output_type": "stream",
     "text": [
      "\n",
      "rmse: 2.0223306759277992\n",
      "\n",
      "lp: 1e-07\n",
      "\n"
     ]
    },
    {
     "name": "stderr",
     "output_type": "stream",
     "text": [
      "E:\\anaconda\\lib\\site-packages\\ipykernel_launcher.py:63: DeprecationWarning: In future, it will be an error for 'np.bool_' scalars to be interpreted as an index\n"
     ]
    },
    {
     "name": "stdout",
     "output_type": "stream",
     "text": [
      "\n",
      "rmse: 2.060526735127409\n",
      "\n",
      "lp: 0.8803728785767866\n",
      "\n"
     ]
    },
    {
     "name": "stderr",
     "output_type": "stream",
     "text": [
      "E:\\anaconda\\lib\\site-packages\\ipykernel_launcher.py:63: DeprecationWarning: In future, it will be an error for 'np.bool_' scalars to be interpreted as an index\n"
     ]
    },
    {
     "name": "stdout",
     "output_type": "stream",
     "text": [
      "\n",
      "rmse: 2.060078191913078\n",
      "\n",
      "lp: 0.833989741947895\n",
      "\n"
     ]
    },
    {
     "name": "stderr",
     "output_type": "stream",
     "text": [
      "E:\\anaconda\\lib\\site-packages\\ipykernel_launcher.py:63: DeprecationWarning: In future, it will be an error for 'np.bool_' scalars to be interpreted as an index\n"
     ]
    },
    {
     "name": "stdout",
     "output_type": "stream",
     "text": [
      "\n",
      "rmse: 2.07912452522849\n",
      "\n",
      "lp: 0.23668111416571372\n",
      "\n"
     ]
    },
    {
     "name": "stderr",
     "output_type": "stream",
     "text": [
      "E:\\anaconda\\lib\\site-packages\\ipykernel_launcher.py:63: DeprecationWarning: In future, it will be an error for 'np.bool_' scalars to be interpreted as an index\n"
     ]
    },
    {
     "name": "stdout",
     "output_type": "stream",
     "text": [
      "\n",
      "rmse: 2.1679292061439206\n",
      "\n",
      "lp: 1.0\n",
      "\n"
     ]
    },
    {
     "name": "stderr",
     "output_type": "stream",
     "text": [
      "E:\\anaconda\\lib\\site-packages\\ipykernel_launcher.py:63: DeprecationWarning: In future, it will be an error for 'np.bool_' scalars to be interpreted as an index\n"
     ]
    },
    {
     "name": "stdout",
     "output_type": "stream",
     "text": [
      "\n",
      "rmse: 1.8532867613402086\n",
      "\n",
      "lp: 1.0\n",
      "\n"
     ]
    },
    {
     "name": "stderr",
     "output_type": "stream",
     "text": [
      "E:\\anaconda\\lib\\site-packages\\ipykernel_launcher.py:63: DeprecationWarning: In future, it will be an error for 'np.bool_' scalars to be interpreted as an index\n"
     ]
    },
    {
     "name": "stdout",
     "output_type": "stream",
     "text": [
      "\n",
      "rmse: 2.354160940554608\n",
      "\n",
      "lp: 0.5805826784662863\n",
      "\n"
     ]
    },
    {
     "name": "stderr",
     "output_type": "stream",
     "text": [
      "E:\\anaconda\\lib\\site-packages\\ipykernel_launcher.py:63: DeprecationWarning: In future, it will be an error for 'np.bool_' scalars to be interpreted as an index\n"
     ]
    },
    {
     "name": "stdout",
     "output_type": "stream",
     "text": [
      "\n",
      "rmse: 2.670279123194437\n",
      "\n",
      "lp: 0.7345417826642415\n",
      "\n"
     ]
    },
    {
     "name": "stderr",
     "output_type": "stream",
     "text": [
      "E:\\anaconda\\lib\\site-packages\\ipykernel_launcher.py:63: DeprecationWarning: In future, it will be an error for 'np.bool_' scalars to be interpreted as an index\n"
     ]
    },
    {
     "name": "stdout",
     "output_type": "stream",
     "text": [
      "\n",
      "rmse: 2.2653067868709544\n",
      "\n",
      "lp: 0.05762094006077992\n",
      "\n"
     ]
    },
    {
     "name": "stderr",
     "output_type": "stream",
     "text": [
      "E:\\anaconda\\lib\\site-packages\\ipykernel_launcher.py:63: DeprecationWarning: In future, it will be an error for 'np.bool_' scalars to be interpreted as an index\n"
     ]
    },
    {
     "name": "stdout",
     "output_type": "stream",
     "text": [
      "\n",
      "rmse: 2.0907618916829196\n",
      "\n",
      "lp: 0.6045881715385006\n",
      "\n"
     ]
    },
    {
     "name": "stderr",
     "output_type": "stream",
     "text": [
      "E:\\anaconda\\lib\\site-packages\\ipykernel_launcher.py:63: DeprecationWarning: In future, it will be an error for 'np.bool_' scalars to be interpreted as an index\n"
     ]
    },
    {
     "name": "stdout",
     "output_type": "stream",
     "text": [
      "\n",
      "rmse: 2.037331485390244\n",
      "\n",
      "lp: 0.5316911816488361\n",
      "\n"
     ]
    },
    {
     "name": "stderr",
     "output_type": "stream",
     "text": [
      "E:\\anaconda\\lib\\site-packages\\ipykernel_launcher.py:63: DeprecationWarning: In future, it will be an error for 'np.bool_' scalars to be interpreted as an index\n"
     ]
    },
    {
     "name": "stdout",
     "output_type": "stream",
     "text": [
      "\n",
      "rmse: 2.0313456963758956\n",
      "\n",
      "lp: 0.2018266301989276\n",
      "\n"
     ]
    },
    {
     "name": "stderr",
     "output_type": "stream",
     "text": [
      "E:\\anaconda\\lib\\site-packages\\ipykernel_launcher.py:63: DeprecationWarning: In future, it will be an error for 'np.bool_' scalars to be interpreted as an index\n"
     ]
    },
    {
     "name": "stdout",
     "output_type": "stream",
     "text": [
      "\n",
      "rmse: 2.5660590081287875\n",
      "\n",
      "lp: 0.17223766898696657\n",
      "\n"
     ]
    },
    {
     "name": "stderr",
     "output_type": "stream",
     "text": [
      "E:\\anaconda\\lib\\site-packages\\ipykernel_launcher.py:63: DeprecationWarning: In future, it will be an error for 'np.bool_' scalars to be interpreted as an index\n"
     ]
    },
    {
     "name": "stdout",
     "output_type": "stream",
     "text": [
      "\n",
      "rmse: 2.068764952628881\n",
      "\n",
      "lp: 0.029555277821612536\n",
      "\n"
     ]
    },
    {
     "name": "stderr",
     "output_type": "stream",
     "text": [
      "E:\\anaconda\\lib\\site-packages\\ipykernel_launcher.py:63: DeprecationWarning: In future, it will be an error for 'np.bool_' scalars to be interpreted as an index\n"
     ]
    },
    {
     "name": "stdout",
     "output_type": "stream",
     "text": [
      "\n",
      "rmse: 2.2801465925782276\n",
      "\n",
      "lp: 1e-07\n",
      "\n"
     ]
    },
    {
     "name": "stderr",
     "output_type": "stream",
     "text": [
      "E:\\anaconda\\lib\\site-packages\\ipykernel_launcher.py:63: DeprecationWarning: In future, it will be an error for 'np.bool_' scalars to be interpreted as an index\n"
     ]
    },
    {
     "name": "stdout",
     "output_type": "stream",
     "text": [
      "\n",
      "rmse: 2.065376391010697\n",
      "\n",
      "lp: 1.0\n",
      "\n"
     ]
    },
    {
     "name": "stderr",
     "output_type": "stream",
     "text": [
      "E:\\anaconda\\lib\\site-packages\\ipykernel_launcher.py:63: DeprecationWarning: In future, it will be an error for 'np.bool_' scalars to be interpreted as an index\n"
     ]
    },
    {
     "name": "stdout",
     "output_type": "stream",
     "text": [
      "\n",
      "rmse: 2.071427817573475\n",
      "\n",
      "lp: 1.0\n",
      "\n"
     ]
    },
    {
     "name": "stderr",
     "output_type": "stream",
     "text": [
      "E:\\anaconda\\lib\\site-packages\\ipykernel_launcher.py:63: DeprecationWarning: In future, it will be an error for 'np.bool_' scalars to be interpreted as an index\n"
     ]
    },
    {
     "name": "stdout",
     "output_type": "stream",
     "text": [
      "\n",
      "rmse: 2.805206501052093\n",
      "\n",
      "lp: 0.9559471178468744\n",
      "\n"
     ]
    },
    {
     "name": "stderr",
     "output_type": "stream",
     "text": [
      "E:\\anaconda\\lib\\site-packages\\ipykernel_launcher.py:63: DeprecationWarning: In future, it will be an error for 'np.bool_' scalars to be interpreted as an index\n"
     ]
    },
    {
     "name": "stdout",
     "output_type": "stream",
     "text": [
      "\n",
      "rmse: 2.028993228991723\n",
      "\n"
     ]
    },
    {
     "name": "stderr",
     "output_type": "stream",
     "text": [
      "E:\\anaconda\\lib\\site-packages\\ipykernel_launcher.py:63: DeprecationWarning: In future, it will be an error for 'np.bool_' scalars to be interpreted as an index\n"
     ]
    },
    {
     "name": "stdout",
     "output_type": "stream",
     "text": [
      "lp: 0.001\n",
      "\n",
      "\n",
      "rmse: 3.281106962318258\n",
      "\n",
      "lp: 0.3202465483173391\n",
      "\n",
      "\n",
      "rmse: 2.8103699286368937\n",
      "\n",
      "lp: 0.3870138807867952\n",
      "\n",
      "\n",
      "rmse: 2.3781855433512016\n",
      "\n",
      "lp: 0.49838144754943364\n",
      "\n",
      "\n",
      "rmse: 2.8083236322918905\n",
      "\n",
      "lp: 0.5478061301916323\n",
      "\n",
      "\n",
      "rmse: 2.7361524255402467\n",
      "\n",
      "lp: 0.4681910262507067\n",
      "\n",
      "\n",
      "rmse: 2.4765747308666515\n",
      "\n",
      "lp: 0.7357740174416314\n",
      "\n",
      "\n",
      "rmse: 2.7894084452579953\n",
      "\n",
      "lp: 0.13936192066143688\n",
      "\n",
      "\n",
      "rmse: 2.8069072272695763\n",
      "\n",
      "lp: 0.14742474207442324\n",
      "\n",
      "\n",
      "rmse: 2.2293263702481023\n",
      "\n",
      "lp: 0.8565485303865806\n",
      "\n",
      "\n",
      "rmse: 2.804196763566829\n",
      "\n",
      "lp: 0.2009784189316503\n",
      "\n",
      "\n",
      "rmse: 2.829080349502513\n",
      "\n",
      "lp: 1e-07\n",
      "\n"
     ]
    },
    {
     "name": "stderr",
     "output_type": "stream",
     "text": [
      "E:\\anaconda\\lib\\site-packages\\ipykernel_launcher.py:63: DeprecationWarning: In future, it will be an error for 'np.bool_' scalars to be interpreted as an index\n"
     ]
    },
    {
     "name": "stdout",
     "output_type": "stream",
     "text": [
      "\n",
      "rmse: 2.6037915308649846\n",
      "\n",
      "lp: 0.03270233254016627\n",
      "\n"
     ]
    },
    {
     "name": "stderr",
     "output_type": "stream",
     "text": [
      "E:\\anaconda\\lib\\site-packages\\ipykernel_launcher.py:63: DeprecationWarning: In future, it will be an error for 'np.bool_' scalars to be interpreted as an index\n"
     ]
    },
    {
     "name": "stdout",
     "output_type": "stream",
     "text": [
      "\n",
      "rmse: 2.682277222960754\n",
      "\n",
      "lp: 0.016228278101184705\n",
      "\n"
     ]
    },
    {
     "name": "stderr",
     "output_type": "stream",
     "text": [
      "E:\\anaconda\\lib\\site-packages\\ipykernel_launcher.py:63: DeprecationWarning: In future, it will be an error for 'np.bool_' scalars to be interpreted as an index\n"
     ]
    },
    {
     "name": "stdout",
     "output_type": "stream",
     "text": [
      "\n",
      "rmse: 2.693937914928651\n",
      "\n",
      "lp: 0.1079544233586999\n",
      "\n"
     ]
    },
    {
     "name": "stderr",
     "output_type": "stream",
     "text": [
      "E:\\anaconda\\lib\\site-packages\\ipykernel_launcher.py:63: DeprecationWarning: In future, it will be an error for 'np.bool_' scalars to be interpreted as an index\n"
     ]
    },
    {
     "name": "stdout",
     "output_type": "stream",
     "text": [
      "\n",
      "rmse: 2.4783047538522824\n",
      "\n",
      "lp: 0.2048243179768242\n",
      "\n"
     ]
    },
    {
     "name": "stderr",
     "output_type": "stream",
     "text": [
      "E:\\anaconda\\lib\\site-packages\\ipykernel_launcher.py:63: DeprecationWarning: In future, it will be an error for 'np.bool_' scalars to be interpreted as an index\n"
     ]
    },
    {
     "name": "stdout",
     "output_type": "stream",
     "text": [
      "\n",
      "rmse: 2.788640853638605\n",
      "\n",
      "lp: 0.9955193751697078\n",
      "\n"
     ]
    },
    {
     "name": "stderr",
     "output_type": "stream",
     "text": [
      "E:\\anaconda\\lib\\site-packages\\ipykernel_launcher.py:63: DeprecationWarning: In future, it will be an error for 'np.bool_' scalars to be interpreted as an index\n"
     ]
    },
    {
     "name": "stdout",
     "output_type": "stream",
     "text": [
      "\n",
      "rmse: 2.3858352130912324\n",
      "\n",
      "lp: 0.6839025887117048\n",
      "\n"
     ]
    },
    {
     "name": "stderr",
     "output_type": "stream",
     "text": [
      "E:\\anaconda\\lib\\site-packages\\ipykernel_launcher.py:63: DeprecationWarning: In future, it will be an error for 'np.bool_' scalars to be interpreted as an index\n"
     ]
    },
    {
     "name": "stdout",
     "output_type": "stream",
     "text": [
      "\n",
      "rmse: 2.591256830422063\n",
      "\n",
      "lp: 0.3438364245314638\n",
      "\n"
     ]
    },
    {
     "name": "stderr",
     "output_type": "stream",
     "text": [
      "E:\\anaconda\\lib\\site-packages\\ipykernel_launcher.py:63: DeprecationWarning: In future, it will be an error for 'np.bool_' scalars to be interpreted as an index\n"
     ]
    },
    {
     "name": "stdout",
     "output_type": "stream",
     "text": [
      "\n",
      "rmse: 2.1110645288113536\n",
      "\n",
      "lp: 0.9654202115665084\n",
      "\n"
     ]
    },
    {
     "name": "stderr",
     "output_type": "stream",
     "text": [
      "E:\\anaconda\\lib\\site-packages\\ipykernel_launcher.py:63: DeprecationWarning: In future, it will be an error for 'np.bool_' scalars to be interpreted as an index\n"
     ]
    },
    {
     "name": "stdout",
     "output_type": "stream",
     "text": [
      "\n",
      "rmse: 2.6191831215823176\n",
      "\n",
      "lp: 1e-07\n",
      "\n"
     ]
    },
    {
     "name": "stderr",
     "output_type": "stream",
     "text": [
      "E:\\anaconda\\lib\\site-packages\\ipykernel_launcher.py:63: DeprecationWarning: In future, it will be an error for 'np.bool_' scalars to be interpreted as an index\n"
     ]
    },
    {
     "name": "stdout",
     "output_type": "stream",
     "text": [
      "\n",
      "rmse: 2.5447460303456384\n",
      "\n",
      "lp: 1e-07\n",
      "\n"
     ]
    },
    {
     "name": "stderr",
     "output_type": "stream",
     "text": [
      "E:\\anaconda\\lib\\site-packages\\ipykernel_launcher.py:63: DeprecationWarning: In future, it will be an error for 'np.bool_' scalars to be interpreted as an index\n"
     ]
    },
    {
     "name": "stdout",
     "output_type": "stream",
     "text": [
      "\n",
      "rmse: 3.7203413040897466\n",
      "\n",
      "lp: 0.2925124756539687\n",
      "\n"
     ]
    },
    {
     "name": "stderr",
     "output_type": "stream",
     "text": [
      "E:\\anaconda\\lib\\site-packages\\ipykernel_launcher.py:63: DeprecationWarning: In future, it will be an error for 'np.bool_' scalars to be interpreted as an index\n"
     ]
    },
    {
     "name": "stdout",
     "output_type": "stream",
     "text": [
      "\n",
      "rmse: 2.4493592312630286\n",
      "\n",
      "lp: 0.41293492995864783\n",
      "\n"
     ]
    },
    {
     "name": "stderr",
     "output_type": "stream",
     "text": [
      "E:\\anaconda\\lib\\site-packages\\ipykernel_launcher.py:63: DeprecationWarning: In future, it will be an error for 'np.bool_' scalars to be interpreted as an index\n"
     ]
    },
    {
     "name": "stdout",
     "output_type": "stream",
     "text": [
      "\n",
      "rmse: 2.7120902683121724\n",
      "\n",
      "lp: 0.3862275449546657\n",
      "\n"
     ]
    },
    {
     "name": "stderr",
     "output_type": "stream",
     "text": [
      "E:\\anaconda\\lib\\site-packages\\ipykernel_launcher.py:63: DeprecationWarning: In future, it will be an error for 'np.bool_' scalars to be interpreted as an index\n"
     ]
    },
    {
     "name": "stdout",
     "output_type": "stream",
     "text": [
      "\n",
      "rmse: 2.71688546961817\n",
      "\n",
      "lp: 0.33246419994406984\n",
      "\n"
     ]
    },
    {
     "name": "stderr",
     "output_type": "stream",
     "text": [
      "E:\\anaconda\\lib\\site-packages\\ipykernel_launcher.py:63: DeprecationWarning: In future, it will be an error for 'np.bool_' scalars to be interpreted as an index\n"
     ]
    },
    {
     "name": "stdout",
     "output_type": "stream",
     "text": [
      "\n",
      "rmse: 2.748815913602102\n",
      "\n",
      "lp: 0.2949158199523181\n",
      "\n"
     ]
    },
    {
     "name": "stderr",
     "output_type": "stream",
     "text": [
      "E:\\anaconda\\lib\\site-packages\\ipykernel_launcher.py:63: DeprecationWarning: In future, it will be an error for 'np.bool_' scalars to be interpreted as an index\n"
     ]
    },
    {
     "name": "stdout",
     "output_type": "stream",
     "text": [
      "\n",
      "rmse: 2.6999957577323124\n",
      "\n",
      "lp: 0.8455925639976599\n",
      "\n"
     ]
    },
    {
     "name": "stderr",
     "output_type": "stream",
     "text": [
      "E:\\anaconda\\lib\\site-packages\\ipykernel_launcher.py:63: DeprecationWarning: In future, it will be an error for 'np.bool_' scalars to be interpreted as an index\n"
     ]
    },
    {
     "name": "stdout",
     "output_type": "stream",
     "text": [
      "\n",
      "rmse: 2.7906446174428767\n",
      "\n",
      "lp: 0.3872015901808414\n",
      "\n"
     ]
    },
    {
     "name": "stderr",
     "output_type": "stream",
     "text": [
      "E:\\anaconda\\lib\\site-packages\\ipykernel_launcher.py:63: DeprecationWarning: In future, it will be an error for 'np.bool_' scalars to be interpreted as an index\n"
     ]
    },
    {
     "name": "stdout",
     "output_type": "stream",
     "text": [
      "\n",
      "rmse: 2.306504004713318\n",
      "\n",
      "lp: 0.36098766492420714\n",
      "\n"
     ]
    },
    {
     "name": "stderr",
     "output_type": "stream",
     "text": [
      "E:\\anaconda\\lib\\site-packages\\ipykernel_launcher.py:63: DeprecationWarning: In future, it will be an error for 'np.bool_' scalars to be interpreted as an index\n"
     ]
    },
    {
     "name": "stdout",
     "output_type": "stream",
     "text": [
      "\n",
      "rmse: 2.5667667834360555\n",
      "\n",
      "lp: 0.2876030767608633\n",
      "\n"
     ]
    },
    {
     "name": "stderr",
     "output_type": "stream",
     "text": [
      "E:\\anaconda\\lib\\site-packages\\ipykernel_launcher.py:63: DeprecationWarning: In future, it will be an error for 'np.bool_' scalars to be interpreted as an index\n"
     ]
    },
    {
     "name": "stdout",
     "output_type": "stream",
     "text": [
      "\n",
      "rmse: 2.715569931887064\n",
      "\n",
      "lp: 0.73908484258126\n",
      "\n"
     ]
    },
    {
     "name": "stderr",
     "output_type": "stream",
     "text": [
      "E:\\anaconda\\lib\\site-packages\\ipykernel_launcher.py:63: DeprecationWarning: In future, it will be an error for 'np.bool_' scalars to be interpreted as an index\n"
     ]
    },
    {
     "name": "stdout",
     "output_type": "stream",
     "text": [
      "\n",
      "rmse: 2.3077395767881206\n",
      "\n",
      "lp: 0.7852187398535299\n",
      "\n"
     ]
    },
    {
     "name": "stderr",
     "output_type": "stream",
     "text": [
      "E:\\anaconda\\lib\\site-packages\\ipykernel_launcher.py:63: DeprecationWarning: In future, it will be an error for 'np.bool_' scalars to be interpreted as an index\n"
     ]
    },
    {
     "name": "stdout",
     "output_type": "stream",
     "text": [
      "\n",
      "rmse: 3.289374842014423\n",
      "\n",
      "lp: 0.8517224623881554\n",
      "\n"
     ]
    },
    {
     "name": "stderr",
     "output_type": "stream",
     "text": [
      "E:\\anaconda\\lib\\site-packages\\ipykernel_launcher.py:63: DeprecationWarning: In future, it will be an error for 'np.bool_' scalars to be interpreted as an index\n"
     ]
    },
    {
     "name": "stdout",
     "output_type": "stream",
     "text": [
      "\n",
      "rmse: 2.7494570765846498\n",
      "\n",
      "lp: 1e-07\n",
      "\n"
     ]
    },
    {
     "name": "stderr",
     "output_type": "stream",
     "text": [
      "E:\\anaconda\\lib\\site-packages\\ipykernel_launcher.py:63: DeprecationWarning: In future, it will be an error for 'np.bool_' scalars to be interpreted as an index\n"
     ]
    },
    {
     "name": "stdout",
     "output_type": "stream",
     "text": [
      "\n",
      "rmse: 2.8167751829115284\n",
      "\n",
      "lp: 0.6026931985812807\n",
      "\n"
     ]
    },
    {
     "name": "stderr",
     "output_type": "stream",
     "text": [
      "E:\\anaconda\\lib\\site-packages\\ipykernel_launcher.py:63: DeprecationWarning: In future, it will be an error for 'np.bool_' scalars to be interpreted as an index\n"
     ]
    },
    {
     "name": "stdout",
     "output_type": "stream",
     "text": [
      "\n",
      "rmse: 2.2448869804435354\n",
      "\n",
      "lp: 0.3534874266814176\n",
      "\n"
     ]
    },
    {
     "name": "stderr",
     "output_type": "stream",
     "text": [
      "E:\\anaconda\\lib\\site-packages\\ipykernel_launcher.py:63: DeprecationWarning: In future, it will be an error for 'np.bool_' scalars to be interpreted as an index\n"
     ]
    },
    {
     "name": "stdout",
     "output_type": "stream",
     "text": [
      "\n",
      "rmse: 2.392652975908881\n",
      "\n",
      "lp: 0.3688508770124499\n",
      "\n"
     ]
    },
    {
     "name": "stderr",
     "output_type": "stream",
     "text": [
      "E:\\anaconda\\lib\\site-packages\\ipykernel_launcher.py:63: DeprecationWarning: In future, it will be an error for 'np.bool_' scalars to be interpreted as an index\n"
     ]
    },
    {
     "name": "stdout",
     "output_type": "stream",
     "text": [
      "\n",
      "rmse: 3.5566143242051833\n",
      "\n",
      "lp: 0.7376378960745669\n",
      "\n"
     ]
    },
    {
     "name": "stderr",
     "output_type": "stream",
     "text": [
      "E:\\anaconda\\lib\\site-packages\\ipykernel_launcher.py:63: DeprecationWarning: In future, it will be an error for 'np.bool_' scalars to be interpreted as an index\n"
     ]
    },
    {
     "name": "stdout",
     "output_type": "stream",
     "text": [
      "\n",
      "rmse: 2.5940995334065517\n",
      "\n",
      "lp: 0.699264811074865\n",
      "\n"
     ]
    },
    {
     "name": "stderr",
     "output_type": "stream",
     "text": [
      "E:\\anaconda\\lib\\site-packages\\ipykernel_launcher.py:63: DeprecationWarning: In future, it will be an error for 'np.bool_' scalars to be interpreted as an index\n"
     ]
    },
    {
     "name": "stdout",
     "output_type": "stream",
     "text": [
      "\n",
      "rmse: 2.811103929038007\n",
      "\n",
      "lp: 0.0494454219107548\n",
      "\n"
     ]
    },
    {
     "name": "stderr",
     "output_type": "stream",
     "text": [
      "E:\\anaconda\\lib\\site-packages\\ipykernel_launcher.py:63: DeprecationWarning: In future, it will be an error for 'np.bool_' scalars to be interpreted as an index\n"
     ]
    },
    {
     "name": "stdout",
     "output_type": "stream",
     "text": [
      "\n",
      "rmse: 2.8971513376382805\n",
      "\n",
      "lp: 0.4876533753733058\n",
      "\n"
     ]
    },
    {
     "name": "stderr",
     "output_type": "stream",
     "text": [
      "E:\\anaconda\\lib\\site-packages\\ipykernel_launcher.py:63: DeprecationWarning: In future, it will be an error for 'np.bool_' scalars to be interpreted as an index\n"
     ]
    },
    {
     "name": "stdout",
     "output_type": "stream",
     "text": [
      "\n",
      "rmse: 2.8112621945093395\n",
      "\n",
      "lp: 0.6773945618823594\n",
      "\n"
     ]
    },
    {
     "name": "stderr",
     "output_type": "stream",
     "text": [
      "E:\\anaconda\\lib\\site-packages\\ipykernel_launcher.py:63: DeprecationWarning: In future, it will be an error for 'np.bool_' scalars to be interpreted as an index\n"
     ]
    },
    {
     "name": "stdout",
     "output_type": "stream",
     "text": [
      "\n",
      "rmse: 2.377432567427857\n",
      "\n",
      "lp: 0.5616812505991531\n",
      "\n"
     ]
    },
    {
     "name": "stderr",
     "output_type": "stream",
     "text": [
      "E:\\anaconda\\lib\\site-packages\\ipykernel_launcher.py:63: DeprecationWarning: In future, it will be an error for 'np.bool_' scalars to be interpreted as an index\n"
     ]
    },
    {
     "name": "stdout",
     "output_type": "stream",
     "text": [
      "\n",
      "rmse: 2.6361512564104976\n",
      "\n",
      "lp: 1.0\n",
      "\n"
     ]
    },
    {
     "name": "stderr",
     "output_type": "stream",
     "text": [
      "E:\\anaconda\\lib\\site-packages\\ipykernel_launcher.py:63: DeprecationWarning: In future, it will be an error for 'np.bool_' scalars to be interpreted as an index\n"
     ]
    },
    {
     "name": "stdout",
     "output_type": "stream",
     "text": [
      "\n",
      "rmse: 2.225495899347907\n",
      "\n",
      "lp: 0.7544474754768985\n",
      "\n"
     ]
    },
    {
     "name": "stderr",
     "output_type": "stream",
     "text": [
      "E:\\anaconda\\lib\\site-packages\\ipykernel_launcher.py:63: DeprecationWarning: In future, it will be an error for 'np.bool_' scalars to be interpreted as an index\n"
     ]
    },
    {
     "name": "stdout",
     "output_type": "stream",
     "text": [
      "\n",
      "rmse: 2.671173529185342\n",
      "\n",
      "lp: 0.00035189163821272427\n",
      "\n"
     ]
    },
    {
     "name": "stderr",
     "output_type": "stream",
     "text": [
      "E:\\anaconda\\lib\\site-packages\\ipykernel_launcher.py:63: DeprecationWarning: In future, it will be an error for 'np.bool_' scalars to be interpreted as an index\n"
     ]
    },
    {
     "name": "stdout",
     "output_type": "stream",
     "text": [
      "\n",
      "rmse: 2.334082379246335\n",
      "\n",
      "lp: 0.22855746881696715\n",
      "\n"
     ]
    },
    {
     "name": "stderr",
     "output_type": "stream",
     "text": [
      "E:\\anaconda\\lib\\site-packages\\ipykernel_launcher.py:63: DeprecationWarning: In future, it will be an error for 'np.bool_' scalars to be interpreted as an index\n"
     ]
    },
    {
     "name": "stdout",
     "output_type": "stream",
     "text": [
      "\n",
      "rmse: 2.7446846768329185\n",
      "\n",
      "lp: 0.910031238328089\n",
      "\n"
     ]
    },
    {
     "name": "stderr",
     "output_type": "stream",
     "text": [
      "E:\\anaconda\\lib\\site-packages\\ipykernel_launcher.py:63: DeprecationWarning: In future, it will be an error for 'np.bool_' scalars to be interpreted as an index\n"
     ]
    },
    {
     "name": "stdout",
     "output_type": "stream",
     "text": [
      "\n",
      "rmse: 2.3395872932474995\n",
      "\n",
      "lp: 0.6606982687988312\n",
      "\n"
     ]
    },
    {
     "name": "stderr",
     "output_type": "stream",
     "text": [
      "E:\\anaconda\\lib\\site-packages\\ipykernel_launcher.py:63: DeprecationWarning: In future, it will be an error for 'np.bool_' scalars to be interpreted as an index\n"
     ]
    },
    {
     "name": "stdout",
     "output_type": "stream",
     "text": [
      "\n",
      "rmse: 2.4921864098273874\n",
      "\n",
      "lp: 0.12020226197963452\n",
      "\n"
     ]
    },
    {
     "name": "stderr",
     "output_type": "stream",
     "text": [
      "E:\\anaconda\\lib\\site-packages\\ipykernel_launcher.py:63: DeprecationWarning: In future, it will be an error for 'np.bool_' scalars to be interpreted as an index\n"
     ]
    },
    {
     "name": "stdout",
     "output_type": "stream",
     "text": [
      "\n",
      "rmse: 2.6124769247221398\n",
      "\n",
      "lp: 0.35461097476796566\n",
      "\n"
     ]
    },
    {
     "name": "stderr",
     "output_type": "stream",
     "text": [
      "E:\\anaconda\\lib\\site-packages\\ipykernel_launcher.py:63: DeprecationWarning: In future, it will be an error for 'np.bool_' scalars to be interpreted as an index\n"
     ]
    },
    {
     "name": "stdout",
     "output_type": "stream",
     "text": [
      "\n",
      "rmse: 2.487121492747064\n",
      "\n",
      "lp: 0.6380013991062955\n",
      "\n"
     ]
    },
    {
     "name": "stderr",
     "output_type": "stream",
     "text": [
      "E:\\anaconda\\lib\\site-packages\\ipykernel_launcher.py:63: DeprecationWarning: In future, it will be an error for 'np.bool_' scalars to be interpreted as an index\n"
     ]
    },
    {
     "name": "stdout",
     "output_type": "stream",
     "text": [
      "\n",
      "rmse: 2.470856349513146\n",
      "\n",
      "lp: 0.9382074681698753\n",
      "\n"
     ]
    },
    {
     "name": "stderr",
     "output_type": "stream",
     "text": [
      "E:\\anaconda\\lib\\site-packages\\ipykernel_launcher.py:63: DeprecationWarning: In future, it will be an error for 'np.bool_' scalars to be interpreted as an index\n"
     ]
    },
    {
     "name": "stdout",
     "output_type": "stream",
     "text": [
      "\n",
      "rmse: 2.304289526248489\n",
      "\n",
      "lp: 0.06524284686925214\n",
      "\n"
     ]
    },
    {
     "name": "stderr",
     "output_type": "stream",
     "text": [
      "E:\\anaconda\\lib\\site-packages\\ipykernel_launcher.py:63: DeprecationWarning: In future, it will be an error for 'np.bool_' scalars to be interpreted as an index\n"
     ]
    },
    {
     "name": "stdout",
     "output_type": "stream",
     "text": [
      "\n",
      "rmse: 1.9638065475242734\n",
      "\n",
      "lp: 0.30154108626197673\n",
      "\n"
     ]
    },
    {
     "name": "stderr",
     "output_type": "stream",
     "text": [
      "E:\\anaconda\\lib\\site-packages\\ipykernel_launcher.py:63: DeprecationWarning: In future, it will be an error for 'np.bool_' scalars to be interpreted as an index\n"
     ]
    },
    {
     "name": "stdout",
     "output_type": "stream",
     "text": [
      "\n",
      "rmse: 2.07081828588596\n",
      "\n",
      "lp: 0.602641706282218\n",
      "\n"
     ]
    },
    {
     "name": "stderr",
     "output_type": "stream",
     "text": [
      "E:\\anaconda\\lib\\site-packages\\ipykernel_launcher.py:63: DeprecationWarning: In future, it will be an error for 'np.bool_' scalars to be interpreted as an index\n"
     ]
    },
    {
     "name": "stdout",
     "output_type": "stream",
     "text": [
      "\n",
      "rmse: 2.349588148674619\n",
      "\n",
      "lp: 0.8203454467373134\n",
      "\n"
     ]
    },
    {
     "name": "stderr",
     "output_type": "stream",
     "text": [
      "E:\\anaconda\\lib\\site-packages\\ipykernel_launcher.py:63: DeprecationWarning: In future, it will be an error for 'np.bool_' scalars to be interpreted as an index\n"
     ]
    },
    {
     "name": "stdout",
     "output_type": "stream",
     "text": [
      "\n",
      "rmse: 2.0653262671574932\n",
      "\n",
      "lp: 0.3915651385247892\n",
      "\n"
     ]
    },
    {
     "name": "stderr",
     "output_type": "stream",
     "text": [
      "E:\\anaconda\\lib\\site-packages\\ipykernel_launcher.py:63: DeprecationWarning: In future, it will be an error for 'np.bool_' scalars to be interpreted as an index\n"
     ]
    },
    {
     "name": "stdout",
     "output_type": "stream",
     "text": [
      "\n",
      "rmse: 2.184561701657716\n",
      "\n",
      "lp: 0.11904939819897296\n",
      "\n"
     ]
    },
    {
     "name": "stderr",
     "output_type": "stream",
     "text": [
      "E:\\anaconda\\lib\\site-packages\\ipykernel_launcher.py:63: DeprecationWarning: In future, it will be an error for 'np.bool_' scalars to be interpreted as an index\n"
     ]
    },
    {
     "name": "stdout",
     "output_type": "stream",
     "text": [
      "\n",
      "rmse: 2.317501361057202\n",
      "\n",
      "lp: 0.9940908121637587\n",
      "\n"
     ]
    },
    {
     "name": "stderr",
     "output_type": "stream",
     "text": [
      "E:\\anaconda\\lib\\site-packages\\ipykernel_launcher.py:63: DeprecationWarning: In future, it will be an error for 'np.bool_' scalars to be interpreted as an index\n"
     ]
    },
    {
     "name": "stdout",
     "output_type": "stream",
     "text": [
      "\n",
      "rmse: 2.0840845154974423\n",
      "\n",
      "lp: 0.003517057750523909\n",
      "\n"
     ]
    },
    {
     "name": "stderr",
     "output_type": "stream",
     "text": [
      "E:\\anaconda\\lib\\site-packages\\ipykernel_launcher.py:63: DeprecationWarning: In future, it will be an error for 'np.bool_' scalars to be interpreted as an index\n"
     ]
    },
    {
     "name": "stdout",
     "output_type": "stream",
     "text": [
      "\n",
      "rmse: 2.037011549508972\n",
      "\n",
      "lp: 0.9407091683223536\n",
      "\n"
     ]
    },
    {
     "name": "stderr",
     "output_type": "stream",
     "text": [
      "E:\\anaconda\\lib\\site-packages\\ipykernel_launcher.py:63: DeprecationWarning: In future, it will be an error for 'np.bool_' scalars to be interpreted as an index\n"
     ]
    },
    {
     "name": "stdout",
     "output_type": "stream",
     "text": [
      "\n",
      "rmse: 1.923828987508069\n",
      "\n",
      "lp: 0.015847709121391437\n",
      "\n"
     ]
    },
    {
     "name": "stderr",
     "output_type": "stream",
     "text": [
      "E:\\anaconda\\lib\\site-packages\\ipykernel_launcher.py:63: DeprecationWarning: In future, it will be an error for 'np.bool_' scalars to be interpreted as an index\n"
     ]
    },
    {
     "name": "stdout",
     "output_type": "stream",
     "text": [
      "\n",
      "rmse: 2.271329333649893\n",
      "\n",
      "lp: 0.6619833757568054\n",
      "\n"
     ]
    },
    {
     "name": "stderr",
     "output_type": "stream",
     "text": [
      "E:\\anaconda\\lib\\site-packages\\ipykernel_launcher.py:63: DeprecationWarning: In future, it will be an error for 'np.bool_' scalars to be interpreted as an index\n"
     ]
    },
    {
     "name": "stdout",
     "output_type": "stream",
     "text": [
      "\n",
      "rmse: 2.8076656127578676\n",
      "\n",
      "lp: 0.9817999177784794\n",
      "\n"
     ]
    },
    {
     "name": "stderr",
     "output_type": "stream",
     "text": [
      "E:\\anaconda\\lib\\site-packages\\ipykernel_launcher.py:63: DeprecationWarning: In future, it will be an error for 'np.bool_' scalars to be interpreted as an index\n"
     ]
    },
    {
     "name": "stdout",
     "output_type": "stream",
     "text": [
      "\n",
      "rmse: 2.0740695496373136\n",
      "\n",
      "lp: 1e-07\n",
      "\n"
     ]
    },
    {
     "name": "stderr",
     "output_type": "stream",
     "text": [
      "E:\\anaconda\\lib\\site-packages\\ipykernel_launcher.py:63: DeprecationWarning: In future, it will be an error for 'np.bool_' scalars to be interpreted as an index\n"
     ]
    },
    {
     "name": "stdout",
     "output_type": "stream",
     "text": [
      "\n",
      "rmse: 2.3657947059078612\n",
      "\n",
      "lp: 1.0\n",
      "\n"
     ]
    },
    {
     "name": "stderr",
     "output_type": "stream",
     "text": [
      "E:\\anaconda\\lib\\site-packages\\ipykernel_launcher.py:63: DeprecationWarning: In future, it will be an error for 'np.bool_' scalars to be interpreted as an index\n"
     ]
    },
    {
     "name": "stdout",
     "output_type": "stream",
     "text": [
      "\n",
      "rmse: 2.081211813088716\n",
      "\n",
      "lp: 1.0\n",
      "\n"
     ]
    },
    {
     "name": "stderr",
     "output_type": "stream",
     "text": [
      "E:\\anaconda\\lib\\site-packages\\ipykernel_launcher.py:63: DeprecationWarning: In future, it will be an error for 'np.bool_' scalars to be interpreted as an index\n"
     ]
    },
    {
     "name": "stdout",
     "output_type": "stream",
     "text": [
      "\n",
      "rmse: 2.163390572445281\n",
      "\n",
      "lp: 1.0\n",
      "\n"
     ]
    },
    {
     "name": "stderr",
     "output_type": "stream",
     "text": [
      "E:\\anaconda\\lib\\site-packages\\ipykernel_launcher.py:63: DeprecationWarning: In future, it will be an error for 'np.bool_' scalars to be interpreted as an index\n"
     ]
    },
    {
     "name": "stdout",
     "output_type": "stream",
     "text": [
      "\n",
      "rmse: 2.1509599841976437\n",
      "\n",
      "lp: 1.0\n",
      "\n"
     ]
    },
    {
     "name": "stderr",
     "output_type": "stream",
     "text": [
      "E:\\anaconda\\lib\\site-packages\\ipykernel_launcher.py:63: DeprecationWarning: In future, it will be an error for 'np.bool_' scalars to be interpreted as an index\n"
     ]
    },
    {
     "name": "stdout",
     "output_type": "stream",
     "text": [
      "\n",
      "rmse: 2.121458635278403\n",
      "\n",
      "lp: 1e-07\n",
      "\n"
     ]
    },
    {
     "name": "stderr",
     "output_type": "stream",
     "text": [
      "E:\\anaconda\\lib\\site-packages\\ipykernel_launcher.py:63: DeprecationWarning: In future, it will be an error for 'np.bool_' scalars to be interpreted as an index\n"
     ]
    },
    {
     "name": "stdout",
     "output_type": "stream",
     "text": [
      "\n",
      "rmse: 1.8571501421390462\n",
      "\n",
      "lp: 1e-07\n",
      "\n"
     ]
    },
    {
     "name": "stderr",
     "output_type": "stream",
     "text": [
      "E:\\anaconda\\lib\\site-packages\\ipykernel_launcher.py:63: DeprecationWarning: In future, it will be an error for 'np.bool_' scalars to be interpreted as an index\n"
     ]
    },
    {
     "name": "stdout",
     "output_type": "stream",
     "text": [
      "\n",
      "rmse: 2.0414502666607937\n",
      "\n",
      "lp: 1e-07\n",
      "\n"
     ]
    },
    {
     "name": "stderr",
     "output_type": "stream",
     "text": [
      "E:\\anaconda\\lib\\site-packages\\ipykernel_launcher.py:63: DeprecationWarning: In future, it will be an error for 'np.bool_' scalars to be interpreted as an index\n"
     ]
    },
    {
     "name": "stdout",
     "output_type": "stream",
     "text": [
      "\n",
      "rmse: 1.9127373356744954\n",
      "\n",
      "lp: 1e-07\n",
      "\n"
     ]
    },
    {
     "name": "stderr",
     "output_type": "stream",
     "text": [
      "E:\\anaconda\\lib\\site-packages\\ipykernel_launcher.py:63: DeprecationWarning: In future, it will be an error for 'np.bool_' scalars to be interpreted as an index\n"
     ]
    },
    {
     "name": "stdout",
     "output_type": "stream",
     "text": [
      "\n",
      "rmse: 1.8877760559563448\n",
      "\n",
      "lp: 1e-07\n",
      "\n"
     ]
    },
    {
     "name": "stderr",
     "output_type": "stream",
     "text": [
      "E:\\anaconda\\lib\\site-packages\\ipykernel_launcher.py:63: DeprecationWarning: In future, it will be an error for 'np.bool_' scalars to be interpreted as an index\n"
     ]
    },
    {
     "name": "stdout",
     "output_type": "stream",
     "text": [
      "\n",
      "rmse: 1.860373010298156\n",
      "\n",
      "lp: 1e-07\n",
      "\n"
     ]
    },
    {
     "name": "stderr",
     "output_type": "stream",
     "text": [
      "E:\\anaconda\\lib\\site-packages\\ipykernel_launcher.py:63: DeprecationWarning: In future, it will be an error for 'np.bool_' scalars to be interpreted as an index\n"
     ]
    },
    {
     "name": "stdout",
     "output_type": "stream",
     "text": [
      "\n",
      "rmse: 1.9113400859018737\n",
      "\n",
      "lp: 1e-07\n",
      "\n"
     ]
    },
    {
     "name": "stderr",
     "output_type": "stream",
     "text": [
      "E:\\anaconda\\lib\\site-packages\\ipykernel_launcher.py:63: DeprecationWarning: In future, it will be an error for 'np.bool_' scalars to be interpreted as an index\n"
     ]
    },
    {
     "name": "stdout",
     "output_type": "stream",
     "text": [
      "\n",
      "rmse: 1.8554983772381577\n",
      "\n",
      "lp: 0.8019703482673692\n",
      "\n"
     ]
    },
    {
     "name": "stderr",
     "output_type": "stream",
     "text": [
      "E:\\anaconda\\lib\\site-packages\\ipykernel_launcher.py:63: DeprecationWarning: In future, it will be an error for 'np.bool_' scalars to be interpreted as an index\n"
     ]
    },
    {
     "name": "stdout",
     "output_type": "stream",
     "text": [
      "\n",
      "rmse: 1.89894817315056\n",
      "\n",
      "lp: 1e-07\n",
      "\n"
     ]
    },
    {
     "name": "stderr",
     "output_type": "stream",
     "text": [
      "E:\\anaconda\\lib\\site-packages\\ipykernel_launcher.py:63: DeprecationWarning: In future, it will be an error for 'np.bool_' scalars to be interpreted as an index\n"
     ]
    },
    {
     "name": "stdout",
     "output_type": "stream",
     "text": [
      "\n",
      "rmse: 1.874215822139477\n",
      "\n",
      "lp: 1e-07\n",
      "\n"
     ]
    },
    {
     "name": "stderr",
     "output_type": "stream",
     "text": [
      "E:\\anaconda\\lib\\site-packages\\ipykernel_launcher.py:63: DeprecationWarning: In future, it will be an error for 'np.bool_' scalars to be interpreted as an index\n"
     ]
    },
    {
     "name": "stdout",
     "output_type": "stream",
     "text": [
      "\n",
      "rmse: 2.179808974951003\n",
      "\n",
      "lp: 1e-07\n",
      "\n"
     ]
    },
    {
     "name": "stderr",
     "output_type": "stream",
     "text": [
      "E:\\anaconda\\lib\\site-packages\\ipykernel_launcher.py:63: DeprecationWarning: In future, it will be an error for 'np.bool_' scalars to be interpreted as an index\n"
     ]
    },
    {
     "name": "stdout",
     "output_type": "stream",
     "text": [
      "\n",
      "rmse: 1.8190760021821357\n",
      "\n",
      "lp: 0.28470525015156645\n",
      "\n"
     ]
    },
    {
     "name": "stderr",
     "output_type": "stream",
     "text": [
      "E:\\anaconda\\lib\\site-packages\\ipykernel_launcher.py:63: DeprecationWarning: In future, it will be an error for 'np.bool_' scalars to be interpreted as an index\n"
     ]
    },
    {
     "name": "stdout",
     "output_type": "stream",
     "text": [
      "\n",
      "rmse: 1.8446760414844678\n",
      "\n",
      "lp: 0.12899177657698088\n",
      "\n"
     ]
    },
    {
     "name": "stderr",
     "output_type": "stream",
     "text": [
      "E:\\anaconda\\lib\\site-packages\\ipykernel_launcher.py:63: DeprecationWarning: In future, it will be an error for 'np.bool_' scalars to be interpreted as an index\n"
     ]
    },
    {
     "name": "stdout",
     "output_type": "stream",
     "text": [
      "\n",
      "rmse: 1.8425482581459411\n",
      "\n",
      "lp: 0.7555522350006717\n",
      "\n"
     ]
    },
    {
     "name": "stderr",
     "output_type": "stream",
     "text": [
      "E:\\anaconda\\lib\\site-packages\\ipykernel_launcher.py:63: DeprecationWarning: In future, it will be an error for 'np.bool_' scalars to be interpreted as an index\n"
     ]
    },
    {
     "name": "stdout",
     "output_type": "stream",
     "text": [
      "\n",
      "rmse: 1.890948438073462\n",
      "\n",
      "lp: 0.21671302974286943\n",
      "\n"
     ]
    },
    {
     "name": "stderr",
     "output_type": "stream",
     "text": [
      "E:\\anaconda\\lib\\site-packages\\ipykernel_launcher.py:63: DeprecationWarning: In future, it will be an error for 'np.bool_' scalars to be interpreted as an index\n"
     ]
    },
    {
     "name": "stdout",
     "output_type": "stream",
     "text": [
      "\n",
      "rmse: 1.8823013186338682\n",
      "\n",
      "lp: 0.029484890911713826\n",
      "\n"
     ]
    },
    {
     "name": "stderr",
     "output_type": "stream",
     "text": [
      "E:\\anaconda\\lib\\site-packages\\ipykernel_launcher.py:63: DeprecationWarning: In future, it will be an error for 'np.bool_' scalars to be interpreted as an index\n"
     ]
    },
    {
     "name": "stdout",
     "output_type": "stream",
     "text": [
      "\n",
      "rmse: 2.0493458796433646\n",
      "\n",
      "lp: 1e-07\n",
      "\n"
     ]
    },
    {
     "name": "stderr",
     "output_type": "stream",
     "text": [
      "E:\\anaconda\\lib\\site-packages\\ipykernel_launcher.py:63: DeprecationWarning: In future, it will be an error for 'np.bool_' scalars to be interpreted as an index\n"
     ]
    },
    {
     "name": "stdout",
     "output_type": "stream",
     "text": [
      "\n",
      "rmse: 1.893627327182789\n",
      "\n",
      "lp: 0.18458060610387436\n",
      "\n"
     ]
    },
    {
     "name": "stderr",
     "output_type": "stream",
     "text": [
      "E:\\anaconda\\lib\\site-packages\\ipykernel_launcher.py:63: DeprecationWarning: In future, it will be an error for 'np.bool_' scalars to be interpreted as an index\n"
     ]
    },
    {
     "name": "stdout",
     "output_type": "stream",
     "text": [
      "\n",
      "rmse: 2.086157035304277\n",
      "\n",
      "lp: 0.5527191353063221\n",
      "\n"
     ]
    },
    {
     "name": "stderr",
     "output_type": "stream",
     "text": [
      "E:\\anaconda\\lib\\site-packages\\ipykernel_launcher.py:63: DeprecationWarning: In future, it will be an error for 'np.bool_' scalars to be interpreted as an index\n"
     ]
    },
    {
     "name": "stdout",
     "output_type": "stream",
     "text": [
      "\n",
      "rmse: 1.8409502947009482\n",
      "\n",
      "lp: 0.3631383210973582\n",
      "\n"
     ]
    },
    {
     "name": "stderr",
     "output_type": "stream",
     "text": [
      "E:\\anaconda\\lib\\site-packages\\ipykernel_launcher.py:63: DeprecationWarning: In future, it will be an error for 'np.bool_' scalars to be interpreted as an index\n"
     ]
    },
    {
     "name": "stdout",
     "output_type": "stream",
     "text": [
      "\n",
      "rmse: 1.9022094191863455\n",
      "\n",
      "lp: 0.06331386675021587\n",
      "\n"
     ]
    },
    {
     "name": "stderr",
     "output_type": "stream",
     "text": [
      "E:\\anaconda\\lib\\site-packages\\ipykernel_launcher.py:63: DeprecationWarning: In future, it will be an error for 'np.bool_' scalars to be interpreted as an index\n"
     ]
    },
    {
     "name": "stdout",
     "output_type": "stream",
     "text": [
      "\n",
      "rmse: 1.801759876838921\n",
      "\n",
      "lp: 1e-07\n",
      "\n"
     ]
    },
    {
     "name": "stderr",
     "output_type": "stream",
     "text": [
      "E:\\anaconda\\lib\\site-packages\\ipykernel_launcher.py:63: DeprecationWarning: In future, it will be an error for 'np.bool_' scalars to be interpreted as an index\n"
     ]
    },
    {
     "name": "stdout",
     "output_type": "stream",
     "text": [
      "\n",
      "rmse: 1.8192905699696371\n",
      "\n",
      "lp: 1e-07\n",
      "\n"
     ]
    },
    {
     "name": "stderr",
     "output_type": "stream",
     "text": [
      "E:\\anaconda\\lib\\site-packages\\ipykernel_launcher.py:63: DeprecationWarning: In future, it will be an error for 'np.bool_' scalars to be interpreted as an index\n"
     ]
    },
    {
     "name": "stdout",
     "output_type": "stream",
     "text": [
      "\n",
      "rmse: 1.782917673065144\n",
      "\n",
      "lp: 1e-07\n",
      "\n"
     ]
    },
    {
     "name": "stderr",
     "output_type": "stream",
     "text": [
      "E:\\anaconda\\lib\\site-packages\\ipykernel_launcher.py:63: DeprecationWarning: In future, it will be an error for 'np.bool_' scalars to be interpreted as an index\n"
     ]
    },
    {
     "name": "stdout",
     "output_type": "stream",
     "text": [
      "\n",
      "rmse: 1.921921139201501\n",
      "\n",
      "lp: 1e-07\n",
      "\n"
     ]
    },
    {
     "name": "stderr",
     "output_type": "stream",
     "text": [
      "E:\\anaconda\\lib\\site-packages\\ipykernel_launcher.py:63: DeprecationWarning: In future, it will be an error for 'np.bool_' scalars to be interpreted as an index\n"
     ]
    },
    {
     "name": "stdout",
     "output_type": "stream",
     "text": [
      "\n",
      "rmse: 2.12339695809324\n",
      "\n",
      "lp: 1e-07\n",
      "\n"
     ]
    },
    {
     "name": "stderr",
     "output_type": "stream",
     "text": [
      "E:\\anaconda\\lib\\site-packages\\ipykernel_launcher.py:63: DeprecationWarning: In future, it will be an error for 'np.bool_' scalars to be interpreted as an index\n"
     ]
    },
    {
     "name": "stdout",
     "output_type": "stream",
     "text": [
      "\n",
      "rmse: 2.04788431745821\n",
      "\n",
      "lp: 1e-07\n",
      "\n"
     ]
    },
    {
     "name": "stderr",
     "output_type": "stream",
     "text": [
      "E:\\anaconda\\lib\\site-packages\\ipykernel_launcher.py:63: DeprecationWarning: In future, it will be an error for 'np.bool_' scalars to be interpreted as an index\n"
     ]
    },
    {
     "name": "stdout",
     "output_type": "stream",
     "text": [
      "\n",
      "rmse: 1.8338644293055624\n",
      "\n",
      "lp: 1e-07\n",
      "\n"
     ]
    },
    {
     "name": "stderr",
     "output_type": "stream",
     "text": [
      "E:\\anaconda\\lib\\site-packages\\ipykernel_launcher.py:63: DeprecationWarning: In future, it will be an error for 'np.bool_' scalars to be interpreted as an index\n"
     ]
    },
    {
     "name": "stdout",
     "output_type": "stream",
     "text": [
      "\n",
      "rmse: 2.627162715669281\n",
      "\n",
      "lp: 0.7533150772157009\n",
      "\n"
     ]
    },
    {
     "name": "stderr",
     "output_type": "stream",
     "text": [
      "E:\\anaconda\\lib\\site-packages\\ipykernel_launcher.py:63: DeprecationWarning: In future, it will be an error for 'np.bool_' scalars to be interpreted as an index\n"
     ]
    },
    {
     "name": "stdout",
     "output_type": "stream",
     "text": [
      "\n",
      "rmse: 2.142844354434309\n",
      "\n"
     ]
    },
    {
     "name": "stderr",
     "output_type": "stream",
     "text": [
      "E:\\anaconda\\lib\\site-packages\\ipykernel_launcher.py:63: DeprecationWarning: In future, it will be an error for 'np.bool_' scalars to be interpreted as an index\n"
     ]
    },
    {
     "name": "stdout",
     "output_type": "stream",
     "text": [
      "7849.463581562042\n"
     ]
    }
   ],
   "source": [
    "start=time.time()\n",
    "rmset=np.zeros(shape=(3,5))\n",
    "rmsev=np.zeros(shape=(3,5))\n",
    "for k in range(1,6):\n",
    "    default_parameters = [1e-3,1e-3,1e-3,1e-3,1e-3,1e-3,1e-3,1e-3,1e-3,1e-3,1e-3,1e-3]\n",
    "    search_result = gp_minimize(func=Fitness,\n",
    "                            dimensions=dimensions,\n",
    "                            acq_func='EI', \n",
    "                            n_calls=100,\n",
    "                            x0=default_parameters)\n",
    "    para=search_result.x\n",
    "    rmsev[2,k-1]=search_result.fun\n",
    "    rmset[2,k-1]=mygsm(mylasso,ind1,y1,ind2,y2,x_train,x_test,y,y_test,Shopgroup,Itemgroup,n,m,3*k,para[0],\n",
    "    para[1],\n",
    "    para[2],\n",
    "    para[3],\n",
    "    para[4],\n",
    "    para[5],\n",
    "    para[6],\n",
    "    para[7],\n",
    "    para[8],\n",
    "    para[9],\n",
    "    para[10],\n",
    "    para[11])[0]\n",
    "print(time.time()-start)\n"
   ]
  },
  {
   "cell_type": "markdown",
   "metadata": {},
   "source": [
    "1-layered gssvd rmse focused "
   ]
  },
  {
   "cell_type": "code",
   "execution_count": 96,
   "metadata": {},
   "outputs": [],
   "source": [
    "lp = Real(low=1e-7, high=1, prior='uniform',\n",
    "                             name='lp')\n",
    "ls = Real(low=1e-7, high=1, prior='uniform',\n",
    "                             name='ls')\n",
    "lq = Real(low=1e-7, high=1, prior='uniform',\n",
    "                             name='lq')\n",
    "lt = Real(low=1e-7, high=1, prior='uniform',\n",
    "                             name='lt')\n",
    "Lp = Real(low=1e-7, high=1, prior='uniform',\n",
    "                             name='Lp')\n",
    "Ls = Real(low=1e-7, high=1, prior='uniform',\n",
    "                             name='Ls')\n",
    "Lq = Real(low=1e-7, high=1, prior='uniform',\n",
    "                             name='Lq')\n",
    "Lt = Real(low=1e-7, high=1, prior='uniform',\n",
    "                             name='Lt')\n",
    "dimensions = [lp,ls,lq,lt,Lp,Ls,Lq,Lt]"
   ]
  },
  {
   "cell_type": "code",
   "execution_count": 97,
   "metadata": {},
   "outputs": [],
   "source": [
    "@use_named_args(dimensions=dimensions)\n",
    "def Fitness(lp,ls,lq,lt,Lp,Ls,Lq,Lt):\n",
    "    rmse,yhat = mygsm1(mylasso,ind1,y1,ind2,y2,x_train,x_valid,y,y_valid,Shopgroup,Itemgroup,\n",
    "                      n,m,3*k,lp,ls,lq,lt,Lp,Ls,Lq,Lt)\n",
    "    return rmse"
   ]
  },
  {
   "cell_type": "code",
   "execution_count": 98,
   "metadata": {
    "scrolled": false
   },
   "outputs": [
    {
     "name": "stderr",
     "output_type": "stream",
     "text": [
      "E:\\anaconda\\lib\\site-packages\\ipykernel_launcher.py:44: DeprecationWarning: In future, it will be an error for 'np.bool_' scalars to be interpreted as an index\n",
      "E:\\anaconda\\lib\\site-packages\\ipykernel_launcher.py:44: DeprecationWarning: In future, it will be an error for 'np.bool_' scalars to be interpreted as an index\n",
      "E:\\anaconda\\lib\\site-packages\\ipykernel_launcher.py:44: DeprecationWarning: In future, it will be an error for 'np.bool_' scalars to be interpreted as an index\n",
      "E:\\anaconda\\lib\\site-packages\\ipykernel_launcher.py:44: DeprecationWarning: In future, it will be an error for 'np.bool_' scalars to be interpreted as an index\n",
      "E:\\anaconda\\lib\\site-packages\\ipykernel_launcher.py:44: DeprecationWarning: In future, it will be an error for 'np.bool_' scalars to be interpreted as an index\n",
      "E:\\anaconda\\lib\\site-packages\\ipykernel_launcher.py:44: DeprecationWarning: In future, it will be an error for 'np.bool_' scalars to be interpreted as an index\n",
      "E:\\anaconda\\lib\\site-packages\\ipykernel_launcher.py:44: DeprecationWarning: In future, it will be an error for 'np.bool_' scalars to be interpreted as an index\n",
      "E:\\anaconda\\lib\\site-packages\\ipykernel_launcher.py:44: DeprecationWarning: In future, it will be an error for 'np.bool_' scalars to be interpreted as an index\n",
      "E:\\anaconda\\lib\\site-packages\\ipykernel_launcher.py:44: DeprecationWarning: In future, it will be an error for 'np.bool_' scalars to be interpreted as an index\n",
      "E:\\anaconda\\lib\\site-packages\\ipykernel_launcher.py:44: DeprecationWarning: In future, it will be an error for 'np.bool_' scalars to be interpreted as an index\n",
      "E:\\anaconda\\lib\\site-packages\\ipykernel_launcher.py:44: DeprecationWarning: In future, it will be an error for 'np.bool_' scalars to be interpreted as an index\n",
      "E:\\anaconda\\lib\\site-packages\\ipykernel_launcher.py:44: DeprecationWarning: In future, it will be an error for 'np.bool_' scalars to be interpreted as an index\n",
      "E:\\anaconda\\lib\\site-packages\\ipykernel_launcher.py:44: DeprecationWarning: In future, it will be an error for 'np.bool_' scalars to be interpreted as an index\n",
      "E:\\anaconda\\lib\\site-packages\\ipykernel_launcher.py:44: DeprecationWarning: In future, it will be an error for 'np.bool_' scalars to be interpreted as an index\n",
      "E:\\anaconda\\lib\\site-packages\\ipykernel_launcher.py:44: DeprecationWarning: In future, it will be an error for 'np.bool_' scalars to be interpreted as an index\n",
      "E:\\anaconda\\lib\\site-packages\\ipykernel_launcher.py:44: DeprecationWarning: In future, it will be an error for 'np.bool_' scalars to be interpreted as an index\n",
      "E:\\anaconda\\lib\\site-packages\\ipykernel_launcher.py:44: DeprecationWarning: In future, it will be an error for 'np.bool_' scalars to be interpreted as an index\n",
      "E:\\anaconda\\lib\\site-packages\\ipykernel_launcher.py:44: DeprecationWarning: In future, it will be an error for 'np.bool_' scalars to be interpreted as an index\n",
      "E:\\anaconda\\lib\\site-packages\\ipykernel_launcher.py:44: DeprecationWarning: In future, it will be an error for 'np.bool_' scalars to be interpreted as an index\n",
      "E:\\anaconda\\lib\\site-packages\\ipykernel_launcher.py:44: DeprecationWarning: In future, it will be an error for 'np.bool_' scalars to be interpreted as an index\n",
      "E:\\anaconda\\lib\\site-packages\\ipykernel_launcher.py:44: DeprecationWarning: In future, it will be an error for 'np.bool_' scalars to be interpreted as an index\n",
      "E:\\anaconda\\lib\\site-packages\\ipykernel_launcher.py:44: DeprecationWarning: In future, it will be an error for 'np.bool_' scalars to be interpreted as an index\n",
      "E:\\anaconda\\lib\\site-packages\\ipykernel_launcher.py:44: DeprecationWarning: In future, it will be an error for 'np.bool_' scalars to be interpreted as an index\n",
      "E:\\anaconda\\lib\\site-packages\\ipykernel_launcher.py:44: DeprecationWarning: In future, it will be an error for 'np.bool_' scalars to be interpreted as an index\n",
      "E:\\anaconda\\lib\\site-packages\\ipykernel_launcher.py:44: DeprecationWarning: In future, it will be an error for 'np.bool_' scalars to be interpreted as an index\n",
      "E:\\anaconda\\lib\\site-packages\\ipykernel_launcher.py:44: DeprecationWarning: In future, it will be an error for 'np.bool_' scalars to be interpreted as an index\n",
      "E:\\anaconda\\lib\\site-packages\\ipykernel_launcher.py:44: DeprecationWarning: In future, it will be an error for 'np.bool_' scalars to be interpreted as an index\n",
      "E:\\anaconda\\lib\\site-packages\\ipykernel_launcher.py:44: DeprecationWarning: In future, it will be an error for 'np.bool_' scalars to be interpreted as an index\n",
      "E:\\anaconda\\lib\\site-packages\\ipykernel_launcher.py:44: DeprecationWarning: In future, it will be an error for 'np.bool_' scalars to be interpreted as an index\n",
      "E:\\anaconda\\lib\\site-packages\\ipykernel_launcher.py:44: DeprecationWarning: In future, it will be an error for 'np.bool_' scalars to be interpreted as an index\n",
      "E:\\anaconda\\lib\\site-packages\\ipykernel_launcher.py:44: DeprecationWarning: In future, it will be an error for 'np.bool_' scalars to be interpreted as an index\n",
      "E:\\anaconda\\lib\\site-packages\\ipykernel_launcher.py:44: DeprecationWarning: In future, it will be an error for 'np.bool_' scalars to be interpreted as an index\n",
      "E:\\anaconda\\lib\\site-packages\\ipykernel_launcher.py:44: DeprecationWarning: In future, it will be an error for 'np.bool_' scalars to be interpreted as an index\n",
      "E:\\anaconda\\lib\\site-packages\\ipykernel_launcher.py:44: DeprecationWarning: In future, it will be an error for 'np.bool_' scalars to be interpreted as an index\n",
      "E:\\anaconda\\lib\\site-packages\\ipykernel_launcher.py:44: DeprecationWarning: In future, it will be an error for 'np.bool_' scalars to be interpreted as an index\n",
      "E:\\anaconda\\lib\\site-packages\\ipykernel_launcher.py:44: DeprecationWarning: In future, it will be an error for 'np.bool_' scalars to be interpreted as an index\n",
      "E:\\anaconda\\lib\\site-packages\\ipykernel_launcher.py:44: DeprecationWarning: In future, it will be an error for 'np.bool_' scalars to be interpreted as an index\n",
      "E:\\anaconda\\lib\\site-packages\\ipykernel_launcher.py:44: DeprecationWarning: In future, it will be an error for 'np.bool_' scalars to be interpreted as an index\n",
      "E:\\anaconda\\lib\\site-packages\\ipykernel_launcher.py:44: DeprecationWarning: In future, it will be an error for 'np.bool_' scalars to be interpreted as an index\n",
      "E:\\anaconda\\lib\\site-packages\\ipykernel_launcher.py:44: DeprecationWarning: In future, it will be an error for 'np.bool_' scalars to be interpreted as an index\n",
      "E:\\anaconda\\lib\\site-packages\\ipykernel_launcher.py:44: DeprecationWarning: In future, it will be an error for 'np.bool_' scalars to be interpreted as an index\n",
      "E:\\anaconda\\lib\\site-packages\\ipykernel_launcher.py:44: DeprecationWarning: In future, it will be an error for 'np.bool_' scalars to be interpreted as an index\n",
      "E:\\anaconda\\lib\\site-packages\\ipykernel_launcher.py:44: DeprecationWarning: In future, it will be an error for 'np.bool_' scalars to be interpreted as an index\n",
      "E:\\anaconda\\lib\\site-packages\\ipykernel_launcher.py:44: DeprecationWarning: In future, it will be an error for 'np.bool_' scalars to be interpreted as an index\n",
      "E:\\anaconda\\lib\\site-packages\\ipykernel_launcher.py:44: DeprecationWarning: In future, it will be an error for 'np.bool_' scalars to be interpreted as an index\n",
      "E:\\anaconda\\lib\\site-packages\\ipykernel_launcher.py:44: DeprecationWarning: In future, it will be an error for 'np.bool_' scalars to be interpreted as an index\n",
      "E:\\anaconda\\lib\\site-packages\\ipykernel_launcher.py:44: DeprecationWarning: In future, it will be an error for 'np.bool_' scalars to be interpreted as an index\n",
      "E:\\anaconda\\lib\\site-packages\\ipykernel_launcher.py:44: DeprecationWarning: In future, it will be an error for 'np.bool_' scalars to be interpreted as an index\n",
      "E:\\anaconda\\lib\\site-packages\\ipykernel_launcher.py:44: DeprecationWarning: In future, it will be an error for 'np.bool_' scalars to be interpreted as an index\n",
      "E:\\anaconda\\lib\\site-packages\\ipykernel_launcher.py:44: DeprecationWarning: In future, it will be an error for 'np.bool_' scalars to be interpreted as an index\n",
      "E:\\anaconda\\lib\\site-packages\\ipykernel_launcher.py:44: DeprecationWarning: In future, it will be an error for 'np.bool_' scalars to be interpreted as an index\n",
      "E:\\anaconda\\lib\\site-packages\\ipykernel_launcher.py:44: DeprecationWarning: In future, it will be an error for 'np.bool_' scalars to be interpreted as an index\n"
     ]
    },
    {
     "name": "stderr",
     "output_type": "stream",
     "text": [
      "E:\\anaconda\\lib\\site-packages\\ipykernel_launcher.py:44: DeprecationWarning: In future, it will be an error for 'np.bool_' scalars to be interpreted as an index\n",
      "E:\\anaconda\\lib\\site-packages\\ipykernel_launcher.py:44: DeprecationWarning: In future, it will be an error for 'np.bool_' scalars to be interpreted as an index\n",
      "E:\\anaconda\\lib\\site-packages\\ipykernel_launcher.py:44: DeprecationWarning: In future, it will be an error for 'np.bool_' scalars to be interpreted as an index\n",
      "E:\\anaconda\\lib\\site-packages\\ipykernel_launcher.py:44: DeprecationWarning: In future, it will be an error for 'np.bool_' scalars to be interpreted as an index\n",
      "E:\\anaconda\\lib\\site-packages\\ipykernel_launcher.py:44: DeprecationWarning: In future, it will be an error for 'np.bool_' scalars to be interpreted as an index\n",
      "E:\\anaconda\\lib\\site-packages\\ipykernel_launcher.py:44: DeprecationWarning: In future, it will be an error for 'np.bool_' scalars to be interpreted as an index\n",
      "E:\\anaconda\\lib\\site-packages\\ipykernel_launcher.py:44: DeprecationWarning: In future, it will be an error for 'np.bool_' scalars to be interpreted as an index\n",
      "E:\\anaconda\\lib\\site-packages\\ipykernel_launcher.py:44: DeprecationWarning: In future, it will be an error for 'np.bool_' scalars to be interpreted as an index\n",
      "E:\\anaconda\\lib\\site-packages\\ipykernel_launcher.py:44: DeprecationWarning: In future, it will be an error for 'np.bool_' scalars to be interpreted as an index\n",
      "E:\\anaconda\\lib\\site-packages\\ipykernel_launcher.py:44: DeprecationWarning: In future, it will be an error for 'np.bool_' scalars to be interpreted as an index\n",
      "E:\\anaconda\\lib\\site-packages\\ipykernel_launcher.py:44: DeprecationWarning: In future, it will be an error for 'np.bool_' scalars to be interpreted as an index\n",
      "E:\\anaconda\\lib\\site-packages\\ipykernel_launcher.py:44: DeprecationWarning: In future, it will be an error for 'np.bool_' scalars to be interpreted as an index\n",
      "E:\\anaconda\\lib\\site-packages\\ipykernel_launcher.py:44: DeprecationWarning: In future, it will be an error for 'np.bool_' scalars to be interpreted as an index\n",
      "E:\\anaconda\\lib\\site-packages\\ipykernel_launcher.py:44: DeprecationWarning: In future, it will be an error for 'np.bool_' scalars to be interpreted as an index\n",
      "E:\\anaconda\\lib\\site-packages\\ipykernel_launcher.py:44: DeprecationWarning: In future, it will be an error for 'np.bool_' scalars to be interpreted as an index\n",
      "E:\\anaconda\\lib\\site-packages\\ipykernel_launcher.py:44: DeprecationWarning: In future, it will be an error for 'np.bool_' scalars to be interpreted as an index\n",
      "E:\\anaconda\\lib\\site-packages\\ipykernel_launcher.py:44: DeprecationWarning: In future, it will be an error for 'np.bool_' scalars to be interpreted as an index\n",
      "E:\\anaconda\\lib\\site-packages\\ipykernel_launcher.py:44: DeprecationWarning: In future, it will be an error for 'np.bool_' scalars to be interpreted as an index\n",
      "E:\\anaconda\\lib\\site-packages\\ipykernel_launcher.py:44: DeprecationWarning: In future, it will be an error for 'np.bool_' scalars to be interpreted as an index\n",
      "E:\\anaconda\\lib\\site-packages\\ipykernel_launcher.py:44: DeprecationWarning: In future, it will be an error for 'np.bool_' scalars to be interpreted as an index\n",
      "E:\\anaconda\\lib\\site-packages\\ipykernel_launcher.py:44: DeprecationWarning: In future, it will be an error for 'np.bool_' scalars to be interpreted as an index\n",
      "E:\\anaconda\\lib\\site-packages\\ipykernel_launcher.py:44: DeprecationWarning: In future, it will be an error for 'np.bool_' scalars to be interpreted as an index\n",
      "E:\\anaconda\\lib\\site-packages\\ipykernel_launcher.py:44: DeprecationWarning: In future, it will be an error for 'np.bool_' scalars to be interpreted as an index\n",
      "E:\\anaconda\\lib\\site-packages\\ipykernel_launcher.py:44: DeprecationWarning: In future, it will be an error for 'np.bool_' scalars to be interpreted as an index\n",
      "E:\\anaconda\\lib\\site-packages\\ipykernel_launcher.py:44: DeprecationWarning: In future, it will be an error for 'np.bool_' scalars to be interpreted as an index\n",
      "E:\\anaconda\\lib\\site-packages\\ipykernel_launcher.py:44: DeprecationWarning: In future, it will be an error for 'np.bool_' scalars to be interpreted as an index\n",
      "E:\\anaconda\\lib\\site-packages\\ipykernel_launcher.py:44: DeprecationWarning: In future, it will be an error for 'np.bool_' scalars to be interpreted as an index\n",
      "E:\\anaconda\\lib\\site-packages\\ipykernel_launcher.py:44: DeprecationWarning: In future, it will be an error for 'np.bool_' scalars to be interpreted as an index\n",
      "E:\\anaconda\\lib\\site-packages\\ipykernel_launcher.py:44: DeprecationWarning: In future, it will be an error for 'np.bool_' scalars to be interpreted as an index\n",
      "E:\\anaconda\\lib\\site-packages\\ipykernel_launcher.py:44: DeprecationWarning: In future, it will be an error for 'np.bool_' scalars to be interpreted as an index\n",
      "E:\\anaconda\\lib\\site-packages\\ipykernel_launcher.py:44: DeprecationWarning: In future, it will be an error for 'np.bool_' scalars to be interpreted as an index\n",
      "E:\\anaconda\\lib\\site-packages\\ipykernel_launcher.py:44: DeprecationWarning: In future, it will be an error for 'np.bool_' scalars to be interpreted as an index\n",
      "E:\\anaconda\\lib\\site-packages\\ipykernel_launcher.py:44: DeprecationWarning: In future, it will be an error for 'np.bool_' scalars to be interpreted as an index\n",
      "E:\\anaconda\\lib\\site-packages\\ipykernel_launcher.py:44: DeprecationWarning: In future, it will be an error for 'np.bool_' scalars to be interpreted as an index\n",
      "E:\\anaconda\\lib\\site-packages\\ipykernel_launcher.py:44: DeprecationWarning: In future, it will be an error for 'np.bool_' scalars to be interpreted as an index\n",
      "E:\\anaconda\\lib\\site-packages\\ipykernel_launcher.py:44: DeprecationWarning: In future, it will be an error for 'np.bool_' scalars to be interpreted as an index\n",
      "E:\\anaconda\\lib\\site-packages\\ipykernel_launcher.py:44: DeprecationWarning: In future, it will be an error for 'np.bool_' scalars to be interpreted as an index\n",
      "E:\\anaconda\\lib\\site-packages\\ipykernel_launcher.py:44: DeprecationWarning: In future, it will be an error for 'np.bool_' scalars to be interpreted as an index\n",
      "E:\\anaconda\\lib\\site-packages\\ipykernel_launcher.py:44: DeprecationWarning: In future, it will be an error for 'np.bool_' scalars to be interpreted as an index\n",
      "E:\\anaconda\\lib\\site-packages\\ipykernel_launcher.py:44: DeprecationWarning: In future, it will be an error for 'np.bool_' scalars to be interpreted as an index\n",
      "E:\\anaconda\\lib\\site-packages\\ipykernel_launcher.py:44: DeprecationWarning: In future, it will be an error for 'np.bool_' scalars to be interpreted as an index\n",
      "E:\\anaconda\\lib\\site-packages\\ipykernel_launcher.py:44: DeprecationWarning: In future, it will be an error for 'np.bool_' scalars to be interpreted as an index\n",
      "E:\\anaconda\\lib\\site-packages\\ipykernel_launcher.py:44: DeprecationWarning: In future, it will be an error for 'np.bool_' scalars to be interpreted as an index\n",
      "E:\\anaconda\\lib\\site-packages\\ipykernel_launcher.py:44: DeprecationWarning: In future, it will be an error for 'np.bool_' scalars to be interpreted as an index\n",
      "E:\\anaconda\\lib\\site-packages\\ipykernel_launcher.py:44: DeprecationWarning: In future, it will be an error for 'np.bool_' scalars to be interpreted as an index\n",
      "E:\\anaconda\\lib\\site-packages\\ipykernel_launcher.py:44: DeprecationWarning: In future, it will be an error for 'np.bool_' scalars to be interpreted as an index\n",
      "E:\\anaconda\\lib\\site-packages\\ipykernel_launcher.py:44: DeprecationWarning: In future, it will be an error for 'np.bool_' scalars to be interpreted as an index\n",
      "E:\\anaconda\\lib\\site-packages\\ipykernel_launcher.py:44: DeprecationWarning: In future, it will be an error for 'np.bool_' scalars to be interpreted as an index\n",
      "E:\\anaconda\\lib\\site-packages\\ipykernel_launcher.py:44: DeprecationWarning: In future, it will be an error for 'np.bool_' scalars to be interpreted as an index\n",
      "E:\\anaconda\\lib\\site-packages\\ipykernel_launcher.py:44: DeprecationWarning: In future, it will be an error for 'np.bool_' scalars to be interpreted as an index\n",
      "E:\\anaconda\\lib\\site-packages\\ipykernel_launcher.py:44: DeprecationWarning: In future, it will be an error for 'np.bool_' scalars to be interpreted as an index\n",
      "E:\\anaconda\\lib\\site-packages\\ipykernel_launcher.py:44: DeprecationWarning: In future, it will be an error for 'np.bool_' scalars to be interpreted as an index\n"
     ]
    },
    {
     "name": "stderr",
     "output_type": "stream",
     "text": [
      "E:\\anaconda\\lib\\site-packages\\ipykernel_launcher.py:44: DeprecationWarning: In future, it will be an error for 'np.bool_' scalars to be interpreted as an index\n",
      "E:\\anaconda\\lib\\site-packages\\ipykernel_launcher.py:44: DeprecationWarning: In future, it will be an error for 'np.bool_' scalars to be interpreted as an index\n",
      "E:\\anaconda\\lib\\site-packages\\ipykernel_launcher.py:44: DeprecationWarning: In future, it will be an error for 'np.bool_' scalars to be interpreted as an index\n",
      "E:\\anaconda\\lib\\site-packages\\ipykernel_launcher.py:44: DeprecationWarning: In future, it will be an error for 'np.bool_' scalars to be interpreted as an index\n",
      "E:\\anaconda\\lib\\site-packages\\ipykernel_launcher.py:44: DeprecationWarning: In future, it will be an error for 'np.bool_' scalars to be interpreted as an index\n",
      "E:\\anaconda\\lib\\site-packages\\ipykernel_launcher.py:44: DeprecationWarning: In future, it will be an error for 'np.bool_' scalars to be interpreted as an index\n",
      "E:\\anaconda\\lib\\site-packages\\ipykernel_launcher.py:44: DeprecationWarning: In future, it will be an error for 'np.bool_' scalars to be interpreted as an index\n",
      "E:\\anaconda\\lib\\site-packages\\ipykernel_launcher.py:44: DeprecationWarning: In future, it will be an error for 'np.bool_' scalars to be interpreted as an index\n",
      "E:\\anaconda\\lib\\site-packages\\ipykernel_launcher.py:44: DeprecationWarning: In future, it will be an error for 'np.bool_' scalars to be interpreted as an index\n",
      "E:\\anaconda\\lib\\site-packages\\ipykernel_launcher.py:44: DeprecationWarning: In future, it will be an error for 'np.bool_' scalars to be interpreted as an index\n",
      "E:\\anaconda\\lib\\site-packages\\ipykernel_launcher.py:44: DeprecationWarning: In future, it will be an error for 'np.bool_' scalars to be interpreted as an index\n",
      "E:\\anaconda\\lib\\site-packages\\ipykernel_launcher.py:44: DeprecationWarning: In future, it will be an error for 'np.bool_' scalars to be interpreted as an index\n",
      "E:\\anaconda\\lib\\site-packages\\ipykernel_launcher.py:44: DeprecationWarning: In future, it will be an error for 'np.bool_' scalars to be interpreted as an index\n",
      "E:\\anaconda\\lib\\site-packages\\ipykernel_launcher.py:44: DeprecationWarning: In future, it will be an error for 'np.bool_' scalars to be interpreted as an index\n",
      "E:\\anaconda\\lib\\site-packages\\ipykernel_launcher.py:44: DeprecationWarning: In future, it will be an error for 'np.bool_' scalars to be interpreted as an index\n",
      "E:\\anaconda\\lib\\site-packages\\ipykernel_launcher.py:44: DeprecationWarning: In future, it will be an error for 'np.bool_' scalars to be interpreted as an index\n",
      "E:\\anaconda\\lib\\site-packages\\ipykernel_launcher.py:44: DeprecationWarning: In future, it will be an error for 'np.bool_' scalars to be interpreted as an index\n",
      "E:\\anaconda\\lib\\site-packages\\ipykernel_launcher.py:44: DeprecationWarning: In future, it will be an error for 'np.bool_' scalars to be interpreted as an index\n",
      "E:\\anaconda\\lib\\site-packages\\ipykernel_launcher.py:44: DeprecationWarning: In future, it will be an error for 'np.bool_' scalars to be interpreted as an index\n",
      "E:\\anaconda\\lib\\site-packages\\ipykernel_launcher.py:44: DeprecationWarning: In future, it will be an error for 'np.bool_' scalars to be interpreted as an index\n",
      "E:\\anaconda\\lib\\site-packages\\ipykernel_launcher.py:44: DeprecationWarning: In future, it will be an error for 'np.bool_' scalars to be interpreted as an index\n",
      "E:\\anaconda\\lib\\site-packages\\ipykernel_launcher.py:44: DeprecationWarning: In future, it will be an error for 'np.bool_' scalars to be interpreted as an index\n",
      "E:\\anaconda\\lib\\site-packages\\ipykernel_launcher.py:44: DeprecationWarning: In future, it will be an error for 'np.bool_' scalars to be interpreted as an index\n",
      "E:\\anaconda\\lib\\site-packages\\ipykernel_launcher.py:44: DeprecationWarning: In future, it will be an error for 'np.bool_' scalars to be interpreted as an index\n",
      "E:\\anaconda\\lib\\site-packages\\ipykernel_launcher.py:44: DeprecationWarning: In future, it will be an error for 'np.bool_' scalars to be interpreted as an index\n",
      "E:\\anaconda\\lib\\site-packages\\ipykernel_launcher.py:44: DeprecationWarning: In future, it will be an error for 'np.bool_' scalars to be interpreted as an index\n",
      "E:\\anaconda\\lib\\site-packages\\ipykernel_launcher.py:44: DeprecationWarning: In future, it will be an error for 'np.bool_' scalars to be interpreted as an index\n",
      "E:\\anaconda\\lib\\site-packages\\ipykernel_launcher.py:44: DeprecationWarning: In future, it will be an error for 'np.bool_' scalars to be interpreted as an index\n",
      "E:\\anaconda\\lib\\site-packages\\ipykernel_launcher.py:44: DeprecationWarning: In future, it will be an error for 'np.bool_' scalars to be interpreted as an index\n",
      "E:\\anaconda\\lib\\site-packages\\ipykernel_launcher.py:44: DeprecationWarning: In future, it will be an error for 'np.bool_' scalars to be interpreted as an index\n",
      "E:\\anaconda\\lib\\site-packages\\ipykernel_launcher.py:44: DeprecationWarning: In future, it will be an error for 'np.bool_' scalars to be interpreted as an index\n",
      "E:\\anaconda\\lib\\site-packages\\ipykernel_launcher.py:44: DeprecationWarning: In future, it will be an error for 'np.bool_' scalars to be interpreted as an index\n",
      "E:\\anaconda\\lib\\site-packages\\ipykernel_launcher.py:44: DeprecationWarning: In future, it will be an error for 'np.bool_' scalars to be interpreted as an index\n",
      "E:\\anaconda\\lib\\site-packages\\ipykernel_launcher.py:44: DeprecationWarning: In future, it will be an error for 'np.bool_' scalars to be interpreted as an index\n",
      "E:\\anaconda\\lib\\site-packages\\ipykernel_launcher.py:44: DeprecationWarning: In future, it will be an error for 'np.bool_' scalars to be interpreted as an index\n",
      "E:\\anaconda\\lib\\site-packages\\ipykernel_launcher.py:44: DeprecationWarning: In future, it will be an error for 'np.bool_' scalars to be interpreted as an index\n",
      "E:\\anaconda\\lib\\site-packages\\ipykernel_launcher.py:44: DeprecationWarning: In future, it will be an error for 'np.bool_' scalars to be interpreted as an index\n",
      "E:\\anaconda\\lib\\site-packages\\ipykernel_launcher.py:44: DeprecationWarning: In future, it will be an error for 'np.bool_' scalars to be interpreted as an index\n",
      "E:\\anaconda\\lib\\site-packages\\ipykernel_launcher.py:44: DeprecationWarning: In future, it will be an error for 'np.bool_' scalars to be interpreted as an index\n",
      "E:\\anaconda\\lib\\site-packages\\ipykernel_launcher.py:44: DeprecationWarning: In future, it will be an error for 'np.bool_' scalars to be interpreted as an index\n",
      "E:\\anaconda\\lib\\site-packages\\ipykernel_launcher.py:44: DeprecationWarning: In future, it will be an error for 'np.bool_' scalars to be interpreted as an index\n",
      "E:\\anaconda\\lib\\site-packages\\ipykernel_launcher.py:44: DeprecationWarning: In future, it will be an error for 'np.bool_' scalars to be interpreted as an index\n",
      "E:\\anaconda\\lib\\site-packages\\ipykernel_launcher.py:44: DeprecationWarning: In future, it will be an error for 'np.bool_' scalars to be interpreted as an index\n",
      "E:\\anaconda\\lib\\site-packages\\ipykernel_launcher.py:44: DeprecationWarning: In future, it will be an error for 'np.bool_' scalars to be interpreted as an index\n",
      "E:\\anaconda\\lib\\site-packages\\ipykernel_launcher.py:44: DeprecationWarning: In future, it will be an error for 'np.bool_' scalars to be interpreted as an index\n",
      "E:\\anaconda\\lib\\site-packages\\ipykernel_launcher.py:44: DeprecationWarning: In future, it will be an error for 'np.bool_' scalars to be interpreted as an index\n",
      "E:\\anaconda\\lib\\site-packages\\ipykernel_launcher.py:44: DeprecationWarning: In future, it will be an error for 'np.bool_' scalars to be interpreted as an index\n",
      "E:\\anaconda\\lib\\site-packages\\ipykernel_launcher.py:44: DeprecationWarning: In future, it will be an error for 'np.bool_' scalars to be interpreted as an index\n",
      "E:\\anaconda\\lib\\site-packages\\ipykernel_launcher.py:44: DeprecationWarning: In future, it will be an error for 'np.bool_' scalars to be interpreted as an index\n",
      "E:\\anaconda\\lib\\site-packages\\ipykernel_launcher.py:44: DeprecationWarning: In future, it will be an error for 'np.bool_' scalars to be interpreted as an index\n",
      "E:\\anaconda\\lib\\site-packages\\ipykernel_launcher.py:44: DeprecationWarning: In future, it will be an error for 'np.bool_' scalars to be interpreted as an index\n",
      "E:\\anaconda\\lib\\site-packages\\ipykernel_launcher.py:44: DeprecationWarning: In future, it will be an error for 'np.bool_' scalars to be interpreted as an index\n"
     ]
    },
    {
     "name": "stderr",
     "output_type": "stream",
     "text": [
      "E:\\anaconda\\lib\\site-packages\\ipykernel_launcher.py:44: DeprecationWarning: In future, it will be an error for 'np.bool_' scalars to be interpreted as an index\n",
      "E:\\anaconda\\lib\\site-packages\\ipykernel_launcher.py:44: DeprecationWarning: In future, it will be an error for 'np.bool_' scalars to be interpreted as an index\n",
      "E:\\anaconda\\lib\\site-packages\\ipykernel_launcher.py:44: DeprecationWarning: In future, it will be an error for 'np.bool_' scalars to be interpreted as an index\n",
      "E:\\anaconda\\lib\\site-packages\\ipykernel_launcher.py:44: DeprecationWarning: In future, it will be an error for 'np.bool_' scalars to be interpreted as an index\n",
      "E:\\anaconda\\lib\\site-packages\\ipykernel_launcher.py:44: DeprecationWarning: In future, it will be an error for 'np.bool_' scalars to be interpreted as an index\n",
      "E:\\anaconda\\lib\\site-packages\\ipykernel_launcher.py:44: DeprecationWarning: In future, it will be an error for 'np.bool_' scalars to be interpreted as an index\n",
      "E:\\anaconda\\lib\\site-packages\\ipykernel_launcher.py:44: DeprecationWarning: In future, it will be an error for 'np.bool_' scalars to be interpreted as an index\n",
      "E:\\anaconda\\lib\\site-packages\\ipykernel_launcher.py:44: DeprecationWarning: In future, it will be an error for 'np.bool_' scalars to be interpreted as an index\n",
      "E:\\anaconda\\lib\\site-packages\\ipykernel_launcher.py:44: DeprecationWarning: In future, it will be an error for 'np.bool_' scalars to be interpreted as an index\n",
      "E:\\anaconda\\lib\\site-packages\\ipykernel_launcher.py:44: DeprecationWarning: In future, it will be an error for 'np.bool_' scalars to be interpreted as an index\n",
      "E:\\anaconda\\lib\\site-packages\\ipykernel_launcher.py:44: DeprecationWarning: In future, it will be an error for 'np.bool_' scalars to be interpreted as an index\n",
      "E:\\anaconda\\lib\\site-packages\\ipykernel_launcher.py:44: DeprecationWarning: In future, it will be an error for 'np.bool_' scalars to be interpreted as an index\n",
      "E:\\anaconda\\lib\\site-packages\\ipykernel_launcher.py:44: DeprecationWarning: In future, it will be an error for 'np.bool_' scalars to be interpreted as an index\n",
      "E:\\anaconda\\lib\\site-packages\\ipykernel_launcher.py:44: DeprecationWarning: In future, it will be an error for 'np.bool_' scalars to be interpreted as an index\n",
      "E:\\anaconda\\lib\\site-packages\\ipykernel_launcher.py:44: DeprecationWarning: In future, it will be an error for 'np.bool_' scalars to be interpreted as an index\n",
      "E:\\anaconda\\lib\\site-packages\\ipykernel_launcher.py:44: DeprecationWarning: In future, it will be an error for 'np.bool_' scalars to be interpreted as an index\n",
      "E:\\anaconda\\lib\\site-packages\\ipykernel_launcher.py:44: DeprecationWarning: In future, it will be an error for 'np.bool_' scalars to be interpreted as an index\n",
      "E:\\anaconda\\lib\\site-packages\\ipykernel_launcher.py:44: DeprecationWarning: In future, it will be an error for 'np.bool_' scalars to be interpreted as an index\n",
      "E:\\anaconda\\lib\\site-packages\\ipykernel_launcher.py:44: DeprecationWarning: In future, it will be an error for 'np.bool_' scalars to be interpreted as an index\n",
      "E:\\anaconda\\lib\\site-packages\\ipykernel_launcher.py:44: DeprecationWarning: In future, it will be an error for 'np.bool_' scalars to be interpreted as an index\n",
      "E:\\anaconda\\lib\\site-packages\\ipykernel_launcher.py:44: DeprecationWarning: In future, it will be an error for 'np.bool_' scalars to be interpreted as an index\n",
      "E:\\anaconda\\lib\\site-packages\\ipykernel_launcher.py:44: DeprecationWarning: In future, it will be an error for 'np.bool_' scalars to be interpreted as an index\n",
      "E:\\anaconda\\lib\\site-packages\\ipykernel_launcher.py:44: DeprecationWarning: In future, it will be an error for 'np.bool_' scalars to be interpreted as an index\n",
      "E:\\anaconda\\lib\\site-packages\\ipykernel_launcher.py:44: DeprecationWarning: In future, it will be an error for 'np.bool_' scalars to be interpreted as an index\n",
      "E:\\anaconda\\lib\\site-packages\\ipykernel_launcher.py:44: DeprecationWarning: In future, it will be an error for 'np.bool_' scalars to be interpreted as an index\n",
      "E:\\anaconda\\lib\\site-packages\\ipykernel_launcher.py:44: DeprecationWarning: In future, it will be an error for 'np.bool_' scalars to be interpreted as an index\n",
      "E:\\anaconda\\lib\\site-packages\\ipykernel_launcher.py:44: DeprecationWarning: In future, it will be an error for 'np.bool_' scalars to be interpreted as an index\n",
      "E:\\anaconda\\lib\\site-packages\\ipykernel_launcher.py:44: DeprecationWarning: In future, it will be an error for 'np.bool_' scalars to be interpreted as an index\n",
      "E:\\anaconda\\lib\\site-packages\\ipykernel_launcher.py:44: DeprecationWarning: In future, it will be an error for 'np.bool_' scalars to be interpreted as an index\n",
      "E:\\anaconda\\lib\\site-packages\\ipykernel_launcher.py:44: DeprecationWarning: In future, it will be an error for 'np.bool_' scalars to be interpreted as an index\n",
      "E:\\anaconda\\lib\\site-packages\\ipykernel_launcher.py:44: DeprecationWarning: In future, it will be an error for 'np.bool_' scalars to be interpreted as an index\n",
      "E:\\anaconda\\lib\\site-packages\\ipykernel_launcher.py:44: DeprecationWarning: In future, it will be an error for 'np.bool_' scalars to be interpreted as an index\n",
      "E:\\anaconda\\lib\\site-packages\\ipykernel_launcher.py:44: DeprecationWarning: In future, it will be an error for 'np.bool_' scalars to be interpreted as an index\n",
      "E:\\anaconda\\lib\\site-packages\\ipykernel_launcher.py:44: DeprecationWarning: In future, it will be an error for 'np.bool_' scalars to be interpreted as an index\n",
      "E:\\anaconda\\lib\\site-packages\\ipykernel_launcher.py:44: DeprecationWarning: In future, it will be an error for 'np.bool_' scalars to be interpreted as an index\n",
      "E:\\anaconda\\lib\\site-packages\\ipykernel_launcher.py:44: DeprecationWarning: In future, it will be an error for 'np.bool_' scalars to be interpreted as an index\n",
      "E:\\anaconda\\lib\\site-packages\\ipykernel_launcher.py:44: DeprecationWarning: In future, it will be an error for 'np.bool_' scalars to be interpreted as an index\n",
      "E:\\anaconda\\lib\\site-packages\\ipykernel_launcher.py:44: DeprecationWarning: In future, it will be an error for 'np.bool_' scalars to be interpreted as an index\n",
      "E:\\anaconda\\lib\\site-packages\\ipykernel_launcher.py:44: DeprecationWarning: In future, it will be an error for 'np.bool_' scalars to be interpreted as an index\n",
      "E:\\anaconda\\lib\\site-packages\\ipykernel_launcher.py:44: DeprecationWarning: In future, it will be an error for 'np.bool_' scalars to be interpreted as an index\n",
      "E:\\anaconda\\lib\\site-packages\\ipykernel_launcher.py:44: DeprecationWarning: In future, it will be an error for 'np.bool_' scalars to be interpreted as an index\n",
      "E:\\anaconda\\lib\\site-packages\\ipykernel_launcher.py:44: DeprecationWarning: In future, it will be an error for 'np.bool_' scalars to be interpreted as an index\n",
      "E:\\anaconda\\lib\\site-packages\\ipykernel_launcher.py:44: DeprecationWarning: In future, it will be an error for 'np.bool_' scalars to be interpreted as an index\n",
      "E:\\anaconda\\lib\\site-packages\\ipykernel_launcher.py:44: DeprecationWarning: In future, it will be an error for 'np.bool_' scalars to be interpreted as an index\n",
      "E:\\anaconda\\lib\\site-packages\\ipykernel_launcher.py:44: DeprecationWarning: In future, it will be an error for 'np.bool_' scalars to be interpreted as an index\n",
      "E:\\anaconda\\lib\\site-packages\\ipykernel_launcher.py:44: DeprecationWarning: In future, it will be an error for 'np.bool_' scalars to be interpreted as an index\n",
      "E:\\anaconda\\lib\\site-packages\\ipykernel_launcher.py:44: DeprecationWarning: In future, it will be an error for 'np.bool_' scalars to be interpreted as an index\n",
      "E:\\anaconda\\lib\\site-packages\\ipykernel_launcher.py:44: DeprecationWarning: In future, it will be an error for 'np.bool_' scalars to be interpreted as an index\n",
      "E:\\anaconda\\lib\\site-packages\\ipykernel_launcher.py:44: DeprecationWarning: In future, it will be an error for 'np.bool_' scalars to be interpreted as an index\n",
      "E:\\anaconda\\lib\\site-packages\\ipykernel_launcher.py:44: DeprecationWarning: In future, it will be an error for 'np.bool_' scalars to be interpreted as an index\n",
      "E:\\anaconda\\lib\\site-packages\\ipykernel_launcher.py:44: DeprecationWarning: In future, it will be an error for 'np.bool_' scalars to be interpreted as an index\n",
      "E:\\anaconda\\lib\\site-packages\\ipykernel_launcher.py:44: DeprecationWarning: In future, it will be an error for 'np.bool_' scalars to be interpreted as an index\n"
     ]
    },
    {
     "name": "stderr",
     "output_type": "stream",
     "text": [
      "E:\\anaconda\\lib\\site-packages\\ipykernel_launcher.py:44: DeprecationWarning: In future, it will be an error for 'np.bool_' scalars to be interpreted as an index\n",
      "E:\\anaconda\\lib\\site-packages\\ipykernel_launcher.py:44: DeprecationWarning: In future, it will be an error for 'np.bool_' scalars to be interpreted as an index\n",
      "E:\\anaconda\\lib\\site-packages\\ipykernel_launcher.py:44: DeprecationWarning: In future, it will be an error for 'np.bool_' scalars to be interpreted as an index\n",
      "E:\\anaconda\\lib\\site-packages\\ipykernel_launcher.py:44: DeprecationWarning: In future, it will be an error for 'np.bool_' scalars to be interpreted as an index\n",
      "E:\\anaconda\\lib\\site-packages\\ipykernel_launcher.py:44: DeprecationWarning: In future, it will be an error for 'np.bool_' scalars to be interpreted as an index\n",
      "E:\\anaconda\\lib\\site-packages\\ipykernel_launcher.py:44: DeprecationWarning: In future, it will be an error for 'np.bool_' scalars to be interpreted as an index\n",
      "E:\\anaconda\\lib\\site-packages\\ipykernel_launcher.py:44: DeprecationWarning: In future, it will be an error for 'np.bool_' scalars to be interpreted as an index\n",
      "E:\\anaconda\\lib\\site-packages\\ipykernel_launcher.py:44: DeprecationWarning: In future, it will be an error for 'np.bool_' scalars to be interpreted as an index\n",
      "E:\\anaconda\\lib\\site-packages\\ipykernel_launcher.py:44: DeprecationWarning: In future, it will be an error for 'np.bool_' scalars to be interpreted as an index\n",
      "E:\\anaconda\\lib\\site-packages\\ipykernel_launcher.py:44: DeprecationWarning: In future, it will be an error for 'np.bool_' scalars to be interpreted as an index\n",
      "E:\\anaconda\\lib\\site-packages\\ipykernel_launcher.py:44: DeprecationWarning: In future, it will be an error for 'np.bool_' scalars to be interpreted as an index\n",
      "E:\\anaconda\\lib\\site-packages\\ipykernel_launcher.py:44: DeprecationWarning: In future, it will be an error for 'np.bool_' scalars to be interpreted as an index\n",
      "E:\\anaconda\\lib\\site-packages\\ipykernel_launcher.py:44: DeprecationWarning: In future, it will be an error for 'np.bool_' scalars to be interpreted as an index\n",
      "E:\\anaconda\\lib\\site-packages\\ipykernel_launcher.py:44: DeprecationWarning: In future, it will be an error for 'np.bool_' scalars to be interpreted as an index\n",
      "E:\\anaconda\\lib\\site-packages\\ipykernel_launcher.py:44: DeprecationWarning: In future, it will be an error for 'np.bool_' scalars to be interpreted as an index\n",
      "E:\\anaconda\\lib\\site-packages\\ipykernel_launcher.py:44: DeprecationWarning: In future, it will be an error for 'np.bool_' scalars to be interpreted as an index\n",
      "E:\\anaconda\\lib\\site-packages\\ipykernel_launcher.py:44: DeprecationWarning: In future, it will be an error for 'np.bool_' scalars to be interpreted as an index\n",
      "E:\\anaconda\\lib\\site-packages\\ipykernel_launcher.py:44: DeprecationWarning: In future, it will be an error for 'np.bool_' scalars to be interpreted as an index\n",
      "E:\\anaconda\\lib\\site-packages\\ipykernel_launcher.py:44: DeprecationWarning: In future, it will be an error for 'np.bool_' scalars to be interpreted as an index\n",
      "E:\\anaconda\\lib\\site-packages\\ipykernel_launcher.py:44: DeprecationWarning: In future, it will be an error for 'np.bool_' scalars to be interpreted as an index\n",
      "E:\\anaconda\\lib\\site-packages\\ipykernel_launcher.py:44: DeprecationWarning: In future, it will be an error for 'np.bool_' scalars to be interpreted as an index\n",
      "E:\\anaconda\\lib\\site-packages\\ipykernel_launcher.py:44: DeprecationWarning: In future, it will be an error for 'np.bool_' scalars to be interpreted as an index\n",
      "E:\\anaconda\\lib\\site-packages\\ipykernel_launcher.py:44: DeprecationWarning: In future, it will be an error for 'np.bool_' scalars to be interpreted as an index\n",
      "E:\\anaconda\\lib\\site-packages\\ipykernel_launcher.py:44: DeprecationWarning: In future, it will be an error for 'np.bool_' scalars to be interpreted as an index\n",
      "E:\\anaconda\\lib\\site-packages\\ipykernel_launcher.py:44: DeprecationWarning: In future, it will be an error for 'np.bool_' scalars to be interpreted as an index\n",
      "E:\\anaconda\\lib\\site-packages\\ipykernel_launcher.py:44: DeprecationWarning: In future, it will be an error for 'np.bool_' scalars to be interpreted as an index\n",
      "E:\\anaconda\\lib\\site-packages\\ipykernel_launcher.py:44: DeprecationWarning: In future, it will be an error for 'np.bool_' scalars to be interpreted as an index\n",
      "E:\\anaconda\\lib\\site-packages\\ipykernel_launcher.py:44: DeprecationWarning: In future, it will be an error for 'np.bool_' scalars to be interpreted as an index\n",
      "E:\\anaconda\\lib\\site-packages\\ipykernel_launcher.py:44: DeprecationWarning: In future, it will be an error for 'np.bool_' scalars to be interpreted as an index\n",
      "E:\\anaconda\\lib\\site-packages\\ipykernel_launcher.py:44: DeprecationWarning: In future, it will be an error for 'np.bool_' scalars to be interpreted as an index\n",
      "E:\\anaconda\\lib\\site-packages\\ipykernel_launcher.py:44: DeprecationWarning: In future, it will be an error for 'np.bool_' scalars to be interpreted as an index\n",
      "E:\\anaconda\\lib\\site-packages\\ipykernel_launcher.py:44: DeprecationWarning: In future, it will be an error for 'np.bool_' scalars to be interpreted as an index\n",
      "E:\\anaconda\\lib\\site-packages\\ipykernel_launcher.py:44: DeprecationWarning: In future, it will be an error for 'np.bool_' scalars to be interpreted as an index\n",
      "E:\\anaconda\\lib\\site-packages\\ipykernel_launcher.py:44: DeprecationWarning: In future, it will be an error for 'np.bool_' scalars to be interpreted as an index\n",
      "E:\\anaconda\\lib\\site-packages\\ipykernel_launcher.py:44: DeprecationWarning: In future, it will be an error for 'np.bool_' scalars to be interpreted as an index\n",
      "E:\\anaconda\\lib\\site-packages\\ipykernel_launcher.py:44: DeprecationWarning: In future, it will be an error for 'np.bool_' scalars to be interpreted as an index\n",
      "E:\\anaconda\\lib\\site-packages\\ipykernel_launcher.py:44: DeprecationWarning: In future, it will be an error for 'np.bool_' scalars to be interpreted as an index\n",
      "E:\\anaconda\\lib\\site-packages\\ipykernel_launcher.py:44: DeprecationWarning: In future, it will be an error for 'np.bool_' scalars to be interpreted as an index\n",
      "E:\\anaconda\\lib\\site-packages\\ipykernel_launcher.py:44: DeprecationWarning: In future, it will be an error for 'np.bool_' scalars to be interpreted as an index\n",
      "E:\\anaconda\\lib\\site-packages\\ipykernel_launcher.py:44: DeprecationWarning: In future, it will be an error for 'np.bool_' scalars to be interpreted as an index\n",
      "E:\\anaconda\\lib\\site-packages\\ipykernel_launcher.py:44: DeprecationWarning: In future, it will be an error for 'np.bool_' scalars to be interpreted as an index\n",
      "E:\\anaconda\\lib\\site-packages\\ipykernel_launcher.py:44: DeprecationWarning: In future, it will be an error for 'np.bool_' scalars to be interpreted as an index\n",
      "E:\\anaconda\\lib\\site-packages\\ipykernel_launcher.py:44: DeprecationWarning: In future, it will be an error for 'np.bool_' scalars to be interpreted as an index\n",
      "E:\\anaconda\\lib\\site-packages\\ipykernel_launcher.py:44: DeprecationWarning: In future, it will be an error for 'np.bool_' scalars to be interpreted as an index\n",
      "E:\\anaconda\\lib\\site-packages\\ipykernel_launcher.py:44: DeprecationWarning: In future, it will be an error for 'np.bool_' scalars to be interpreted as an index\n",
      "E:\\anaconda\\lib\\site-packages\\ipykernel_launcher.py:44: DeprecationWarning: In future, it will be an error for 'np.bool_' scalars to be interpreted as an index\n",
      "E:\\anaconda\\lib\\site-packages\\ipykernel_launcher.py:44: DeprecationWarning: In future, it will be an error for 'np.bool_' scalars to be interpreted as an index\n",
      "E:\\anaconda\\lib\\site-packages\\ipykernel_launcher.py:44: DeprecationWarning: In future, it will be an error for 'np.bool_' scalars to be interpreted as an index\n",
      "E:\\anaconda\\lib\\site-packages\\ipykernel_launcher.py:44: DeprecationWarning: In future, it will be an error for 'np.bool_' scalars to be interpreted as an index\n",
      "E:\\anaconda\\lib\\site-packages\\ipykernel_launcher.py:44: DeprecationWarning: In future, it will be an error for 'np.bool_' scalars to be interpreted as an index\n",
      "E:\\anaconda\\lib\\site-packages\\ipykernel_launcher.py:44: DeprecationWarning: In future, it will be an error for 'np.bool_' scalars to be interpreted as an index\n",
      "E:\\anaconda\\lib\\site-packages\\ipykernel_launcher.py:44: DeprecationWarning: In future, it will be an error for 'np.bool_' scalars to be interpreted as an index\n"
     ]
    },
    {
     "name": "stderr",
     "output_type": "stream",
     "text": [
      "E:\\anaconda\\lib\\site-packages\\ipykernel_launcher.py:44: DeprecationWarning: In future, it will be an error for 'np.bool_' scalars to be interpreted as an index\n",
      "E:\\anaconda\\lib\\site-packages\\ipykernel_launcher.py:44: DeprecationWarning: In future, it will be an error for 'np.bool_' scalars to be interpreted as an index\n",
      "E:\\anaconda\\lib\\site-packages\\ipykernel_launcher.py:44: DeprecationWarning: In future, it will be an error for 'np.bool_' scalars to be interpreted as an index\n",
      "E:\\anaconda\\lib\\site-packages\\ipykernel_launcher.py:44: DeprecationWarning: In future, it will be an error for 'np.bool_' scalars to be interpreted as an index\n",
      "E:\\anaconda\\lib\\site-packages\\ipykernel_launcher.py:44: DeprecationWarning: In future, it will be an error for 'np.bool_' scalars to be interpreted as an index\n",
      "E:\\anaconda\\lib\\site-packages\\ipykernel_launcher.py:44: DeprecationWarning: In future, it will be an error for 'np.bool_' scalars to be interpreted as an index\n",
      "E:\\anaconda\\lib\\site-packages\\ipykernel_launcher.py:44: DeprecationWarning: In future, it will be an error for 'np.bool_' scalars to be interpreted as an index\n",
      "E:\\anaconda\\lib\\site-packages\\ipykernel_launcher.py:44: DeprecationWarning: In future, it will be an error for 'np.bool_' scalars to be interpreted as an index\n",
      "E:\\anaconda\\lib\\site-packages\\ipykernel_launcher.py:44: DeprecationWarning: In future, it will be an error for 'np.bool_' scalars to be interpreted as an index\n",
      "E:\\anaconda\\lib\\site-packages\\ipykernel_launcher.py:44: DeprecationWarning: In future, it will be an error for 'np.bool_' scalars to be interpreted as an index\n",
      "E:\\anaconda\\lib\\site-packages\\ipykernel_launcher.py:44: DeprecationWarning: In future, it will be an error for 'np.bool_' scalars to be interpreted as an index\n",
      "E:\\anaconda\\lib\\site-packages\\ipykernel_launcher.py:44: DeprecationWarning: In future, it will be an error for 'np.bool_' scalars to be interpreted as an index\n",
      "E:\\anaconda\\lib\\site-packages\\ipykernel_launcher.py:44: DeprecationWarning: In future, it will be an error for 'np.bool_' scalars to be interpreted as an index\n",
      "E:\\anaconda\\lib\\site-packages\\ipykernel_launcher.py:44: DeprecationWarning: In future, it will be an error for 'np.bool_' scalars to be interpreted as an index\n",
      "E:\\anaconda\\lib\\site-packages\\ipykernel_launcher.py:44: DeprecationWarning: In future, it will be an error for 'np.bool_' scalars to be interpreted as an index\n",
      "E:\\anaconda\\lib\\site-packages\\ipykernel_launcher.py:44: DeprecationWarning: In future, it will be an error for 'np.bool_' scalars to be interpreted as an index\n",
      "E:\\anaconda\\lib\\site-packages\\ipykernel_launcher.py:44: DeprecationWarning: In future, it will be an error for 'np.bool_' scalars to be interpreted as an index\n",
      "E:\\anaconda\\lib\\site-packages\\ipykernel_launcher.py:44: DeprecationWarning: In future, it will be an error for 'np.bool_' scalars to be interpreted as an index\n",
      "E:\\anaconda\\lib\\site-packages\\ipykernel_launcher.py:44: DeprecationWarning: In future, it will be an error for 'np.bool_' scalars to be interpreted as an index\n",
      "E:\\anaconda\\lib\\site-packages\\ipykernel_launcher.py:44: DeprecationWarning: In future, it will be an error for 'np.bool_' scalars to be interpreted as an index\n",
      "E:\\anaconda\\lib\\site-packages\\ipykernel_launcher.py:44: DeprecationWarning: In future, it will be an error for 'np.bool_' scalars to be interpreted as an index\n",
      "E:\\anaconda\\lib\\site-packages\\ipykernel_launcher.py:44: DeprecationWarning: In future, it will be an error for 'np.bool_' scalars to be interpreted as an index\n",
      "E:\\anaconda\\lib\\site-packages\\ipykernel_launcher.py:44: DeprecationWarning: In future, it will be an error for 'np.bool_' scalars to be interpreted as an index\n",
      "E:\\anaconda\\lib\\site-packages\\ipykernel_launcher.py:44: DeprecationWarning: In future, it will be an error for 'np.bool_' scalars to be interpreted as an index\n",
      "E:\\anaconda\\lib\\site-packages\\ipykernel_launcher.py:44: DeprecationWarning: In future, it will be an error for 'np.bool_' scalars to be interpreted as an index\n",
      "E:\\anaconda\\lib\\site-packages\\ipykernel_launcher.py:44: DeprecationWarning: In future, it will be an error for 'np.bool_' scalars to be interpreted as an index\n",
      "E:\\anaconda\\lib\\site-packages\\ipykernel_launcher.py:44: DeprecationWarning: In future, it will be an error for 'np.bool_' scalars to be interpreted as an index\n",
      "E:\\anaconda\\lib\\site-packages\\ipykernel_launcher.py:44: DeprecationWarning: In future, it will be an error for 'np.bool_' scalars to be interpreted as an index\n",
      "E:\\anaconda\\lib\\site-packages\\ipykernel_launcher.py:44: DeprecationWarning: In future, it will be an error for 'np.bool_' scalars to be interpreted as an index\n",
      "E:\\anaconda\\lib\\site-packages\\ipykernel_launcher.py:44: DeprecationWarning: In future, it will be an error for 'np.bool_' scalars to be interpreted as an index\n",
      "E:\\anaconda\\lib\\site-packages\\ipykernel_launcher.py:44: DeprecationWarning: In future, it will be an error for 'np.bool_' scalars to be interpreted as an index\n",
      "E:\\anaconda\\lib\\site-packages\\ipykernel_launcher.py:44: DeprecationWarning: In future, it will be an error for 'np.bool_' scalars to be interpreted as an index\n",
      "E:\\anaconda\\lib\\site-packages\\ipykernel_launcher.py:44: DeprecationWarning: In future, it will be an error for 'np.bool_' scalars to be interpreted as an index\n",
      "E:\\anaconda\\lib\\site-packages\\ipykernel_launcher.py:44: DeprecationWarning: In future, it will be an error for 'np.bool_' scalars to be interpreted as an index\n",
      "E:\\anaconda\\lib\\site-packages\\ipykernel_launcher.py:44: DeprecationWarning: In future, it will be an error for 'np.bool_' scalars to be interpreted as an index\n",
      "E:\\anaconda\\lib\\site-packages\\ipykernel_launcher.py:44: DeprecationWarning: In future, it will be an error for 'np.bool_' scalars to be interpreted as an index\n",
      "E:\\anaconda\\lib\\site-packages\\ipykernel_launcher.py:44: DeprecationWarning: In future, it will be an error for 'np.bool_' scalars to be interpreted as an index\n",
      "E:\\anaconda\\lib\\site-packages\\ipykernel_launcher.py:44: DeprecationWarning: In future, it will be an error for 'np.bool_' scalars to be interpreted as an index\n",
      "E:\\anaconda\\lib\\site-packages\\ipykernel_launcher.py:44: DeprecationWarning: In future, it will be an error for 'np.bool_' scalars to be interpreted as an index\n",
      "E:\\anaconda\\lib\\site-packages\\ipykernel_launcher.py:44: DeprecationWarning: In future, it will be an error for 'np.bool_' scalars to be interpreted as an index\n",
      "E:\\anaconda\\lib\\site-packages\\ipykernel_launcher.py:44: DeprecationWarning: In future, it will be an error for 'np.bool_' scalars to be interpreted as an index\n"
     ]
    },
    {
     "name": "stdout",
     "output_type": "stream",
     "text": [
      "4247.410177230835\n"
     ]
    }
   ],
   "source": [
    "start=time.time()\n",
    "for k in range(1,6):\n",
    "    default_parameters = [1e-3,1e-3,1e-3,1e-3,1e-3,1e-3,1e-3,1e-3]\n",
    "    search_result = gp_minimize(func=Fitness,\n",
    "                            dimensions=dimensions,\n",
    "                            acq_func='EI', \n",
    "                            n_calls=70,\n",
    "                            x0=default_parameters)\n",
    "    para=search_result.x\n",
    "    rmsev[1,k-1]=search_result.fun\n",
    "    rmset[1,k-1]=mygsm1(mylasso,ind1,y1,ind2,y2,x_train,x_test,y,y_test,Shopgroup,Itemgroup,n,m,3*k,para[0],\n",
    "    para[1],\n",
    "    para[2],\n",
    "    para[3],\n",
    "    para[4],\n",
    "    para[5],\n",
    "    para[6],\n",
    "    para[7])[0]\n",
    "print(time.time()-start)"
   ]
  },
  {
   "cell_type": "markdown",
   "metadata": {},
   "source": [
    "nogroupsvd rmse focused"
   ]
  },
  {
   "cell_type": "code",
   "execution_count": 99,
   "metadata": {},
   "outputs": [],
   "source": [
    "lp = Real(low=1e-7, high=1, prior='uniform',\n",
    "                             name='lp')\n",
    "lq = Real(low=1e-7, high=1, prior='uniform',\n",
    "                             name='lq')\n",
    "Lp = Real(low=1e-7, high=1, prior='uniform',\n",
    "                             name='Lp')\n",
    "Lq = Real(low=1e-7, high=1, prior='uniform',\n",
    "                             name='Lq')\n",
    "dimensions = [lp,lq,Lp,Lq]"
   ]
  },
  {
   "cell_type": "code",
   "execution_count": 100,
   "metadata": {},
   "outputs": [],
   "source": [
    "@use_named_args(dimensions=dimensions)\n",
    "def Fitness(lp,lq,Lp,Lq):\n",
    "    print('lp:', lp)\n",
    "    print()\n",
    "    rmse,yhat = mygsm0(mylasso,ind1,y1,ind2,y2,x_train,x_valid,y,y_valid,\n",
    "                      n,m,3*k,lp,lq,Lp,Lq)\n",
    "    print()\n",
    "    print(\"rmse:\",rmse)\n",
    "    print()\n",
    "    return rmse"
   ]
  },
  {
   "cell_type": "code",
   "execution_count": 101,
   "metadata": {},
   "outputs": [
    {
     "name": "stdout",
     "output_type": "stream",
     "text": [
      "lp: 0.001\n",
      "\n",
      "\n",
      "rmse: 1.7232329977254979\n",
      "\n",
      "lp: 0.9699285130813889\n",
      "\n",
      "\n",
      "rmse: 2.5209948425847593\n",
      "\n",
      "lp: 0.7678802590519337\n",
      "\n",
      "\n",
      "rmse: 2.8062264189059887\n",
      "\n",
      "lp: 0.1183621098921545\n",
      "\n",
      "\n",
      "rmse: 2.8103699286368937\n",
      "\n",
      "lp: 0.03489269816298368\n",
      "\n",
      "\n",
      "rmse: 2.8103699286368937\n",
      "\n",
      "lp: 0.5430034364904758\n",
      "\n",
      "\n",
      "rmse: 2.8102410063198686\n",
      "\n",
      "lp: 0.24204248785534918\n",
      "\n",
      "\n",
      "rmse: 2.810286377504581\n",
      "\n",
      "lp: 0.6908847980846642\n",
      "\n",
      "\n",
      "rmse: 2.795980216150221\n",
      "\n",
      "lp: 0.48447232329434387\n",
      "\n",
      "\n",
      "rmse: 2.8039528650247556\n",
      "\n",
      "lp: 0.310846911827551\n",
      "\n",
      "\n",
      "rmse: 2.810192399894256\n",
      "\n",
      "lp: 0.24543872789235172\n",
      "\n",
      "\n",
      "rmse: 2.8103699286368937\n",
      "\n",
      "lp: 1e-07\n",
      "\n",
      "\n",
      "rmse: 2.3740423838179803\n",
      "\n",
      "lp: 1.0\n",
      "\n",
      "\n",
      "rmse: 2.8103699286368937\n",
      "\n",
      "lp: 1e-07\n",
      "\n",
      "\n",
      "rmse: 2.3531863293644983\n",
      "\n",
      "lp: 0.41370796472562427\n",
      "\n",
      "\n",
      "rmse: 1.7305523855510332\n",
      "\n",
      "lp: 0.250915000492387\n",
      "\n",
      "\n",
      "rmse: 1.722147401768716\n",
      "\n",
      "lp: 1e-07\n",
      "\n",
      "\n",
      "rmse: 1.6419877465816133\n",
      "\n",
      "lp: 0.9099360599739807\n",
      "\n",
      "\n",
      "rmse: 2.8103699286368937\n",
      "\n",
      "lp: 0.9096059940514906\n",
      "\n",
      "\n",
      "rmse: 1.6056177070681361\n",
      "\n",
      "lp: 1.0\n",
      "\n",
      "\n",
      "rmse: 1.62043263610419\n",
      "\n"
     ]
    },
    {
     "name": "stderr",
     "output_type": "stream",
     "text": [
      "E:\\anaconda\\lib\\site-packages\\skopt\\optimizer\\optimizer.py:399: UserWarning: The objective has been evaluated at this point before.\n",
      "  warnings.warn(\"The objective has been evaluated \"\n"
     ]
    },
    {
     "name": "stdout",
     "output_type": "stream",
     "text": [
      "lp: 1.0\n",
      "\n",
      "\n",
      "rmse: 2.063491850151649\n",
      "\n",
      "lp: 1e-07\n",
      "\n",
      "\n",
      "rmse: 1.5942840404691898\n",
      "\n",
      "lp: 1e-07\n",
      "\n",
      "\n",
      "rmse: 1.590073152082081\n",
      "\n"
     ]
    },
    {
     "name": "stderr",
     "output_type": "stream",
     "text": [
      "E:\\anaconda\\lib\\site-packages\\skopt\\optimizer\\optimizer.py:399: UserWarning: The objective has been evaluated at this point before.\n",
      "  warnings.warn(\"The objective has been evaluated \"\n"
     ]
    },
    {
     "name": "stdout",
     "output_type": "stream",
     "text": [
      "lp: 1e-07\n",
      "\n",
      "\n",
      "rmse: 1.6582190555297915\n",
      "\n"
     ]
    },
    {
     "name": "stderr",
     "output_type": "stream",
     "text": [
      "E:\\anaconda\\lib\\site-packages\\skopt\\optimizer\\optimizer.py:399: UserWarning: The objective has been evaluated at this point before.\n",
      "  warnings.warn(\"The objective has been evaluated \"\n"
     ]
    },
    {
     "name": "stdout",
     "output_type": "stream",
     "text": [
      "lp: 1e-07\n",
      "\n",
      "\n",
      "rmse: 1.6598130242541855\n",
      "\n"
     ]
    },
    {
     "name": "stderr",
     "output_type": "stream",
     "text": [
      "E:\\anaconda\\lib\\site-packages\\skopt\\optimizer\\optimizer.py:399: UserWarning: The objective has been evaluated at this point before.\n",
      "  warnings.warn(\"The objective has been evaluated \"\n"
     ]
    },
    {
     "name": "stdout",
     "output_type": "stream",
     "text": [
      "lp: 1e-07\n",
      "\n",
      "\n",
      "rmse: 1.6090629240283454\n",
      "\n",
      "lp: 1e-07\n",
      "\n",
      "\n",
      "rmse: 1.7481456352065654\n",
      "\n",
      "lp: 1e-07\n",
      "\n",
      "\n",
      "rmse: 1.5324062792443982\n",
      "\n",
      "lp: 0.9111611349133127\n",
      "\n",
      "\n",
      "rmse: 2.8103699286368937\n",
      "\n",
      "lp: 0.060716969587011775\n",
      "\n",
      "\n",
      "rmse: 1.8547218208541396\n",
      "\n",
      "lp: 0.9318363426002371\n",
      "\n",
      "\n",
      "rmse: 1.577689650173878\n",
      "\n",
      "lp: 0.982868796762069\n",
      "\n",
      "\n",
      "rmse: 1.531964799051842\n",
      "\n",
      "lp: 0.6257361622886641\n",
      "\n",
      "\n",
      "rmse: 2.8103699286368937\n",
      "\n",
      "lp: 0.25560382013991084\n",
      "\n",
      "\n",
      "rmse: 1.5424706241733188\n",
      "\n",
      "lp: 0.01467756516399364\n",
      "\n",
      "\n",
      "rmse: 1.491753723699009\n",
      "\n",
      "lp: 1e-07\n",
      "\n",
      "\n",
      "rmse: 1.756027498269291\n",
      "\n",
      "lp: 0.8071349326900046\n",
      "\n",
      "\n",
      "rmse: 1.6926681776994437\n",
      "\n",
      "lp: 0.6028440034704106\n",
      "\n",
      "\n",
      "rmse: 1.770897608960137\n",
      "\n",
      "lp: 0.7877087481017803\n",
      "\n",
      "\n",
      "rmse: 2.8103699286368937\n",
      "\n",
      "lp: 0.20831397852059455\n",
      "\n",
      "\n",
      "rmse: 1.4547412224211125\n",
      "\n",
      "lp: 0.179291084270894\n",
      "\n",
      "\n",
      "rmse: 1.326274457113262\n",
      "\n",
      "lp: 0.12572601557311106\n",
      "\n",
      "\n",
      "rmse: 1.7627087685051985\n",
      "\n",
      "lp: 0.28959283507162764\n",
      "\n",
      "\n",
      "rmse: 2.7630880373618565\n",
      "\n",
      "lp: 0.12081954646854733\n",
      "\n",
      "\n",
      "rmse: 2.8103699286368937\n",
      "\n",
      "lp: 0.8889220916948584\n",
      "\n",
      "\n",
      "rmse: 1.8137785052651063\n",
      "\n",
      "lp: 0.14332421573918364\n",
      "\n",
      "\n",
      "rmse: 2.0316646431701972\n",
      "\n",
      "lp: 0.007896686918308981\n",
      "\n",
      "\n",
      "rmse: 1.9653846570463254\n",
      "\n",
      "lp: 0.08835960584487271\n",
      "\n",
      "\n",
      "rmse: 1.5928219001361712\n",
      "\n",
      "lp: 0.9710864640269188\n",
      "\n",
      "\n",
      "rmse: 1.5826602985194644\n",
      "\n",
      "lp: 0.11311112382165218\n",
      "\n",
      "\n",
      "rmse: 2.8103699286368937\n",
      "\n",
      "lp: 0.23459588617154437\n",
      "\n",
      "\n",
      "rmse: 2.8103699286368937\n",
      "\n",
      "lp: 0.9584017218168819\n",
      "\n",
      "\n",
      "rmse: 1.6214529148450083\n",
      "\n",
      "lp: 0.00426997150757999\n",
      "\n",
      "\n",
      "rmse: 1.304894072164026\n",
      "\n",
      "lp: 0.890858956474775\n",
      "\n",
      "\n",
      "rmse: 1.435399343223807\n",
      "\n",
      "lp: 0.19366904753657152\n",
      "\n",
      "\n",
      "rmse: 2.8103699286368937\n",
      "\n",
      "lp: 0.020786581766198336\n",
      "\n",
      "\n",
      "rmse: 2.8103699286368937\n",
      "\n",
      "lp: 0.008272101713046041\n",
      "\n",
      "\n",
      "rmse: 2.1183442035054156\n",
      "\n",
      "lp: 0.7135429068294131\n",
      "\n",
      "\n",
      "rmse: 2.8103699286368937\n",
      "\n",
      "lp: 0.579866421632981\n",
      "\n",
      "\n",
      "rmse: 2.1721315720121583\n",
      "\n",
      "lp: 0.9696356706151087\n",
      "\n",
      "\n",
      "rmse: 2.8092130507696185\n",
      "\n",
      "lp: 0.22579099277670286\n",
      "\n",
      "\n",
      "rmse: 2.1192195734515873\n",
      "\n",
      "lp: 0.6773518225625885\n",
      "\n",
      "\n",
      "rmse: 1.5089708679330245\n",
      "\n",
      "lp: 0.8596646680705687\n",
      "\n",
      "\n",
      "rmse: 1.5048115595012352\n",
      "\n",
      "lp: 0.9369172778913393\n",
      "\n",
      "\n",
      "rmse: 1.5198807814138777\n",
      "\n",
      "lp: 0.9072155041005707\n",
      "\n",
      "\n",
      "rmse: 1.6277156190553732\n",
      "\n",
      "lp: 0.7365815665221772\n",
      "\n",
      "\n",
      "rmse: 1.61775304086737\n",
      "\n",
      "lp: 0.1604942311094279\n",
      "\n",
      "\n",
      "rmse: 2.813356446680339\n",
      "\n",
      "lp: 0.6168815521570492\n",
      "\n",
      "\n",
      "rmse: 1.6306307556399815\n",
      "\n",
      "lp: 0.6540626852303895\n",
      "\n",
      "\n",
      "rmse: 2.8103699286368937\n",
      "\n",
      "lp: 0.8999029003506128\n",
      "\n",
      "\n",
      "rmse: 1.5380603773957355\n",
      "\n",
      "lp: 0.18518393030843086\n",
      "\n",
      "\n",
      "rmse: 1.4597697163203838\n",
      "\n",
      "lp: 0.3869236859289014\n",
      "\n",
      "\n",
      "rmse: 2.155180566635586\n",
      "\n",
      "lp: 0.5154115601145176\n",
      "\n",
      "\n",
      "rmse: 1.8591320038125108\n",
      "\n",
      "lp: 0.8000665232692653\n",
      "\n",
      "\n",
      "rmse: 1.5945749600590473\n",
      "\n",
      "lp: 0.6223880173487655\n",
      "\n",
      "\n",
      "rmse: 1.4116963344408906\n",
      "\n",
      "lp: 0.4264808375852034\n",
      "\n",
      "\n",
      "rmse: 1.5883362945498138\n",
      "\n",
      "lp: 0.3324335678220056\n",
      "\n",
      "\n",
      "rmse: 1.5802357907181177\n",
      "\n",
      "lp: 0.08885695975456027\n",
      "\n",
      "\n",
      "rmse: 1.7319273365805816\n",
      "\n",
      "lp: 0.5854962961592313\n",
      "\n",
      "\n",
      "rmse: 1.5126154884111633\n",
      "\n",
      "lp: 0.17305591954365843\n",
      "\n",
      "\n",
      "rmse: 1.4733812426597528\n",
      "\n",
      "lp: 0.4490029191598332\n",
      "\n",
      "\n",
      "rmse: 2.2410757756900894\n",
      "\n",
      "lp: 0.9016376931661476\n",
      "\n",
      "\n",
      "rmse: 2.0367199654993944\n",
      "\n",
      "lp: 0.8804655770735482\n",
      "\n",
      "\n",
      "rmse: 1.7752494675154709\n",
      "\n",
      "lp: 0.06710379740796515\n",
      "\n",
      "\n",
      "rmse: 2.8097983012450984\n",
      "\n",
      "lp: 0.09571431682125729\n",
      "\n",
      "\n",
      "rmse: 2.8103699286368937\n",
      "\n",
      "lp: 0.908305480259138\n",
      "\n",
      "\n",
      "rmse: 1.4329170238597198\n",
      "\n",
      "lp: 0.3390684057484689\n",
      "\n",
      "\n",
      "rmse: 1.685385808429566\n",
      "\n",
      "lp: 0.516363847712781\n",
      "\n",
      "\n",
      "rmse: 2.8103699286368937\n",
      "\n",
      "lp: 0.8788105005333368\n",
      "\n",
      "\n",
      "rmse: 2.244881406214366\n",
      "\n",
      "lp: 0.19997019172161112\n",
      "\n",
      "\n",
      "rmse: 2.615554506261642\n",
      "\n",
      "lp: 0.4063792524055885\n",
      "\n",
      "\n",
      "rmse: 2.27707524092318\n",
      "\n",
      "lp: 0.9167275069311955\n",
      "\n",
      "\n",
      "rmse: 2.8103699286368937\n",
      "\n",
      "lp: 0.0011971543076083283\n",
      "\n",
      "\n",
      "rmse: 1.4127260801430495\n",
      "\n",
      "lp: 0.9594935746293345\n",
      "\n",
      "\n",
      "rmse: 1.5262131539676158\n",
      "\n",
      "lp: 0.9425539110775208\n",
      "\n",
      "\n",
      "rmse: 1.9330939758698276\n",
      "\n",
      "lp: 0.13875849518812322\n",
      "\n",
      "\n",
      "rmse: 1.5554657936903264\n",
      "\n",
      "lp: 0.856685698051625\n",
      "\n",
      "\n",
      "rmse: 1.983709724087299\n",
      "\n",
      "lp: 0.0050521283479633625\n",
      "\n",
      "\n",
      "rmse: 1.66860503978947\n",
      "\n",
      "lp: 0.25994470222882504\n",
      "\n",
      "\n",
      "rmse: 2.8103699286368937\n",
      "\n",
      "lp: 0.09194689668712891\n",
      "\n",
      "\n",
      "rmse: 1.632600316212082\n",
      "\n",
      "lp: 0.001\n",
      "\n",
      "\n",
      "rmse: 2.1879625075425504\n",
      "\n",
      "lp: 0.9604753354865659\n",
      "\n",
      "\n",
      "rmse: 2.5194671509041293\n",
      "\n",
      "lp: 0.29360517059484265\n",
      "\n",
      "\n",
      "rmse: 2.8103699286368937\n",
      "\n",
      "lp: 0.3746460134732166\n",
      "\n",
      "\n",
      "rmse: 2.8103699286368937\n",
      "\n",
      "lp: 0.2989931370948352\n",
      "\n",
      "\n",
      "rmse: 2.7907432711065407\n",
      "\n",
      "lp: 0.18852684019169194\n",
      "\n",
      "\n",
      "rmse: 2.8103699286368937\n",
      "\n",
      "lp: 0.5730057161049346\n",
      "\n",
      "\n",
      "rmse: 2.809273318694349\n",
      "\n",
      "lp: 0.10117525071155581\n",
      "\n",
      "\n",
      "rmse: 2.8103699286368937\n",
      "\n",
      "lp: 0.22992609565659602\n",
      "\n",
      "\n",
      "rmse: 2.8103649624584714\n",
      "\n",
      "lp: 0.7404452022605973\n",
      "\n",
      "\n",
      "rmse: 2.8103699286368937\n",
      "\n",
      "lp: 0.0324269144850686\n",
      "\n",
      "\n",
      "rmse: 2.8103699286368937\n",
      "\n",
      "lp: 1.0\n",
      "\n",
      "\n",
      "rmse: 2.8103699286368937\n",
      "\n",
      "lp: 0.1862262290624415\n",
      "\n",
      "\n",
      "rmse: 2.8103699286368937\n",
      "\n",
      "lp: 1.0\n",
      "\n",
      "\n",
      "rmse: 2.505512619132631\n",
      "\n",
      "lp: 1e-07\n",
      "\n",
      "\n",
      "rmse: 2.4409321659873666\n",
      "\n",
      "lp: 1.0\n",
      "\n",
      "\n",
      "rmse: 1.8337504779567013\n",
      "\n",
      "lp: 1.0\n",
      "\n",
      "\n",
      "rmse: 2.01316254366597\n",
      "\n",
      "lp: 1.0\n",
      "\n",
      "\n",
      "rmse: 2.207112204925687\n",
      "\n",
      "lp: 0.760181911276758\n",
      "\n",
      "\n",
      "rmse: 2.791909119600789\n",
      "\n",
      "lp: 0.08080827500766397\n",
      "\n",
      "\n",
      "rmse: 2.8103699286368937\n",
      "\n",
      "lp: 0.37738695510568593\n",
      "\n",
      "\n",
      "rmse: 2.8103699286368937\n",
      "\n",
      "lp: 0.9579235771660602\n",
      "\n",
      "\n",
      "rmse: 2.8103699286368937\n",
      "\n",
      "lp: 0.6586373627440922\n",
      "\n",
      "\n",
      "rmse: 2.8103699286368937\n",
      "\n",
      "lp: 0.17726904951656006\n",
      "\n",
      "\n",
      "rmse: 2.809038384662224\n",
      "\n",
      "lp: 0.5381315198864677\n",
      "\n",
      "\n",
      "rmse: 1.7809225059365634\n",
      "\n",
      "lp: 0.02120796261685866\n",
      "\n",
      "\n",
      "rmse: 1.8181651956224156\n",
      "\n",
      "lp: 0.6364670942063164\n",
      "\n",
      "\n",
      "rmse: 2.435051044247948\n",
      "\n",
      "lp: 0.6646646912169062\n",
      "\n",
      "\n",
      "rmse: 1.8754709569290067\n",
      "\n",
      "lp: 0.20676036977393683\n",
      "\n",
      "\n",
      "rmse: 1.8118116176472594\n",
      "\n",
      "lp: 0.6816533281434525\n",
      "\n",
      "\n",
      "rmse: 1.8628627155742448\n",
      "\n",
      "lp: 0.9131128978319005\n",
      "\n",
      "\n",
      "rmse: 1.8328142200732958\n",
      "\n",
      "lp: 0.7159262336631865\n",
      "\n",
      "\n",
      "rmse: 1.7233222024177435\n",
      "\n",
      "lp: 0.5606028451347895\n",
      "\n",
      "\n",
      "rmse: 1.832836943396731\n",
      "\n",
      "lp: 0.4484207071258815\n",
      "\n",
      "\n",
      "rmse: 1.997824363427516\n",
      "\n",
      "lp: 0.7765554922616471\n",
      "\n",
      "\n",
      "rmse: 1.528908825141182\n",
      "\n",
      "lp: 0.03796235163676794\n",
      "\n",
      "\n",
      "rmse: 2.8103699286368937\n",
      "\n",
      "lp: 0.09701412343802575\n",
      "\n",
      "\n",
      "rmse: 2.8103699286368937\n",
      "\n",
      "lp: 0.2014527254675901\n",
      "\n",
      "\n",
      "rmse: 2.8103699286368937\n",
      "\n",
      "lp: 0.10851429574187296\n",
      "\n",
      "\n",
      "rmse: 2.8103699286368937\n",
      "\n",
      "lp: 0.261244125801099\n",
      "\n",
      "\n",
      "rmse: 2.8103699286368937\n",
      "\n",
      "lp: 0.2297089677226564\n",
      "\n",
      "\n",
      "rmse: 2.8103699286368937\n",
      "\n",
      "lp: 0.25610024523544256\n",
      "\n",
      "\n",
      "rmse: 2.2557299409518703\n",
      "\n",
      "lp: 0.4721548950233628\n",
      "\n",
      "\n",
      "rmse: 1.6325684184192741\n",
      "\n",
      "lp: 0.707128985123532\n",
      "\n",
      "\n",
      "rmse: 1.795773684859259\n",
      "\n",
      "lp: 0.3912051010987817\n",
      "\n",
      "\n",
      "rmse: 2.319768242298326\n",
      "\n",
      "lp: 0.725343162481364\n",
      "\n",
      "\n",
      "rmse: 2.8103699286368937\n",
      "\n",
      "lp: 0.052658284807173564\n",
      "\n",
      "\n",
      "rmse: 2.810251717037254\n",
      "\n",
      "lp: 0.710627852269545\n",
      "\n",
      "\n",
      "rmse: 2.8103699286368937\n",
      "\n",
      "lp: 0.7921472406940125\n",
      "\n",
      "\n",
      "rmse: 2.4923763312633334\n",
      "\n",
      "lp: 0.692045509316324\n",
      "\n",
      "\n",
      "rmse: 1.7647631949016167\n",
      "\n",
      "lp: 0.9396379379676189\n",
      "\n",
      "\n",
      "rmse: 2.8103699286368937\n",
      "\n",
      "lp: 0.9515821593384507\n",
      "\n",
      "\n",
      "rmse: 1.6924636626908711\n",
      "\n",
      "lp: 0.8076074180274209\n",
      "\n",
      "\n",
      "rmse: 2.2443865074202467\n",
      "\n",
      "lp: 0.23592216394936494\n",
      "\n",
      "\n",
      "rmse: 1.9125133582394032\n",
      "\n",
      "lp: 0.5454027611272803\n",
      "\n",
      "\n",
      "rmse: 1.5449458426729112\n",
      "\n",
      "lp: 0.7525921770913965\n",
      "\n",
      "\n",
      "rmse: 1.7352451773663453\n",
      "\n",
      "lp: 0.042729918940421815\n",
      "\n",
      "\n",
      "rmse: 1.6918965059224365\n",
      "\n",
      "lp: 0.7738509552873197\n",
      "\n",
      "\n",
      "rmse: 1.788550110493262\n",
      "\n",
      "lp: 0.12853956208377343\n",
      "\n",
      "\n",
      "rmse: 1.842773471370095\n",
      "\n",
      "lp: 0.1293587365538836\n",
      "\n",
      "\n",
      "rmse: 1.9981796968014072\n",
      "\n",
      "lp: 0.6699318329923697\n",
      "\n",
      "\n",
      "rmse: 2.8103699286368937\n",
      "\n",
      "lp: 0.11027435691482072\n",
      "\n",
      "\n",
      "rmse: 1.6183796057596795\n",
      "\n",
      "lp: 0.8820572858112788\n",
      "\n",
      "\n",
      "rmse: 1.8075483137639086\n",
      "\n",
      "lp: 0.9197594833375169\n",
      "\n",
      "\n",
      "rmse: 2.8103699286368937\n",
      "\n",
      "lp: 0.19772663113451716\n",
      "\n",
      "\n",
      "rmse: 2.3026414964646706\n",
      "\n",
      "lp: 0.7970339239355491\n",
      "\n",
      "\n",
      "rmse: 2.8103699286368937\n",
      "\n",
      "lp: 0.7101629956825278\n",
      "\n",
      "\n",
      "rmse: 1.739113526034566\n",
      "\n",
      "lp: 0.09904335871214257\n",
      "\n",
      "\n",
      "rmse: 2.8103699286368937\n",
      "\n",
      "lp: 0.5252862925286642\n",
      "\n",
      "\n",
      "rmse: 1.9220127654374748\n",
      "\n",
      "lp: 0.6651001168124278\n",
      "\n",
      "\n",
      "rmse: 2.5524952205677933\n",
      "\n",
      "lp: 0.1309682909002103\n",
      "\n",
      "\n",
      "rmse: 1.9423489126385274\n",
      "\n",
      "lp: 0.4451238270418664\n",
      "\n",
      "\n",
      "rmse: 2.8103699286368937\n",
      "\n",
      "lp: 0.01348441001685203\n",
      "\n",
      "\n",
      "rmse: 1.7396649709260668\n",
      "\n",
      "lp: 0.613412997500192\n",
      "\n",
      "\n",
      "rmse: 2.1720776477359904\n",
      "\n",
      "lp: 0.25081640302376884\n",
      "\n",
      "\n",
      "rmse: 2.314685491838733\n",
      "\n",
      "lp: 0.6646085229824559\n",
      "\n",
      "\n",
      "rmse: 2.8103699286368937\n",
      "\n",
      "lp: 0.45548303373381954\n",
      "\n",
      "\n",
      "rmse: 1.775787333723981\n",
      "\n",
      "lp: 0.07491042999291488\n",
      "\n",
      "\n",
      "rmse: 1.726922543692282\n",
      "\n",
      "lp: 0.24988161440667728\n",
      "\n",
      "\n",
      "rmse: 1.8403388890432104\n",
      "\n",
      "lp: 0.33650749536634306\n",
      "\n",
      "\n",
      "rmse: 2.8103699286368937\n",
      "\n",
      "lp: 0.27434455273180186\n",
      "\n",
      "\n",
      "rmse: 1.8136667604642\n",
      "\n",
      "lp: 0.9698614793405497\n",
      "\n",
      "\n",
      "rmse: 2.793640283062849\n",
      "\n",
      "lp: 0.3792028929261152\n",
      "\n",
      "\n",
      "rmse: 2.1507154907928716\n",
      "\n",
      "lp: 0.2940087633141672\n",
      "\n",
      "\n",
      "rmse: 2.8781705981191723\n",
      "\n",
      "lp: 0.8999264708650517\n",
      "\n",
      "\n",
      "rmse: 1.664338841389941\n",
      "\n",
      "lp: 0.0015136843488126896\n",
      "\n",
      "\n",
      "rmse: 1.7048253564620315\n",
      "\n",
      "lp: 0.44607044353935943\n",
      "\n",
      "\n",
      "rmse: 1.8923757064194207\n",
      "\n",
      "lp: 0.5726819874659725\n",
      "\n",
      "\n",
      "rmse: 1.8901611257451565\n",
      "\n",
      "lp: 0.6703127237310634\n",
      "\n"
     ]
    },
    {
     "name": "stdout",
     "output_type": "stream",
     "text": [
      "\n",
      "rmse: 2.017359207866274\n",
      "\n",
      "lp: 0.7807059572960712\n",
      "\n",
      "\n",
      "rmse: 2.8103699286368937\n",
      "\n",
      "lp: 0.9813165526842971\n",
      "\n",
      "\n",
      "rmse: 2.8103699286368937\n",
      "\n",
      "lp: 0.014820768956001299\n",
      "\n",
      "\n",
      "rmse: 2.8103699286368937\n",
      "\n",
      "lp: 0.94389154047689\n",
      "\n",
      "\n",
      "rmse: 2.8103699286368937\n",
      "\n",
      "lp: 0.6058091363968973\n",
      "\n",
      "\n",
      "rmse: 1.6135816064823238\n",
      "\n",
      "lp: 0.8644165852320757\n",
      "\n",
      "\n",
      "rmse: 2.2171282699468065\n",
      "\n",
      "lp: 0.2659517416783949\n",
      "\n",
      "\n",
      "rmse: 2.8103699286368937\n",
      "\n",
      "lp: 0.12184041696646981\n",
      "\n",
      "\n",
      "rmse: 2.8103699286368937\n",
      "\n",
      "lp: 0.10090481696522165\n",
      "\n",
      "\n",
      "rmse: 2.5293377121531027\n",
      "\n",
      "lp: 0.42584541891120725\n",
      "\n",
      "\n",
      "rmse: 1.7508283421433757\n",
      "\n",
      "lp: 0.6623469232240368\n",
      "\n",
      "\n",
      "rmse: 1.6473943359947447\n",
      "\n",
      "lp: 0.001\n",
      "\n",
      "\n",
      "rmse: 2.1580218324179046\n",
      "\n",
      "lp: 0.16802872122324192\n",
      "\n",
      "\n",
      "rmse: 2.8060299454300446\n",
      "\n",
      "lp: 0.5524776214786038\n",
      "\n",
      "\n",
      "rmse: 2.8103699286368937\n",
      "\n",
      "lp: 0.2456290837928058\n",
      "\n",
      "\n",
      "rmse: 2.8103699286368937\n",
      "\n",
      "lp: 0.6153692283853347\n",
      "\n",
      "\n",
      "rmse: 2.8103699286368937\n",
      "\n",
      "lp: 0.9838379043997636\n",
      "\n",
      "\n",
      "rmse: 2.8103699286368937\n",
      "\n",
      "lp: 0.900765132877854\n",
      "\n",
      "\n",
      "rmse: 2.8103699286368937\n",
      "\n",
      "lp: 0.10072100651799225\n",
      "\n",
      "\n",
      "rmse: 2.8103699286368937\n",
      "\n",
      "lp: 0.1495771907206266\n",
      "\n",
      "\n",
      "rmse: 2.8103699286368937\n",
      "\n",
      "lp: 0.923599352584887\n",
      "\n",
      "\n",
      "rmse: 2.8103699286368937\n",
      "\n",
      "lp: 0.6494963003607501\n",
      "\n",
      "\n",
      "rmse: 2.8100469253466898\n",
      "\n",
      "lp: 1.0\n",
      "\n",
      "\n",
      "rmse: 2.5881808796882546\n",
      "\n",
      "lp: 1e-07\n",
      "\n",
      "\n",
      "rmse: 2.55272485320853\n",
      "\n",
      "lp: 1.0\n",
      "\n",
      "\n",
      "rmse: 2.5860056264856524\n",
      "\n",
      "lp: 1e-07\n",
      "\n",
      "\n",
      "rmse: 24.870074966848343\n",
      "\n",
      "lp: 0.1652824512184042\n",
      "\n",
      "\n",
      "rmse: 2.8104134618479506\n",
      "\n",
      "lp: 1e-07\n",
      "\n",
      "\n",
      "rmse: 2.3394589034343185\n",
      "\n",
      "lp: 0.09189820695901207\n",
      "\n",
      "\n",
      "rmse: 2.0313056384587567\n",
      "\n",
      "lp: 0.10935095545604386\n",
      "\n",
      "\n",
      "rmse: 2.745393998883874\n",
      "\n",
      "lp: 0.5520303857004142\n",
      "\n",
      "\n",
      "rmse: 2.8103699286368937\n",
      "\n",
      "lp: 1e-07\n",
      "\n",
      "\n",
      "rmse: 2.8103699286368937\n",
      "\n",
      "lp: 0.9506808101016974\n",
      "\n",
      "\n",
      "rmse: 2.8103699286368937\n",
      "\n",
      "lp: 1e-07\n",
      "\n",
      "\n",
      "rmse: 2.8103699286368937\n",
      "\n",
      "lp: 0.9308000659460116\n",
      "\n",
      "\n",
      "rmse: 2.8103699286368937\n",
      "\n",
      "lp: 0.40030738195848503\n",
      "\n",
      "\n",
      "rmse: 2.8103699286368937\n",
      "\n",
      "lp: 0.5581441488379142\n",
      "\n",
      "\n",
      "rmse: 2.8103699286368937\n",
      "\n",
      "lp: 0.8565976771132644\n",
      "\n",
      "\n",
      "rmse: 2.8103699286368937\n",
      "\n",
      "lp: 0.22459012587929594\n",
      "\n",
      "\n",
      "rmse: 2.8103699286368937\n",
      "\n",
      "lp: 1.0\n",
      "\n",
      "\n",
      "rmse: 2.8103699286368937\n",
      "\n",
      "lp: 0.9677684330586619\n",
      "\n",
      "\n",
      "rmse: 2.8103699286368937\n",
      "\n",
      "lp: 0.9564402946934715\n",
      "\n",
      "\n",
      "rmse: 2.8103699286368937\n",
      "\n",
      "lp: 0.22009605085003942\n",
      "\n",
      "\n",
      "rmse: 2.8103699286368937\n",
      "\n",
      "lp: 0.7942930838918267\n",
      "\n",
      "\n",
      "rmse: 2.8103699286368937\n",
      "\n",
      "lp: 0.44178086273844297\n",
      "\n",
      "\n",
      "rmse: 2.8103699286368937\n",
      "\n",
      "lp: 1e-07\n",
      "\n",
      "\n",
      "rmse: 2.8103699286368937\n",
      "\n",
      "lp: 1e-07\n",
      "\n",
      "\n",
      "rmse: 2.8103699286368937\n",
      "\n",
      "lp: 1.0\n",
      "\n",
      "\n",
      "rmse: 2.8103699286368937\n",
      "\n",
      "lp: 0.8923522371537593\n",
      "\n",
      "\n",
      "rmse: 2.8103699286368937\n",
      "\n",
      "lp: 0.7513313673044294\n",
      "\n",
      "\n",
      "rmse: 2.8103655097150395\n",
      "\n",
      "lp: 0.5218689910772863\n",
      "\n",
      "\n",
      "rmse: 2.8103699286368937\n",
      "\n",
      "lp: 0.5742029237212664\n",
      "\n",
      "\n",
      "rmse: 2.8103699286368937\n",
      "\n",
      "lp: 0.6621365526524877\n",
      "\n",
      "\n",
      "rmse: 2.8103699286368937\n",
      "\n",
      "lp: 0.5736873922054985\n",
      "\n",
      "\n",
      "rmse: 2.809836436954578\n",
      "\n",
      "lp: 1e-07\n",
      "\n",
      "\n",
      "rmse: 2.4178219287723106\n",
      "\n",
      "lp: 1e-07\n",
      "\n",
      "\n",
      "rmse: 2.8103699286368937\n",
      "\n",
      "lp: 0.0989686651916915\n",
      "\n",
      "\n",
      "rmse: 2.8103699286368937\n",
      "\n",
      "lp: 1.0\n",
      "\n",
      "\n",
      "rmse: 2.8103699286368937\n",
      "\n",
      "lp: 1e-07\n",
      "\n",
      "\n",
      "rmse: 2.8103699286368937\n",
      "\n",
      "lp: 0.21797408240587463\n",
      "\n",
      "\n",
      "rmse: 2.8103699286368937\n",
      "\n",
      "lp: 1e-07\n",
      "\n",
      "\n",
      "rmse: 2.8114155086317196\n",
      "\n",
      "lp: 1e-07\n",
      "\n",
      "\n",
      "rmse: 2.8104296984742914\n",
      "\n",
      "lp: 1e-07\n",
      "\n",
      "\n",
      "rmse: 2.8103699286368937\n",
      "\n",
      "lp: 0.907968389068243\n",
      "\n",
      "\n",
      "rmse: 2.8103699286368937\n",
      "\n",
      "lp: 1e-07\n",
      "\n",
      "\n",
      "rmse: 2.8103699286368937\n",
      "\n",
      "lp: 1e-07\n",
      "\n",
      "\n",
      "rmse: 2.8103699286368937\n",
      "\n",
      "lp: 1e-07\n",
      "\n",
      "\n",
      "rmse: 2.8103699286368937\n",
      "\n",
      "lp: 1e-07\n",
      "\n",
      "\n",
      "rmse: 2.534436797041602\n",
      "\n",
      "lp: 1e-07\n",
      "\n",
      "\n",
      "rmse: 2.8103699286368937\n",
      "\n",
      "lp: 0.15343767125649957\n",
      "\n",
      "\n",
      "rmse: 4.394301025803323\n",
      "\n",
      "lp: 0.9644791170586248\n",
      "\n",
      "\n",
      "rmse: 2.8103699286368937\n",
      "\n",
      "lp: 0.3903280646201859\n",
      "\n",
      "\n",
      "rmse: 2.8103699286368937\n",
      "\n",
      "lp: 0.2766679972627175\n",
      "\n",
      "\n",
      "rmse: 42.62973791148328\n",
      "\n",
      "lp: 0.027683400903941786\n",
      "\n",
      "\n",
      "rmse: 7.397245518460772\n",
      "\n",
      "lp: 0.6496344863708886\n",
      "\n",
      "\n",
      "rmse: 2.8089732996582715\n",
      "\n",
      "lp: 0.6670843570977132\n",
      "\n",
      "\n",
      "rmse: 2.8103014880808272\n",
      "\n",
      "lp: 0.6424007047180817\n",
      "\n",
      "\n",
      "rmse: 2.8103699286368937\n",
      "\n",
      "lp: 1e-07\n",
      "\n",
      "\n",
      "rmse: 2.058781204609808\n",
      "\n",
      "lp: 1e-07\n",
      "\n",
      "\n",
      "rmse: 2.8103699286368937\n",
      "\n",
      "lp: 0.6185673336097789\n",
      "\n",
      "\n",
      "rmse: 2.810377196771172\n",
      "\n",
      "lp: 0.48620926456256686\n",
      "\n",
      "\n",
      "rmse: 2.810369687629324\n",
      "\n",
      "lp: 0.7665727127123722\n",
      "\n",
      "\n",
      "rmse: 2.8103699286368937\n",
      "\n",
      "lp: 0.21017378337992265\n",
      "\n",
      "\n",
      "rmse: 2.8087173450298057\n",
      "\n",
      "lp: 0.25654144727901307\n",
      "\n",
      "\n",
      "rmse: 2.8103699286368937\n",
      "\n",
      "lp: 0.6608840021284798\n",
      "\n",
      "\n",
      "rmse: 2.8103689481423886\n",
      "\n",
      "lp: 0.23847664520340736\n",
      "\n",
      "\n",
      "rmse: 2.462872198618885\n",
      "\n",
      "lp: 0.8936862700559638\n",
      "\n",
      "\n",
      "rmse: 2.700048448311485\n",
      "\n",
      "lp: 0.7796373097892513\n",
      "\n",
      "\n",
      "rmse: 2.2093592708373233\n",
      "\n",
      "lp: 0.5372100192874648\n",
      "\n",
      "\n",
      "rmse: 2.3599289549117577\n",
      "\n",
      "lp: 0.2658482020818774\n",
      "\n",
      "\n",
      "rmse: 2.8103699286368937\n",
      "\n",
      "lp: 0.7740495619220148\n",
      "\n",
      "\n",
      "rmse: 2.8103699286368937\n",
      "\n",
      "lp: 0.5017076525323562\n",
      "\n",
      "\n",
      "rmse: 2.8103699286368937\n",
      "\n",
      "lp: 0.644400862672799\n",
      "\n",
      "\n",
      "rmse: 2.8103699286368937\n",
      "\n",
      "lp: 0.2375026404242513\n",
      "\n",
      "\n",
      "rmse: 2.8103699286368937\n",
      "\n",
      "lp: 0.7258936568338735\n",
      "\n",
      "\n",
      "rmse: 2.538139188727831\n",
      "\n",
      "lp: 1e-07\n",
      "\n",
      "\n",
      "rmse: 2.8100885743386956\n",
      "\n",
      "lp: 0.4978776011670698\n",
      "\n",
      "\n",
      "rmse: 2.8103699286368937\n",
      "\n",
      "lp: 0.28711145231200114\n",
      "\n",
      "\n",
      "rmse: 2.8103699286368937\n",
      "\n",
      "lp: 0.8844009253461512\n",
      "\n",
      "\n",
      "rmse: 2.8103699286368937\n",
      "\n",
      "lp: 0.5830536017632213\n",
      "\n",
      "\n",
      "rmse: 2.8103699286368937\n",
      "\n",
      "lp: 0.6359589012700422\n",
      "\n",
      "\n",
      "rmse: 2.8103699286368937\n",
      "\n",
      "lp: 0.1876559113926979\n",
      "\n",
      "\n",
      "rmse: 2.8103699286368937\n",
      "\n",
      "lp: 0.8131672333871467\n",
      "\n",
      "\n",
      "rmse: 2.8103699286368937\n",
      "\n",
      "lp: 0.9849783684977858\n",
      "\n",
      "\n",
      "rmse: 2.794489327929877\n",
      "\n",
      "lp: 0.012192736748319936\n",
      "\n",
      "\n",
      "rmse: 2.8103699286368937\n",
      "\n",
      "lp: 0.8312136257140158\n",
      "\n",
      "\n",
      "rmse: 2.8103699286368937\n",
      "\n",
      "lp: 0.11593803282854087\n",
      "\n",
      "\n",
      "rmse: 2.8103699286368937\n",
      "\n",
      "lp: 0.26904177543243035\n",
      "\n",
      "\n",
      "rmse: 2.8103699286368937\n",
      "\n",
      "lp: 0.1518906299137983\n",
      "\n",
      "\n",
      "rmse: 2.8103699286368937\n",
      "\n",
      "lp: 0.4649793456709685\n",
      "\n",
      "\n",
      "rmse: 2.7062986065893\n",
      "\n",
      "lp: 0.1769540492772924\n",
      "\n",
      "\n",
      "rmse: 2.7476658608785334\n",
      "\n",
      "lp: 0.001\n",
      "\n",
      "\n",
      "rmse: 1.5652747567070269\n",
      "\n",
      "lp: 0.5665346986991528\n",
      "\n",
      "\n",
      "rmse: 2.8103387753735327\n",
      "\n",
      "lp: 0.15785664035679584\n",
      "\n",
      "\n",
      "rmse: 2.8086712789253663\n",
      "\n",
      "lp: 0.8218190083853887\n",
      "\n",
      "\n",
      "rmse: 2.8103699286368937\n",
      "\n",
      "lp: 0.1703117070838998\n",
      "\n",
      "\n",
      "rmse: 2.8103699286368937\n",
      "\n",
      "lp: 0.2513570795041085\n",
      "\n",
      "\n",
      "rmse: 2.8103699286368937\n",
      "\n",
      "lp: 0.3468092688898047\n",
      "\n",
      "\n",
      "rmse: 2.8103699286368937\n",
      "\n",
      "lp: 0.33600277524225025\n",
      "\n",
      "\n",
      "rmse: 2.8103699286368937\n",
      "\n",
      "lp: 0.3690168683211248\n",
      "\n",
      "\n",
      "rmse: 2.8103699286368937\n",
      "\n",
      "lp: 0.4548625364776048\n",
      "\n",
      "\n",
      "rmse: 2.806448165167502\n",
      "\n",
      "lp: 0.799759878834957\n",
      "\n",
      "\n",
      "rmse: 2.8103699286368937\n",
      "\n",
      "lp: 1e-07\n",
      "\n",
      "\n",
      "rmse: 2.8103699286368937\n",
      "\n",
      "lp: 1.0\n",
      "\n",
      "\n",
      "rmse: 2.8103652805769204\n",
      "\n",
      "lp: 1e-07\n",
      "\n",
      "\n",
      "rmse: 2.8103699286368937\n",
      "\n",
      "lp: 0.3083204386882638\n",
      "\n",
      "\n",
      "rmse: 6.923977688878339\n",
      "\n",
      "lp: 1e-07\n",
      "\n",
      "\n",
      "rmse: 2.318742359598933\n",
      "\n",
      "lp: 0.45192429861314903\n",
      "\n",
      "\n",
      "rmse: 2.8103699286368937\n",
      "\n",
      "lp: 0.04541567441658038\n",
      "\n",
      "\n",
      "rmse: 2.15534872300124\n",
      "\n",
      "lp: 0.6089035846853172\n",
      "\n",
      "\n",
      "rmse: 2.4021181250512136\n",
      "\n",
      "lp: 0.7389087203757735\n",
      "\n",
      "\n",
      "rmse: 2.8103699286368937\n",
      "\n",
      "lp: 1.0\n",
      "\n",
      "\n",
      "rmse: 2.8103699286368937\n",
      "\n",
      "lp: 1e-07\n",
      "\n",
      "\n",
      "rmse: 2.8103699286368937\n",
      "\n",
      "lp: 1.0\n",
      "\n",
      "\n",
      "rmse: 2.830277140184913\n",
      "\n",
      "lp: 1e-07\n",
      "\n",
      "\n",
      "rmse: 2.8103699286368937\n",
      "\n",
      "lp: 0.6212136798184253\n",
      "\n",
      "\n",
      "rmse: 2.8103699286368937\n",
      "\n",
      "lp: 0.8295731195763674\n",
      "\n",
      "\n",
      "rmse: 2.527290155191836\n",
      "\n",
      "lp: 0.526112602328562\n",
      "\n",
      "\n",
      "rmse: 2.8103699286368937\n",
      "\n",
      "lp: 1.0\n",
      "\n",
      "\n",
      "rmse: 2.4447765688413416\n",
      "\n",
      "lp: 0.02538335398126791\n",
      "\n",
      "\n",
      "rmse: 3.1428350452646874\n",
      "\n",
      "lp: 0.005491256949159456\n",
      "\n",
      "\n",
      "rmse: 2.0273761589029853\n",
      "\n",
      "lp: 0.9172139360249814\n",
      "\n",
      "\n",
      "rmse: 2.8848704008339108\n",
      "\n",
      "lp: 0.9553040862773693\n",
      "\n",
      "\n",
      "rmse: 2.8103699286368937\n",
      "\n",
      "lp: 0.7833720622237567\n",
      "\n",
      "\n",
      "rmse: 2.8103699286368937\n",
      "\n",
      "lp: 0.05929904946253733\n",
      "\n",
      "\n",
      "rmse: 2.7506226296806875\n",
      "\n",
      "lp: 1e-07\n",
      "\n",
      "\n",
      "rmse: 2.8103699286368937\n",
      "\n",
      "lp: 0.37913022683792685\n",
      "\n",
      "\n",
      "rmse: 2.8103699286368937\n",
      "\n",
      "lp: 1e-07\n",
      "\n",
      "\n",
      "rmse: 2.8896944300254037\n",
      "\n",
      "lp: 0.19446586868359297\n",
      "\n",
      "\n",
      "rmse: 2.8103662086759194\n",
      "\n",
      "lp: 0.4216388640781211\n",
      "\n",
      "\n",
      "rmse: 2.8103699286368937\n",
      "\n",
      "lp: 0.9981407996988345\n",
      "\n",
      "\n",
      "rmse: 2.8103699286368937\n",
      "\n",
      "lp: 0.07274368327772422\n",
      "\n",
      "\n",
      "rmse: 2.8103699286368937\n",
      "\n",
      "lp: 0.06442600169374456\n",
      "\n",
      "\n",
      "rmse: 2.8094556699319426\n",
      "\n",
      "lp: 0.27654580829988606\n",
      "\n",
      "\n",
      "rmse: 2.3995985717992596\n",
      "\n",
      "lp: 0.014793211814376709\n",
      "\n",
      "\n",
      "rmse: 2.531660432996969\n",
      "\n",
      "lp: 0.2499823367684696\n",
      "\n",
      "\n",
      "rmse: 2.4804724691628346\n",
      "\n",
      "lp: 0.04322601146955874\n",
      "\n",
      "\n",
      "rmse: 2.8103699286368937\n",
      "\n",
      "lp: 0.9890599308542907\n",
      "\n",
      "\n",
      "rmse: 2.8103699286368937\n",
      "\n",
      "lp: 0.8247241847887838\n",
      "\n",
      "\n",
      "rmse: 2.8103699286368937\n",
      "\n",
      "lp: 0.867999761552575\n",
      "\n",
      "\n",
      "rmse: 2.8103699286368937\n",
      "\n",
      "lp: 0.7396646665017436\n",
      "\n",
      "\n",
      "rmse: 2.8103699286368937\n",
      "\n",
      "lp: 0.7118081696539277\n",
      "\n",
      "\n",
      "rmse: 2.8103699286368937\n",
      "\n",
      "lp: 0.9775564601305179\n",
      "\n",
      "\n",
      "rmse: 2.8103699286368937\n",
      "\n",
      "lp: 0.9205444796325898\n",
      "\n",
      "\n",
      "rmse: 2.8103699286368937\n",
      "\n",
      "lp: 0.47583105635188466\n",
      "\n",
      "\n",
      "rmse: 2.5464773536610585\n",
      "\n",
      "lp: 0.2789084998553849\n",
      "\n",
      "\n",
      "rmse: 2.8103699286368937\n",
      "\n",
      "lp: 0.17391134371801523\n",
      "\n",
      "\n",
      "rmse: 2.755806077994493\n",
      "\n",
      "lp: 0.26773314233301626\n",
      "\n",
      "\n",
      "rmse: 4.5304055171789015\n",
      "\n",
      "lp: 0.6598384484153189\n",
      "\n",
      "\n",
      "rmse: 2.8103699286368937\n",
      "\n",
      "lp: 0.6562833015357125\n",
      "\n",
      "\n",
      "rmse: 2.8103699286368937\n",
      "\n",
      "lp: 0.6288571227738609\n",
      "\n"
     ]
    },
    {
     "name": "stdout",
     "output_type": "stream",
     "text": [
      "\n",
      "rmse: 2.139286611478114\n",
      "\n",
      "lp: 0.769873780905829\n",
      "\n",
      "\n",
      "rmse: 2.8103699286368937\n",
      "\n",
      "lp: 0.7520055949307303\n",
      "\n",
      "\n",
      "rmse: 2.3471754213229157\n",
      "\n",
      "lp: 0.012983502736135777\n",
      "\n",
      "\n",
      "rmse: 2.8103699286368937\n",
      "\n",
      "lp: 0.832742554029276\n",
      "\n",
      "\n",
      "rmse: 2.8103699286368937\n",
      "\n",
      "lp: 0.06936340663941759\n",
      "\n",
      "\n",
      "rmse: 2.646495942651062\n",
      "\n",
      "lp: 0.0940497877122696\n",
      "\n",
      "\n",
      "rmse: 2.8103699286368937\n",
      "\n",
      "lp: 0.8073940101678466\n",
      "\n",
      "\n",
      "rmse: 2.442420318807372\n",
      "\n",
      "lp: 0.6529069540383192\n",
      "\n",
      "\n",
      "rmse: 2.8103699286368937\n",
      "\n",
      "lp: 0.15051780577382834\n",
      "\n",
      "\n",
      "rmse: 2.8103699286368937\n",
      "\n",
      "lp: 0.14755908376937973\n",
      "\n",
      "\n",
      "rmse: 2.8103699286368937\n",
      "\n",
      "lp: 0.39001778519333963\n",
      "\n",
      "\n",
      "rmse: 2.8103699286368937\n",
      "\n",
      "lp: 0.16548045214972582\n",
      "\n",
      "\n",
      "rmse: 2.8103699286368937\n",
      "\n",
      "lp: 1e-07\n",
      "\n",
      "\n",
      "rmse: 2.2921578500986834\n",
      "\n",
      "lp: 0.8630240464974817\n",
      "\n",
      "\n",
      "rmse: 2.8103699286368937\n",
      "\n",
      "lp: 0.04880675653864608\n",
      "\n",
      "\n",
      "rmse: 2.8103699286368937\n",
      "\n",
      "lp: 0.35115174325356974\n",
      "\n",
      "\n",
      "rmse: 2.8103699286368937\n",
      "\n",
      "lp: 0.19600280301928172\n",
      "\n",
      "\n",
      "rmse: 2.8103699286368937\n",
      "\n",
      "lp: 1e-07\n",
      "\n",
      "\n",
      "rmse: 2.8103699286368937\n",
      "\n",
      "lp: 0.057597603143158\n",
      "\n",
      "\n",
      "rmse: 2.8103699286368937\n",
      "\n",
      "lp: 0.6429321743530797\n",
      "\n",
      "\n",
      "rmse: 2.8103699286368937\n",
      "\n",
      "lp: 0.014960599624089565\n",
      "\n",
      "\n",
      "rmse: 2.8103699286368937\n",
      "\n",
      "lp: 0.13182801454103857\n",
      "\n",
      "\n",
      "rmse: 2.8103699286368937\n",
      "\n",
      "lp: 0.12171578529457716\n",
      "\n",
      "\n",
      "rmse: 2.8103699286368937\n",
      "\n",
      "lp: 0.6681247191032001\n",
      "\n",
      "\n",
      "rmse: 2.810348229259458\n",
      "\n",
      "lp: 0.13263954944315012\n",
      "\n",
      "\n",
      "rmse: 2.8103699286368937\n",
      "\n",
      "lp: 0.21356306338045092\n",
      "\n",
      "\n",
      "rmse: 2.8103699286368937\n",
      "\n",
      "lp: 0.08540113180559995\n",
      "\n",
      "\n",
      "rmse: 2.6244230068002032\n",
      "\n",
      "lp: 0.0950140648047007\n",
      "\n",
      "\n",
      "rmse: 2.6056761877370214\n",
      "\n",
      "lp: 0.7245063380211257\n",
      "\n",
      "\n",
      "rmse: 2.8103699286368937\n",
      "\n",
      "lp: 0.005177675531302291\n",
      "\n",
      "\n",
      "rmse: 2.8103699286368937\n",
      "\n",
      "lp: 0.9794011755784432\n",
      "\n",
      "\n",
      "rmse: 2.8103699286368937\n",
      "\n",
      "lp: 0.16440886365979224\n",
      "\n",
      "\n",
      "rmse: 2.8103699286368937\n",
      "\n",
      "lp: 0.058259562299021225\n",
      "\n",
      "\n",
      "rmse: 2.8103699286368937\n",
      "\n",
      "lp: 0.17635536365051777\n",
      "\n",
      "\n",
      "rmse: 2.8103699286368937\n",
      "\n",
      "lp: 0.7091480336892606\n",
      "\n",
      "\n",
      "rmse: 1.8585006762475746\n",
      "\n",
      "lp: 0.29650007626044683\n",
      "\n",
      "\n",
      "rmse: 2.6494962381773437\n",
      "\n",
      "lp: 0.1273042849944897\n",
      "\n",
      "\n",
      "rmse: 2.8103699286368937\n",
      "\n",
      "lp: 0.2165550622166757\n",
      "\n",
      "\n",
      "rmse: 2.8103699286368937\n",
      "\n",
      "lp: 0.01032693823294617\n",
      "\n",
      "\n",
      "rmse: 2.6205290620591453\n",
      "\n",
      "lp: 0.96268093203057\n",
      "\n",
      "\n",
      "rmse: 2.459391329369675\n",
      "\n",
      "lp: 0.001\n",
      "\n",
      "\n",
      "rmse: 2.1488462672081883\n",
      "\n",
      "lp: 0.7548075705914865\n",
      "\n",
      "\n",
      "rmse: 2.8101565760334792\n",
      "\n",
      "lp: 0.6530137005973238\n",
      "\n",
      "\n",
      "rmse: 2.809953214669188\n",
      "\n",
      "lp: 0.2940315078651997\n",
      "\n",
      "\n",
      "rmse: 2.8103699286368937\n",
      "\n",
      "lp: 0.8838276951204089\n",
      "\n",
      "\n",
      "rmse: 2.8103699286368937\n",
      "\n",
      "lp: 0.5115745515026533\n",
      "\n",
      "\n",
      "rmse: 2.7858639939302408\n",
      "\n",
      "lp: 0.7508402655710568\n",
      "\n",
      "\n",
      "rmse: 2.81037001088226\n",
      "\n",
      "lp: 0.19032414096238326\n",
      "\n",
      "\n",
      "rmse: 2.8103699286368937\n",
      "\n",
      "lp: 0.8630690714344663\n",
      "\n",
      "\n",
      "rmse: 2.8103699286368937\n",
      "\n",
      "lp: 0.39185132677270734\n",
      "\n",
      "\n",
      "rmse: 2.8103699286368937\n",
      "\n",
      "lp: 0.7177000079000544\n",
      "\n",
      "\n",
      "rmse: 2.8103699286368937\n",
      "\n",
      "lp: 1e-07\n",
      "\n",
      "\n",
      "rmse: 2.674948476102786\n",
      "\n",
      "lp: 1e-07\n",
      "\n",
      "\n",
      "rmse: 2.8103699286368937\n",
      "\n",
      "lp: 1e-07\n",
      "\n",
      "\n",
      "rmse: 2.576709686163065\n",
      "\n",
      "lp: 1e-07\n",
      "\n",
      "\n",
      "rmse: 2.660473683591734\n",
      "\n",
      "lp: 1e-07\n",
      "\n",
      "\n",
      "rmse: 2.8103699286368937\n",
      "\n",
      "lp: 0.09891767596598625\n",
      "\n",
      "\n",
      "rmse: 3.9501709484699368\n",
      "\n",
      "lp: 0.0021923877893704376\n",
      "\n",
      "\n",
      "rmse: 2.6643156332794433\n",
      "\n",
      "lp: 0.012225369007634278\n",
      "\n",
      "\n",
      "rmse: 2.8398480310584677\n",
      "\n",
      "lp: 1.0\n",
      "\n",
      "\n",
      "rmse: 2.732539522093689\n",
      "\n",
      "lp: 0.9807427971445926\n",
      "\n",
      "\n",
      "rmse: 2.8103699286368937\n",
      "\n",
      "lp: 1e-07\n",
      "\n",
      "\n",
      "rmse: 2.809412393573454\n",
      "\n",
      "lp: 0.5801674218788176\n",
      "\n",
      "\n",
      "rmse: 2.8103699286368937\n",
      "\n",
      "lp: 0.4546342319702698\n",
      "\n",
      "\n",
      "rmse: 2.8103699286368937\n",
      "\n",
      "lp: 0.24058644454476338\n",
      "\n",
      "\n",
      "rmse: 2.588682488926106\n",
      "\n",
      "lp: 0.8083300379248579\n",
      "\n",
      "\n",
      "rmse: 2.8103699286368937\n",
      "\n",
      "lp: 0.2431620055432819\n",
      "\n",
      "\n",
      "rmse: 2.8103699286368937\n",
      "\n",
      "lp: 0.25538913573275857\n",
      "\n",
      "\n",
      "rmse: 2.6576591963231517\n",
      "\n",
      "lp: 0.9319604219109917\n",
      "\n",
      "\n",
      "rmse: 2.6213252578682282\n",
      "\n",
      "lp: 0.34195713384597726\n",
      "\n",
      "\n",
      "rmse: 2.362383644004291\n",
      "\n",
      "lp: 0.3335179917848507\n",
      "\n",
      "\n",
      "rmse: 2.5352674344174617\n",
      "\n",
      "lp: 0.3474936672944065\n",
      "\n",
      "\n",
      "rmse: 2.8103699286368937\n",
      "\n",
      "lp: 0.3452074259848231\n",
      "\n",
      "\n",
      "rmse: 2.7677433161218925\n",
      "\n",
      "lp: 0.35098225040425923\n",
      "\n",
      "\n",
      "rmse: 2.5637613693891783\n",
      "\n",
      "lp: 0.3249399581195608\n",
      "\n",
      "\n",
      "rmse: 2.3509234944744875\n",
      "\n",
      "lp: 0.9364841840398482\n",
      "\n",
      "\n",
      "rmse: 2.8103699286368937\n",
      "\n",
      "lp: 0.590602938989586\n",
      "\n",
      "\n",
      "rmse: 1.8982600193841535\n",
      "\n",
      "lp: 0.5811091702027916\n",
      "\n",
      "\n",
      "rmse: 2.622483943816118\n",
      "\n",
      "lp: 0.6030501096419033\n",
      "\n",
      "\n",
      "rmse: 3.1505564690985484\n",
      "\n",
      "lp: 0.5942949130601378\n",
      "\n",
      "\n",
      "rmse: 2.7110538025654316\n",
      "\n",
      "lp: 0.3180582585060932\n",
      "\n",
      "\n",
      "rmse: 2.7206940617626048\n",
      "\n",
      "lp: 0.5765753121373657\n",
      "\n",
      "\n",
      "rmse: 2.481519160624015\n",
      "\n",
      "lp: 0.5720700400964855\n",
      "\n",
      "\n",
      "rmse: 2.592047515445271\n",
      "\n",
      "lp: 0.3194710897652326\n",
      "\n",
      "\n",
      "rmse: 2.6196345177679774\n",
      "\n",
      "lp: 0.5858190490724842\n",
      "\n",
      "\n",
      "rmse: 2.8090497291487067\n",
      "\n",
      "lp: 0.33101192594001605\n",
      "\n",
      "\n",
      "rmse: 2.771709966602293\n",
      "\n",
      "lp: 0.5604947855114973\n",
      "\n",
      "\n",
      "rmse: 2.7514892415545686\n",
      "\n",
      "lp: 0.24311908902938445\n",
      "\n",
      "\n",
      "rmse: 2.79803691296923\n",
      "\n",
      "lp: 0.587771628030757\n",
      "\n",
      "\n",
      "rmse: 2.8103699286368937\n",
      "\n",
      "lp: 0.3436801332691721\n",
      "\n",
      "\n",
      "rmse: 2.7879150828215056\n",
      "\n",
      "lp: 0.5906036850040632\n",
      "\n",
      "\n",
      "rmse: 2.766768223190037\n",
      "\n",
      "lp: 0.6045368392445815\n",
      "\n",
      "\n",
      "rmse: 2.666840653514661\n",
      "\n",
      "lp: 0.3630447626237566\n",
      "\n",
      "\n",
      "rmse: 2.6921956423915443\n",
      "\n",
      "lp: 0.5818136488719678\n",
      "\n",
      "\n",
      "rmse: 2.3468061815119197\n",
      "\n",
      "lp: 0.6081542626976422\n",
      "\n",
      "\n",
      "rmse: 2.8103699286368937\n",
      "\n",
      "lp: 0.5698694894986497\n",
      "\n",
      "\n",
      "rmse: 2.810291527306525\n",
      "\n",
      "lp: 0.2967278801244207\n",
      "\n",
      "\n",
      "rmse: 2.715818645209134\n",
      "\n",
      "lp: 0.32566360338419403\n",
      "\n",
      "\n",
      "rmse: 2.8103699286368937\n",
      "\n",
      "lp: 0.3449952710029329\n",
      "\n",
      "\n",
      "rmse: 2.8026712575980137\n",
      "\n",
      "lp: 0.5880967720572808\n",
      "\n",
      "\n",
      "rmse: 2.35793954554347\n",
      "\n",
      "lp: 0.912103552591515\n",
      "\n",
      "\n",
      "rmse: 2.583441579929939\n",
      "\n",
      "lp: 0.5833139012268759\n",
      "\n",
      "\n",
      "rmse: 2.4163668023618663\n",
      "\n",
      "lp: 0.005263905342834458\n",
      "\n",
      "\n",
      "rmse: 2.534504381560089\n",
      "\n",
      "lp: 0.5847118309838027\n",
      "\n",
      "\n",
      "rmse: 2.687640335819196\n",
      "\n",
      "lp: 0.9190757498570495\n",
      "\n",
      "\n",
      "rmse: 2.798765940547264\n",
      "\n",
      "lp: 0.30682387671770883\n",
      "\n",
      "\n",
      "rmse: 2.683375878936611\n",
      "\n",
      "lp: 0.8928950038045008\n",
      "\n",
      "\n",
      "rmse: 2.5499915020678308\n",
      "\n",
      "lp: 0.5659296619929872\n",
      "\n",
      "\n",
      "rmse: 2.5674534862958307\n",
      "\n",
      "lp: 0.5895898950347505\n",
      "\n",
      "\n",
      "rmse: 2.7482323767706367\n",
      "\n",
      "lp: 0.26140963936242423\n",
      "\n",
      "\n",
      "rmse: 2.8103699286368937\n",
      "\n",
      "lp: 0.5900647067093391\n",
      "\n",
      "\n",
      "rmse: 2.8103699286368937\n",
      "\n",
      "lp: 0.5492711342847905\n",
      "\n",
      "\n",
      "rmse: 2.8103699286368937\n",
      "\n",
      "lp: 0.9336155091842424\n",
      "\n",
      "\n",
      "rmse: 2.8103699286368937\n",
      "\n",
      "lp: 0.16050500969077597\n",
      "\n",
      "\n",
      "rmse: 2.8103741925005132\n",
      "\n",
      "lp: 0.1448609410901903\n",
      "\n",
      "\n",
      "rmse: 2.8103699286368937\n",
      "\n",
      "lp: 0.7513420926339444\n",
      "\n",
      "\n",
      "rmse: 2.8103699286368937\n",
      "\n",
      "lp: 0.21017106038211592\n",
      "\n",
      "\n",
      "rmse: 2.8103699286368937\n",
      "\n",
      "lp: 0.06401018892507142\n",
      "\n",
      "\n",
      "rmse: 2.8103699286368937\n",
      "\n",
      "lp: 0.7253231524810154\n",
      "\n",
      "\n",
      "rmse: 2.8103699286368937\n",
      "\n",
      "lp: 0.8524792320817813\n",
      "\n",
      "\n",
      "rmse: 2.8103699286368937\n",
      "\n",
      "lp: 0.1711344841463823\n",
      "\n",
      "\n",
      "rmse: 2.8103699286368937\n",
      "\n",
      "lp: 0.0025382657676907582\n",
      "\n",
      "\n",
      "rmse: 2.8103699286368937\n",
      "\n",
      "lp: 0.8348533448300774\n",
      "\n",
      "\n",
      "rmse: 2.8103699286368937\n",
      "\n",
      "lp: 0.8446410552606612\n",
      "\n",
      "\n",
      "rmse: 2.8103699286368937\n",
      "\n",
      "lp: 0.6613524983255458\n",
      "\n",
      "\n",
      "rmse: 2.8103699286368937\n",
      "\n",
      "lp: 0.8164916433255294\n",
      "\n",
      "\n",
      "rmse: 2.8103699286368937\n",
      "\n",
      "lp: 0.17335868514002886\n",
      "\n",
      "\n",
      "rmse: 2.8103699286368937\n",
      "\n",
      "lp: 0.5783666333245651\n",
      "\n",
      "\n",
      "rmse: 2.8103699286368937\n",
      "\n",
      "lp: 0.17163409758501721\n",
      "\n",
      "\n",
      "rmse: 2.8103699286368937\n",
      "\n",
      "lp: 0.4219949257733177\n",
      "\n",
      "\n",
      "rmse: 2.8103699286368937\n",
      "\n",
      "lp: 0.3630780820435438\n",
      "\n",
      "\n",
      "rmse: 2.810375196203341\n",
      "\n",
      "lp: 0.6655341354966202\n",
      "\n",
      "\n",
      "rmse: 2.8103699286368937\n",
      "\n",
      "lp: 0.4337611767792262\n",
      "\n",
      "\n",
      "rmse: 2.8103699286368937\n",
      "\n",
      "lp: 0.6134279170356725\n",
      "\n",
      "\n",
      "rmse: 2.8103810138817504\n",
      "\n",
      "lp: 0.10191464579532444\n",
      "\n",
      "\n",
      "rmse: 2.8103699286368937\n",
      "\n",
      "lp: 0.07986501992575165\n",
      "\n",
      "\n",
      "rmse: 2.8103699286368937\n",
      "\n",
      "lp: 0.4227766591184532\n",
      "\n",
      "\n",
      "rmse: 2.8103699286368937\n",
      "\n",
      "lp: 0.02269840658549265\n",
      "\n",
      "\n",
      "rmse: 2.8103699286368937\n",
      "\n",
      "lp: 0.9283374473789577\n",
      "\n",
      "\n",
      "rmse: 2.8103501620406877\n",
      "\n",
      "lp: 0.46338897892406933\n",
      "\n",
      "\n",
      "rmse: 2.8103699286368937\n",
      "\n",
      "1571.217812538147\n"
     ]
    }
   ],
   "source": [
    "start=time.time()\n",
    "for k in range(1,6):\n",
    "    default_parameters = [1e-3,1e-3,1e-3,1e-3]\n",
    "    search_result = gp_minimize(func=Fitness,\n",
    "                            dimensions=dimensions,\n",
    "                            acq_func='EI', \n",
    "                            n_calls=100,\n",
    "                            x0=default_parameters)\n",
    "    para=search_result.x\n",
    "    rmsev[0,k-1]=search_result.fun\n",
    "    rmset[0,k-1]=mygsm0(mylasso,ind1,y1,ind2,y2,x_train,x_test,y,y_test,n,m,3*k,para[0],\n",
    "    para[1],\n",
    "    para[2],\n",
    "    para[3])[0]\n",
    "print(time.time()-start)"
   ]
  },
  {
   "cell_type": "code",
   "execution_count": 102,
   "metadata": {},
   "outputs": [
    {
     "data": {
      "text/plain": [
       "array([[1.30489407, 1.52890883, 2.03130564, 1.56527476, 1.89826002],\n",
       "       [1.90321035, 2.03272191, 2.00645296, 2.05535551, 2.01876271],\n",
       "       [2.01333482, 1.73244291, 1.70971574, 1.85328676, 1.78291767]])"
      ]
     },
     "execution_count": 102,
     "metadata": {},
     "output_type": "execute_result"
    }
   ],
   "source": [
    "rmsev"
   ]
  },
  {
   "cell_type": "code",
   "execution_count": 103,
   "metadata": {},
   "outputs": [
    {
     "data": {
      "text/plain": [
       "array([[2.14574204, 2.32894071, 2.16430186, 2.45480464, 2.49970011],\n",
       "       [3.29087346, 2.47179972, 2.51401974, 2.58291168, 2.76337011],\n",
       "       [2.5852393 , 2.14400908, 2.1002508 , 2.67315999, 2.19213115]])"
      ]
     },
     "execution_count": 103,
     "metadata": {},
     "output_type": "execute_result"
    }
   ],
   "source": [
    "rmset"
   ]
  },
  {
   "cell_type": "code",
   "execution_count": 80,
   "metadata": {},
   "outputs": [],
   "source": [
    "pd.DataFrame(rmset).to_csv('rmsetdiff.csv')\n",
    "pd.DataFrame(rmsev).to_csv('rmsevdiff.csv')"
   ]
  },
  {
   "cell_type": "code",
   "execution_count": null,
   "metadata": {},
   "outputs": [],
   "source": []
  }
 ],
 "metadata": {
  "kernelspec": {
   "display_name": "Python 3",
   "language": "python",
   "name": "python3"
  },
  "language_info": {
   "codemirror_mode": {
    "name": "ipython",
    "version": 3
   },
   "file_extension": ".py",
   "mimetype": "text/x-python",
   "name": "python",
   "nbconvert_exporter": "python",
   "pygments_lexer": "ipython3",
   "version": "3.6.8"
  }
 },
 "nbformat": 4,
 "nbformat_minor": 2
}
