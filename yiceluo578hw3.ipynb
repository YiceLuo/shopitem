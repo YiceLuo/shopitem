{
 "cells": [
  {
   "cell_type": "code",
   "execution_count": 1,
   "metadata": {},
   "outputs": [],
   "source": [
    "import pandas as pd\n",
    "import matplotlib.pyplot as plt\n",
    "import numpy as np\n",
    "from numpy import linalg\n",
    "from sklearn import datasets, linear_model\n",
    "from sklearn import model_selection\n",
    "import time\n",
    "from math import sqrt\n",
    "from math import floor\n",
    "from sklearn.cluster import DBSCAN\n",
    "from statistics import mean \n",
    "import warnings\n",
    "warnings.filterwarnings('ignore')"
   ]
  },
  {
   "cell_type": "markdown",
   "metadata": {},
   "source": [
    "# Q1."
   ]
  },
  {
   "cell_type": "code",
   "execution_count": 2,
   "metadata": {},
   "outputs": [],
   "source": [
    "def myridge(y,x,k,l): \n",
    "    beta=linalg.solve(x.transpose()@x+l*np.identity(k),x.transpose()@y)\n",
    "    return beta"
   ]
  },
  {
   "cell_type": "markdown",
   "metadata": {},
   "source": [
    "load data"
   ]
  },
  {
   "cell_type": "code",
   "execution_count": 3,
   "metadata": {},
   "outputs": [],
   "source": [
    "names = ['userID', 'itemID', 'rating','']\n",
    "for i in range(1,6):\n",
    "    url = \"./ml-100k/u\"+str(i)+\".base\"\n",
    "    globals()['train%s' %i] = pd.read_csv(url, names=names, sep='\\t', usecols = [0,1,2], header=None)\n",
    "    url = \"./ml-100k/u\"+str(i)+\".test\"\n",
    "    globals()['test%s' %i] = pd.read_csv(url, names=names, sep='\\t', usecols = [0,1,2], header=None)"
   ]
  },
  {
   "cell_type": "code",
   "execution_count": 4,
   "metadata": {},
   "outputs": [],
   "source": [
    "def conv(x):\n",
    "    try:\n",
    "        x = int(x)\n",
    "    except ValueError:\n",
    "        x = 51064\n",
    "    return x"
   ]
  },
  {
   "cell_type": "code",
   "execution_count": 5,
   "metadata": {},
   "outputs": [],
   "source": [
    "names = ['userID', 'age', 'gender','occupation','zip']\n",
    "url = \"./ml-100k/u.user\"\n",
    "user = pd.read_csv(url, sep='|', names=names, header=None, converters = {'zip':conv})"
   ]
  },
  {
   "cell_type": "code",
   "execution_count": 6,
   "metadata": {},
   "outputs": [],
   "source": [
    "url = \"./ml-100k/u.item\"\n",
    "mylist = list(range(24))\n",
    "mylist.remove(1)\n",
    "mylist.remove(3)\n",
    "mylist.remove(4)\n",
    "item = pd.read_csv(url, sep='|', header=None, usecols = mylist, encoding = \"ISO-8859-1\")"
   ]
  },
  {
   "cell_type": "code",
   "execution_count": 7,
   "metadata": {},
   "outputs": [],
   "source": [
    "new = item[2].str.split(\"-\", n = 2, expand = True) \n",
    "item[\"day\"]= new[0] \n",
    "item[\"month\"]= new[1] \n",
    "item[\"year\"]= new[2] \n",
    "item.drop(columns =[2], inplace = True) \n",
    "item=item.rename(index=str, columns={0: \"itemID\"})"
   ]
  },
  {
   "cell_type": "markdown",
   "metadata": {},
   "source": [
    "group specification"
   ]
  },
  {
   "cell_type": "code",
   "execution_count": 8,
   "metadata": {},
   "outputs": [],
   "source": [
    "user.zip[user.zip==0]=user.zip.mean()\n",
    "user.zip=(user.zip-user.zip.min())/(user.zip.max()-user.zip.min())\n",
    "user.age=user.age/100\n",
    "Xuser=user.drop(columns=['userID','occupation','gender'])"
   ]
  },
  {
   "cell_type": "code",
   "execution_count": 9,
   "metadata": {},
   "outputs": [],
   "source": [
    "item.month=item.month.astype(\"category\").cat.codes\n",
    "item.day=pd.to_numeric(item.day)\n",
    "item.year=pd.to_numeric(item.year)\n",
    "item.year=(item.year-item.year.min())/(item.year.max()-item.year.min())\n",
    "item.month=(item.month-item.month.min())/(item.month.max()-item.month.min())\n",
    "item.day=(item.day-item.day.min())/(item.day.max()-item.day.min())\n",
    "Xitem=item.drop(columns=['itemID'])\n",
    "Xitem[Xitem.isnull()]=0"
   ]
  },
  {
   "cell_type": "code",
   "execution_count": 10,
   "metadata": {},
   "outputs": [],
   "source": [
    "itemclustering = DBSCAN(eps=0.14, min_samples=5).fit(Xitem)\n",
    "item['cluster']=itemclustering.labels_\n",
    "userclustering = DBSCAN(eps=0.04, min_samples=5).fit(Xuser)\n",
    "user['cluster']=userclustering.labels_"
   ]
  },
  {
   "cell_type": "code",
   "execution_count": 11,
   "metadata": {},
   "outputs": [],
   "source": [
    "index = pd.MultiIndex.from_product([user.gender.unique(), user.occupation.unique(),user.cluster.unique()],\n",
    "                                   names = [\"gender\", \"occupation\",\"cluster\"])\n",
    "mapper=pd.DataFrame(index = index).reset_index()"
   ]
  },
  {
   "cell_type": "code",
   "execution_count": 12,
   "metadata": {},
   "outputs": [],
   "source": [
    "mapper['index']=range(mapper.shape[0])"
   ]
  },
  {
   "cell_type": "code",
   "execution_count": 13,
   "metadata": {},
   "outputs": [],
   "source": [
    "usergroup=user.merge(mapper,on =[\"gender\", \"occupation\",\"cluster\"]).drop(columns=['age','gender','occupation','zip','cluster'])"
   ]
  },
  {
   "cell_type": "code",
   "execution_count": 14,
   "metadata": {},
   "outputs": [],
   "source": [
    "itemgroup=item[['itemID','cluster']]"
   ]
  },
  {
   "cell_type": "code",
   "execution_count": 15,
   "metadata": {},
   "outputs": [
    {
     "data": {
      "text/html": [
       "<div>\n",
       "<style scoped>\n",
       "    .dataframe tbody tr th:only-of-type {\n",
       "        vertical-align: middle;\n",
       "    }\n",
       "\n",
       "    .dataframe tbody tr th {\n",
       "        vertical-align: top;\n",
       "    }\n",
       "\n",
       "    .dataframe thead th {\n",
       "        text-align: right;\n",
       "    }\n",
       "</style>\n",
       "<table border=\"1\" class=\"dataframe\">\n",
       "  <thead>\n",
       "    <tr style=\"text-align: right;\">\n",
       "      <th></th>\n",
       "      <th>userID</th>\n",
       "      <th>index</th>\n",
       "    </tr>\n",
       "  </thead>\n",
       "  <tbody>\n",
       "    <tr>\n",
       "      <th>0</th>\n",
       "      <td>1</td>\n",
       "      <td>0</td>\n",
       "    </tr>\n",
       "    <tr>\n",
       "      <th>1</th>\n",
       "      <td>244</td>\n",
       "      <td>0</td>\n",
       "    </tr>\n",
       "    <tr>\n",
       "      <th>2</th>\n",
       "      <td>294</td>\n",
       "      <td>0</td>\n",
       "    </tr>\n",
       "    <tr>\n",
       "      <th>3</th>\n",
       "      <td>311</td>\n",
       "      <td>0</td>\n",
       "    </tr>\n",
       "    <tr>\n",
       "      <th>4</th>\n",
       "      <td>715</td>\n",
       "      <td>0</td>\n",
       "    </tr>\n",
       "  </tbody>\n",
       "</table>\n",
       "</div>"
      ],
      "text/plain": [
       "   userID  index\n",
       "0       1      0\n",
       "1     244      0\n",
       "2     294      0\n",
       "3     311      0\n",
       "4     715      0"
      ]
     },
     "execution_count": 15,
     "metadata": {},
     "output_type": "execute_result"
    }
   ],
   "source": [
    "usergroup.head()"
   ]
  },
  {
   "cell_type": "code",
   "execution_count": 16,
   "metadata": {},
   "outputs": [
    {
     "data": {
      "text/html": [
       "<div>\n",
       "<style scoped>\n",
       "    .dataframe tbody tr th:only-of-type {\n",
       "        vertical-align: middle;\n",
       "    }\n",
       "\n",
       "    .dataframe tbody tr th {\n",
       "        vertical-align: top;\n",
       "    }\n",
       "\n",
       "    .dataframe thead th {\n",
       "        text-align: right;\n",
       "    }\n",
       "</style>\n",
       "<table border=\"1\" class=\"dataframe\">\n",
       "  <thead>\n",
       "    <tr style=\"text-align: right;\">\n",
       "      <th></th>\n",
       "      <th>itemID</th>\n",
       "      <th>cluster</th>\n",
       "    </tr>\n",
       "  </thead>\n",
       "  <tbody>\n",
       "    <tr>\n",
       "      <th>0</th>\n",
       "      <td>1</td>\n",
       "      <td>-1</td>\n",
       "    </tr>\n",
       "    <tr>\n",
       "      <th>1</th>\n",
       "      <td>2</td>\n",
       "      <td>-1</td>\n",
       "    </tr>\n",
       "    <tr>\n",
       "      <th>2</th>\n",
       "      <td>3</td>\n",
       "      <td>0</td>\n",
       "    </tr>\n",
       "    <tr>\n",
       "      <th>3</th>\n",
       "      <td>4</td>\n",
       "      <td>-1</td>\n",
       "    </tr>\n",
       "    <tr>\n",
       "      <th>4</th>\n",
       "      <td>5</td>\n",
       "      <td>1</td>\n",
       "    </tr>\n",
       "  </tbody>\n",
       "</table>\n",
       "</div>"
      ],
      "text/plain": [
       "   itemID  cluster\n",
       "0       1       -1\n",
       "1       2       -1\n",
       "2       3        0\n",
       "3       4       -1\n",
       "4       5        1"
      ]
     },
     "execution_count": 16,
     "metadata": {},
     "output_type": "execute_result"
    }
   ],
   "source": [
    "itemgroup.head()"
   ]
  },
  {
   "cell_type": "markdown",
   "metadata": {},
   "source": [
    "reshape data for data set 1."
   ]
  },
  {
   "cell_type": "code",
   "execution_count": 17,
   "metadata": {},
   "outputs": [],
   "source": [
    "dataset = train1.append(test1, ignore_index=True)\n",
    "sim_data=dataset.values\n",
    "n=sim_data[:,0].max()\n",
    "m=sim_data[:,1].max()\n",
    "n=n.astype(int)  #number of users\n",
    "m=m.astype(int)  #number of items\n",
    "#Train, Test = model_selection.train_test_split(dataset,random_state=88)\n",
    "#train=Train.values\n",
    "#test=Test.values\n",
    "Ntr=80000\n",
    "train=sim_data[:Ntr,:]\n",
    "test=sim_data[Ntr:,:]\n",
    "x_train=train[:,:2]-1   #to fit Python numbering\n",
    "x_test=test[:,:2]-1\n",
    "x_train=x_train.astype(int)\n",
    "x_test=x_test.astype(int)\n",
    "y=train[:,2]\n",
    "y_test=test[:,2]\n",
    "del dataset"
   ]
  },
  {
   "cell_type": "code",
   "execution_count": 18,
   "metadata": {},
   "outputs": [],
   "source": [
    "#User set\n",
    "ind1=[] #movies watched for each user\n",
    "y1=[]\n",
    "#Item set\n",
    "ind2=[] #users who rated this movie\n",
    "y2=[]\n",
    "for u in range(n):\n",
    "    ind1.append(x_train[x_train[:,0]==u,1])\n",
    "    y1.append(train[x_train[:,0]==u,2])\n",
    "\n",
    "\n",
    "for i in range(m):\n",
    "    ind2.append(x_train[x_train[:,1]==i,0])\n",
    "    y2.append(train[x_train[:,1]==i,2])"
   ]
  },
  {
   "cell_type": "code",
   "execution_count": 19,
   "metadata": {},
   "outputs": [],
   "source": [
    "k=3\n",
    "l=12\n",
    "np.random.seed(888)\n",
    "P=np.random.normal(0,0.1,(n,k))\n",
    "Q=np.random.normal(0,0.1,(m,k))\n",
    "S=np.random.normal(0,0.1,(n,k))\n",
    "T=np.random.normal(0,0.1,(m,k))\n",
    "Pnew=np.zeros(shape=(n,k))\n",
    "Qnew=np.zeros(shape=(m,k))\n",
    "Snew=np.zeros(shape=(n,k))\n",
    "Tnew=np.zeros(shape=(m,k))"
   ]
  },
  {
   "cell_type": "code",
   "execution_count": 20,
   "metadata": {},
   "outputs": [],
   "source": [
    "yhat=np.sum(np.multiply((P[x_train[:,0],:]+S[x_train[:,0],:]),(Q[x_train[:,1],:]+T[x_train[:,1],:])),1)\n",
    "L=(y-yhat)@(y-yhat)+l*(np.sum(np.multiply(P+S,P+S))+np.sum(np.multiply(Q+T,Q+T)))\n",
    "it=1  #number of iterations\n",
    "diff=1  #improvement over last iteration\n",
    "diffQT=1\n",
    "diffPS=1"
   ]
  },
  {
   "cell_type": "code",
   "execution_count": 21,
   "metadata": {},
   "outputs": [
    {
     "name": "stdout",
     "output_type": "stream",
     "text": [
      "3.7194274209725977\n"
     ]
    }
   ],
   "source": [
    "yhat_test=np.sum(np.multiply((P[x_test[:,0],:]+S[x_test[:,0],:]),(Q[x_test[:,1],:]+T[x_test[:,1],:])),1)\n",
    "RMSE=sqrt((y_test-yhat_test)@(y_test-yhat_test)/y_test.size)\n",
    "print(RMSE) "
   ]
  },
  {
   "cell_type": "code",
   "execution_count": 22,
   "metadata": {},
   "outputs": [],
   "source": [
    "itemgroup.cluster=itemgroup.cluster+1\n",
    "itemgroup.itemID=itemgroup.itemID-1\n",
    "usergroup.userID=usergroup.userID-1\n",
    "M=itemgroup.cluster.max()\n",
    "N=usergroup.index.max()"
   ]
  },
  {
   "cell_type": "markdown",
   "metadata": {},
   "source": [
    "training on data set 1."
   ]
  },
  {
   "cell_type": "code",
   "execution_count": 23,
   "metadata": {},
   "outputs": [
    {
     "name": "stdout",
     "output_type": "stream",
     "text": [
      "4.097487362291179e-33\n"
     ]
    }
   ],
   "source": [
    "#ALS loop starts here\n",
    "while(diff>1e-3 or it<10):\n",
    "    diff=np.sum(np.multiply(Pnew+Snew-P-S,Pnew+Snew-P-S))/n/k+np.sum(np.multiply(Qnew+Tnew-Q-T,Qnew+Tnew-Q-T))/m/k\n",
    "    #room for parallel computing\n",
    "    while(diffQT>1e-5):\n",
    "        for i in range(m):\n",
    "            xps=P[ind2[i],:]+S[ind2[i],:]\n",
    "            r=y2[i]-(P[ind2[i],:]+S[ind2[i],:])@T[i,:]\n",
    "            Qnew[i,:]=myridge(r,xps,k,l)\n",
    "        for i in range(M):\n",
    "            I=itemgroup.itemID[itemgroup.cluster==i]\n",
    "            userI=[]\n",
    "            for j in I:\n",
    "                userI=np.concatenate([userI,ind2[j]]).astype(\"int\")\n",
    "            xps=P[userI,:]+S[userI,:]\n",
    "            r=[]\n",
    "            for j in I:\n",
    "                R=y2[j]-(P[ind2[j],:]+S[ind2[j],:])@Qnew[j,:]\n",
    "                r=np.concatenate([r,R])\n",
    "            Tnew[I,:]=myridge(r,xps,k,l)\n",
    "        diffQT=np.sum(np.multiply(Qnew-Q,Qnew-Q))/m/k+np.sum(np.multiply(Tnew-T,Tnew-T))/M/k\n",
    "        Q=Qnew\n",
    "        T=Tnew\n",
    "    while(diffPS>1e-5):\n",
    "        for i in range(n):\n",
    "            xqt=Q[ind1[i],:]+T[ind1[i],:]\n",
    "            r=y1[i]-(Q[ind1[i],:]+T[ind1[i],:])@S[i,:]\n",
    "            Pnew[i,:]=myridge(r,xqt,k,l)\n",
    "        for i in range(N):\n",
    "            I=usergroup.userID[usergroup.index==i]\n",
    "            itemI=[]\n",
    "            for j in I:\n",
    "                itemI=np.concatenate([itemI,ind1[j]]).astype(\"int\")\n",
    "            xqt=Q[itemI,:]+T[itemI,:]\n",
    "            r=[]\n",
    "            for j in I:\n",
    "                R=y1[j]-(Q[ind1[j],:]+T[ind1[j],:])@Pnew[j,:]\n",
    "                r=np.concatenate([r,R])\n",
    "            Snew[I,:]=myridge(r,xqt,k,l)\n",
    "        diffPS=np.sum(np.multiply(Pnew-P,Pnew-P))/n/k+np.sum(np.multiply(Snew-S,Snew-S))/N/k\n",
    "        P=Pnew\n",
    "        S=Snew\n",
    "    it=it+1\n",
    "print(diff)"
   ]
  },
  {
   "cell_type": "code",
   "execution_count": 24,
   "metadata": {},
   "outputs": [
    {
     "name": "stdout",
     "output_type": "stream",
     "text": [
      "1.2990794922687203\n"
     ]
    }
   ],
   "source": [
    "#yhat=np.sum(np.multiply((P[x_train[:,0],:]+S[x_train[:,0],:]),(Q[x_train[:,0],:]+T[x_train[:,0],:])),1)\n",
    "yhat_test=np.sum(np.multiply((P[x_test[:,0],:]+S[x_test[:,0],:]),(Q[x_test[:,1],:]+T[x_test[:,1],:])),1)\n",
    "RMSE=sqrt((y_test-yhat_test)@(y_test-yhat_test)/y_test.size)\n",
    "print(RMSE) "
   ]
  },
  {
   "cell_type": "markdown",
   "metadata": {},
   "source": [
    "cross validation"
   ]
  },
  {
   "cell_type": "code",
   "execution_count": 75,
   "metadata": {},
   "outputs": [
    {
     "name": "stdout",
     "output_type": "stream",
     "text": [
      "dataset 1\n",
      "start training\n",
      "time 3.632718563079834\n",
      "1.383695234389002\n",
      "dataset 2\n",
      "start training\n",
      "time 3.7086598873138428\n",
      "1.5212147528334663\n",
      "dataset 3\n",
      "start training\n",
      "time 3.738471031188965\n",
      "1.4497463739604977\n",
      "dataset 4\n",
      "start training\n",
      "time 3.7403886318206787\n",
      "1.8716024711019508\n",
      "dataset 5\n",
      "start training\n",
      "time 3.7914817333221436\n",
      "1.403343394389639\n",
      "mean RMSE:  1.5259204453349111\n"
     ]
    }
   ],
   "source": [
    "RMSE=[]\n",
    "for CV in range(5):\n",
    "    cv=CV+1\n",
    "    print(\"dataset\",cv)\n",
    "    t0=time.time()\n",
    "    dataset = globals()['train%s' %cv].append(globals()['test%s' %cv], ignore_index=True)\n",
    "    sim_data=dataset.values\n",
    "    train=sim_data[:Ntr,:]\n",
    "    test=sim_data[Ntr:,:]\n",
    "    x_train=train[:,:2]-1   #to fit Python numbering\n",
    "    x_test=test[:,:2]-1\n",
    "    x_train=x_train.astype(int)\n",
    "    x_test=x_test.astype(int)\n",
    "    y=train[:,2]\n",
    "    y_test=test[:,2]\n",
    "    del dataset\n",
    "    #User set\n",
    "    ind1=[] #movies watched for each user\n",
    "    y1=[]\n",
    "    #Item set\n",
    "    ind2=[] #users who rated this movie\n",
    "    y2=[]\n",
    "    for u in range(n):\n",
    "        ind1.append(x_train[x_train[:,0]==u,1])\n",
    "        y1.append(train[x_train[:,0]==u,2])\n",
    "    for i in range(m):\n",
    "        ind2.append(x_train[x_train[:,1]==i,0])\n",
    "        y2.append(train[x_train[:,1]==i,2])\n",
    "    P=np.random.normal(0,0.1,(n,k))\n",
    "    Q=np.random.normal(0,0.1,(m,k))\n",
    "    S=np.random.normal(0,0.1,(n,k))\n",
    "    T=np.random.normal(0,0.1,(m,k))\n",
    "    Pnew=np.zeros(shape=(n,k))\n",
    "    Qnew=np.zeros(shape=(m,k))\n",
    "    Snew=np.zeros(shape=(n,k))\n",
    "    Tnew=np.zeros(shape=(m,k))\n",
    "    yhat=np.sum(np.multiply((P[x_train[:,0],:]+S[x_train[:,0],:]),(Q[x_train[:,1],:]+T[x_train[:,1],:])),1)\n",
    "    L=(y-yhat)@(y-yhat)+l*(np.sum(np.multiply(P+S,P+S))+np.sum(np.multiply(Q+T,Q+T)))\n",
    "    it=1  #number of iterations\n",
    "    diff=1  #improvement over last iteration\n",
    "    diffQT=1\n",
    "    diffPS=1\n",
    "    itemgroup.cluster=itemgroup.cluster+1\n",
    "    itemgroup.itemID=itemgroup.itemID-1\n",
    "    usergroup.userID=usergroup.userID-1\n",
    "    M=itemgroup.cluster.max()\n",
    "    N=usergroup.index.max()\n",
    "    print(\"start training\")\n",
    "    while(diff>1e-3 or it<10):\n",
    "        diff=np.sum(np.multiply(Pnew+Snew-P-S,Pnew+Snew-P-S))/n/k+np.sum(np.multiply(Qnew+Tnew-Q-T,Qnew+Tnew-Q-T))/m/k\n",
    "        while(diffQT>1e-5):\n",
    "            for i in range(m):\n",
    "                xps=P[ind2[i],:]+S[ind2[i],:]\n",
    "                r=y2[i]-(P[ind2[i],:]+S[ind2[i],:])@T[i,:]\n",
    "                Qnew[i,:]=myridge(r,xps,k,l)\n",
    "            for i in range(M):\n",
    "                I=itemgroup.itemID[itemgroup.cluster==i]\n",
    "                userI=[]\n",
    "                for j in I:\n",
    "                    userI=np.concatenate([userI,ind2[j]]).astype(\"int\")\n",
    "                xps=P[userI,:]+S[userI,:]\n",
    "                r=[]\n",
    "                for j in I:\n",
    "                    R=y2[j]-(P[ind2[j],:]+S[ind2[j],:])@Q[j,:]\n",
    "                    r=np.concatenate([r,R])\n",
    "                Tnew[I,:]=myridge(r,xps,k,l)\n",
    "            diffQT=np.sum(np.multiply(Qnew-Q,Qnew-Q))/m/k+np.sum(np.multiply(Tnew-T,Tnew-T))/M/k\n",
    "            Q=Qnew\n",
    "            T=Tnew\n",
    "        while(diffPS>1e-5):\n",
    "            for i in range(n):\n",
    "                xqt=Q[ind1[i],:]+T[ind1[i],:]\n",
    "                r=y1[i]-(Q[ind1[i],:]+T[ind1[i],:])@S[i,:]\n",
    "                Pnew[i,:]=myridge(r,xqt,k,l)\n",
    "            for i in range(N):\n",
    "                I=usergroup.userID[usergroup.index==i]\n",
    "                itemI=[]\n",
    "                for j in I:\n",
    "                    itemI=np.concatenate([itemI,ind1[j]]).astype(\"int\")\n",
    "                xqt=Q[itemI,:]+T[itemI,:]\n",
    "                r=[]\n",
    "                for j in I:\n",
    "                    R=y1[j]-(Q[ind1[j],:]+T[ind1[j],:])@P[j,:]\n",
    "                    r=np.concatenate([r,R])\n",
    "                Snew[I,:]=myridge(r,xqt,k,l)\n",
    "            diffPS=np.sum(np.multiply(Pnew-P,Pnew-P))/n/k+np.sum(np.multiply(Snew-S,Snew-S))/N/k\n",
    "            P=Pnew\n",
    "            S=Snew\n",
    "        it=it+1\n",
    "    #yhat_test=np.sum(np.multiply(Pnew[x_test[:,0],:],Qnew[x_test[:,1],:]),1)\n",
    "    yhat_test=np.sum(np.multiply((P[x_test[:,0],:]+S[x_test[:,0],:]),(Q[x_test[:,1],:]+T[x_test[:,1],:])),1)\n",
    "    rmse=sqrt((y_test-yhat_test)@(y_test-yhat_test)/y_test.size)\n",
    "    RMSE.append(rmse)\n",
    "    t=time.time()-t0\n",
    "    print(\"time\",t) \n",
    "    print(rmse)\n",
    "print(\"mean RMSE: \",mean(RMSE))"
   ]
  },
  {
   "cell_type": "markdown",
   "metadata": {},
   "source": [
    "# Q2."
   ]
  },
  {
   "cell_type": "code",
   "execution_count": 76,
   "metadata": {},
   "outputs": [],
   "source": [
    "names = ['itemID', 'userID', 'rating','obs']\n",
    "url = \"./ml-100k/u.data\"\n",
    "data = pd.read_csv(url, sep='\\t',names=names, header=None,usecols=[0,1,2])"
   ]
  },
  {
   "cell_type": "code",
   "execution_count": 77,
   "metadata": {},
   "outputs": [
    {
     "data": {
      "text/html": [
       "<div>\n",
       "<style scoped>\n",
       "    .dataframe tbody tr th:only-of-type {\n",
       "        vertical-align: middle;\n",
       "    }\n",
       "\n",
       "    .dataframe tbody tr th {\n",
       "        vertical-align: top;\n",
       "    }\n",
       "\n",
       "    .dataframe thead th {\n",
       "        text-align: right;\n",
       "    }\n",
       "</style>\n",
       "<table border=\"1\" class=\"dataframe\">\n",
       "  <thead>\n",
       "    <tr style=\"text-align: right;\">\n",
       "      <th></th>\n",
       "      <th>itemID</th>\n",
       "      <th>userID</th>\n",
       "      <th>rating</th>\n",
       "    </tr>\n",
       "  </thead>\n",
       "  <tbody>\n",
       "    <tr>\n",
       "      <th>0</th>\n",
       "      <td>196</td>\n",
       "      <td>242</td>\n",
       "      <td>3</td>\n",
       "    </tr>\n",
       "    <tr>\n",
       "      <th>1</th>\n",
       "      <td>186</td>\n",
       "      <td>302</td>\n",
       "      <td>3</td>\n",
       "    </tr>\n",
       "    <tr>\n",
       "      <th>2</th>\n",
       "      <td>22</td>\n",
       "      <td>377</td>\n",
       "      <td>1</td>\n",
       "    </tr>\n",
       "    <tr>\n",
       "      <th>3</th>\n",
       "      <td>244</td>\n",
       "      <td>51</td>\n",
       "      <td>2</td>\n",
       "    </tr>\n",
       "    <tr>\n",
       "      <th>4</th>\n",
       "      <td>166</td>\n",
       "      <td>346</td>\n",
       "      <td>1</td>\n",
       "    </tr>\n",
       "  </tbody>\n",
       "</table>\n",
       "</div>"
      ],
      "text/plain": [
       "   itemID  userID  rating\n",
       "0     196     242       3\n",
       "1     186     302       3\n",
       "2      22     377       1\n",
       "3     244      51       2\n",
       "4     166     346       1"
      ]
     },
     "execution_count": 77,
     "metadata": {},
     "output_type": "execute_result"
    }
   ],
   "source": [
    "data.head()"
   ]
  },
  {
   "cell_type": "code",
   "execution_count": 78,
   "metadata": {},
   "outputs": [],
   "source": [
    "from sqlalchemy import create_engine\n",
    "disk_engine = create_engine('sqlite:///movie.db')\n",
    "data.to_sql('movie',disk_engine,if_exists='replace')\n",
    "rateu=pd.read_sql_query('SELECT avg(rating) as `ave_rating`, '\n",
    "                        'count(*) as `amount` '\n",
    "                           'FROM movie '\n",
    "                           'group by userID ', disk_engine)\n",
    "ratem=pd.read_sql_query('SELECT avg(rating) as `ave_rating`, '\n",
    "                        'count(*) as `amount` '\n",
    "                           'FROM movie '\n",
    "                           'group by itemID ', disk_engine)"
   ]
  },
  {
   "cell_type": "code",
   "execution_count": 79,
   "metadata": {},
   "outputs": [
    {
     "data": {
      "image/png": "[encoded data removed]",
      "text/plain": [
       "<Figure size 432x288 with 1 Axes>"
      ]
     },
     "metadata": {
      "needs_background": "light"
     },
     "output_type": "display_data"
    }
   ],
   "source": [
    "plt.scatter(ratem.amount,ratem.ave_rating)\n",
    "plt.show()"
   ]
  },
  {
   "cell_type": "code",
   "execution_count": 80,
   "metadata": {},
   "outputs": [
    {
     "data": {
      "image/png": "[encoded data removed]",
      "text/plain": [
       "<Figure size 432x288 with 1 Axes>"
      ]
     },
     "metadata": {
      "needs_background": "light"
     },
     "output_type": "display_data"
    }
   ],
   "source": [
    "plt.scatter(rateu.amount,rateu.ave_rating)\n",
    "plt.show()"
   ]
  },
  {
   "cell_type": "markdown",
   "metadata": {},
   "source": [
    "The skewness suggests that the missing is not random."
   ]
  },
  {
   "cell_type": "markdown",
   "metadata": {},
   "source": [
    "# Q3."
   ]
  },
  {
   "cell_type": "markdown",
   "metadata": {},
   "source": [
    "We can group users and items using the missing patterns in dataset. It can provide a more informative grouping in group specific recommendation."
   ]
  },
  {
   "cell_type": "code",
   "execution_count": 81,
   "metadata": {},
   "outputs": [
    {
     "name": "stdout",
     "output_type": "stream",
     "text": [
      "Coefficients: \n",
      " [-0.00060785]\n",
      "Coefficients: \n",
      " [0.00417805]\n"
     ]
    }
   ],
   "source": [
    "from sklearn import linear_model\n",
    "regr = linear_model.LinearRegression()\n",
    "regr.fit(ratem[[\"amount\"]], ratem.ave_rating)\n",
    "print('Coefficients: \\n', regr.coef_)\n",
    "regr.fit(rateu[[\"amount\"]], rateu.ave_rating)\n",
    "print('Coefficients: \\n', regr.coef_)"
   ]
  },
  {
   "cell_type": "markdown",
   "metadata": {},
   "source": [
    "Users who watch more tend to give lower rates. Items watched my more users have higher rating. These features (i.e. 2 of the missing patterns) could be inluencial if applied in recommendation."
   ]
  }
 ],
 "metadata": {
  "kernelspec": {
   "display_name": "Python 3",
   "language": "python",
   "name": "python3"
  },
  "language_info": {
   "codemirror_mode": {
    "name": "ipython",
    "version": 3
   },
   "file_extension": ".py",
   "mimetype": "text/x-python",
   "name": "python",
   "nbconvert_exporter": "python",
   "pygments_lexer": "ipython3",
   "version": "3.6.8"
  }
 },
 "nbformat": 4,
 "nbformat_minor": 2
}
